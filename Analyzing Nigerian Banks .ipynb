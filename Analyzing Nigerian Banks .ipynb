{
 "cells": [
  {
   "cell_type": "code",
   "execution_count": 1,
   "id": "307da0e2",
   "metadata": {},
   "outputs": [],
   "source": [
    "import pandas as pd\n",
    "import numpy as np \n",
    "import matplotlib.pyplot as plt \n",
    "import seaborn as sns "
   ]
  },
  {
   "cell_type": "code",
   "execution_count": 2,
   "id": "4a099880",
   "metadata": {},
   "outputs": [],
   "source": [
    "data = pd.read_csv(\"nigerianbanks.csv\", encoding=\"ISO-8859-1\")"
   ]
  },
  {
   "cell_type": "code",
   "execution_count": 3,
   "id": "bb06a435",
   "metadata": {
    "scrolled": true
   },
   "outputs": [
    {
     "data": {
      "text/html": [
       "<div>\n",
       "<style scoped>\n",
       "    .dataframe tbody tr th:only-of-type {\n",
       "        vertical-align: middle;\n",
       "    }\n",
       "\n",
       "    .dataframe tbody tr th {\n",
       "        vertical-align: top;\n",
       "    }\n",
       "\n",
       "    .dataframe thead th {\n",
       "        text-align: right;\n",
       "    }\n",
       "</style>\n",
       "<table border=\"1\" class=\"dataframe\">\n",
       "  <thead>\n",
       "    <tr style=\"text-align: right;\">\n",
       "      <th></th>\n",
       "      <th>author_id</th>\n",
       "      <th>edit_history_tweet_ids</th>\n",
       "      <th>id</th>\n",
       "      <th>text</th>\n",
       "      <th>created_at</th>\n",
       "    </tr>\n",
       "  </thead>\n",
       "  <tbody>\n",
       "    <tr>\n",
       "      <th>0</th>\n",
       "      <td>1.020000e+18</td>\n",
       "      <td>['1666346390052544512']</td>\n",
       "      <td>1.670000e+18</td>\n",
       "      <td>RT @ZenithBank: We celebrate our dynamic GMD/C...</td>\n",
       "      <td>2023-06-07 07:28:33+00:00</td>\n",
       "    </tr>\n",
       "    <tr>\n",
       "      <th>1</th>\n",
       "      <td>1.540000e+18</td>\n",
       "      <td>['1666330561458352128']</td>\n",
       "      <td>1.670000e+18</td>\n",
       "      <td>RT @ZenithBank: If you believe it, you will ge...</td>\n",
       "      <td>2023-06-07 06:25:39+00:00</td>\n",
       "    </tr>\n",
       "    <tr>\n",
       "      <th>2</th>\n",
       "      <td>1.460000e+18</td>\n",
       "      <td>['1666328437123067904']</td>\n",
       "      <td>1.670000e+18</td>\n",
       "      <td>RT @ZenithBank: If you believe it, you will ge...</td>\n",
       "      <td>2023-06-07 06:17:12+00:00</td>\n",
       "    </tr>\n",
       "    <tr>\n",
       "      <th>3</th>\n",
       "      <td>1.480000e+18</td>\n",
       "      <td>['1666310055925260288']</td>\n",
       "      <td>1.670000e+18</td>\n",
       "      <td>RT @ZenithBank: If you believe it, you will ge...</td>\n",
       "      <td>2023-06-07 05:04:10+00:00</td>\n",
       "    </tr>\n",
       "    <tr>\n",
       "      <th>4</th>\n",
       "      <td>2.668909e+09</td>\n",
       "      <td>['1666309649082056704']</td>\n",
       "      <td>1.670000e+18</td>\n",
       "      <td>If you believe it, you will get it.\\n\\nSimply ...</td>\n",
       "      <td>2023-06-07 05:02:33+00:00</td>\n",
       "    </tr>\n",
       "  </tbody>\n",
       "</table>\n",
       "</div>"
      ],
      "text/plain": [
       "      author_id   edit_history_tweet_ids            id  \\\n",
       "0  1.020000e+18  ['1666346390052544512']  1.670000e+18   \n",
       "1  1.540000e+18  ['1666330561458352128']  1.670000e+18   \n",
       "2  1.460000e+18  ['1666328437123067904']  1.670000e+18   \n",
       "3  1.480000e+18  ['1666310055925260288']  1.670000e+18   \n",
       "4  2.668909e+09  ['1666309649082056704']  1.670000e+18   \n",
       "\n",
       "                                                text  \\\n",
       "0  RT @ZenithBank: We celebrate our dynamic GMD/C...   \n",
       "1  RT @ZenithBank: If you believe it, you will ge...   \n",
       "2  RT @ZenithBank: If you believe it, you will ge...   \n",
       "3  RT @ZenithBank: If you believe it, you will ge...   \n",
       "4  If you believe it, you will get it.\\n\\nSimply ...   \n",
       "\n",
       "                  created_at  \n",
       "0  2023-06-07 07:28:33+00:00  \n",
       "1  2023-06-07 06:25:39+00:00  \n",
       "2  2023-06-07 06:17:12+00:00  \n",
       "3  2023-06-07 05:04:10+00:00  \n",
       "4  2023-06-07 05:02:33+00:00  "
      ]
     },
     "execution_count": 3,
     "metadata": {},
     "output_type": "execute_result"
    }
   ],
   "source": [
    "data.head()"
   ]
  },
  {
   "cell_type": "code",
   "execution_count": 4,
   "id": "703ee836",
   "metadata": {},
   "outputs": [
    {
     "name": "stdout",
     "output_type": "stream",
     "text": [
      "(9540, 5)\n"
     ]
    }
   ],
   "source": [
    "print(data.shape)"
   ]
  },
  {
   "cell_type": "code",
   "execution_count": 5,
   "id": "ac7b1585",
   "metadata": {},
   "outputs": [
    {
     "data": {
      "text/plain": [
       "author_id                 0\n",
       "edit_history_tweet_ids    0\n",
       "id                        0\n",
       "text                      0\n",
       "created_at                0\n",
       "dtype: int64"
      ]
     },
     "execution_count": 5,
     "metadata": {},
     "output_type": "execute_result"
    }
   ],
   "source": [
    "data.isna().sum()"
   ]
  },
  {
   "cell_type": "code",
   "execution_count": 6,
   "id": "2d38477f",
   "metadata": {},
   "outputs": [],
   "source": [
    "# The most common words "
   ]
  },
  {
   "cell_type": "code",
   "execution_count": 7,
   "id": "e2cdf9d1",
   "metadata": {},
   "outputs": [
    {
     "name": "stdout",
     "output_type": "stream",
     "text": [
      "Most common words:\n",
      "the    24396\n",
      "and    15236\n",
      "was    14528\n",
      "to     12659\n",
      "a      11656\n",
      "dtype: int64\n"
     ]
    }
   ],
   "source": [
    "words=data['text'].str.split(expand=True).stack().value_counts()\n",
    "print('Most common words:')\n",
    "print(words.head())"
   ]
  },
  {
   "cell_type": "code",
   "execution_count": 8,
   "id": "a1861ad9",
   "metadata": {},
   "outputs": [],
   "source": [
    "# Frequency of major banks "
   ]
  },
  {
   "cell_type": "code",
   "execution_count": 9,
   "id": "979a229e",
   "metadata": {},
   "outputs": [
    {
     "name": "stdout",
     "output_type": "stream",
     "text": [
      "Number of mentions of Bank of Nigeria: 8\n"
     ]
    }
   ],
   "source": [
    "bank1 = 'Bank of Nigeria'\n",
    "mentions=data['text'].str.contains(bank1).sum()\n",
    "print('Number of mentions of {}: {}'.format(bank1, mentions))"
   ]
  },
  {
   "cell_type": "code",
   "execution_count": 10,
   "id": "a61ebc6c",
   "metadata": {},
   "outputs": [
    {
     "name": "stdout",
     "output_type": "stream",
     "text": [
      "Number of mentions of UBA: 15\n"
     ]
    }
   ],
   "source": [
    "bank2 = 'UBA'\n",
    "mentions=data['text'].str.contains(bank2).sum()\n",
    "print('Number of mentions of {}: {}'.format(bank2, mentions))"
   ]
  },
  {
   "cell_type": "code",
   "execution_count": 11,
   "id": "2136a2ad",
   "metadata": {},
   "outputs": [
    {
     "name": "stdout",
     "output_type": "stream",
     "text": [
      "Number of mentions of Zenith Bank: 55\n"
     ]
    }
   ],
   "source": [
    "bank3 = 'Zenith Bank'\n",
    "mentions=data['text'].str.contains(bank3).sum()\n",
    "print('Number of mentions of {}: {}'.format(bank3, mentions))"
   ]
  },
  {
   "cell_type": "markdown",
   "id": "b2910674",
   "metadata": {},
   "source": [
    "# Preprocessing the Data "
   ]
  },
  {
   "cell_type": "markdown",
   "id": "7b3b5a7e",
   "metadata": {},
   "source": [
    "1. Dropping unnecessary variables "
   ]
  },
  {
   "cell_type": "code",
   "execution_count": 12,
   "id": "478b03cb",
   "metadata": {
    "scrolled": true
   },
   "outputs": [],
   "source": [
    "data=data.drop(['author_id','edit_history_tweet_ids','id','created_at'],axis=1)"
   ]
  },
  {
   "cell_type": "code",
   "execution_count": 13,
   "id": "b3280a22",
   "metadata": {},
   "outputs": [
    {
     "data": {
      "text/html": [
       "<div>\n",
       "<style scoped>\n",
       "    .dataframe tbody tr th:only-of-type {\n",
       "        vertical-align: middle;\n",
       "    }\n",
       "\n",
       "    .dataframe tbody tr th {\n",
       "        vertical-align: top;\n",
       "    }\n",
       "\n",
       "    .dataframe thead th {\n",
       "        text-align: right;\n",
       "    }\n",
       "</style>\n",
       "<table border=\"1\" class=\"dataframe\">\n",
       "  <thead>\n",
       "    <tr style=\"text-align: right;\">\n",
       "      <th></th>\n",
       "      <th>text</th>\n",
       "    </tr>\n",
       "  </thead>\n",
       "  <tbody>\n",
       "    <tr>\n",
       "      <th>0</th>\n",
       "      <td>RT @ZenithBank: We celebrate our dynamic GMD/C...</td>\n",
       "    </tr>\n",
       "    <tr>\n",
       "      <th>1</th>\n",
       "      <td>RT @ZenithBank: If you believe it, you will ge...</td>\n",
       "    </tr>\n",
       "    <tr>\n",
       "      <th>2</th>\n",
       "      <td>RT @ZenithBank: If you believe it, you will ge...</td>\n",
       "    </tr>\n",
       "    <tr>\n",
       "      <th>3</th>\n",
       "      <td>RT @ZenithBank: If you believe it, you will ge...</td>\n",
       "    </tr>\n",
       "  </tbody>\n",
       "</table>\n",
       "</div>"
      ],
      "text/plain": [
       "                                                text\n",
       "0  RT @ZenithBank: We celebrate our dynamic GMD/C...\n",
       "1  RT @ZenithBank: If you believe it, you will ge...\n",
       "2  RT @ZenithBank: If you believe it, you will ge...\n",
       "3  RT @ZenithBank: If you believe it, you will ge..."
      ]
     },
     "execution_count": 13,
     "metadata": {},
     "output_type": "execute_result"
    }
   ],
   "source": [
    "data.head(4)"
   ]
  },
  {
   "cell_type": "markdown",
   "id": "acc2b44b",
   "metadata": {},
   "source": [
    "2. Normalizing the data "
   ]
  },
  {
   "cell_type": "code",
   "execution_count": 14,
   "id": "ace12d74",
   "metadata": {},
   "outputs": [],
   "source": [
    "from collections import Counter\n",
    "import re\n",
    "from sklearn.model_selection import train_test_split\n",
    "from imblearn.over_sampling import SMOTE\n",
    "import string\n",
    "import spacy\n",
    "from tqdm.auto import tqdm\n",
    "import time\n"
   ]
  },
  {
   "cell_type": "code",
   "execution_count": 15,
   "id": "3786ac9f",
   "metadata": {},
   "outputs": [],
   "source": [
    "nlp = spacy.load(\"en_core_web_lg\")"
   ]
  },
  {
   "cell_type": "code",
   "execution_count": 16,
   "id": "176b1d9f",
   "metadata": {},
   "outputs": [],
   "source": [
    "def preprocess_text(texts):\n",
    "    doc = nlp(texts)\n",
    "    lemmas = [token.lemma_.lower() for token in doc if not token.is_stop]\n",
    "    return \" \".join(lemmas)"
   ]
  },
  {
   "cell_type": "code",
   "execution_count": 17,
   "id": "ac3751b5",
   "metadata": {
    "scrolled": true
   },
   "outputs": [
    {
     "data": {
      "application/vnd.jupyter.widget-view+json": {
       "model_id": "5e7bf1b1fb8c4647862dfdab1560026e",
       "version_major": 2,
       "version_minor": 0
      },
      "text/plain": [
       "  0%|          | 0/9540 [00:00<?, ?it/s]"
      ]
     },
     "metadata": {},
     "output_type": "display_data"
    },
    {
     "name": "stdout",
     "output_type": "stream",
     "text": [
      "CPU times: total: 2min 32s\n",
      "Wall time: 2min 42s\n"
     ]
    }
   ],
   "source": [
    "%%time\n",
    "tqdm.pandas()\n",
    "data['text'] = data['text'].progress_apply(preprocess_text)"
   ]
  },
  {
   "cell_type": "code",
   "execution_count": 18,
   "id": "491430cb",
   "metadata": {},
   "outputs": [],
   "source": [
    "def preprocess_signs(text):\n",
    "    text = re.sub(r'http\\S+', '', text)\n",
    "    text = re.sub(r'@\\w+|#\\w+', '', text)\n",
    "    text = text.translate(str.maketrans('', '', string.punctuation)).lower()\n",
    "    text = re.sub('\\s+', ' ', text).strip()\n",
    "\n",
    "    return text"
   ]
  },
  {
   "cell_type": "code",
   "execution_count": 19,
   "id": "b2b43f3c",
   "metadata": {},
   "outputs": [],
   "source": [
    "data['text'] = data['text'].apply(preprocess_signs)"
   ]
  },
  {
   "cell_type": "code",
   "execution_count": 20,
   "id": "3e53deac",
   "metadata": {},
   "outputs": [],
   "source": [
    "# Removing the stop words "
   ]
  },
  {
   "cell_type": "code",
   "execution_count": 21,
   "id": "8e3e4aab",
   "metadata": {},
   "outputs": [],
   "source": [
    "nlp = spacy.load(\"en_core_web_lg\")\n",
    "stop_words = spacy.lang.en.stop_words.STOP_WORDS"
   ]
  },
  {
   "cell_type": "code",
   "execution_count": 22,
   "id": "54dd94de",
   "metadata": {},
   "outputs": [],
   "source": [
    "import nltk\n",
    "from nltk.corpus import stopwords\n",
    "import nltk "
   ]
  },
  {
   "cell_type": "code",
   "execution_count": 23,
   "id": "88e78728",
   "metadata": {},
   "outputs": [
    {
     "name": "stderr",
     "output_type": "stream",
     "text": [
      "[nltk_data] Downloading package stopwords to\n",
      "[nltk_data]     C:\\Users\\HP\\AppData\\Roaming\\nltk_data...\n",
      "[nltk_data]   Package stopwords is already up-to-date!\n"
     ]
    },
    {
     "data": {
      "text/plain": [
       "True"
      ]
     },
     "execution_count": 23,
     "metadata": {},
     "output_type": "execute_result"
    }
   ],
   "source": [
    "nltk.download('stopwords')"
   ]
  },
  {
   "cell_type": "code",
   "execution_count": 24,
   "id": "a2123c82",
   "metadata": {},
   "outputs": [],
   "source": [
    "the_text = ' '.join(data['text'].values)\n",
    "words = the_text.split()\n",
    "stop_words = set(stopwords.words('english'))\n",
    "words = [word for word in words if not word in stop_words]"
   ]
  },
  {
   "cell_type": "code",
   "execution_count": 25,
   "id": "a9b03caf",
   "metadata": {},
   "outputs": [],
   "source": [
    "# Analyzing the most commonly used words after normalization "
   ]
  },
  {
   "cell_type": "code",
   "execution_count": 26,
   "id": "6af3816c",
   "metadata": {},
   "outputs": [],
   "source": [
    "import matplotlib.pyplot as plt\n",
    "from collections import Counter"
   ]
  },
  {
   "cell_type": "code",
   "execution_count": 27,
   "id": "e8b50c96",
   "metadata": {},
   "outputs": [],
   "source": [
    "word_counts = Counter(words)\n",
    "top_100_words = word_counts.most_common(100)\n",
    "top_words = word_counts.most_common(10) "
   ]
  },
  {
   "cell_type": "code",
   "execution_count": 28,
   "id": "8690d2cd",
   "metadata": {},
   "outputs": [],
   "source": [
    "from tabulate import tabulate"
   ]
  },
  {
   "cell_type": "code",
   "execution_count": 29,
   "id": "cd0425ce",
   "metadata": {},
   "outputs": [
    {
     "name": "stdout",
     "output_type": "stream",
     "text": [
      "Word            Percentage Frequency\n",
      "teller                      2.81412\n",
      "slow                        1.3767\n",
      "send                        1.01231\n",
      "forex                       0.989697\n",
      "money                       0.938599\n",
      "investment                  0.904255\n",
      "profit                      0.785307\n",
      "good                        0.779863\n",
      "staff                       0.734629\n",
      "average                     0.678924\n",
      "desk                        0.632015\n",
      "place                       0.578824\n",
      "hate                        0.569191\n",
      "like                        0.564165\n",
      "hotel                       0.557882\n",
      "need                        0.539873\n",
      "work                        0.525214\n",
      "time                        0.518093\n",
      "door                        0.448568\n",
      "bad                         0.445217\n",
      "go                          0.436422\n",
      "old                         0.435165\n",
      "smell                       0.423019\n",
      "great                       0.4226\n",
      "day                         0.413386\n",
      "debt                        0.412967\n",
      "area                        0.392025\n",
      "pool                        0.383649\n",
      "get                         0.382392\n",
      "bank                        0.381974\n",
      "look                        0.378623\n",
      "dirty                       0.378623\n",
      "tell                        0.37234\n",
      "2                           0.358938\n",
      "price                       0.358938\n",
      "floor                       0.357681\n",
      "service                     0.351818\n",
      "friendly                    0.334227\n",
      "location                    0.32585\n",
      "find                        0.3225\n",
      "book                        0.321243\n",
      "ask                         0.314123\n",
      "come                        0.300302\n",
      "leave                       0.297789\n",
      "say                         0.295276\n",
      "small                       0.292763\n",
      "hateed                      0.286899\n",
      "pay                         0.282292\n",
      "comfortable                 0.282292\n",
      "close                       0.276428\n",
      "sleep                       0.267214\n",
      "water                       0.265957\n",
      "people                      0.264701\n",
      "ok                          0.255068\n",
      "lot                         0.251717\n",
      "debte                       0.249204\n",
      "currency                    0.247529\n",
      "towel                       0.245435\n",
      "walk                        0.235802\n",
      "morning                     0.235383\n",
      "3                           0.227844\n",
      "subscription                0.224074\n",
      "want                        0.222818\n",
      "little                      0.21486\n",
      "hot                         0.210672\n",
      "tv                          0.206065\n",
      "call                        0.205227\n",
      "feel                        0.205227\n",
      "wall                        0.201039\n",
      "take                        0.200201\n",
      "way                         0.200201\n",
      "thing                       0.199782\n",
      "carpet                      0.196432\n",
      "give                        0.195594\n",
      "well                        0.194337\n",
      "use                         0.189311\n",
      "bankwas                     0.188474\n",
      "minute                      0.188055\n",
      "free                        0.187636\n",
      "food                        0.187217\n",
      "smoke                       0.187217\n",
      "hour                        0.184285\n",
      "think                       0.183867\n",
      "de                          0.18261\n",
      "outside                     0.182191\n",
      "try                         0.181772\n",
      "arrive                      0.180935\n",
      "open                        0.175909\n",
      "know                        0.175909\n",
      "1                           0.175909\n",
      "4                           0.17549\n",
      "tub                         0.174234\n",
      "zenithbank                  0.172139\n",
      "run                         0.170464\n",
      "helpful                     0.169626\n",
      "air                         0.169626\n",
      "long                        0.167532\n",
      "sheet                       0.167532\n",
      "lobby                       0.167113\n",
      "inn                         0.167113\n"
     ]
    }
   ],
   "source": [
    "total_word_count = sum(word_counts.values())\n",
    "top_100_words = word_counts.most_common(100)\n",
    "\n",
    "word_frequencies = [(word, count / total_word_count * 100) for word, count in top_100_words]\n",
    "\n",
    "headers = [\"Word\", \"Percentage Frequency\"]\n",
    "table = tabulate(word_frequencies, headers=headers, tablefmt=\"plain\")\n",
    "\n",
    "print(table)"
   ]
  },
  {
   "cell_type": "code",
   "execution_count": 30,
   "id": "a4cfe8c4",
   "metadata": {
    "scrolled": true
   },
   "outputs": [
    {
     "data": {
      "image/png": "[encoded data removed]",
      "text/plain": [
       "<Figure size 640x480 with 1 Axes>"
      ]
     },
     "metadata": {},
     "output_type": "display_data"
    }
   ],
   "source": [
    "top_words = word_counts.most_common(10) \n",
    "x_values = [word[0] for word in top_words]\n",
    "y_values = [word[1] for word in top_words]\n",
    "plt.bar(x_values, y_values)\n",
    "plt.xlabel('Word')\n",
    "plt.ylabel('Frequency')\n",
    "plt.title('Most Commonly Used Words')\n",
    "plt.show()"
   ]
  },
  {
   "cell_type": "markdown",
   "id": "909883af",
   "metadata": {},
   "source": [
    "# performing a sentiment analysis "
   ]
  },
  {
   "cell_type": "code",
   "execution_count": 31,
   "id": "68dbc2e1",
   "metadata": {},
   "outputs": [
    {
     "name": "stdout",
     "output_type": "stream",
     "text": [
      "Requirement already satisfied: textblob in c:\\users\\hp\\anaconda3\\lib\\site-packages (0.17.1)\n",
      "Requirement already satisfied: nltk>=3.1 in c:\\users\\hp\\anaconda3\\lib\\site-packages (from textblob) (3.7)\n",
      "Requirement already satisfied: click in c:\\users\\hp\\anaconda3\\lib\\site-packages (from nltk>=3.1->textblob) (8.0.4)\n",
      "Requirement already satisfied: tqdm in c:\\users\\hp\\anaconda3\\lib\\site-packages (from nltk>=3.1->textblob) (4.64.1)\n",
      "Requirement already satisfied: joblib in c:\\users\\hp\\anaconda3\\lib\\site-packages (from nltk>=3.1->textblob) (1.2.0)\n",
      "Requirement already satisfied: regex>=2021.8.3 in c:\\users\\hp\\anaconda3\\lib\\site-packages (from nltk>=3.1->textblob) (2022.7.9)\n",
      "Requirement already satisfied: colorama in c:\\users\\hp\\anaconda3\\lib\\site-packages (from click->nltk>=3.1->textblob) (0.4.6)\n",
      "Note: you may need to restart the kernel to use updated packages.\n"
     ]
    }
   ],
   "source": [
    "pip install textblob"
   ]
  },
  {
   "cell_type": "markdown",
   "id": "f917205f",
   "metadata": {},
   "source": [
    "1. Sentiment polarity function "
   ]
  },
  {
   "cell_type": "code",
   "execution_count": 32,
   "id": "c86187b9",
   "metadata": {},
   "outputs": [],
   "source": [
    "from textblob import TextBlob"
   ]
  },
  {
   "cell_type": "code",
   "execution_count": 33,
   "id": "fbdb31b1",
   "metadata": {},
   "outputs": [],
   "source": [
    "def get_sentiment(text):\n",
    "    analysis = TextBlob(text)\n",
    "    polarity = analysis.sentiment.polarity\n",
    "    if polarity > 0.3:\n",
    "        return 'positive'\n",
    "    elif polarity <0.3:\n",
    "        return 'negative'\n",
    "    else:\n",
    "        return 'neutral'\n",
    "    "
   ]
  },
  {
   "cell_type": "code",
   "execution_count": 34,
   "id": "001af391",
   "metadata": {},
   "outputs": [],
   "source": [
    "data['sentiment'] = data['text'].apply(get_sentiment)"
   ]
  },
  {
   "cell_type": "markdown",
   "id": "15bae152",
   "metadata": {},
   "source": [
    "2. Sentiment count distriution "
   ]
  },
  {
   "cell_type": "code",
   "execution_count": 35,
   "id": "a8a6c8c2",
   "metadata": {},
   "outputs": [
    {
     "name": "stdout",
     "output_type": "stream",
     "text": [
      "negative    8162\n",
      "positive    1293\n",
      "neutral       85\n",
      "Name: sentiment, dtype: int64\n"
     ]
    }
   ],
   "source": [
    "sentiment_counts = data['sentiment'].value_counts()\n",
    "print(sentiment_counts)"
   ]
  },
  {
   "cell_type": "markdown",
   "id": "ef37512a",
   "metadata": {},
   "source": [
    "3. Plot of the sentiment count distribution "
   ]
  },
  {
   "cell_type": "code",
   "execution_count": 36,
   "id": "befcd92a",
   "metadata": {},
   "outputs": [
    {
     "data": {
      "image/png": "[encoded data removed]",
      "text/plain": [
       "<Figure size 640x480 with 1 Axes>"
      ]
     },
     "metadata": {},
     "output_type": "display_data"
    }
   ],
   "source": [
    "plt.bar(sentiment_counts.index, sentiment_counts.values)\n",
    "plt.xlabel('Sentiment')\n",
    "plt.ylabel('Count')\n",
    "plt.title('Sentiment Distribution')\n",
    "plt.show()"
   ]
  },
  {
   "cell_type": "markdown",
   "id": "e0a399a3",
   "metadata": {},
   "source": [
    "# Model evaluation "
   ]
  },
  {
   "cell_type": "code",
   "execution_count": 37,
   "id": "3a7d0b80",
   "metadata": {},
   "outputs": [],
   "source": [
    "from sklearn.model_selection import train_test_split\n",
    "from sklearn.feature_extraction.text import CountVectorizer\n",
    "from sklearn.feature_extraction.text import TfidfVectorizer\n",
    "from sklearn.feature_extraction.text import TfidfTransformer\n",
    "from sklearn.naive_bayes import MultinomialNB\n",
    "from sklearn.pipeline import Pipeline\n",
    "from sklearn.metrics import accuracy_score"
   ]
  },
  {
   "cell_type": "code",
   "execution_count": 38,
   "id": "48e321f9",
   "metadata": {
    "scrolled": true
   },
   "outputs": [
    {
     "data": {
      "text/html": [
       "<div>\n",
       "<style scoped>\n",
       "    .dataframe tbody tr th:only-of-type {\n",
       "        vertical-align: middle;\n",
       "    }\n",
       "\n",
       "    .dataframe tbody tr th {\n",
       "        vertical-align: top;\n",
       "    }\n",
       "\n",
       "    .dataframe thead th {\n",
       "        text-align: right;\n",
       "    }\n",
       "</style>\n",
       "<table border=\"1\" class=\"dataframe\">\n",
       "  <thead>\n",
       "    <tr style=\"text-align: right;\">\n",
       "      <th></th>\n",
       "      <th>text</th>\n",
       "      <th>sentiment</th>\n",
       "    </tr>\n",
       "  </thead>\n",
       "  <tbody>\n",
       "    <tr>\n",
       "      <th>0</th>\n",
       "      <td>rt celebrate dynamic gmd ceo dr ebenezer onyea...</td>\n",
       "      <td>positive</td>\n",
       "    </tr>\n",
       "    <tr>\n",
       "      <th>1</th>\n",
       "      <td>rt believe simply visit information zenithbank...</td>\n",
       "      <td>negative</td>\n",
       "    </tr>\n",
       "    <tr>\n",
       "      <th>2</th>\n",
       "      <td>rt believe simply visit information zenithbank...</td>\n",
       "      <td>negative</td>\n",
       "    </tr>\n",
       "    <tr>\n",
       "      <th>3</th>\n",
       "      <td>rt believe simply visit information zenithbank...</td>\n",
       "      <td>negative</td>\n",
       "    </tr>\n",
       "    <tr>\n",
       "      <th>4</th>\n",
       "      <td>believe simply visit information zenithbank we...</td>\n",
       "      <td>negative</td>\n",
       "    </tr>\n",
       "  </tbody>\n",
       "</table>\n",
       "</div>"
      ],
      "text/plain": [
       "                                                text sentiment\n",
       "0  rt celebrate dynamic gmd ceo dr ebenezer onyea...  positive\n",
       "1  rt believe simply visit information zenithbank...  negative\n",
       "2  rt believe simply visit information zenithbank...  negative\n",
       "3  rt believe simply visit information zenithbank...  negative\n",
       "4  believe simply visit information zenithbank we...  negative"
      ]
     },
     "execution_count": 38,
     "metadata": {},
     "output_type": "execute_result"
    }
   ],
   "source": [
    "data.head()"
   ]
  },
  {
   "cell_type": "code",
   "execution_count": 39,
   "id": "ec124a0c",
   "metadata": {},
   "outputs": [],
   "source": [
    "X=data[\"text\"]\n",
    "y=data[\"sentiment\"]"
   ]
  },
  {
   "cell_type": "code",
   "execution_count": 40,
   "id": "6167270a",
   "metadata": {},
   "outputs": [],
   "source": [
    "X_train,X_test, y_train, y_test = train_test_split(X,y,test_size=0.2, random_state=42)\n"
   ]
  },
  {
   "cell_type": "code",
   "execution_count": 41,
   "id": "b3e0f5f4",
   "metadata": {},
   "outputs": [],
   "source": [
    "# Creating a pipeline for each model "
   ]
  },
  {
   "cell_type": "markdown",
   "id": "0f347ea5",
   "metadata": {},
   "source": [
    "1. Naive Bayes Classifier "
   ]
  },
  {
   "cell_type": "code",
   "execution_count": 42,
   "id": "820d56ac",
   "metadata": {
    "scrolled": false
   },
   "outputs": [],
   "source": [
    "nb = Pipeline([('vect', CountVectorizer()),\n",
    "               ('tfidf', TfidfTransformer()),\n",
    "               ('clf', MultinomialNB())])"
   ]
  },
  {
   "cell_type": "code",
   "execution_count": 43,
   "id": "0f3f3535",
   "metadata": {},
   "outputs": [
    {
     "data": {
      "text/html": [
       "<style>#sk-container-id-1 {color: black;background-color: white;}#sk-container-id-1 pre{padding: 0;}#sk-container-id-1 div.sk-toggleable {background-color: white;}#sk-container-id-1 label.sk-toggleable__label {cursor: pointer;display: block;width: 100%;margin-bottom: 0;padding: 0.3em;box-sizing: border-box;text-align: center;}#sk-container-id-1 label.sk-toggleable__label-arrow:before {content: \"▸\";float: left;margin-right: 0.25em;color: #696969;}#sk-container-id-1 label.sk-toggleable__label-arrow:hover:before {color: black;}#sk-container-id-1 div.sk-estimator:hover label.sk-toggleable__label-arrow:before {color: black;}#sk-container-id-1 div.sk-toggleable__content {max-height: 0;max-width: 0;overflow: hidden;text-align: left;background-color: #f0f8ff;}#sk-container-id-1 div.sk-toggleable__content pre {margin: 0.2em;color: black;border-radius: 0.25em;background-color: #f0f8ff;}#sk-container-id-1 input.sk-toggleable__control:checked~div.sk-toggleable__content {max-height: 200px;max-width: 100%;overflow: auto;}#sk-container-id-1 input.sk-toggleable__control:checked~label.sk-toggleable__label-arrow:before {content: \"▾\";}#sk-container-id-1 div.sk-estimator input.sk-toggleable__control:checked~label.sk-toggleable__label {background-color: #d4ebff;}#sk-container-id-1 div.sk-label input.sk-toggleable__control:checked~label.sk-toggleable__label {background-color: #d4ebff;}#sk-container-id-1 input.sk-hidden--visually {border: 0;clip: rect(1px 1px 1px 1px);clip: rect(1px, 1px, 1px, 1px);height: 1px;margin: -1px;overflow: hidden;padding: 0;position: absolute;width: 1px;}#sk-container-id-1 div.sk-estimator {font-family: monospace;background-color: #f0f8ff;border: 1px dotted black;border-radius: 0.25em;box-sizing: border-box;margin-bottom: 0.5em;}#sk-container-id-1 div.sk-estimator:hover {background-color: #d4ebff;}#sk-container-id-1 div.sk-parallel-item::after {content: \"\";width: 100%;border-bottom: 1px solid gray;flex-grow: 1;}#sk-container-id-1 div.sk-label:hover label.sk-toggleable__label {background-color: #d4ebff;}#sk-container-id-1 div.sk-serial::before {content: \"\";position: absolute;border-left: 1px solid gray;box-sizing: border-box;top: 0;bottom: 0;left: 50%;z-index: 0;}#sk-container-id-1 div.sk-serial {display: flex;flex-direction: column;align-items: center;background-color: white;padding-right: 0.2em;padding-left: 0.2em;position: relative;}#sk-container-id-1 div.sk-item {position: relative;z-index: 1;}#sk-container-id-1 div.sk-parallel {display: flex;align-items: stretch;justify-content: center;background-color: white;position: relative;}#sk-container-id-1 div.sk-item::before, #sk-container-id-1 div.sk-parallel-item::before {content: \"\";position: absolute;border-left: 1px solid gray;box-sizing: border-box;top: 0;bottom: 0;left: 50%;z-index: -1;}#sk-container-id-1 div.sk-parallel-item {display: flex;flex-direction: column;z-index: 1;position: relative;background-color: white;}#sk-container-id-1 div.sk-parallel-item:first-child::after {align-self: flex-end;width: 50%;}#sk-container-id-1 div.sk-parallel-item:last-child::after {align-self: flex-start;width: 50%;}#sk-container-id-1 div.sk-parallel-item:only-child::after {width: 0;}#sk-container-id-1 div.sk-dashed-wrapped {border: 1px dashed gray;margin: 0 0.4em 0.5em 0.4em;box-sizing: border-box;padding-bottom: 0.4em;background-color: white;}#sk-container-id-1 div.sk-label label {font-family: monospace;font-weight: bold;display: inline-block;line-height: 1.2em;}#sk-container-id-1 div.sk-label-container {text-align: center;}#sk-container-id-1 div.sk-container {/* jupyter's `normalize.less` sets `[hidden] { display: none; }` but bootstrap.min.css set `[hidden] { display: none !important; }` so we also need the `!important` here to be able to override the default hidden behavior on the sphinx rendered scikit-learn.org. See: https://github.com/scikit-learn/scikit-learn/issues/21755 */display: inline-block !important;position: relative;}#sk-container-id-1 div.sk-text-repr-fallback {display: none;}</style><div id=\"sk-container-id-1\" class=\"sk-top-container\"><div class=\"sk-text-repr-fallback\"><pre>Pipeline(steps=[(&#x27;vect&#x27;, CountVectorizer()), (&#x27;tfidf&#x27;, TfidfTransformer()),\n",
       "                (&#x27;clf&#x27;, MultinomialNB())])</pre><b>In a Jupyter environment, please rerun this cell to show the HTML representation or trust the notebook. <br />On GitHub, the HTML representation is unable to render, please try loading this page with nbviewer.org.</b></div><div class=\"sk-container\" hidden><div class=\"sk-item sk-dashed-wrapped\"><div class=\"sk-label-container\"><div class=\"sk-label sk-toggleable\"><input class=\"sk-toggleable__control sk-hidden--visually\" id=\"sk-estimator-id-1\" type=\"checkbox\" ><label for=\"sk-estimator-id-1\" class=\"sk-toggleable__label sk-toggleable__label-arrow\">Pipeline</label><div class=\"sk-toggleable__content\"><pre>Pipeline(steps=[(&#x27;vect&#x27;, CountVectorizer()), (&#x27;tfidf&#x27;, TfidfTransformer()),\n",
       "                (&#x27;clf&#x27;, MultinomialNB())])</pre></div></div></div><div class=\"sk-serial\"><div class=\"sk-item\"><div class=\"sk-estimator sk-toggleable\"><input class=\"sk-toggleable__control sk-hidden--visually\" id=\"sk-estimator-id-2\" type=\"checkbox\" ><label for=\"sk-estimator-id-2\" class=\"sk-toggleable__label sk-toggleable__label-arrow\">CountVectorizer</label><div class=\"sk-toggleable__content\"><pre>CountVectorizer()</pre></div></div></div><div class=\"sk-item\"><div class=\"sk-estimator sk-toggleable\"><input class=\"sk-toggleable__control sk-hidden--visually\" id=\"sk-estimator-id-3\" type=\"checkbox\" ><label for=\"sk-estimator-id-3\" class=\"sk-toggleable__label sk-toggleable__label-arrow\">TfidfTransformer</label><div class=\"sk-toggleable__content\"><pre>TfidfTransformer()</pre></div></div></div><div class=\"sk-item\"><div class=\"sk-estimator sk-toggleable\"><input class=\"sk-toggleable__control sk-hidden--visually\" id=\"sk-estimator-id-4\" type=\"checkbox\" ><label for=\"sk-estimator-id-4\" class=\"sk-toggleable__label sk-toggleable__label-arrow\">MultinomialNB</label><div class=\"sk-toggleable__content\"><pre>MultinomialNB()</pre></div></div></div></div></div></div></div>"
      ],
      "text/plain": [
       "Pipeline(steps=[('vect', CountVectorizer()), ('tfidf', TfidfTransformer()),\n",
       "                ('clf', MultinomialNB())])"
      ]
     },
     "execution_count": 43,
     "metadata": {},
     "output_type": "execute_result"
    }
   ],
   "source": [
    "nb.fit(X_train, y_train)"
   ]
  },
  {
   "cell_type": "code",
   "execution_count": 44,
   "id": "e24f4846",
   "metadata": {},
   "outputs": [],
   "source": [
    "nb_pred = nb.predict(X_test)"
   ]
  },
  {
   "cell_type": "code",
   "execution_count": 45,
   "id": "ce7c4353",
   "metadata": {},
   "outputs": [
    {
     "name": "stdout",
     "output_type": "stream",
     "text": [
      "Naive Bayes Accuracy: 0.8757861635220126\n"
     ]
    }
   ],
   "source": [
    "nb_acc = accuracy_score(y_test, nb_pred)\n",
    "print(f'Naive Bayes Accuracy: {nb_acc}')"
   ]
  },
  {
   "cell_type": "code",
   "execution_count": 46,
   "id": "9dc3e199",
   "metadata": {},
   "outputs": [
    {
     "ename": "NameError",
     "evalue": "name 'label_binarize' is not defined",
     "output_type": "error",
     "traceback": [
      "\u001b[1;31m---------------------------------------------------------------------------\u001b[0m",
      "\u001b[1;31mNameError\u001b[0m                                 Traceback (most recent call last)",
      "Cell \u001b[1;32mIn[46], line 1\u001b[0m\n\u001b[1;32m----> 1\u001b[0m y_test_binary \u001b[38;5;241m=\u001b[39m \u001b[43mlabel_binarize\u001b[49m(y_test, classes\u001b[38;5;241m=\u001b[39mlogreg\u001b[38;5;241m.\u001b[39mclasses_)\n\u001b[0;32m      2\u001b[0m y_score \u001b[38;5;241m=\u001b[39m nb\u001b[38;5;241m.\u001b[39mpredict_proba(X_test)\n\u001b[0;32m      3\u001b[0m fpr_micro, tpr_micro, _ \u001b[38;5;241m=\u001b[39m roc_curve(y_test_binary\u001b[38;5;241m.\u001b[39mravel(), y_score\u001b[38;5;241m.\u001b[39mravel())\n",
      "\u001b[1;31mNameError\u001b[0m: name 'label_binarize' is not defined"
     ]
    }
   ],
   "source": [
    "y_test_binary = label_binarize(y_test, classes=logreg.classes_)\n",
    "y_score = nb.predict_proba(X_test)\n",
    "fpr_micro, tpr_micro, _ = roc_curve(y_test_binary.ravel(), y_score.ravel())\n",
    "auc_micro = roc_auc_score(y_test_binary, y_score, multi_class='ovr', average='micro')\n",
    "auc_macro = roc_auc_score(y_test_binary, y_score, multi_class='ovr', average='macro')\n",
    "plt.figure(figsize=(8, 6))\n",
    "plt.plot(fpr_micro, tpr_micro, color='b', lw=2, label='ROC curve (micro) (area = {:.2f})'.format(auc_micro))\n",
    "plt.plot([0, 1], [0, 1], color='gray', lw=1, linestyle='--')\n",
    "plt.xlim([0.0, 1.0])\n",
    "plt.ylim([0.0, 1.05])\n",
    "plt.xlabel('False Positive Rate')\n",
    "plt.ylabel('True Positive Rate')\n",
    "plt.title('ROC Curve (Micro-Averaging)')\n",
    "plt.legend(loc='lower right')\n",
    "plt.show()\n",
    "\n",
    "# Print ROC AUC scores\n",
    "print(\"ROC AUC (Micro-Averaging): {:.2f}\".format(auc_micro))\n",
    "print(\"ROC AUC (Macro-Averaging): {:.2f}\".format(auc_macro))"
   ]
  },
  {
   "cell_type": "code",
   "execution_count": null,
   "id": "ee77b917",
   "metadata": {},
   "outputs": [],
   "source": [
    "from sklearn.metrics import roc_curve, roc_auc_score"
   ]
  },
  {
   "cell_type": "markdown",
   "id": "a2cdedfd",
   "metadata": {},
   "source": [
    "2. Logistic Regression model "
   ]
  },
  {
   "cell_type": "code",
   "execution_count": null,
   "id": "d2821938",
   "metadata": {},
   "outputs": [],
   "source": [
    "from sklearn.linear_model import LogisticRegression "
   ]
  },
  {
   "cell_type": "code",
   "execution_count": null,
   "id": "a99b62bd",
   "metadata": {},
   "outputs": [],
   "source": [
    "logreg = Pipeline([('vect', CountVectorizer()),\n",
    "                   ('tfidf', TfidfTransformer()),\n",
    "                   ('clf', LogisticRegression(multi_class='multinomial', solver='lbfgs'))])"
   ]
  },
  {
   "cell_type": "code",
   "execution_count": null,
   "id": "1320d9ca",
   "metadata": {},
   "outputs": [],
   "source": [
    "logreg.fit(X_train, y_train)"
   ]
  },
  {
   "cell_type": "code",
   "execution_count": null,
   "id": "cf93a0f5",
   "metadata": {},
   "outputs": [],
   "source": [
    "logreg_pred = logreg.predict(X_test)"
   ]
  },
  {
   "cell_type": "code",
   "execution_count": null,
   "id": "3dcec5aa",
   "metadata": {},
   "outputs": [],
   "source": [
    "logreg_acc = accuracy_score(y_test, logreg_pred)"
   ]
  },
  {
   "cell_type": "code",
   "execution_count": null,
   "id": "e2203c02",
   "metadata": {},
   "outputs": [],
   "source": [
    "print(f'Logistic Regression Accuracy: {logreg_acc}')"
   ]
  },
  {
   "cell_type": "code",
   "execution_count": null,
   "id": "c5594dc5",
   "metadata": {},
   "outputs": [],
   "source": [
    "from sklearn.preprocessing import label_binarize\n",
    "y_test_binary = label_binarize(y_test, classes=logreg.classes_)\n",
    "y_score = logreg.predict_proba(X_test)\n",
    "fpr_micro, tpr_micro, _ = roc_curve(y_test_binary.ravel(), y_score.ravel())\n",
    "auc_micro = roc_auc_score(y_test_binary, y_score, multi_class='ovr', average='micro')\n",
    "auc_macro = roc_auc_score(y_test_binary, y_score, multi_class='ovr', average='macro')\n",
    "plt.figure(figsize=(8, 6))\n",
    "plt.plot(fpr_micro, tpr_micro, color='b', lw=2, label='ROC curve (micro) (area = {:.2f})'.format(auc_micro))\n",
    "plt.plot([0, 1], [0, 1], color='gray', lw=1, linestyle='--')\n",
    "plt.xlim([0.0, 1.0])\n",
    "plt.ylim([0.0, 1.05])\n",
    "plt.xlabel('False Positive Rate')\n",
    "plt.ylabel('True Positive Rate')\n",
    "plt.title('ROC Curve (Micro-Averaging)')\n",
    "plt.legend(loc='lower right')\n",
    "plt.show()\n",
    "\n",
    "# Print ROC AUC scores\n",
    "print(\"ROC AUC (Micro-Averaging): {:.2f}\".format(auc_micro))\n",
    "print(\"ROC AUC (Macro-Averaging): {:.2f}\".format(auc_macro))"
   ]
  },
  {
   "cell_type": "markdown",
   "id": "cdb8f2d3",
   "metadata": {},
   "source": [
    "3. Support Vector Machines "
   ]
  },
  {
   "cell_type": "code",
   "execution_count": null,
   "id": "b7f2d5fc",
   "metadata": {},
   "outputs": [],
   "source": [
    "from sklearn.svm import LinearSVC\n",
    "from sklearn.multiclass import OneVsRestClassifier\n",
    "from sklearn.svm import SVC"
   ]
  },
  {
   "cell_type": "code",
   "execution_count": null,
   "id": "01ebe63c",
   "metadata": {},
   "outputs": [],
   "source": [
    "svm = Pipeline([('vect', CountVectorizer()),\n",
    "                ('tfidf', TfidfTransformer()),\n",
    "                ('clf', OneVsRestClassifier(SVC(kernel='linear')))])"
   ]
  },
  {
   "cell_type": "code",
   "execution_count": null,
   "id": "68aec379",
   "metadata": {},
   "outputs": [],
   "source": [
    "svm.fit(X_train, y_train)"
   ]
  },
  {
   "cell_type": "code",
   "execution_count": null,
   "id": "82641bca",
   "metadata": {},
   "outputs": [],
   "source": [
    "svm_pred = svm.predict(X_test)\n",
    "svm_acc = accuracy_score(y_test, svm_pred)\n",
    "print(f'SVM Accuracy: {svm_acc}')"
   ]
  },
  {
   "cell_type": "code",
   "execution_count": null,
   "id": "d9e1d397",
   "metadata": {},
   "outputs": [],
   "source": [
    "# Comparing the accuracy of the models "
   ]
  },
  {
   "cell_type": "code",
   "execution_count": null,
   "id": "c3f9dc35",
   "metadata": {},
   "outputs": [],
   "source": [
    "models = ['Support Vector Machines','Naive Bayes Classifier','Logistic Regression']\n",
    "accuracies = [91.0,73.7,87.5]"
   ]
  },
  {
   "cell_type": "code",
   "execution_count": null,
   "id": "5dbd36b4",
   "metadata": {},
   "outputs": [],
   "source": [
    "fig, ax = plt.subplots(figsize=(10,6))\n",
    "ax.bar(models, accuracies, color='b')\n",
    "ax.set_xlabel('Model')\n",
    "ax.set_ylabel('Accuracy')\n",
    "ax.set_ylim([0, 100])\n",
    "ax.set_title('Comparison of Accuracy Scores for the three Models')\n",
    "for i, v in enumerate(accuracies):\n",
    "    ax.text(i, v + 1, str(v), ha='center', fontsize=10)"
   ]
  },
  {
   "cell_type": "code",
   "execution_count": null,
   "id": "09c85a01",
   "metadata": {},
   "outputs": [],
   "source": []
  },
  {
   "cell_type": "code",
   "execution_count": null,
   "id": "5c405557",
   "metadata": {},
   "outputs": [],
   "source": []
  }
 ],
 "metadata": {
  "kernelspec": {
   "display_name": "Python 3 (ipykernel)",
   "language": "python",
   "name": "python3"
  },
  "language_info": {
   "codemirror_mode": {
    "name": "ipython",
    "version": 3
   },
   "file_extension": ".py",
   "mimetype": "text/x-python",
   "name": "python",
   "nbconvert_exporter": "python",
   "pygments_lexer": "ipython3",
   "version": "3.10.9"
  }
 },
 "nbformat": 4,
 "nbformat_minor": 5
}
