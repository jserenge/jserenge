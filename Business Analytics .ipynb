{
 "cells": [
  {
   "cell_type": "markdown",
   "id": "db42588d",
   "metadata": {},
   "source": [
    "# The aim of this book is to anlyse the movies dataset and male some inferences in reference to the budgeting "
   ]
  },
  {
   "cell_type": "code",
   "execution_count": 1,
   "id": "e656eed1",
   "metadata": {},
   "outputs": [],
   "source": [
    "import pandas as pd"
   ]
  },
  {
   "cell_type": "code",
   "execution_count": 2,
   "id": "d953e8aa",
   "metadata": {},
   "outputs": [],
   "source": [
    "movie_df=pd.read_csv('movies.csv')"
   ]
  },
  {
   "cell_type": "code",
   "execution_count": 3,
   "id": "e737c806",
   "metadata": {},
   "outputs": [
    {
     "data": {
      "text/html": [
       "<div>\n",
       "<style scoped>\n",
       "    .dataframe tbody tr th:only-of-type {\n",
       "        vertical-align: middle;\n",
       "    }\n",
       "\n",
       "    .dataframe tbody tr th {\n",
       "        vertical-align: top;\n",
       "    }\n",
       "\n",
       "    .dataframe thead th {\n",
       "        text-align: right;\n",
       "    }\n",
       "</style>\n",
       "<table border=\"1\" class=\"dataframe\">\n",
       "  <thead>\n",
       "    <tr style=\"text-align: right;\">\n",
       "      <th></th>\n",
       "      <th>name</th>\n",
       "      <th>rating</th>\n",
       "      <th>genre</th>\n",
       "      <th>year</th>\n",
       "      <th>released</th>\n",
       "      <th>score</th>\n",
       "      <th>votes</th>\n",
       "      <th>director</th>\n",
       "      <th>writer</th>\n",
       "      <th>star</th>\n",
       "      <th>country</th>\n",
       "      <th>budget</th>\n",
       "      <th>gross</th>\n",
       "      <th>company</th>\n",
       "      <th>runtime</th>\n",
       "    </tr>\n",
       "  </thead>\n",
       "  <tbody>\n",
       "    <tr>\n",
       "      <th>0</th>\n",
       "      <td>The Shining</td>\n",
       "      <td>R</td>\n",
       "      <td>Drama</td>\n",
       "      <td>1980</td>\n",
       "      <td>June 13, 1980 (United States)</td>\n",
       "      <td>8.4</td>\n",
       "      <td>927000.0</td>\n",
       "      <td>Stanley Kubrick</td>\n",
       "      <td>Stephen King</td>\n",
       "      <td>Jack Nicholson</td>\n",
       "      <td>United Kingdom</td>\n",
       "      <td>19000000.0</td>\n",
       "      <td>46998772.0</td>\n",
       "      <td>Warner Bros.</td>\n",
       "      <td>146.0</td>\n",
       "    </tr>\n",
       "    <tr>\n",
       "      <th>1</th>\n",
       "      <td>The Blue Lagoon</td>\n",
       "      <td>R</td>\n",
       "      <td>Adventure</td>\n",
       "      <td>1980</td>\n",
       "      <td>July 2, 1980 (United States)</td>\n",
       "      <td>5.8</td>\n",
       "      <td>65000.0</td>\n",
       "      <td>Randal Kleiser</td>\n",
       "      <td>Henry De Vere Stacpoole</td>\n",
       "      <td>Brooke Shields</td>\n",
       "      <td>United States</td>\n",
       "      <td>4500000.0</td>\n",
       "      <td>58853106.0</td>\n",
       "      <td>Columbia Pictures</td>\n",
       "      <td>104.0</td>\n",
       "    </tr>\n",
       "    <tr>\n",
       "      <th>2</th>\n",
       "      <td>Star Wars: Episode V - The Empire Strikes Back</td>\n",
       "      <td>PG</td>\n",
       "      <td>Action</td>\n",
       "      <td>1980</td>\n",
       "      <td>June 20, 1980 (United States)</td>\n",
       "      <td>8.7</td>\n",
       "      <td>1200000.0</td>\n",
       "      <td>Irvin Kershner</td>\n",
       "      <td>Leigh Brackett</td>\n",
       "      <td>Mark Hamill</td>\n",
       "      <td>United States</td>\n",
       "      <td>18000000.0</td>\n",
       "      <td>538375067.0</td>\n",
       "      <td>Lucasfilm</td>\n",
       "      <td>124.0</td>\n",
       "    </tr>\n",
       "    <tr>\n",
       "      <th>3</th>\n",
       "      <td>Airplane!</td>\n",
       "      <td>PG</td>\n",
       "      <td>Comedy</td>\n",
       "      <td>1980</td>\n",
       "      <td>July 2, 1980 (United States)</td>\n",
       "      <td>7.7</td>\n",
       "      <td>221000.0</td>\n",
       "      <td>Jim Abrahams</td>\n",
       "      <td>Jim Abrahams</td>\n",
       "      <td>Robert Hays</td>\n",
       "      <td>United States</td>\n",
       "      <td>3500000.0</td>\n",
       "      <td>83453539.0</td>\n",
       "      <td>Paramount Pictures</td>\n",
       "      <td>88.0</td>\n",
       "    </tr>\n",
       "    <tr>\n",
       "      <th>4</th>\n",
       "      <td>Caddyshack</td>\n",
       "      <td>R</td>\n",
       "      <td>Comedy</td>\n",
       "      <td>1980</td>\n",
       "      <td>July 25, 1980 (United States)</td>\n",
       "      <td>7.3</td>\n",
       "      <td>108000.0</td>\n",
       "      <td>Harold Ramis</td>\n",
       "      <td>Brian Doyle-Murray</td>\n",
       "      <td>Chevy Chase</td>\n",
       "      <td>United States</td>\n",
       "      <td>6000000.0</td>\n",
       "      <td>39846344.0</td>\n",
       "      <td>Orion Pictures</td>\n",
       "      <td>98.0</td>\n",
       "    </tr>\n",
       "  </tbody>\n",
       "</table>\n",
       "</div>"
      ],
      "text/plain": [
       "                                             name rating      genre  year  \\\n",
       "0                                     The Shining      R      Drama  1980   \n",
       "1                                 The Blue Lagoon      R  Adventure  1980   \n",
       "2  Star Wars: Episode V - The Empire Strikes Back     PG     Action  1980   \n",
       "3                                       Airplane!     PG     Comedy  1980   \n",
       "4                                      Caddyshack      R     Comedy  1980   \n",
       "\n",
       "                        released  score      votes         director  \\\n",
       "0  June 13, 1980 (United States)    8.4   927000.0  Stanley Kubrick   \n",
       "1   July 2, 1980 (United States)    5.8    65000.0   Randal Kleiser   \n",
       "2  June 20, 1980 (United States)    8.7  1200000.0   Irvin Kershner   \n",
       "3   July 2, 1980 (United States)    7.7   221000.0     Jim Abrahams   \n",
       "4  July 25, 1980 (United States)    7.3   108000.0     Harold Ramis   \n",
       "\n",
       "                    writer            star         country      budget  \\\n",
       "0             Stephen King  Jack Nicholson  United Kingdom  19000000.0   \n",
       "1  Henry De Vere Stacpoole  Brooke Shields   United States   4500000.0   \n",
       "2           Leigh Brackett     Mark Hamill   United States  18000000.0   \n",
       "3             Jim Abrahams     Robert Hays   United States   3500000.0   \n",
       "4       Brian Doyle-Murray     Chevy Chase   United States   6000000.0   \n",
       "\n",
       "         gross             company  runtime  \n",
       "0   46998772.0        Warner Bros.    146.0  \n",
       "1   58853106.0   Columbia Pictures    104.0  \n",
       "2  538375067.0           Lucasfilm    124.0  \n",
       "3   83453539.0  Paramount Pictures     88.0  \n",
       "4   39846344.0      Orion Pictures     98.0  "
      ]
     },
     "execution_count": 3,
     "metadata": {},
     "output_type": "execute_result"
    }
   ],
   "source": [
    "movie_df.head()"
   ]
  },
  {
   "cell_type": "code",
   "execution_count": 4,
   "id": "9a0b8672",
   "metadata": {},
   "outputs": [
    {
     "data": {
      "text/plain": [
       "(7668, 15)"
      ]
     },
     "execution_count": 4,
     "metadata": {},
     "output_type": "execute_result"
    }
   ],
   "source": [
    "movie_df.shape"
   ]
  },
  {
   "cell_type": "code",
   "execution_count": 5,
   "id": "264e028b",
   "metadata": {},
   "outputs": [
    {
     "data": {
      "text/html": [
       "<div>\n",
       "<style scoped>\n",
       "    .dataframe tbody tr th:only-of-type {\n",
       "        vertical-align: middle;\n",
       "    }\n",
       "\n",
       "    .dataframe tbody tr th {\n",
       "        vertical-align: top;\n",
       "    }\n",
       "\n",
       "    .dataframe thead th {\n",
       "        text-align: right;\n",
       "    }\n",
       "</style>\n",
       "<table border=\"1\" class=\"dataframe\">\n",
       "  <thead>\n",
       "    <tr style=\"text-align: right;\">\n",
       "      <th></th>\n",
       "      <th>name</th>\n",
       "      <th>rating</th>\n",
       "      <th>genre</th>\n",
       "      <th>year</th>\n",
       "      <th>released</th>\n",
       "      <th>score</th>\n",
       "      <th>votes</th>\n",
       "      <th>director</th>\n",
       "      <th>writer</th>\n",
       "      <th>star</th>\n",
       "      <th>country</th>\n",
       "      <th>budget</th>\n",
       "      <th>gross</th>\n",
       "      <th>company</th>\n",
       "      <th>runtime</th>\n",
       "    </tr>\n",
       "  </thead>\n",
       "  <tbody>\n",
       "    <tr>\n",
       "      <th>0</th>\n",
       "      <td>The Shining</td>\n",
       "      <td>R</td>\n",
       "      <td>Drama</td>\n",
       "      <td>1980</td>\n",
       "      <td>June 13, 1980 (United States)</td>\n",
       "      <td>8.4</td>\n",
       "      <td>927000.0</td>\n",
       "      <td>Stanley Kubrick</td>\n",
       "      <td>Stephen King</td>\n",
       "      <td>Jack Nicholson</td>\n",
       "      <td>United Kingdom</td>\n",
       "      <td>19000000.0</td>\n",
       "      <td>46998772.0</td>\n",
       "      <td>Warner Bros.</td>\n",
       "      <td>146.0</td>\n",
       "    </tr>\n",
       "    <tr>\n",
       "      <th>1</th>\n",
       "      <td>The Blue Lagoon</td>\n",
       "      <td>R</td>\n",
       "      <td>Adventure</td>\n",
       "      <td>1980</td>\n",
       "      <td>July 2, 1980 (United States)</td>\n",
       "      <td>5.8</td>\n",
       "      <td>65000.0</td>\n",
       "      <td>Randal Kleiser</td>\n",
       "      <td>Henry De Vere Stacpoole</td>\n",
       "      <td>Brooke Shields</td>\n",
       "      <td>United States</td>\n",
       "      <td>4500000.0</td>\n",
       "      <td>58853106.0</td>\n",
       "      <td>Columbia Pictures</td>\n",
       "      <td>104.0</td>\n",
       "    </tr>\n",
       "    <tr>\n",
       "      <th>2</th>\n",
       "      <td>Star Wars: Episode V - The Empire Strikes Back</td>\n",
       "      <td>PG</td>\n",
       "      <td>Action</td>\n",
       "      <td>1980</td>\n",
       "      <td>June 20, 1980 (United States)</td>\n",
       "      <td>8.7</td>\n",
       "      <td>1200000.0</td>\n",
       "      <td>Irvin Kershner</td>\n",
       "      <td>Leigh Brackett</td>\n",
       "      <td>Mark Hamill</td>\n",
       "      <td>United States</td>\n",
       "      <td>18000000.0</td>\n",
       "      <td>538375067.0</td>\n",
       "      <td>Lucasfilm</td>\n",
       "      <td>124.0</td>\n",
       "    </tr>\n",
       "    <tr>\n",
       "      <th>3</th>\n",
       "      <td>Airplane!</td>\n",
       "      <td>PG</td>\n",
       "      <td>Comedy</td>\n",
       "      <td>1980</td>\n",
       "      <td>July 2, 1980 (United States)</td>\n",
       "      <td>7.7</td>\n",
       "      <td>221000.0</td>\n",
       "      <td>Jim Abrahams</td>\n",
       "      <td>Jim Abrahams</td>\n",
       "      <td>Robert Hays</td>\n",
       "      <td>United States</td>\n",
       "      <td>3500000.0</td>\n",
       "      <td>83453539.0</td>\n",
       "      <td>Paramount Pictures</td>\n",
       "      <td>88.0</td>\n",
       "    </tr>\n",
       "    <tr>\n",
       "      <th>4</th>\n",
       "      <td>Caddyshack</td>\n",
       "      <td>R</td>\n",
       "      <td>Comedy</td>\n",
       "      <td>1980</td>\n",
       "      <td>July 25, 1980 (United States)</td>\n",
       "      <td>7.3</td>\n",
       "      <td>108000.0</td>\n",
       "      <td>Harold Ramis</td>\n",
       "      <td>Brian Doyle-Murray</td>\n",
       "      <td>Chevy Chase</td>\n",
       "      <td>United States</td>\n",
       "      <td>6000000.0</td>\n",
       "      <td>39846344.0</td>\n",
       "      <td>Orion Pictures</td>\n",
       "      <td>98.0</td>\n",
       "    </tr>\n",
       "    <tr>\n",
       "      <th>...</th>\n",
       "      <td>...</td>\n",
       "      <td>...</td>\n",
       "      <td>...</td>\n",
       "      <td>...</td>\n",
       "      <td>...</td>\n",
       "      <td>...</td>\n",
       "      <td>...</td>\n",
       "      <td>...</td>\n",
       "      <td>...</td>\n",
       "      <td>...</td>\n",
       "      <td>...</td>\n",
       "      <td>...</td>\n",
       "      <td>...</td>\n",
       "      <td>...</td>\n",
       "      <td>...</td>\n",
       "    </tr>\n",
       "    <tr>\n",
       "      <th>7648</th>\n",
       "      <td>Bad Boys for Life</td>\n",
       "      <td>R</td>\n",
       "      <td>Action</td>\n",
       "      <td>2020</td>\n",
       "      <td>January 17, 2020 (United States)</td>\n",
       "      <td>6.6</td>\n",
       "      <td>140000.0</td>\n",
       "      <td>Adil El Arbi</td>\n",
       "      <td>Peter Craig</td>\n",
       "      <td>Will Smith</td>\n",
       "      <td>United States</td>\n",
       "      <td>90000000.0</td>\n",
       "      <td>426505244.0</td>\n",
       "      <td>Columbia Pictures</td>\n",
       "      <td>124.0</td>\n",
       "    </tr>\n",
       "    <tr>\n",
       "      <th>7649</th>\n",
       "      <td>Sonic the Hedgehog</td>\n",
       "      <td>PG</td>\n",
       "      <td>Action</td>\n",
       "      <td>2020</td>\n",
       "      <td>February 14, 2020 (United States)</td>\n",
       "      <td>6.5</td>\n",
       "      <td>102000.0</td>\n",
       "      <td>Jeff Fowler</td>\n",
       "      <td>Pat Casey</td>\n",
       "      <td>Ben Schwartz</td>\n",
       "      <td>United States</td>\n",
       "      <td>85000000.0</td>\n",
       "      <td>319715683.0</td>\n",
       "      <td>Paramount Pictures</td>\n",
       "      <td>99.0</td>\n",
       "    </tr>\n",
       "    <tr>\n",
       "      <th>7650</th>\n",
       "      <td>Dolittle</td>\n",
       "      <td>PG</td>\n",
       "      <td>Adventure</td>\n",
       "      <td>2020</td>\n",
       "      <td>January 17, 2020 (United States)</td>\n",
       "      <td>5.6</td>\n",
       "      <td>53000.0</td>\n",
       "      <td>Stephen Gaghan</td>\n",
       "      <td>Stephen Gaghan</td>\n",
       "      <td>Robert Downey Jr.</td>\n",
       "      <td>United States</td>\n",
       "      <td>175000000.0</td>\n",
       "      <td>245487753.0</td>\n",
       "      <td>Universal Pictures</td>\n",
       "      <td>101.0</td>\n",
       "    </tr>\n",
       "    <tr>\n",
       "      <th>7651</th>\n",
       "      <td>The Call of the Wild</td>\n",
       "      <td>PG</td>\n",
       "      <td>Adventure</td>\n",
       "      <td>2020</td>\n",
       "      <td>February 21, 2020 (United States)</td>\n",
       "      <td>6.8</td>\n",
       "      <td>42000.0</td>\n",
       "      <td>Chris Sanders</td>\n",
       "      <td>Michael Green</td>\n",
       "      <td>Harrison Ford</td>\n",
       "      <td>Canada</td>\n",
       "      <td>135000000.0</td>\n",
       "      <td>111105497.0</td>\n",
       "      <td>20th Century Studios</td>\n",
       "      <td>100.0</td>\n",
       "    </tr>\n",
       "    <tr>\n",
       "      <th>7652</th>\n",
       "      <td>The Eight Hundred</td>\n",
       "      <td>Not Rated</td>\n",
       "      <td>Action</td>\n",
       "      <td>2020</td>\n",
       "      <td>August 28, 2020 (United States)</td>\n",
       "      <td>6.8</td>\n",
       "      <td>3700.0</td>\n",
       "      <td>Hu Guan</td>\n",
       "      <td>Hu Guan</td>\n",
       "      <td>Zhi-zhong Huang</td>\n",
       "      <td>China</td>\n",
       "      <td>80000000.0</td>\n",
       "      <td>461421559.0</td>\n",
       "      <td>Beijing Diqi Yinxiang Entertainment</td>\n",
       "      <td>149.0</td>\n",
       "    </tr>\n",
       "  </tbody>\n",
       "</table>\n",
       "<p>5421 rows × 15 columns</p>\n",
       "</div>"
      ],
      "text/plain": [
       "                                                name     rating      genre  \\\n",
       "0                                        The Shining          R      Drama   \n",
       "1                                    The Blue Lagoon          R  Adventure   \n",
       "2     Star Wars: Episode V - The Empire Strikes Back         PG     Action   \n",
       "3                                          Airplane!         PG     Comedy   \n",
       "4                                         Caddyshack          R     Comedy   \n",
       "...                                              ...        ...        ...   \n",
       "7648                               Bad Boys for Life          R     Action   \n",
       "7649                              Sonic the Hedgehog         PG     Action   \n",
       "7650                                        Dolittle         PG  Adventure   \n",
       "7651                            The Call of the Wild         PG  Adventure   \n",
       "7652                               The Eight Hundred  Not Rated     Action   \n",
       "\n",
       "      year                           released  score      votes  \\\n",
       "0     1980      June 13, 1980 (United States)    8.4   927000.0   \n",
       "1     1980       July 2, 1980 (United States)    5.8    65000.0   \n",
       "2     1980      June 20, 1980 (United States)    8.7  1200000.0   \n",
       "3     1980       July 2, 1980 (United States)    7.7   221000.0   \n",
       "4     1980      July 25, 1980 (United States)    7.3   108000.0   \n",
       "...    ...                                ...    ...        ...   \n",
       "7648  2020   January 17, 2020 (United States)    6.6   140000.0   \n",
       "7649  2020  February 14, 2020 (United States)    6.5   102000.0   \n",
       "7650  2020   January 17, 2020 (United States)    5.6    53000.0   \n",
       "7651  2020  February 21, 2020 (United States)    6.8    42000.0   \n",
       "7652  2020    August 28, 2020 (United States)    6.8     3700.0   \n",
       "\n",
       "             director                   writer               star  \\\n",
       "0     Stanley Kubrick             Stephen King     Jack Nicholson   \n",
       "1      Randal Kleiser  Henry De Vere Stacpoole     Brooke Shields   \n",
       "2      Irvin Kershner           Leigh Brackett        Mark Hamill   \n",
       "3        Jim Abrahams             Jim Abrahams        Robert Hays   \n",
       "4        Harold Ramis       Brian Doyle-Murray        Chevy Chase   \n",
       "...               ...                      ...                ...   \n",
       "7648     Adil El Arbi              Peter Craig         Will Smith   \n",
       "7649      Jeff Fowler                Pat Casey       Ben Schwartz   \n",
       "7650   Stephen Gaghan           Stephen Gaghan  Robert Downey Jr.   \n",
       "7651    Chris Sanders            Michael Green      Harrison Ford   \n",
       "7652          Hu Guan                  Hu Guan    Zhi-zhong Huang   \n",
       "\n",
       "             country       budget        gross  \\\n",
       "0     United Kingdom   19000000.0   46998772.0   \n",
       "1      United States    4500000.0   58853106.0   \n",
       "2      United States   18000000.0  538375067.0   \n",
       "3      United States    3500000.0   83453539.0   \n",
       "4      United States    6000000.0   39846344.0   \n",
       "...              ...          ...          ...   \n",
       "7648   United States   90000000.0  426505244.0   \n",
       "7649   United States   85000000.0  319715683.0   \n",
       "7650   United States  175000000.0  245487753.0   \n",
       "7651          Canada  135000000.0  111105497.0   \n",
       "7652           China   80000000.0  461421559.0   \n",
       "\n",
       "                                  company  runtime  \n",
       "0                            Warner Bros.    146.0  \n",
       "1                       Columbia Pictures    104.0  \n",
       "2                               Lucasfilm    124.0  \n",
       "3                      Paramount Pictures     88.0  \n",
       "4                          Orion Pictures     98.0  \n",
       "...                                   ...      ...  \n",
       "7648                    Columbia Pictures    124.0  \n",
       "7649                   Paramount Pictures     99.0  \n",
       "7650                   Universal Pictures    101.0  \n",
       "7651                 20th Century Studios    100.0  \n",
       "7652  Beijing Diqi Yinxiang Entertainment    149.0  \n",
       "\n",
       "[5421 rows x 15 columns]"
      ]
     },
     "execution_count": 5,
     "metadata": {},
     "output_type": "execute_result"
    }
   ],
   "source": [
    "movie_df.dropna()"
   ]
  },
  {
   "cell_type": "code",
   "execution_count": 6,
   "id": "c09c433a",
   "metadata": {},
   "outputs": [
    {
     "data": {
      "text/plain": [
       "(7668, 15)"
      ]
     },
     "execution_count": 6,
     "metadata": {},
     "output_type": "execute_result"
    }
   ],
   "source": [
    "movie_df.shape"
   ]
  },
  {
   "cell_type": "markdown",
   "id": "b12b16f1",
   "metadata": {},
   "source": [
    "# 1. Data Cleaning: Identify variables that are essential for determining a movie’s commercial success and remove movies that miss these variables. Discuss why you decide to remove missing values for these variables. \n"
   ]
  },
  {
   "cell_type": "code",
   "execution_count": 8,
   "id": "228ba1b7",
   "metadata": {},
   "outputs": [],
   "source": [
    "import numpy as np \n",
    "import seaborn as sns "
   ]
  },
  {
   "cell_type": "code",
   "execution_count": 9,
   "id": "c9505ea0",
   "metadata": {},
   "outputs": [
    {
     "data": {
      "text/html": [
       "<div>\n",
       "<style scoped>\n",
       "    .dataframe tbody tr th:only-of-type {\n",
       "        vertical-align: middle;\n",
       "    }\n",
       "\n",
       "    .dataframe tbody tr th {\n",
       "        vertical-align: top;\n",
       "    }\n",
       "\n",
       "    .dataframe thead th {\n",
       "        text-align: right;\n",
       "    }\n",
       "</style>\n",
       "<table border=\"1\" class=\"dataframe\">\n",
       "  <thead>\n",
       "    <tr style=\"text-align: right;\">\n",
       "      <th></th>\n",
       "      <th>year</th>\n",
       "      <th>score</th>\n",
       "      <th>votes</th>\n",
       "      <th>budget</th>\n",
       "      <th>gross</th>\n",
       "      <th>runtime</th>\n",
       "    </tr>\n",
       "  </thead>\n",
       "  <tbody>\n",
       "    <tr>\n",
       "      <th>year</th>\n",
       "      <td>1.000000</td>\n",
       "      <td>0.097995</td>\n",
       "      <td>0.222945</td>\n",
       "      <td>0.329321</td>\n",
       "      <td>0.257486</td>\n",
       "      <td>0.120811</td>\n",
       "    </tr>\n",
       "    <tr>\n",
       "      <th>score</th>\n",
       "      <td>0.097995</td>\n",
       "      <td>1.000000</td>\n",
       "      <td>0.409182</td>\n",
       "      <td>0.076254</td>\n",
       "      <td>0.186258</td>\n",
       "      <td>0.399451</td>\n",
       "    </tr>\n",
       "    <tr>\n",
       "      <th>votes</th>\n",
       "      <td>0.222945</td>\n",
       "      <td>0.409182</td>\n",
       "      <td>1.000000</td>\n",
       "      <td>0.442429</td>\n",
       "      <td>0.630757</td>\n",
       "      <td>0.309212</td>\n",
       "    </tr>\n",
       "    <tr>\n",
       "      <th>budget</th>\n",
       "      <td>0.329321</td>\n",
       "      <td>0.076254</td>\n",
       "      <td>0.442429</td>\n",
       "      <td>1.000000</td>\n",
       "      <td>0.740395</td>\n",
       "      <td>0.320447</td>\n",
       "    </tr>\n",
       "    <tr>\n",
       "      <th>gross</th>\n",
       "      <td>0.257486</td>\n",
       "      <td>0.186258</td>\n",
       "      <td>0.630757</td>\n",
       "      <td>0.740395</td>\n",
       "      <td>1.000000</td>\n",
       "      <td>0.245216</td>\n",
       "    </tr>\n",
       "    <tr>\n",
       "      <th>runtime</th>\n",
       "      <td>0.120811</td>\n",
       "      <td>0.399451</td>\n",
       "      <td>0.309212</td>\n",
       "      <td>0.320447</td>\n",
       "      <td>0.245216</td>\n",
       "      <td>1.000000</td>\n",
       "    </tr>\n",
       "  </tbody>\n",
       "</table>\n",
       "</div>"
      ],
      "text/plain": [
       "             year     score     votes    budget     gross   runtime\n",
       "year     1.000000  0.097995  0.222945  0.329321  0.257486  0.120811\n",
       "score    0.097995  1.000000  0.409182  0.076254  0.186258  0.399451\n",
       "votes    0.222945  0.409182  1.000000  0.442429  0.630757  0.309212\n",
       "budget   0.329321  0.076254  0.442429  1.000000  0.740395  0.320447\n",
       "gross    0.257486  0.186258  0.630757  0.740395  1.000000  0.245216\n",
       "runtime  0.120811  0.399451  0.309212  0.320447  0.245216  1.000000"
      ]
     },
     "execution_count": 9,
     "metadata": {},
     "output_type": "execute_result"
    }
   ],
   "source": [
    "movie_df.corr()"
   ]
  },
  {
   "cell_type": "markdown",
   "id": "c3bafb36",
   "metadata": {},
   "source": [
    "A movies commercial success can be estimated by using a variety of variables. The variables with that determine a movies success include; budget, gross and score. And so, it was important to remove movies without the mentioned variables. Because the success of such movies cannot be measured."
   ]
  },
  {
   "cell_type": "code",
   "execution_count": 11,
   "id": "99ca92b7",
   "metadata": {},
   "outputs": [],
   "source": [
    "movie_df.dropna(subset = ['gross','budget','score','votes'],inplace=True)"
   ]
  },
  {
   "cell_type": "code",
   "execution_count": 12,
   "id": "12c0d79c",
   "metadata": {},
   "outputs": [
    {
     "data": {
      "text/plain": [
       "(5436, 15)"
      ]
     },
     "execution_count": 12,
     "metadata": {},
     "output_type": "execute_result"
    }
   ],
   "source": [
    "movie_df.shape"
   ]
  },
  {
   "cell_type": "code",
   "execution_count": 13,
   "id": "dfc94953",
   "metadata": {},
   "outputs": [],
   "source": [
    "# question 2a ,point interval for population mean "
   ]
  },
  {
   "cell_type": "code",
   "execution_count": 14,
   "id": "c3f53418",
   "metadata": {},
   "outputs": [
    {
     "name": "stderr",
     "output_type": "stream",
     "text": [
      "C:\\Users\\Jayd\\AppData\\Local\\Temp/ipykernel_1100/4113260469.py:1: FutureWarning: Dropping of nuisance columns in DataFrame reductions (with 'numeric_only=None') is deprecated; in a future version this will raise TypeError.  Select only valid columns before calling the reduction.\n",
      "  movie_df.mean()\n"
     ]
    },
    {
     "data": {
      "text/plain": [
       "year       2.001652e+03\n",
       "score      6.392642e+00\n",
       "votes      1.149110e+05\n",
       "budget     3.593864e+07\n",
       "gross      1.030045e+08\n",
       "runtime    1.081564e+02\n",
       "dtype: float64"
      ]
     },
     "execution_count": 14,
     "metadata": {},
     "output_type": "execute_result"
    }
   ],
   "source": [
    "movie_df.mean()"
   ]
  },
  {
   "cell_type": "code",
   "execution_count": 15,
   "id": "ecb0ef08",
   "metadata": {},
   "outputs": [],
   "source": [
    "import matplotlib.pyplot as plt\n",
    "  "
   ]
  },
  {
   "cell_type": "code",
   "execution_count": 16,
   "id": "3cfd4a43",
   "metadata": {},
   "outputs": [
    {
     "name": "stderr",
     "output_type": "stream",
     "text": [
      "C:\\Users\\Jayd\\anaconda3\\lib\\site-packages\\seaborn\\_decorators.py:36: FutureWarning: Pass the following variables as keyword args: x, y. From version 0.12, the only valid positional argument will be `data`, and passing other arguments without an explicit keyword will result in an error or misinterpretation.\n",
      "  warnings.warn(\n"
     ]
    },
    {
     "data": {
      "image/png": "[encoded data removed]",
      "text/plain": [
       "<Figure size 432x288 with 1 Axes>"
      ]
     },
     "metadata": {
      "needs_background": "light"
     },
     "output_type": "display_data"
    }
   ],
   "source": [
    "ci = sns.regplot(movie_df['budget'],movie_df['gross'], ci=95)"
   ]
  },
  {
   "cell_type": "code",
   "execution_count": 17,
   "id": "eda85265",
   "metadata": {},
   "outputs": [
    {
     "name": "stderr",
     "output_type": "stream",
     "text": [
      "C:\\Users\\Jayd\\anaconda3\\lib\\site-packages\\seaborn\\_decorators.py:36: FutureWarning: Pass the following variables as keyword args: x, y. From version 0.12, the only valid positional argument will be `data`, and passing other arguments without an explicit keyword will result in an error or misinterpretation.\n",
      "  warnings.warn(\n"
     ]
    },
    {
     "data": {
      "image/png": "[encoded data removed]",
      "text/plain": [
       "<Figure size 432x288 with 1 Axes>"
      ]
     },
     "metadata": {
      "needs_background": "light"
     },
     "output_type": "display_data"
    }
   ],
   "source": [
    "ci = sns.regplot(movie_df['score'],movie_df['gross'], ci=95)"
   ]
  },
  {
   "cell_type": "code",
   "execution_count": 18,
   "id": "3f38fb23",
   "metadata": {},
   "outputs": [
    {
     "name": "stderr",
     "output_type": "stream",
     "text": [
      "C:\\Users\\Jayd\\anaconda3\\lib\\site-packages\\seaborn\\_decorators.py:36: FutureWarning: Pass the following variables as keyword args: x, y. From version 0.12, the only valid positional argument will be `data`, and passing other arguments without an explicit keyword will result in an error or misinterpretation.\n",
      "  warnings.warn(\n"
     ]
    },
    {
     "data": {
      "image/png": "[encoded data removed]",
      "text/plain": [
       "<Figure size 432x288 with 1 Axes>"
      ]
     },
     "metadata": {
      "needs_background": "light"
     },
     "output_type": "display_data"
    }
   ],
   "source": [
    "ci = sns.regplot(movie_df['votes'],movie_df['gross'], ci=95)"
   ]
  },
  {
   "cell_type": "code",
   "execution_count": 19,
   "id": "be8ff07b",
   "metadata": {},
   "outputs": [],
   "source": [
    "# question 2b"
   ]
  },
  {
   "cell_type": "code",
   "execution_count": 20,
   "id": "d101653b",
   "metadata": {},
   "outputs": [],
   "source": [
    "act=movie_df[movie_df['genre']=='Action']\n",
    "rat=movie_df[movie_df['rating']=='PG']\n",
    "new1=pd.concat([act,rat])"
   ]
  },
  {
   "cell_type": "code",
   "execution_count": 21,
   "id": "1508c597",
   "metadata": {},
   "outputs": [
    {
     "data": {
      "text/html": [
       "<div>\n",
       "<style scoped>\n",
       "    .dataframe tbody tr th:only-of-type {\n",
       "        vertical-align: middle;\n",
       "    }\n",
       "\n",
       "    .dataframe tbody tr th {\n",
       "        vertical-align: top;\n",
       "    }\n",
       "\n",
       "    .dataframe thead th {\n",
       "        text-align: right;\n",
       "    }\n",
       "</style>\n",
       "<table border=\"1\" class=\"dataframe\">\n",
       "  <thead>\n",
       "    <tr style=\"text-align: right;\">\n",
       "      <th></th>\n",
       "      <th>name</th>\n",
       "      <th>rating</th>\n",
       "      <th>genre</th>\n",
       "      <th>year</th>\n",
       "      <th>released</th>\n",
       "      <th>score</th>\n",
       "      <th>votes</th>\n",
       "      <th>director</th>\n",
       "      <th>writer</th>\n",
       "      <th>star</th>\n",
       "      <th>country</th>\n",
       "      <th>budget</th>\n",
       "      <th>gross</th>\n",
       "      <th>company</th>\n",
       "      <th>runtime</th>\n",
       "    </tr>\n",
       "  </thead>\n",
       "  <tbody>\n",
       "    <tr>\n",
       "      <th>2</th>\n",
       "      <td>Star Wars: Episode V - The Empire Strikes Back</td>\n",
       "      <td>PG</td>\n",
       "      <td>Action</td>\n",
       "      <td>1980</td>\n",
       "      <td>June 20, 1980 (United States)</td>\n",
       "      <td>8.7</td>\n",
       "      <td>1200000.0</td>\n",
       "      <td>Irvin Kershner</td>\n",
       "      <td>Leigh Brackett</td>\n",
       "      <td>Mark Hamill</td>\n",
       "      <td>United States</td>\n",
       "      <td>18000000.0</td>\n",
       "      <td>538375067.0</td>\n",
       "      <td>Lucasfilm</td>\n",
       "      <td>124.0</td>\n",
       "    </tr>\n",
       "    <tr>\n",
       "      <th>6</th>\n",
       "      <td>The Blues Brothers</td>\n",
       "      <td>R</td>\n",
       "      <td>Action</td>\n",
       "      <td>1980</td>\n",
       "      <td>June 20, 1980 (United States)</td>\n",
       "      <td>7.9</td>\n",
       "      <td>188000.0</td>\n",
       "      <td>John Landis</td>\n",
       "      <td>Dan Aykroyd</td>\n",
       "      <td>John Belushi</td>\n",
       "      <td>United States</td>\n",
       "      <td>27000000.0</td>\n",
       "      <td>115229890.0</td>\n",
       "      <td>Universal Pictures</td>\n",
       "      <td>133.0</td>\n",
       "    </tr>\n",
       "    <tr>\n",
       "      <th>8</th>\n",
       "      <td>Superman II</td>\n",
       "      <td>PG</td>\n",
       "      <td>Action</td>\n",
       "      <td>1980</td>\n",
       "      <td>June 19, 1981 (United States)</td>\n",
       "      <td>6.8</td>\n",
       "      <td>101000.0</td>\n",
       "      <td>Richard Lester</td>\n",
       "      <td>Jerry Siegel</td>\n",
       "      <td>Gene Hackman</td>\n",
       "      <td>United States</td>\n",
       "      <td>54000000.0</td>\n",
       "      <td>108185706.0</td>\n",
       "      <td>Dovemead Films</td>\n",
       "      <td>127.0</td>\n",
       "    </tr>\n",
       "    <tr>\n",
       "      <th>10</th>\n",
       "      <td>Any Which Way You Can</td>\n",
       "      <td>PG</td>\n",
       "      <td>Action</td>\n",
       "      <td>1980</td>\n",
       "      <td>December 17, 1980 (United States)</td>\n",
       "      <td>6.1</td>\n",
       "      <td>18000.0</td>\n",
       "      <td>Buddy Van Horn</td>\n",
       "      <td>Stanford Sherman</td>\n",
       "      <td>Clint Eastwood</td>\n",
       "      <td>United States</td>\n",
       "      <td>15000000.0</td>\n",
       "      <td>70687344.0</td>\n",
       "      <td>The Malpaso Company</td>\n",
       "      <td>116.0</td>\n",
       "    </tr>\n",
       "    <tr>\n",
       "      <th>22</th>\n",
       "      <td>The Final Countdown</td>\n",
       "      <td>PG</td>\n",
       "      <td>Action</td>\n",
       "      <td>1980</td>\n",
       "      <td>August 1, 1980 (United States)</td>\n",
       "      <td>6.7</td>\n",
       "      <td>22000.0</td>\n",
       "      <td>Don Taylor</td>\n",
       "      <td>Thomas Hunter</td>\n",
       "      <td>Kirk Douglas</td>\n",
       "      <td>United States</td>\n",
       "      <td>12000000.0</td>\n",
       "      <td>16647800.0</td>\n",
       "      <td>Bryna Productions</td>\n",
       "      <td>103.0</td>\n",
       "    </tr>\n",
       "  </tbody>\n",
       "</table>\n",
       "</div>"
      ],
      "text/plain": [
       "                                              name rating   genre  year  \\\n",
       "2   Star Wars: Episode V - The Empire Strikes Back     PG  Action  1980   \n",
       "6                               The Blues Brothers      R  Action  1980   \n",
       "8                                      Superman II     PG  Action  1980   \n",
       "10                           Any Which Way You Can     PG  Action  1980   \n",
       "22                             The Final Countdown     PG  Action  1980   \n",
       "\n",
       "                             released  score      votes        director  \\\n",
       "2       June 20, 1980 (United States)    8.7  1200000.0  Irvin Kershner   \n",
       "6       June 20, 1980 (United States)    7.9   188000.0     John Landis   \n",
       "8       June 19, 1981 (United States)    6.8   101000.0  Richard Lester   \n",
       "10  December 17, 1980 (United States)    6.1    18000.0  Buddy Van Horn   \n",
       "22     August 1, 1980 (United States)    6.7    22000.0      Don Taylor   \n",
       "\n",
       "              writer            star        country      budget        gross  \\\n",
       "2     Leigh Brackett     Mark Hamill  United States  18000000.0  538375067.0   \n",
       "6        Dan Aykroyd    John Belushi  United States  27000000.0  115229890.0   \n",
       "8       Jerry Siegel    Gene Hackman  United States  54000000.0  108185706.0   \n",
       "10  Stanford Sherman  Clint Eastwood  United States  15000000.0   70687344.0   \n",
       "22     Thomas Hunter    Kirk Douglas  United States  12000000.0   16647800.0   \n",
       "\n",
       "                company  runtime  \n",
       "2             Lucasfilm    124.0  \n",
       "6    Universal Pictures    133.0  \n",
       "8        Dovemead Films    127.0  \n",
       "10  The Malpaso Company    116.0  \n",
       "22    Bryna Productions    103.0  "
      ]
     },
     "execution_count": 21,
     "metadata": {},
     "output_type": "execute_result"
    }
   ],
   "source": [
    "new1.head()"
   ]
  },
  {
   "cell_type": "code",
   "execution_count": 22,
   "id": "1b8d1f96",
   "metadata": {},
   "outputs": [
    {
     "data": {
      "text/html": [
       "<div>\n",
       "<style scoped>\n",
       "    .dataframe tbody tr th:only-of-type {\n",
       "        vertical-align: middle;\n",
       "    }\n",
       "\n",
       "    .dataframe tbody tr th {\n",
       "        vertical-align: top;\n",
       "    }\n",
       "\n",
       "    .dataframe thead th {\n",
       "        text-align: right;\n",
       "    }\n",
       "</style>\n",
       "<table border=\"1\" class=\"dataframe\">\n",
       "  <thead>\n",
       "    <tr style=\"text-align: right;\">\n",
       "      <th></th>\n",
       "      <th>year</th>\n",
       "      <th>score</th>\n",
       "      <th>votes</th>\n",
       "      <th>budget</th>\n",
       "      <th>gross</th>\n",
       "      <th>runtime</th>\n",
       "    </tr>\n",
       "  </thead>\n",
       "  <tbody>\n",
       "    <tr>\n",
       "      <th>count</th>\n",
       "      <td>2326.000000</td>\n",
       "      <td>2326.000000</td>\n",
       "      <td>2.326000e+03</td>\n",
       "      <td>2.326000e+03</td>\n",
       "      <td>2.326000e+03</td>\n",
       "      <td>2325.000000</td>\n",
       "    </tr>\n",
       "    <tr>\n",
       "      <th>mean</th>\n",
       "      <td>2001.067498</td>\n",
       "      <td>6.235340</td>\n",
       "      <td>1.332434e+05</td>\n",
       "      <td>5.279237e+07</td>\n",
       "      <td>1.559435e+08</td>\n",
       "      <td>108.184516</td>\n",
       "    </tr>\n",
       "    <tr>\n",
       "      <th>std</th>\n",
       "      <td>11.363560</td>\n",
       "      <td>1.012208</td>\n",
       "      <td>1.977717e+05</td>\n",
       "      <td>5.252742e+07</td>\n",
       "      <td>2.443928e+08</td>\n",
       "      <td>17.545439</td>\n",
       "    </tr>\n",
       "    <tr>\n",
       "      <th>min</th>\n",
       "      <td>1980.000000</td>\n",
       "      <td>1.900000</td>\n",
       "      <td>1.950000e+02</td>\n",
       "      <td>7.000000e+03</td>\n",
       "      <td>2.970000e+03</td>\n",
       "      <td>75.000000</td>\n",
       "    </tr>\n",
       "    <tr>\n",
       "      <th>25%</th>\n",
       "      <td>1991.000000</td>\n",
       "      <td>5.700000</td>\n",
       "      <td>2.200000e+04</td>\n",
       "      <td>1.600000e+07</td>\n",
       "      <td>1.765383e+07</td>\n",
       "      <td>95.000000</td>\n",
       "    </tr>\n",
       "    <tr>\n",
       "      <th>50%</th>\n",
       "      <td>2002.000000</td>\n",
       "      <td>6.300000</td>\n",
       "      <td>6.450000e+04</td>\n",
       "      <td>3.300000e+07</td>\n",
       "      <td>6.256130e+07</td>\n",
       "      <td>105.000000</td>\n",
       "    </tr>\n",
       "    <tr>\n",
       "      <th>75%</th>\n",
       "      <td>2011.000000</td>\n",
       "      <td>6.900000</td>\n",
       "      <td>1.620000e+05</td>\n",
       "      <td>7.000000e+07</td>\n",
       "      <td>1.830061e+08</td>\n",
       "      <td>118.000000</td>\n",
       "    </tr>\n",
       "    <tr>\n",
       "      <th>max</th>\n",
       "      <td>2020.000000</td>\n",
       "      <td>9.000000</td>\n",
       "      <td>2.400000e+06</td>\n",
       "      <td>3.560000e+08</td>\n",
       "      <td>2.847246e+09</td>\n",
       "      <td>271.000000</td>\n",
       "    </tr>\n",
       "  </tbody>\n",
       "</table>\n",
       "</div>"
      ],
      "text/plain": [
       "              year        score         votes        budget         gross  \\\n",
       "count  2326.000000  2326.000000  2.326000e+03  2.326000e+03  2.326000e+03   \n",
       "mean   2001.067498     6.235340  1.332434e+05  5.279237e+07  1.559435e+08   \n",
       "std      11.363560     1.012208  1.977717e+05  5.252742e+07  2.443928e+08   \n",
       "min    1980.000000     1.900000  1.950000e+02  7.000000e+03  2.970000e+03   \n",
       "25%    1991.000000     5.700000  2.200000e+04  1.600000e+07  1.765383e+07   \n",
       "50%    2002.000000     6.300000  6.450000e+04  3.300000e+07  6.256130e+07   \n",
       "75%    2011.000000     6.900000  1.620000e+05  7.000000e+07  1.830061e+08   \n",
       "max    2020.000000     9.000000  2.400000e+06  3.560000e+08  2.847246e+09   \n",
       "\n",
       "           runtime  \n",
       "count  2325.000000  \n",
       "mean    108.184516  \n",
       "std      17.545439  \n",
       "min      75.000000  \n",
       "25%      95.000000  \n",
       "50%     105.000000  \n",
       "75%     118.000000  \n",
       "max     271.000000  "
      ]
     },
     "execution_count": 22,
     "metadata": {},
     "output_type": "execute_result"
    }
   ],
   "source": [
    "new1.describe()"
   ]
  },
  {
   "cell_type": "code",
   "execution_count": 23,
   "id": "3d34b4cd",
   "metadata": {},
   "outputs": [
    {
     "name": "stdout",
     "output_type": "stream",
     "text": [
      "name        2150\n",
      "rating         5\n",
      "genre         14\n",
      "year          41\n",
      "released    1596\n",
      "score         67\n",
      "votes        560\n",
      "director    1071\n",
      "writer      1490\n",
      "star         929\n",
      "country       32\n",
      "budget       265\n",
      "gross       2180\n",
      "company      619\n",
      "runtime      104\n",
      "dtype: int64\n"
     ]
    }
   ],
   "source": [
    "print(new1.nunique())"
   ]
  },
  {
   "cell_type": "code",
   "execution_count": 24,
   "id": "4ad4d565",
   "metadata": {},
   "outputs": [
    {
     "name": "stderr",
     "output_type": "stream",
     "text": [
      "C:\\Users\\Jayd\\AppData\\Local\\Temp/ipykernel_1100/2329559761.py:1: FutureWarning: Dropping of nuisance columns in DataFrame reductions (with 'numeric_only=None') is deprecated; in a future version this will raise TypeError.  Select only valid columns before calling the reduction.\n",
      "  new1.mean()\n"
     ]
    },
    {
     "data": {
      "text/plain": [
       "year       2.001067e+03\n",
       "score      6.235340e+00\n",
       "votes      1.332434e+05\n",
       "budget     5.279237e+07\n",
       "gross      1.559435e+08\n",
       "runtime    1.081845e+02\n",
       "dtype: float64"
      ]
     },
     "execution_count": 24,
     "metadata": {},
     "output_type": "execute_result"
    }
   ],
   "source": [
    "new1.mean()"
   ]
  },
  {
   "cell_type": "code",
   "execution_count": 25,
   "id": "f40c8260",
   "metadata": {},
   "outputs": [],
   "source": [
    "# confidence intervals for score ,votess ,budget and gross"
   ]
  },
  {
   "cell_type": "code",
   "execution_count": 26,
   "id": "87b87653",
   "metadata": {},
   "outputs": [],
   "source": [
    "import scipy.stats as st"
   ]
  },
  {
   "cell_type": "code",
   "execution_count": 27,
   "id": "392b2dc9",
   "metadata": {},
   "outputs": [],
   "source": [
    "sr=new1['score']"
   ]
  },
  {
   "cell_type": "code",
   "execution_count": 28,
   "id": "c9ecac2b",
   "metadata": {},
   "outputs": [
    {
     "data": {
      "text/plain": [
       "(6.194204484956087, 6.276474792773923)"
      ]
     },
     "execution_count": 28,
     "metadata": {},
     "output_type": "execute_result"
    }
   ],
   "source": [
    "st.norm.interval(alpha=0.95, loc=np.mean(sr), scale=st.sem(sr))"
   ]
  },
  {
   "cell_type": "code",
   "execution_count": 29,
   "id": "41a605b6",
   "metadata": {},
   "outputs": [],
   "source": [
    "vs=new1['votes']"
   ]
  },
  {
   "cell_type": "code",
   "execution_count": 30,
   "id": "d5347914",
   "metadata": {},
   "outputs": [
    {
     "data": {
      "text/plain": [
       "(125206.15091697425, 141280.65045877814)"
      ]
     },
     "execution_count": 30,
     "metadata": {},
     "output_type": "execute_result"
    }
   ],
   "source": [
    "st.norm.interval(alpha=0.95, loc=np.mean(vs), scale=st.sem(vs))"
   ]
  },
  {
   "cell_type": "code",
   "execution_count": 31,
   "id": "989014a3",
   "metadata": {},
   "outputs": [
    {
     "data": {
      "text/plain": [
       "(50657706.85056082, 54927032.47618037)"
      ]
     },
     "execution_count": 31,
     "metadata": {},
     "output_type": "execute_result"
    }
   ],
   "source": [
    "bd=new1['budget']\n",
    "st.norm.interval(alpha=0.95, loc=np.mean(bd), scale=st.sem(bd))"
   ]
  },
  {
   "cell_type": "code",
   "execution_count": 32,
   "id": "f4475a19",
   "metadata": {},
   "outputs": [
    {
     "data": {
      "text/plain": [
       "(146011627.05386868, 165875399.23589918)"
      ]
     },
     "execution_count": 32,
     "metadata": {},
     "output_type": "execute_result"
    }
   ],
   "source": [
    "gr=new1['gross']\n",
    "st.norm.interval(alpha=0.95, loc=np.mean(gr), scale=st.sem(gr))"
   ]
  },
  {
   "cell_type": "markdown",
   "id": "3bcfd36c",
   "metadata": {},
   "source": [
    "# 2c the budget and gross variables will be converted into integers and log transformed "
   ]
  },
  {
   "cell_type": "code",
   "execution_count": 34,
   "id": "b1dd0d99",
   "metadata": {},
   "outputs": [],
   "source": [
    "movie_df.budget=movie_df['budget'].astype('int64')\n",
    "movie_df.gross=movie_df['gross'].astype('int64')"
   ]
  },
  {
   "cell_type": "code",
   "execution_count": 35,
   "id": "e8a33358",
   "metadata": {},
   "outputs": [],
   "source": [
    "movie_df['log_gross'] = np.log10(movie_df['gross']+1)\n",
    "movie_df['log_budget'] = np.log10(movie_df['budget']+1)\n"
   ]
  },
  {
   "cell_type": "code",
   "execution_count": 36,
   "id": "0c01b09a",
   "metadata": {},
   "outputs": [
    {
     "data": {
      "text/html": [
       "<div>\n",
       "<style scoped>\n",
       "    .dataframe tbody tr th:only-of-type {\n",
       "        vertical-align: middle;\n",
       "    }\n",
       "\n",
       "    .dataframe tbody tr th {\n",
       "        vertical-align: top;\n",
       "    }\n",
       "\n",
       "    .dataframe thead th {\n",
       "        text-align: right;\n",
       "    }\n",
       "</style>\n",
       "<table border=\"1\" class=\"dataframe\">\n",
       "  <thead>\n",
       "    <tr style=\"text-align: right;\">\n",
       "      <th></th>\n",
       "      <th>name</th>\n",
       "      <th>rating</th>\n",
       "      <th>genre</th>\n",
       "      <th>year</th>\n",
       "      <th>released</th>\n",
       "      <th>score</th>\n",
       "      <th>votes</th>\n",
       "      <th>director</th>\n",
       "      <th>writer</th>\n",
       "      <th>star</th>\n",
       "      <th>country</th>\n",
       "      <th>budget</th>\n",
       "      <th>gross</th>\n",
       "      <th>company</th>\n",
       "      <th>runtime</th>\n",
       "      <th>log_gross</th>\n",
       "      <th>log_budget</th>\n",
       "    </tr>\n",
       "  </thead>\n",
       "  <tbody>\n",
       "    <tr>\n",
       "      <th>0</th>\n",
       "      <td>The Shining</td>\n",
       "      <td>R</td>\n",
       "      <td>Drama</td>\n",
       "      <td>1980</td>\n",
       "      <td>June 13, 1980 (United States)</td>\n",
       "      <td>8.4</td>\n",
       "      <td>927000.0</td>\n",
       "      <td>Stanley Kubrick</td>\n",
       "      <td>Stephen King</td>\n",
       "      <td>Jack Nicholson</td>\n",
       "      <td>United Kingdom</td>\n",
       "      <td>19000000</td>\n",
       "      <td>46998772</td>\n",
       "      <td>Warner Bros.</td>\n",
       "      <td>146.0</td>\n",
       "      <td>7.672087</td>\n",
       "      <td>7.278754</td>\n",
       "    </tr>\n",
       "    <tr>\n",
       "      <th>1</th>\n",
       "      <td>The Blue Lagoon</td>\n",
       "      <td>R</td>\n",
       "      <td>Adventure</td>\n",
       "      <td>1980</td>\n",
       "      <td>July 2, 1980 (United States)</td>\n",
       "      <td>5.8</td>\n",
       "      <td>65000.0</td>\n",
       "      <td>Randal Kleiser</td>\n",
       "      <td>Henry De Vere Stacpoole</td>\n",
       "      <td>Brooke Shields</td>\n",
       "      <td>United States</td>\n",
       "      <td>4500000</td>\n",
       "      <td>58853106</td>\n",
       "      <td>Columbia Pictures</td>\n",
       "      <td>104.0</td>\n",
       "      <td>7.769769</td>\n",
       "      <td>6.653213</td>\n",
       "    </tr>\n",
       "    <tr>\n",
       "      <th>2</th>\n",
       "      <td>Star Wars: Episode V - The Empire Strikes Back</td>\n",
       "      <td>PG</td>\n",
       "      <td>Action</td>\n",
       "      <td>1980</td>\n",
       "      <td>June 20, 1980 (United States)</td>\n",
       "      <td>8.7</td>\n",
       "      <td>1200000.0</td>\n",
       "      <td>Irvin Kershner</td>\n",
       "      <td>Leigh Brackett</td>\n",
       "      <td>Mark Hamill</td>\n",
       "      <td>United States</td>\n",
       "      <td>18000000</td>\n",
       "      <td>538375067</td>\n",
       "      <td>Lucasfilm</td>\n",
       "      <td>124.0</td>\n",
       "      <td>8.731085</td>\n",
       "      <td>7.255273</td>\n",
       "    </tr>\n",
       "    <tr>\n",
       "      <th>3</th>\n",
       "      <td>Airplane!</td>\n",
       "      <td>PG</td>\n",
       "      <td>Comedy</td>\n",
       "      <td>1980</td>\n",
       "      <td>July 2, 1980 (United States)</td>\n",
       "      <td>7.7</td>\n",
       "      <td>221000.0</td>\n",
       "      <td>Jim Abrahams</td>\n",
       "      <td>Jim Abrahams</td>\n",
       "      <td>Robert Hays</td>\n",
       "      <td>United States</td>\n",
       "      <td>3500000</td>\n",
       "      <td>83453539</td>\n",
       "      <td>Paramount Pictures</td>\n",
       "      <td>88.0</td>\n",
       "      <td>7.921445</td>\n",
       "      <td>6.544068</td>\n",
       "    </tr>\n",
       "    <tr>\n",
       "      <th>4</th>\n",
       "      <td>Caddyshack</td>\n",
       "      <td>R</td>\n",
       "      <td>Comedy</td>\n",
       "      <td>1980</td>\n",
       "      <td>July 25, 1980 (United States)</td>\n",
       "      <td>7.3</td>\n",
       "      <td>108000.0</td>\n",
       "      <td>Harold Ramis</td>\n",
       "      <td>Brian Doyle-Murray</td>\n",
       "      <td>Chevy Chase</td>\n",
       "      <td>United States</td>\n",
       "      <td>6000000</td>\n",
       "      <td>39846344</td>\n",
       "      <td>Orion Pictures</td>\n",
       "      <td>98.0</td>\n",
       "      <td>7.600388</td>\n",
       "      <td>6.778151</td>\n",
       "    </tr>\n",
       "  </tbody>\n",
       "</table>\n",
       "</div>"
      ],
      "text/plain": [
       "                                             name rating      genre  year  \\\n",
       "0                                     The Shining      R      Drama  1980   \n",
       "1                                 The Blue Lagoon      R  Adventure  1980   \n",
       "2  Star Wars: Episode V - The Empire Strikes Back     PG     Action  1980   \n",
       "3                                       Airplane!     PG     Comedy  1980   \n",
       "4                                      Caddyshack      R     Comedy  1980   \n",
       "\n",
       "                        released  score      votes         director  \\\n",
       "0  June 13, 1980 (United States)    8.4   927000.0  Stanley Kubrick   \n",
       "1   July 2, 1980 (United States)    5.8    65000.0   Randal Kleiser   \n",
       "2  June 20, 1980 (United States)    8.7  1200000.0   Irvin Kershner   \n",
       "3   July 2, 1980 (United States)    7.7   221000.0     Jim Abrahams   \n",
       "4  July 25, 1980 (United States)    7.3   108000.0     Harold Ramis   \n",
       "\n",
       "                    writer            star         country    budget  \\\n",
       "0             Stephen King  Jack Nicholson  United Kingdom  19000000   \n",
       "1  Henry De Vere Stacpoole  Brooke Shields   United States   4500000   \n",
       "2           Leigh Brackett     Mark Hamill   United States  18000000   \n",
       "3             Jim Abrahams     Robert Hays   United States   3500000   \n",
       "4       Brian Doyle-Murray     Chevy Chase   United States   6000000   \n",
       "\n",
       "       gross             company  runtime  log_gross  log_budget  \n",
       "0   46998772        Warner Bros.    146.0   7.672087    7.278754  \n",
       "1   58853106   Columbia Pictures    104.0   7.769769    6.653213  \n",
       "2  538375067           Lucasfilm    124.0   8.731085    7.255273  \n",
       "3   83453539  Paramount Pictures     88.0   7.921445    6.544068  \n",
       "4   39846344      Orion Pictures     98.0   7.600388    6.778151  "
      ]
     },
     "execution_count": 36,
     "metadata": {},
     "output_type": "execute_result"
    }
   ],
   "source": [
    "movie_df.head()"
   ]
  },
  {
   "cell_type": "code",
   "execution_count": 37,
   "id": "80b3434b",
   "metadata": {},
   "outputs": [],
   "source": [
    "# question 3"
   ]
  },
  {
   "cell_type": "code",
   "execution_count": 38,
   "id": "1876ecbb",
   "metadata": {},
   "outputs": [],
   "source": [
    "import matplotlib\n",
    "import matplotlib.pyplot as plt\n",
    "plt.style.use('ggplot')\n",
    "from matplotlib.pyplot import figure\n",
    "%matplotlib inline"
   ]
  },
  {
   "cell_type": "code",
   "execution_count": 39,
   "id": "b85821eb",
   "metadata": {},
   "outputs": [
    {
     "data": {
      "image/png": "[encoded data removed]",
      "text/plain": [
       "<Figure size 432x288 with 1 Axes>"
      ]
     },
     "metadata": {
      "needs_background": "light"
     },
     "output_type": "display_data"
    }
   ],
   "source": [
    "sns.kdeplot(movie_df.loc[movie_df['genre'] == 'Action', 'gross'], label = 'Action', shade = True)\n",
    "sns.kdeplot(movie_df.loc[movie_df['genre'] == 'Drama', 'gross'], label = 'Drama', shade = True)\n",
    "sns.kdeplot(movie_df.loc[movie_df['genre'] == 'Biography', 'gross'], label = 'Biography', shade = True)\n",
    "sns.kdeplot(movie_df.loc[movie_df['genre'] == 'comedy', 'gross'], label = 'Comedy', shade = True)\n",
    "sns.kdeplot(movie_df.loc[movie_df['genre'] == 'Adventure', 'gross'], label = 'Adventure', shade = True)\n",
    "\n",
    "\n",
    "\n",
    "\n",
    "plt.xlabel('gross profit'); plt.ylabel('Density'); plt.title('Density Plot of gross by Genre');plt.legend(fontsize=18);"
   ]
  },
  {
   "cell_type": "code",
   "execution_count": 40,
   "id": "85b694ee",
   "metadata": {},
   "outputs": [],
   "source": [
    "director = (movie_df.director.str.split('|', expand=True)\n",
    "            .stack()\n",
    "            .to_frame(name='director'))\n",
    "\n",
    "\n",
    "director.index = director.index.droplevel(1)\n",
    "\n"
   ]
  },
  {
   "cell_type": "code",
   "execution_count": 41,
   "id": "360ce680",
   "metadata": {},
   "outputs": [
    {
     "data": {
      "text/plain": [
       "<AxesSubplot:xlabel='director'>"
      ]
     },
     "execution_count": 41,
     "metadata": {},
     "output_type": "execute_result"
    },
    {
     "data": {
      "image/png": "[encoded data removed]",
      "text/plain": [
       "<Figure size 432x288 with 1 Axes>"
      ]
     },
     "metadata": {
      "needs_background": "light"
     },
     "output_type": "display_data"
    }
   ],
   "source": [
    "(director.join(movie_df['gross'])\n",
    "       .groupby('director')\n",
    "       .sum()\n",
    "       .plot(kind='bar'))\n"
   ]
  },
  {
   "cell_type": "code",
   "execution_count": 42,
   "id": "3e91f97a",
   "metadata": {},
   "outputs": [],
   "source": [
    "# question 4"
   ]
  },
  {
   "cell_type": "code",
   "execution_count": 43,
   "id": "2a20c4a6",
   "metadata": {},
   "outputs": [
    {
     "data": {
      "text/plain": [
       "<seaborn.axisgrid.FacetGrid at 0x194c43bc3a0>"
      ]
     },
     "execution_count": 43,
     "metadata": {},
     "output_type": "execute_result"
    },
    {
     "data": {
      "image/png": "[encoded data removed]",
      "text/plain": [
       "<Figure size 360x360 with 1 Axes>"
      ]
     },
     "metadata": {},
     "output_type": "display_data"
    }
   ],
   "source": [
    "sns.set_style('whitegrid')\n",
    "sns.lmplot(x ='log_gross', y ='log_budget', data = movie_df)"
   ]
  },
  {
   "cell_type": "code",
   "execution_count": 44,
   "id": "14fc84e1",
   "metadata": {},
   "outputs": [
    {
     "data": {
      "text/plain": [
       "<seaborn.axisgrid.FacetGrid at 0x194c973e790>"
      ]
     },
     "execution_count": 44,
     "metadata": {},
     "output_type": "execute_result"
    },
    {
     "data": {
      "image/png": "[encoded data removed]",
      "text/plain": [
       "<Figure size 360x360 with 1 Axes>"
      ]
     },
     "metadata": {},
     "output_type": "display_data"
    }
   ],
   "source": [
    "sns.set_style('whitegrid')\n",
    "sns.lmplot(x ='score', y ='gross', data = movie_df)"
   ]
  },
  {
   "cell_type": "code",
   "execution_count": 45,
   "id": "08259462",
   "metadata": {},
   "outputs": [],
   "source": [
    "# question 5"
   ]
  },
  {
   "cell_type": "code",
   "execution_count": 46,
   "id": "c53c498b",
   "metadata": {},
   "outputs": [],
   "source": [
    "new2=movie_df.loc[(movie_df['year'] >= 2003) &\n",
    "(movie_df['company'].str.contains('Marvel')),]"
   ]
  },
  {
   "cell_type": "code",
   "execution_count": 47,
   "id": "3c95dd61",
   "metadata": {},
   "outputs": [
    {
     "data": {
      "text/html": [
       "<div>\n",
       "<style scoped>\n",
       "    .dataframe tbody tr th:only-of-type {\n",
       "        vertical-align: middle;\n",
       "    }\n",
       "\n",
       "    .dataframe tbody tr th {\n",
       "        vertical-align: top;\n",
       "    }\n",
       "\n",
       "    .dataframe thead th {\n",
       "        text-align: right;\n",
       "    }\n",
       "</style>\n",
       "<table border=\"1\" class=\"dataframe\">\n",
       "  <thead>\n",
       "    <tr style=\"text-align: right;\">\n",
       "      <th></th>\n",
       "      <th>name</th>\n",
       "      <th>rating</th>\n",
       "      <th>genre</th>\n",
       "      <th>year</th>\n",
       "      <th>released</th>\n",
       "      <th>score</th>\n",
       "      <th>votes</th>\n",
       "      <th>director</th>\n",
       "      <th>writer</th>\n",
       "      <th>star</th>\n",
       "      <th>country</th>\n",
       "      <th>budget</th>\n",
       "      <th>gross</th>\n",
       "      <th>company</th>\n",
       "      <th>runtime</th>\n",
       "      <th>log_gross</th>\n",
       "      <th>log_budget</th>\n",
       "    </tr>\n",
       "  </thead>\n",
       "  <tbody>\n",
       "    <tr>\n",
       "      <th>4269</th>\n",
       "      <td>Daredevil</td>\n",
       "      <td>PG-13</td>\n",
       "      <td>Action</td>\n",
       "      <td>2003</td>\n",
       "      <td>February 14, 2003 (United States)</td>\n",
       "      <td>5.3</td>\n",
       "      <td>209000.0</td>\n",
       "      <td>Mark Steven Johnson</td>\n",
       "      <td>Mark Steven Johnson</td>\n",
       "      <td>Ben Affleck</td>\n",
       "      <td>United States</td>\n",
       "      <td>78000000</td>\n",
       "      <td>179179718</td>\n",
       "      <td>Marvel Enterprises</td>\n",
       "      <td>103.0</td>\n",
       "      <td>8.253289</td>\n",
       "      <td>7.892095</td>\n",
       "    </tr>\n",
       "    <tr>\n",
       "      <th>6043</th>\n",
       "      <td>The Avengers</td>\n",
       "      <td>PG-13</td>\n",
       "      <td>Action</td>\n",
       "      <td>2012</td>\n",
       "      <td>May 4, 2012 (United States)</td>\n",
       "      <td>8.0</td>\n",
       "      <td>1300000.0</td>\n",
       "      <td>Joss Whedon</td>\n",
       "      <td>Joss Whedon</td>\n",
       "      <td>Robert Downey Jr.</td>\n",
       "      <td>United States</td>\n",
       "      <td>220000000</td>\n",
       "      <td>1518815515</td>\n",
       "      <td>Marvel Studios</td>\n",
       "      <td>143.0</td>\n",
       "      <td>9.181505</td>\n",
       "      <td>8.342423</td>\n",
       "    </tr>\n",
       "    <tr>\n",
       "      <th>6244</th>\n",
       "      <td>Iron Man 3</td>\n",
       "      <td>PG-13</td>\n",
       "      <td>Action</td>\n",
       "      <td>2013</td>\n",
       "      <td>May 3, 2013 (United States)</td>\n",
       "      <td>7.1</td>\n",
       "      <td>779000.0</td>\n",
       "      <td>Shane Black</td>\n",
       "      <td>Drew Pearce</td>\n",
       "      <td>Robert Downey Jr.</td>\n",
       "      <td>United States</td>\n",
       "      <td>200000000</td>\n",
       "      <td>1214811252</td>\n",
       "      <td>Marvel Studios</td>\n",
       "      <td>130.0</td>\n",
       "      <td>9.084509</td>\n",
       "      <td>8.301030</td>\n",
       "    </tr>\n",
       "    <tr>\n",
       "      <th>6247</th>\n",
       "      <td>Thor: The Dark World</td>\n",
       "      <td>PG-13</td>\n",
       "      <td>Action</td>\n",
       "      <td>2013</td>\n",
       "      <td>November 8, 2013 (United States)</td>\n",
       "      <td>6.8</td>\n",
       "      <td>618000.0</td>\n",
       "      <td>Alan Taylor</td>\n",
       "      <td>Christopher L. Yost</td>\n",
       "      <td>Chris Hemsworth</td>\n",
       "      <td>United States</td>\n",
       "      <td>170000000</td>\n",
       "      <td>644783140</td>\n",
       "      <td>Marvel Studios</td>\n",
       "      <td>112.0</td>\n",
       "      <td>8.809414</td>\n",
       "      <td>8.230449</td>\n",
       "    </tr>\n",
       "    <tr>\n",
       "      <th>6443</th>\n",
       "      <td>Guardians of the Galaxy</td>\n",
       "      <td>PG-13</td>\n",
       "      <td>Action</td>\n",
       "      <td>2014</td>\n",
       "      <td>August 1, 2014 (United States)</td>\n",
       "      <td>8.0</td>\n",
       "      <td>1100000.0</td>\n",
       "      <td>James Gunn</td>\n",
       "      <td>James Gunn</td>\n",
       "      <td>Chris Pratt</td>\n",
       "      <td>United States</td>\n",
       "      <td>170000000</td>\n",
       "      <td>773350147</td>\n",
       "      <td>Marvel Studios</td>\n",
       "      <td>121.0</td>\n",
       "      <td>8.888376</td>\n",
       "      <td>8.230449</td>\n",
       "    </tr>\n",
       "    <tr>\n",
       "      <th>6448</th>\n",
       "      <td>Captain America: The Winter Soldier</td>\n",
       "      <td>PG-13</td>\n",
       "      <td>Action</td>\n",
       "      <td>2014</td>\n",
       "      <td>April 4, 2014 (United States)</td>\n",
       "      <td>7.7</td>\n",
       "      <td>764000.0</td>\n",
       "      <td>Anthony Russo</td>\n",
       "      <td>Christopher Markus</td>\n",
       "      <td>Chris Evans</td>\n",
       "      <td>United States</td>\n",
       "      <td>170000000</td>\n",
       "      <td>714421503</td>\n",
       "      <td>Marvel Entertainment</td>\n",
       "      <td>136.0</td>\n",
       "      <td>8.853955</td>\n",
       "      <td>8.230449</td>\n",
       "    </tr>\n",
       "    <tr>\n",
       "      <th>6478</th>\n",
       "      <td>The Amazing Spider-Man 2</td>\n",
       "      <td>PG-13</td>\n",
       "      <td>Action</td>\n",
       "      <td>2014</td>\n",
       "      <td>May 2, 2014 (United States)</td>\n",
       "      <td>6.6</td>\n",
       "      <td>427000.0</td>\n",
       "      <td>Marc Webb</td>\n",
       "      <td>Alex Kurtzman</td>\n",
       "      <td>Andrew Garfield</td>\n",
       "      <td>United States</td>\n",
       "      <td>200000000</td>\n",
       "      <td>708982323</td>\n",
       "      <td>Marvel Enterprises</td>\n",
       "      <td>142.0</td>\n",
       "      <td>8.850635</td>\n",
       "      <td>8.301030</td>\n",
       "    </tr>\n",
       "    <tr>\n",
       "      <th>6644</th>\n",
       "      <td>Avengers: Age of Ultron</td>\n",
       "      <td>PG-13</td>\n",
       "      <td>Action</td>\n",
       "      <td>2015</td>\n",
       "      <td>May 1, 2015 (United States)</td>\n",
       "      <td>7.3</td>\n",
       "      <td>777000.0</td>\n",
       "      <td>Joss Whedon</td>\n",
       "      <td>Joss Whedon</td>\n",
       "      <td>Robert Downey Jr.</td>\n",
       "      <td>United States</td>\n",
       "      <td>250000000</td>\n",
       "      <td>1402809540</td>\n",
       "      <td>Marvel Studios</td>\n",
       "      <td>141.0</td>\n",
       "      <td>9.146999</td>\n",
       "      <td>8.397940</td>\n",
       "    </tr>\n",
       "    <tr>\n",
       "      <th>6846</th>\n",
       "      <td>Captain America: Civil War</td>\n",
       "      <td>PG-13</td>\n",
       "      <td>Action</td>\n",
       "      <td>2016</td>\n",
       "      <td>May 6, 2016 (United States)</td>\n",
       "      <td>7.8</td>\n",
       "      <td>694000.0</td>\n",
       "      <td>Anthony Russo</td>\n",
       "      <td>Christopher Markus</td>\n",
       "      <td>Chris Evans</td>\n",
       "      <td>United States</td>\n",
       "      <td>250000000</td>\n",
       "      <td>1153337496</td>\n",
       "      <td>Marvel Studios</td>\n",
       "      <td>147.0</td>\n",
       "      <td>9.061956</td>\n",
       "      <td>8.397940</td>\n",
       "    </tr>\n",
       "    <tr>\n",
       "      <th>6849</th>\n",
       "      <td>Doctor Strange</td>\n",
       "      <td>PG-13</td>\n",
       "      <td>Action</td>\n",
       "      <td>2016</td>\n",
       "      <td>November 4, 2016 (United States)</td>\n",
       "      <td>7.5</td>\n",
       "      <td>628000.0</td>\n",
       "      <td>Scott Derrickson</td>\n",
       "      <td>Jon Spaihts</td>\n",
       "      <td>Benedict Cumberbatch</td>\n",
       "      <td>United States</td>\n",
       "      <td>165000000</td>\n",
       "      <td>677796076</td>\n",
       "      <td>Marvel Studios</td>\n",
       "      <td>115.0</td>\n",
       "      <td>8.831099</td>\n",
       "      <td>8.217484</td>\n",
       "    </tr>\n",
       "  </tbody>\n",
       "</table>\n",
       "</div>"
      ],
      "text/plain": [
       "                                     name rating   genre  year  \\\n",
       "4269                            Daredevil  PG-13  Action  2003   \n",
       "6043                         The Avengers  PG-13  Action  2012   \n",
       "6244                           Iron Man 3  PG-13  Action  2013   \n",
       "6247                 Thor: The Dark World  PG-13  Action  2013   \n",
       "6443              Guardians of the Galaxy  PG-13  Action  2014   \n",
       "6448  Captain America: The Winter Soldier  PG-13  Action  2014   \n",
       "6478             The Amazing Spider-Man 2  PG-13  Action  2014   \n",
       "6644              Avengers: Age of Ultron  PG-13  Action  2015   \n",
       "6846           Captain America: Civil War  PG-13  Action  2016   \n",
       "6849                       Doctor Strange  PG-13  Action  2016   \n",
       "\n",
       "                               released  score      votes  \\\n",
       "4269  February 14, 2003 (United States)    5.3   209000.0   \n",
       "6043        May 4, 2012 (United States)    8.0  1300000.0   \n",
       "6244        May 3, 2013 (United States)    7.1   779000.0   \n",
       "6247   November 8, 2013 (United States)    6.8   618000.0   \n",
       "6443     August 1, 2014 (United States)    8.0  1100000.0   \n",
       "6448      April 4, 2014 (United States)    7.7   764000.0   \n",
       "6478        May 2, 2014 (United States)    6.6   427000.0   \n",
       "6644        May 1, 2015 (United States)    7.3   777000.0   \n",
       "6846        May 6, 2016 (United States)    7.8   694000.0   \n",
       "6849   November 4, 2016 (United States)    7.5   628000.0   \n",
       "\n",
       "                 director               writer                  star  \\\n",
       "4269  Mark Steven Johnson  Mark Steven Johnson           Ben Affleck   \n",
       "6043          Joss Whedon          Joss Whedon     Robert Downey Jr.   \n",
       "6244          Shane Black          Drew Pearce     Robert Downey Jr.   \n",
       "6247          Alan Taylor  Christopher L. Yost       Chris Hemsworth   \n",
       "6443           James Gunn           James Gunn           Chris Pratt   \n",
       "6448        Anthony Russo   Christopher Markus           Chris Evans   \n",
       "6478            Marc Webb        Alex Kurtzman       Andrew Garfield   \n",
       "6644          Joss Whedon          Joss Whedon     Robert Downey Jr.   \n",
       "6846        Anthony Russo   Christopher Markus           Chris Evans   \n",
       "6849     Scott Derrickson          Jon Spaihts  Benedict Cumberbatch   \n",
       "\n",
       "            country     budget       gross               company  runtime  \\\n",
       "4269  United States   78000000   179179718    Marvel Enterprises    103.0   \n",
       "6043  United States  220000000  1518815515        Marvel Studios    143.0   \n",
       "6244  United States  200000000  1214811252        Marvel Studios    130.0   \n",
       "6247  United States  170000000   644783140        Marvel Studios    112.0   \n",
       "6443  United States  170000000   773350147        Marvel Studios    121.0   \n",
       "6448  United States  170000000   714421503  Marvel Entertainment    136.0   \n",
       "6478  United States  200000000   708982323    Marvel Enterprises    142.0   \n",
       "6644  United States  250000000  1402809540        Marvel Studios    141.0   \n",
       "6846  United States  250000000  1153337496        Marvel Studios    147.0   \n",
       "6849  United States  165000000   677796076        Marvel Studios    115.0   \n",
       "\n",
       "      log_gross  log_budget  \n",
       "4269   8.253289    7.892095  \n",
       "6043   9.181505    8.342423  \n",
       "6244   9.084509    8.301030  \n",
       "6247   8.809414    8.230449  \n",
       "6443   8.888376    8.230449  \n",
       "6448   8.853955    8.230449  \n",
       "6478   8.850635    8.301030  \n",
       "6644   9.146999    8.397940  \n",
       "6846   9.061956    8.397940  \n",
       "6849   8.831099    8.217484  "
      ]
     },
     "execution_count": 47,
     "metadata": {},
     "output_type": "execute_result"
    }
   ],
   "source": [
    "new2.head(10)"
   ]
  },
  {
   "cell_type": "code",
   "execution_count": 48,
   "id": "eb758a2c",
   "metadata": {},
   "outputs": [
    {
     "name": "stderr",
     "output_type": "stream",
     "text": [
      "C:\\Users\\Jayd\\AppData\\Local\\Temp/ipykernel_1100/1320917887.py:1: FutureWarning: Dropping of nuisance columns in DataFrame reductions (with 'numeric_only=None') is deprecated; in a future version this will raise TypeError.  Select only valid columns before calling the reduction.\n",
      "  new2.mean()\n"
     ]
    },
    {
     "data": {
      "text/plain": [
       "year          2.014667e+03\n",
       "score         7.386667e+00\n",
       "votes         7.124000e+05\n",
       "budget        2.074667e+08\n",
       "gross         1.111212e+09\n",
       "runtime       1.338667e+02\n",
       "log_gross     8.972008e+00\n",
       "log_budget    8.294055e+00\n",
       "dtype: float64"
      ]
     },
     "execution_count": 48,
     "metadata": {},
     "output_type": "execute_result"
    }
   ],
   "source": [
    "new2.mean()"
   ]
  },
  {
   "cell_type": "code",
   "execution_count": 49,
   "id": "9e6ba021",
   "metadata": {},
   "outputs": [],
   "source": [
    "dare=new2[new2['name']=='Daredevil']"
   ]
  },
  {
   "cell_type": "code",
   "execution_count": 50,
   "id": "13078770",
   "metadata": {},
   "outputs": [
    {
     "name": "stdout",
     "output_type": "stream",
     "text": [
      "2.2971758717948716\n"
     ]
    }
   ],
   "source": [
    "bud=dare['budget'].mean()\n",
    "gro=dare['gross'].mean()\n",
    "com_suc=gro/bud\n",
    "print(com_suc)"
   ]
  },
  {
   "cell_type": "code",
   "execution_count": 51,
   "id": "725c5a1a",
   "metadata": {},
   "outputs": [
    {
     "name": "stdout",
     "output_type": "stream",
     "text": [
      "14.246304235042734\n"
     ]
    }
   ],
   "source": [
    "bud2=new2['budget'].mean()\n",
    "gro=new2['gross'].mean()\n",
    "com_suc=gro/bud\n",
    "print(com_suc)\n"
   ]
  },
  {
   "cell_type": "code",
   "execution_count": 52,
   "id": "a5ab0ff4",
   "metadata": {},
   "outputs": [],
   "source": [
    "# Question 6"
   ]
  },
  {
   "cell_type": "code",
   "execution_count": 53,
   "id": "1e63496b",
   "metadata": {},
   "outputs": [],
   "source": [
    "import statsmodels.api as sm\n"
   ]
  },
  {
   "cell_type": "code",
   "execution_count": 54,
   "id": "8a619d7f",
   "metadata": {},
   "outputs": [],
   "source": [
    "X = movie_df[[\"log_budget\",\"votes\",\"score\"]]\n",
    "y = movie_df[\"log_gross\"]"
   ]
  },
  {
   "cell_type": "code",
   "execution_count": 55,
   "id": "a04cd11e",
   "metadata": {},
   "outputs": [
    {
     "data": {
      "text/html": [
       "<table class=\"simpletable\">\n",
       "<caption>OLS Regression Results</caption>\n",
       "<tr>\n",
       "  <th>Dep. Variable:</th>        <td>log_gross</td>    <th>  R-squared (uncentered):</th>      <td>   0.994</td> \n",
       "</tr>\n",
       "<tr>\n",
       "  <th>Model:</th>                   <td>OLS</td>       <th>  Adj. R-squared (uncentered):</th> <td>   0.994</td> \n",
       "</tr>\n",
       "<tr>\n",
       "  <th>Method:</th>             <td>Least Squares</td>  <th>  F-statistic:       </th>          <td>3.068e+05</td>\n",
       "</tr>\n",
       "<tr>\n",
       "  <th>Date:</th>             <td>Mon, 02 May 2022</td> <th>  Prob (F-statistic):</th>           <td>  0.00</td>  \n",
       "</tr>\n",
       "<tr>\n",
       "  <th>Time:</th>                 <td>12:33:19</td>     <th>  Log-Likelihood:    </th>          <td> -4713.0</td> \n",
       "</tr>\n",
       "<tr>\n",
       "  <th>No. Observations:</th>      <td>  5436</td>      <th>  AIC:               </th>          <td>   9432.</td> \n",
       "</tr>\n",
       "<tr>\n",
       "  <th>Df Residuals:</th>          <td>  5433</td>      <th>  BIC:               </th>          <td>   9452.</td> \n",
       "</tr>\n",
       "<tr>\n",
       "  <th>Df Model:</th>              <td>     3</td>      <th>                     </th>              <td> </td>    \n",
       "</tr>\n",
       "<tr>\n",
       "  <th>Covariance Type:</th>      <td>nonrobust</td>    <th>                     </th>              <td> </td>    \n",
       "</tr>\n",
       "</table>\n",
       "<table class=\"simpletable\">\n",
       "<tr>\n",
       "       <td></td>         <th>coef</th>     <th>std err</th>      <th>t</th>      <th>P>|t|</th>  <th>[0.025</th>    <th>0.975]</th>  \n",
       "</tr>\n",
       "<tr>\n",
       "  <th>log_budget</th> <td>    0.9330</td> <td>    0.007</td> <td>  142.845</td> <td> 0.000</td> <td>    0.920</td> <td>    0.946</td>\n",
       "</tr>\n",
       "<tr>\n",
       "  <th>votes</th>      <td> 1.072e-06</td> <td> 4.51e-08</td> <td>   23.742</td> <td> 0.000</td> <td> 9.83e-07</td> <td> 1.16e-06</td>\n",
       "</tr>\n",
       "<tr>\n",
       "  <th>score</th>      <td>    0.0854</td> <td>    0.008</td> <td>   11.238</td> <td> 0.000</td> <td>    0.070</td> <td>    0.100</td>\n",
       "</tr>\n",
       "</table>\n",
       "<table class=\"simpletable\">\n",
       "<tr>\n",
       "  <th>Omnibus:</th>       <td>1219.963</td> <th>  Durbin-Watson:     </th> <td>   1.696</td>\n",
       "</tr>\n",
       "<tr>\n",
       "  <th>Prob(Omnibus):</th>  <td> 0.000</td>  <th>  Jarque-Bera (JB):  </th> <td>5601.024</td>\n",
       "</tr>\n",
       "<tr>\n",
       "  <th>Skew:</th>           <td>-1.017</td>  <th>  Prob(JB):          </th> <td>    0.00</td>\n",
       "</tr>\n",
       "<tr>\n",
       "  <th>Kurtosis:</th>       <td> 7.538</td>  <th>  Cond. No.          </th> <td>2.77e+05</td>\n",
       "</tr>\n",
       "</table><br/><br/>Notes:<br/>[1] R² is computed without centering (uncentered) since the model does not contain a constant.<br/>[2] Standard Errors assume that the covariance matrix of the errors is correctly specified.<br/>[3] The condition number is large, 2.77e+05. This might indicate that there are<br/>strong multicollinearity or other numerical problems."
      ],
      "text/plain": [
       "<class 'statsmodels.iolib.summary.Summary'>\n",
       "\"\"\"\n",
       "                                 OLS Regression Results                                \n",
       "=======================================================================================\n",
       "Dep. Variable:              log_gross   R-squared (uncentered):                   0.994\n",
       "Model:                            OLS   Adj. R-squared (uncentered):              0.994\n",
       "Method:                 Least Squares   F-statistic:                          3.068e+05\n",
       "Date:                Mon, 02 May 2022   Prob (F-statistic):                        0.00\n",
       "Time:                        12:33:19   Log-Likelihood:                         -4713.0\n",
       "No. Observations:                5436   AIC:                                      9432.\n",
       "Df Residuals:                    5433   BIC:                                      9452.\n",
       "Df Model:                           3                                                  \n",
       "Covariance Type:            nonrobust                                                  \n",
       "==============================================================================\n",
       "                 coef    std err          t      P>|t|      [0.025      0.975]\n",
       "------------------------------------------------------------------------------\n",
       "log_budget     0.9330      0.007    142.845      0.000       0.920       0.946\n",
       "votes       1.072e-06   4.51e-08     23.742      0.000    9.83e-07    1.16e-06\n",
       "score          0.0854      0.008     11.238      0.000       0.070       0.100\n",
       "==============================================================================\n",
       "Omnibus:                     1219.963   Durbin-Watson:                   1.696\n",
       "Prob(Omnibus):                  0.000   Jarque-Bera (JB):             5601.024\n",
       "Skew:                          -1.017   Prob(JB):                         0.00\n",
       "Kurtosis:                       7.538   Cond. No.                     2.77e+05\n",
       "==============================================================================\n",
       "\n",
       "Notes:\n",
       "[1] R² is computed without centering (uncentered) since the model does not contain a constant.\n",
       "[2] Standard Errors assume that the covariance matrix of the errors is correctly specified.\n",
       "[3] The condition number is large, 2.77e+05. This might indicate that there are\n",
       "strong multicollinearity or other numerical problems.\n",
       "\"\"\""
      ]
     },
     "execution_count": 55,
     "metadata": {},
     "output_type": "execute_result"
    }
   ],
   "source": [
    "model = sm.OLS(y, X).fit()\n",
    "predictions = model.predict(X)\n",
    "model.summary()"
   ]
  },
  {
   "cell_type": "markdown",
   "id": "9d05c599",
   "metadata": {},
   "source": [
    "# Time Series Analysis "
   ]
  },
  {
   "cell_type": "code",
   "execution_count": 57,
   "id": "18e0bfdf",
   "metadata": {},
   "outputs": [],
   "source": [
    "new3 = movie_df.sort_values(by=['genre','released'])"
   ]
  },
  {
   "cell_type": "code",
   "execution_count": 58,
   "id": "43819923",
   "metadata": {},
   "outputs": [
    {
     "data": {
      "text/html": [
       "<div>\n",
       "<style scoped>\n",
       "    .dataframe tbody tr th:only-of-type {\n",
       "        vertical-align: middle;\n",
       "    }\n",
       "\n",
       "    .dataframe tbody tr th {\n",
       "        vertical-align: top;\n",
       "    }\n",
       "\n",
       "    .dataframe thead th {\n",
       "        text-align: right;\n",
       "    }\n",
       "</style>\n",
       "<table border=\"1\" class=\"dataframe\">\n",
       "  <thead>\n",
       "    <tr style=\"text-align: right;\">\n",
       "      <th></th>\n",
       "      <th>year</th>\n",
       "      <th>score</th>\n",
       "      <th>votes</th>\n",
       "      <th>budget</th>\n",
       "      <th>gross</th>\n",
       "      <th>runtime</th>\n",
       "      <th>log_gross</th>\n",
       "      <th>log_budget</th>\n",
       "    </tr>\n",
       "  </thead>\n",
       "  <tbody>\n",
       "    <tr>\n",
       "      <th>count</th>\n",
       "      <td>5436.000000</td>\n",
       "      <td>5436.000000</td>\n",
       "      <td>5.436000e+03</td>\n",
       "      <td>5.436000e+03</td>\n",
       "      <td>5.436000e+03</td>\n",
       "      <td>5435.000000</td>\n",
       "      <td>5436.000000</td>\n",
       "      <td>5436.000000</td>\n",
       "    </tr>\n",
       "    <tr>\n",
       "      <th>mean</th>\n",
       "      <td>2001.651582</td>\n",
       "      <td>6.392642</td>\n",
       "      <td>1.149110e+05</td>\n",
       "      <td>3.593864e+07</td>\n",
       "      <td>1.030045e+08</td>\n",
       "      <td>108.156394</td>\n",
       "      <td>7.471350</td>\n",
       "      <td>7.287546</td>\n",
       "    </tr>\n",
       "    <tr>\n",
       "      <th>std</th>\n",
       "      <td>10.541791</td>\n",
       "      <td>0.963200</td>\n",
       "      <td>1.842255e+05</td>\n",
       "      <td>4.154770e+07</td>\n",
       "      <td>1.871051e+08</td>\n",
       "      <td>18.121401</td>\n",
       "      <td>0.824394</td>\n",
       "      <td>0.553949</td>\n",
       "    </tr>\n",
       "    <tr>\n",
       "      <th>min</th>\n",
       "      <td>1980.000000</td>\n",
       "      <td>1.900000</td>\n",
       "      <td>1.950000e+02</td>\n",
       "      <td>6.000000e+03</td>\n",
       "      <td>3.090000e+02</td>\n",
       "      <td>63.000000</td>\n",
       "      <td>2.491362</td>\n",
       "      <td>3.778224</td>\n",
       "    </tr>\n",
       "    <tr>\n",
       "      <th>25%</th>\n",
       "      <td>1993.000000</td>\n",
       "      <td>5.800000</td>\n",
       "      <td>1.900000e+04</td>\n",
       "      <td>1.000000e+07</td>\n",
       "      <td>1.067412e+07</td>\n",
       "      <td>95.000000</td>\n",
       "      <td>7.028332</td>\n",
       "      <td>7.000000</td>\n",
       "    </tr>\n",
       "    <tr>\n",
       "      <th>50%</th>\n",
       "      <td>2002.000000</td>\n",
       "      <td>6.500000</td>\n",
       "      <td>5.200000e+04</td>\n",
       "      <td>2.100000e+07</td>\n",
       "      <td>3.671199e+07</td>\n",
       "      <td>105.000000</td>\n",
       "      <td>7.564808</td>\n",
       "      <td>7.322219</td>\n",
       "    </tr>\n",
       "    <tr>\n",
       "      <th>75%</th>\n",
       "      <td>2011.000000</td>\n",
       "      <td>7.100000</td>\n",
       "      <td>1.290000e+05</td>\n",
       "      <td>4.500000e+07</td>\n",
       "      <td>1.119478e+08</td>\n",
       "      <td>118.000000</td>\n",
       "      <td>8.049016</td>\n",
       "      <td>7.653213</td>\n",
       "    </tr>\n",
       "    <tr>\n",
       "      <th>max</th>\n",
       "      <td>2020.000000</td>\n",
       "      <td>9.300000</td>\n",
       "      <td>2.400000e+06</td>\n",
       "      <td>3.560000e+08</td>\n",
       "      <td>2.847246e+09</td>\n",
       "      <td>271.000000</td>\n",
       "      <td>9.454425</td>\n",
       "      <td>8.551450</td>\n",
       "    </tr>\n",
       "  </tbody>\n",
       "</table>\n",
       "</div>"
      ],
      "text/plain": [
       "              year        score         votes        budget         gross  \\\n",
       "count  5436.000000  5436.000000  5.436000e+03  5.436000e+03  5.436000e+03   \n",
       "mean   2001.651582     6.392642  1.149110e+05  3.593864e+07  1.030045e+08   \n",
       "std      10.541791     0.963200  1.842255e+05  4.154770e+07  1.871051e+08   \n",
       "min    1980.000000     1.900000  1.950000e+02  6.000000e+03  3.090000e+02   \n",
       "25%    1993.000000     5.800000  1.900000e+04  1.000000e+07  1.067412e+07   \n",
       "50%    2002.000000     6.500000  5.200000e+04  2.100000e+07  3.671199e+07   \n",
       "75%    2011.000000     7.100000  1.290000e+05  4.500000e+07  1.119478e+08   \n",
       "max    2020.000000     9.300000  2.400000e+06  3.560000e+08  2.847246e+09   \n",
       "\n",
       "           runtime    log_gross   log_budget  \n",
       "count  5435.000000  5436.000000  5436.000000  \n",
       "mean    108.156394     7.471350     7.287546  \n",
       "std      18.121401     0.824394     0.553949  \n",
       "min      63.000000     2.491362     3.778224  \n",
       "25%      95.000000     7.028332     7.000000  \n",
       "50%     105.000000     7.564808     7.322219  \n",
       "75%     118.000000     8.049016     7.653213  \n",
       "max     271.000000     9.454425     8.551450  "
      ]
     },
     "execution_count": 58,
     "metadata": {},
     "output_type": "execute_result"
    }
   ],
   "source": [
    "new3.describe()"
   ]
  },
  {
   "cell_type": "code",
   "execution_count": 60,
   "id": "c63a6772",
   "metadata": {},
   "outputs": [],
   "source": [
    "forecast_df=new3.groupby(\"year\").agg(score_sum=pd.NamedAgg(column=\"score\", aggfunc=\"sum\"),votes_sum=pd.NamedAgg(column=\"votes\", aggfunc=\"sum\"),budget_sum=pd.NamedAgg(column=\"budget\", aggfunc=\"sum\"),gross_sum=pd.NamedAgg(column=\"gross\", aggfunc=\"sum\")).reset_index()"
   ]
  },
  {
   "cell_type": "code",
   "execution_count": 61,
   "id": "207dad97",
   "metadata": {},
   "outputs": [
    {
     "data": {
      "text/html": [
       "<div>\n",
       "<style scoped>\n",
       "    .dataframe tbody tr th:only-of-type {\n",
       "        vertical-align: middle;\n",
       "    }\n",
       "\n",
       "    .dataframe tbody tr th {\n",
       "        vertical-align: top;\n",
       "    }\n",
       "\n",
       "    .dataframe thead th {\n",
       "        text-align: right;\n",
       "    }\n",
       "</style>\n",
       "<table border=\"1\" class=\"dataframe\">\n",
       "  <thead>\n",
       "    <tr style=\"text-align: right;\">\n",
       "      <th></th>\n",
       "      <th>year</th>\n",
       "      <th>score_sum</th>\n",
       "      <th>votes_sum</th>\n",
       "      <th>budget_sum</th>\n",
       "      <th>gross_sum</th>\n",
       "    </tr>\n",
       "  </thead>\n",
       "  <tbody>\n",
       "    <tr>\n",
       "      <th>0</th>\n",
       "      <td>1980</td>\n",
       "      <td>260.4</td>\n",
       "      <td>3795865.0</td>\n",
       "      <td>462650000</td>\n",
       "      <td>1771678547</td>\n",
       "    </tr>\n",
       "    <tr>\n",
       "      <th>1</th>\n",
       "      <td>1981</td>\n",
       "      <td>398.7</td>\n",
       "      <td>2699432.0</td>\n",
       "      <td>692900000</td>\n",
       "      <td>1838757418</td>\n",
       "    </tr>\n",
       "    <tr>\n",
       "      <th>2</th>\n",
       "      <td>1982</td>\n",
       "      <td>460.3</td>\n",
       "      <td>3999721.0</td>\n",
       "      <td>835475000</td>\n",
       "      <td>2701119069</td>\n",
       "    </tr>\n",
       "    <tr>\n",
       "      <th>3</th>\n",
       "      <td>1983</td>\n",
       "      <td>503.6</td>\n",
       "      <td>3714135.0</td>\n",
       "      <td>887699000</td>\n",
       "      <td>2321449113</td>\n",
       "    </tr>\n",
       "    <tr>\n",
       "      <th>4</th>\n",
       "      <td>1984</td>\n",
       "      <td>577.3</td>\n",
       "      <td>5514764.0</td>\n",
       "      <td>1110826000</td>\n",
       "      <td>3000742994</td>\n",
       "    </tr>\n",
       "  </tbody>\n",
       "</table>\n",
       "</div>"
      ],
      "text/plain": [
       "   year  score_sum  votes_sum  budget_sum   gross_sum\n",
       "0  1980      260.4  3795865.0   462650000  1771678547\n",
       "1  1981      398.7  2699432.0   692900000  1838757418\n",
       "2  1982      460.3  3999721.0   835475000  2701119069\n",
       "3  1983      503.6  3714135.0   887699000  2321449113\n",
       "4  1984      577.3  5514764.0  1110826000  3000742994"
      ]
     },
     "execution_count": 61,
     "metadata": {},
     "output_type": "execute_result"
    }
   ],
   "source": [
    "forecast_df.head()"
   ]
  },
  {
   "cell_type": "code",
   "execution_count": 62,
   "id": "14595838",
   "metadata": {},
   "outputs": [],
   "source": [
    "from sklearn.linear_model import LinearRegresion"
   ]
  },
  {
   "cell_type": "code",
   "execution_count": 64,
   "id": "392d1c15",
   "metadata": {},
   "outputs": [],
   "source": [
    "train =forecast_df[forecast_df['year']< 2020]\n",
    "test =forecast_df[forecast_df['year']== 2020]"
   ]
  },
  {
   "cell_type": "code",
   "execution_count": 65,
   "id": "145026dc",
   "metadata": {},
   "outputs": [],
   "source": [
    "X = train[['year']]\n",
    "y = train['gross_sum']"
   ]
  },
  {
   "cell_type": "code",
   "execution_count": 67,
   "id": "d4b51a26",
   "metadata": {},
   "outputs": [
    {
     "name": "stdout",
     "output_type": "stream",
     "text": [
      "alpha = -1523494693834.0898\n",
      "beta = [7.68910316e+08]\n"
     ]
    }
   ],
   "source": [
    "lm = LinearRegression()\n",
    "model = lm.fit(X, y)\n",
    "print(f'alpha = {model.intercept_}')\n",
    "print(f'beta = {model.coef_}')"
   ]
  },
  {
   "cell_type": "code",
   "execution_count": 75,
   "id": "4a61549f",
   "metadata": {},
   "outputs": [
    {
     "name": "stdout",
     "output_type": "stream",
     "text": [
      "[2.97041448e+10]\n"
     ]
    }
   ],
   "source": [
    "X =[[2020]]\n",
    "pred_val= model.predict(X)\n",
    "print(pred_val)"
   ]
  },
  {
   "cell_type": "code",
   "execution_count": 76,
   "id": "d9d17cf9",
   "metadata": {},
   "outputs": [
    {
     "name": "stdout",
     "output_type": "stream",
     "text": [
      "40    2272901821\n",
      "Name: gross_sum, dtype: int64\n"
     ]
    }
   ],
   "source": [
    "true_val=test['gross_sum']\n",
    "print(true_val)"
   ]
  },
  {
   "cell_type": "code",
   "execution_count": 73,
   "id": "b610ebf9",
   "metadata": {},
   "outputs": [],
   "source": [
    "loss= pred_val-true_val"
   ]
  },
  {
   "cell_type": "code",
   "execution_count": 74,
   "id": "cd6bc12a",
   "metadata": {},
   "outputs": [
    {
     "name": "stdout",
     "output_type": "stream",
     "text": [
      "40    2.743124e+10\n",
      "Name: gross_sum, dtype: float64\n"
     ]
    }
   ],
   "source": [
    "print(loss)"
   ]
  },
  {
   "cell_type": "code",
   "execution_count": null,
   "id": "95bfcc9d",
   "metadata": {},
   "outputs": [],
   "source": []
  }
 ],
 "metadata": {
  "kernelspec": {
   "display_name": "Python 3 (ipykernel)",
   "language": "python",
   "name": "python3"
  },
  "language_info": {
   "codemirror_mode": {
    "name": "ipython",
    "version": 3
   },
   "file_extension": ".py",
   "mimetype": "text/x-python",
   "name": "python",
   "nbconvert_exporter": "python",
   "pygments_lexer": "ipython3",
   "version": "3.9.7"
  }
 },
 "nbformat": 4,
 "nbformat_minor": 5
}
