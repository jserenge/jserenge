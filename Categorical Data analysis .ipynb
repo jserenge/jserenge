{
 "cells": [
  {
   "cell_type": "code",
   "execution_count": 1,
   "id": "2e78fe2a",
   "metadata": {},
   "outputs": [
    {
     "name": "stdout",
     "output_type": "stream",
     "text": [
      "Requirement already satisfied: spacy in c:\\users\\hp\\anaconda3\\lib\\site-packages (3.5.2)\n",
      "Requirement already satisfied: setuptools in c:\\users\\hp\\anaconda3\\lib\\site-packages (from spacy) (65.6.3)\n",
      "Requirement already satisfied: murmurhash<1.1.0,>=0.28.0 in c:\\users\\hp\\anaconda3\\lib\\site-packages (from spacy) (1.0.9)\n",
      "Requirement already satisfied: tqdm<5.0.0,>=4.38.0 in c:\\users\\hp\\anaconda3\\lib\\site-packages (from spacy) (4.64.1)\n",
      "Requirement already satisfied: thinc<8.2.0,>=8.1.8 in c:\\users\\hp\\anaconda3\\lib\\site-packages (from spacy) (8.1.9)\n",
      "Requirement already satisfied: srsly<3.0.0,>=2.4.3 in c:\\users\\hp\\anaconda3\\lib\\site-packages (from spacy) (2.4.6)\n",
      "Requirement already satisfied: packaging>=20.0 in c:\\users\\hp\\anaconda3\\lib\\site-packages (from spacy) (22.0)\n",
      "Requirement already satisfied: smart-open<7.0.0,>=5.2.1 in c:\\users\\hp\\anaconda3\\lib\\site-packages (from spacy) (5.2.1)\n",
      "Requirement already satisfied: typer<0.8.0,>=0.3.0 in c:\\users\\hp\\anaconda3\\lib\\site-packages (from spacy) (0.7.0)\n",
      "Requirement already satisfied: spacy-loggers<2.0.0,>=1.0.0 in c:\\users\\hp\\anaconda3\\lib\\site-packages (from spacy) (1.0.4)\n",
      "Requirement already satisfied: pydantic!=1.8,!=1.8.1,<1.11.0,>=1.7.4 in c:\\users\\hp\\anaconda3\\lib\\site-packages (from spacy) (1.10.7)\n",
      "Requirement already satisfied: langcodes<4.0.0,>=3.2.0 in c:\\users\\hp\\anaconda3\\lib\\site-packages (from spacy) (3.3.0)\n",
      "Requirement already satisfied: numpy>=1.15.0 in c:\\users\\hp\\anaconda3\\lib\\site-packages (from spacy) (1.23.5)\n",
      "Requirement already satisfied: catalogue<2.1.0,>=2.0.6 in c:\\users\\hp\\anaconda3\\lib\\site-packages (from spacy) (2.0.8)\n",
      "Requirement already satisfied: pathy>=0.10.0 in c:\\users\\hp\\anaconda3\\lib\\site-packages (from spacy) (0.10.1)\n",
      "Requirement already satisfied: spacy-legacy<3.1.0,>=3.0.11 in c:\\users\\hp\\anaconda3\\lib\\site-packages (from spacy) (3.0.12)\n",
      "Requirement already satisfied: wasabi<1.2.0,>=0.9.1 in c:\\users\\hp\\anaconda3\\lib\\site-packages (from spacy) (1.1.1)\n",
      "Requirement already satisfied: requests<3.0.0,>=2.13.0 in c:\\users\\hp\\anaconda3\\lib\\site-packages (from spacy) (2.28.1)\n",
      "Requirement already satisfied: jinja2 in c:\\users\\hp\\anaconda3\\lib\\site-packages (from spacy) (3.1.2)\n",
      "Requirement already satisfied: cymem<2.1.0,>=2.0.2 in c:\\users\\hp\\anaconda3\\lib\\site-packages (from spacy) (2.0.7)\n",
      "Requirement already satisfied: preshed<3.1.0,>=3.0.2 in c:\\users\\hp\\anaconda3\\lib\\site-packages (from spacy) (3.0.8)\n",
      "Requirement already satisfied: typing-extensions>=4.2.0 in c:\\users\\hp\\anaconda3\\lib\\site-packages (from pydantic!=1.8,!=1.8.1,<1.11.0,>=1.7.4->spacy) (4.4.0)\n",
      "Requirement already satisfied: urllib3<1.27,>=1.21.1 in c:\\users\\hp\\anaconda3\\lib\\site-packages (from requests<3.0.0,>=2.13.0->spacy) (1.26.14)\n",
      "Requirement already satisfied: charset-normalizer<3,>=2 in c:\\users\\hp\\anaconda3\\lib\\site-packages (from requests<3.0.0,>=2.13.0->spacy) (2.0.4)\n",
      "Requirement already satisfied: idna<4,>=2.5 in c:\\users\\hp\\anaconda3\\lib\\site-packages (from requests<3.0.0,>=2.13.0->spacy) (3.4)\n",
      "Requirement already satisfied: certifi>=2017.4.17 in c:\\users\\hp\\anaconda3\\lib\\site-packages (from requests<3.0.0,>=2.13.0->spacy) (2022.12.7)\n",
      "Requirement already satisfied: blis<0.8.0,>=0.7.8 in c:\\users\\hp\\anaconda3\\lib\\site-packages (from thinc<8.2.0,>=8.1.8->spacy) (0.7.9)\n",
      "Requirement already satisfied: confection<1.0.0,>=0.0.1 in c:\\users\\hp\\anaconda3\\lib\\site-packages (from thinc<8.2.0,>=8.1.8->spacy) (0.0.4)\n",
      "Requirement already satisfied: colorama in c:\\users\\hp\\anaconda3\\lib\\site-packages (from tqdm<5.0.0,>=4.38.0->spacy) (0.4.6)\n",
      "Requirement already satisfied: click<9.0.0,>=7.1.1 in c:\\users\\hp\\anaconda3\\lib\\site-packages (from typer<0.8.0,>=0.3.0->spacy) (8.0.4)\n",
      "Requirement already satisfied: MarkupSafe>=2.0 in c:\\users\\hp\\anaconda3\\lib\\site-packages (from jinja2->spacy) (2.1.1)\n",
      "Note: you may need to restart the kernel to use updated packages.\n"
     ]
    }
   ],
   "source": [
    "pip install spacy "
   ]
  },
  {
   "cell_type": "code",
   "execution_count": 2,
   "id": "fe4fb367",
   "metadata": {},
   "outputs": [],
   "source": [
    "import spacy\n"
   ]
  },
  {
   "cell_type": "code",
   "execution_count": 3,
   "id": "01cef619",
   "metadata": {},
   "outputs": [],
   "source": [
    "nlp = spacy.load(\"en_core_web_lg\")"
   ]
  },
  {
   "cell_type": "code",
   "execution_count": 4,
   "id": "820c975c",
   "metadata": {},
   "outputs": [],
   "source": [
    "import pandas as pd \n",
    "import numpy as np \n",
    "import matplotlib.pyplot as plt \n",
    "import seaborn as sns "
   ]
  },
  {
   "cell_type": "markdown",
   "id": "eb7e731e",
   "metadata": {},
   "source": [
    "# 1. Importing the data "
   ]
  },
  {
   "cell_type": "code",
   "execution_count": 2,
   "id": "af15884b",
   "metadata": {},
   "outputs": [],
   "source": [
    "data=pd.read_csv(\"test.csv\")"
   ]
  },
  {
   "cell_type": "code",
   "execution_count": 3,
   "id": "2cb4fdff",
   "metadata": {},
   "outputs": [
    {
     "data": {
      "text/html": [
       "<div>\n",
       "<style scoped>\n",
       "    .dataframe tbody tr th:only-of-type {\n",
       "        vertical-align: middle;\n",
       "    }\n",
       "\n",
       "    .dataframe tbody tr th {\n",
       "        vertical-align: top;\n",
       "    }\n",
       "\n",
       "    .dataframe thead th {\n",
       "        text-align: right;\n",
       "    }\n",
       "</style>\n",
       "<table border=\"1\" class=\"dataframe\">\n",
       "  <thead>\n",
       "    <tr style=\"text-align: right;\">\n",
       "      <th></th>\n",
       "      <th>Id</th>\n",
       "      <th>MSSubClass</th>\n",
       "      <th>MSZoning</th>\n",
       "      <th>LotFrontage</th>\n",
       "      <th>LotArea</th>\n",
       "      <th>Street</th>\n",
       "      <th>Alley</th>\n",
       "      <th>LotShape</th>\n",
       "      <th>LandContour</th>\n",
       "      <th>Utilities</th>\n",
       "      <th>...</th>\n",
       "      <th>PoolArea</th>\n",
       "      <th>PoolQC</th>\n",
       "      <th>Fence</th>\n",
       "      <th>MiscFeature</th>\n",
       "      <th>MiscVal</th>\n",
       "      <th>MoSold</th>\n",
       "      <th>YrSold</th>\n",
       "      <th>SaleType</th>\n",
       "      <th>SaleCondition</th>\n",
       "      <th>Price</th>\n",
       "    </tr>\n",
       "  </thead>\n",
       "  <tbody>\n",
       "    <tr>\n",
       "      <th>0</th>\n",
       "      <td>1461</td>\n",
       "      <td>20</td>\n",
       "      <td>RH</td>\n",
       "      <td>80.0</td>\n",
       "      <td>11622</td>\n",
       "      <td>Pave</td>\n",
       "      <td>NaN</td>\n",
       "      <td>Reg</td>\n",
       "      <td>Lvl</td>\n",
       "      <td>AllPub</td>\n",
       "      <td>...</td>\n",
       "      <td>0</td>\n",
       "      <td>NaN</td>\n",
       "      <td>MnPrv</td>\n",
       "      <td>NaN</td>\n",
       "      <td>0</td>\n",
       "      <td>6</td>\n",
       "      <td>2010</td>\n",
       "      <td>WD</td>\n",
       "      <td>Normal</td>\n",
       "      <td>13300000</td>\n",
       "    </tr>\n",
       "    <tr>\n",
       "      <th>1</th>\n",
       "      <td>1462</td>\n",
       "      <td>20</td>\n",
       "      <td>RL</td>\n",
       "      <td>81.0</td>\n",
       "      <td>14267</td>\n",
       "      <td>Pave</td>\n",
       "      <td>NaN</td>\n",
       "      <td>IR1</td>\n",
       "      <td>Lvl</td>\n",
       "      <td>AllPub</td>\n",
       "      <td>...</td>\n",
       "      <td>0</td>\n",
       "      <td>NaN</td>\n",
       "      <td>NaN</td>\n",
       "      <td>Gar2</td>\n",
       "      <td>12500</td>\n",
       "      <td>6</td>\n",
       "      <td>2010</td>\n",
       "      <td>WD</td>\n",
       "      <td>Normal</td>\n",
       "      <td>12250000</td>\n",
       "    </tr>\n",
       "    <tr>\n",
       "      <th>2</th>\n",
       "      <td>1463</td>\n",
       "      <td>60</td>\n",
       "      <td>RL</td>\n",
       "      <td>74.0</td>\n",
       "      <td>13830</td>\n",
       "      <td>Pave</td>\n",
       "      <td>NaN</td>\n",
       "      <td>IR1</td>\n",
       "      <td>Lvl</td>\n",
       "      <td>AllPub</td>\n",
       "      <td>...</td>\n",
       "      <td>0</td>\n",
       "      <td>NaN</td>\n",
       "      <td>MnPrv</td>\n",
       "      <td>NaN</td>\n",
       "      <td>0</td>\n",
       "      <td>3</td>\n",
       "      <td>2010</td>\n",
       "      <td>WD</td>\n",
       "      <td>Normal</td>\n",
       "      <td>12250000</td>\n",
       "    </tr>\n",
       "    <tr>\n",
       "      <th>3</th>\n",
       "      <td>1464</td>\n",
       "      <td>60</td>\n",
       "      <td>RL</td>\n",
       "      <td>78.0</td>\n",
       "      <td>9978</td>\n",
       "      <td>Pave</td>\n",
       "      <td>NaN</td>\n",
       "      <td>IR1</td>\n",
       "      <td>Lvl</td>\n",
       "      <td>AllPub</td>\n",
       "      <td>...</td>\n",
       "      <td>0</td>\n",
       "      <td>NaN</td>\n",
       "      <td>NaN</td>\n",
       "      <td>NaN</td>\n",
       "      <td>0</td>\n",
       "      <td>6</td>\n",
       "      <td>2010</td>\n",
       "      <td>WD</td>\n",
       "      <td>Normal</td>\n",
       "      <td>12215000</td>\n",
       "    </tr>\n",
       "    <tr>\n",
       "      <th>4</th>\n",
       "      <td>1465</td>\n",
       "      <td>120</td>\n",
       "      <td>RL</td>\n",
       "      <td>43.0</td>\n",
       "      <td>5005</td>\n",
       "      <td>Pave</td>\n",
       "      <td>NaN</td>\n",
       "      <td>IR1</td>\n",
       "      <td>HLS</td>\n",
       "      <td>AllPub</td>\n",
       "      <td>...</td>\n",
       "      <td>0</td>\n",
       "      <td>NaN</td>\n",
       "      <td>NaN</td>\n",
       "      <td>NaN</td>\n",
       "      <td>0</td>\n",
       "      <td>1</td>\n",
       "      <td>2010</td>\n",
       "      <td>WD</td>\n",
       "      <td>Normal</td>\n",
       "      <td>11410000</td>\n",
       "    </tr>\n",
       "  </tbody>\n",
       "</table>\n",
       "<p>5 rows × 81 columns</p>\n",
       "</div>"
      ],
      "text/plain": [
       "     Id  MSSubClass MSZoning  LotFrontage  LotArea Street Alley LotShape  \\\n",
       "0  1461          20       RH         80.0    11622   Pave   NaN      Reg   \n",
       "1  1462          20       RL         81.0    14267   Pave   NaN      IR1   \n",
       "2  1463          60       RL         74.0    13830   Pave   NaN      IR1   \n",
       "3  1464          60       RL         78.0     9978   Pave   NaN      IR1   \n",
       "4  1465         120       RL         43.0     5005   Pave   NaN      IR1   \n",
       "\n",
       "  LandContour Utilities  ... PoolArea PoolQC  Fence MiscFeature MiscVal  \\\n",
       "0         Lvl    AllPub  ...        0    NaN  MnPrv         NaN       0   \n",
       "1         Lvl    AllPub  ...        0    NaN    NaN        Gar2   12500   \n",
       "2         Lvl    AllPub  ...        0    NaN  MnPrv         NaN       0   \n",
       "3         Lvl    AllPub  ...        0    NaN    NaN         NaN       0   \n",
       "4         HLS    AllPub  ...        0    NaN    NaN         NaN       0   \n",
       "\n",
       "  MoSold YrSold  SaleType  SaleCondition     Price  \n",
       "0      6   2010        WD         Normal  13300000  \n",
       "1      6   2010        WD         Normal  12250000  \n",
       "2      3   2010        WD         Normal  12250000  \n",
       "3      6   2010        WD         Normal  12215000  \n",
       "4      1   2010        WD         Normal  11410000  \n",
       "\n",
       "[5 rows x 81 columns]"
      ]
     },
     "execution_count": 3,
     "metadata": {},
     "output_type": "execute_result"
    }
   ],
   "source": [
    "data.head()"
   ]
  },
  {
   "cell_type": "code",
   "execution_count": 4,
   "id": "1abe829a",
   "metadata": {},
   "outputs": [
    {
     "name": "stdout",
     "output_type": "stream",
     "text": [
      "(1459, 81)\n"
     ]
    }
   ],
   "source": [
    "print(data.shape)"
   ]
  },
  {
   "cell_type": "code",
   "execution_count": 5,
   "id": "5370b908",
   "metadata": {},
   "outputs": [
    {
     "name": "stdout",
     "output_type": "stream",
     "text": [
      "Index(['Id', 'MSSubClass', 'MSZoning', 'LotFrontage', 'LotArea', 'Street',\n",
      "       'Alley', 'LotShape', 'LandContour', 'Utilities', 'LotConfig',\n",
      "       'LandSlope', 'Neighborhood', 'Condition1', 'Condition2', 'BldgType',\n",
      "       'HouseStyle', 'OverallQual', 'OverallCond', 'YearBuilt', 'YearRemodAdd',\n",
      "       'RoofStyle', 'RoofMatl', 'Exterior1st', 'Exterior2nd', 'MasVnrType',\n",
      "       'MasVnrArea', 'ExterQual', 'ExterCond', 'Foundation', 'BsmtQual',\n",
      "       'BsmtCond', 'BsmtExposure', 'BsmtFinType1', 'BsmtFinSF1',\n",
      "       'BsmtFinType2', 'BsmtFinSF2', 'BsmtUnfSF', 'TotalBsmtSF', 'Heating',\n",
      "       'HeatingQC', 'CentralAir', 'Electrical', '1stFlrSF', '2ndFlrSF',\n",
      "       'LowQualFinSF', 'GrLivArea', 'BsmtFullBath', 'BsmtHalfBath', 'FullBath',\n",
      "       'HalfBath', 'BedroomAbvGr', 'KitchenAbvGr', 'KitchenQual',\n",
      "       'TotRmsAbvGrd', 'Functional', 'Fireplaces', 'FireplaceQu', 'GarageType',\n",
      "       'GarageYrBlt', 'GarageFinish', 'GarageCars', 'GarageArea', 'GarageQual',\n",
      "       'GarageCond', 'PavedDrive', 'WoodDeckSF', 'OpenPorchSF',\n",
      "       'EnclosedPorch', '3SsnPorch', 'ScreenPorch', 'PoolArea', 'PoolQC',\n",
      "       'Fence', 'MiscFeature', 'MiscVal', 'MoSold', 'YrSold', 'SaleType',\n",
      "       'SaleCondition', 'Price'],\n",
      "      dtype='object')\n"
     ]
    }
   ],
   "source": [
    "print(data.columns)"
   ]
  },
  {
   "cell_type": "markdown",
   "id": "386615f4",
   "metadata": {},
   "source": [
    "# 2. Dealing with the missing values "
   ]
  },
  {
   "cell_type": "code",
   "execution_count": 6,
   "id": "bf068baa",
   "metadata": {},
   "outputs": [],
   "source": [
    "mask=data.isna()"
   ]
  },
  {
   "cell_type": "code",
   "execution_count": 7,
   "id": "a2afd687",
   "metadata": {},
   "outputs": [],
   "source": [
    "count_na=mask.sum()"
   ]
  },
  {
   "cell_type": "code",
   "execution_count": 8,
   "id": "00f5aa7c",
   "metadata": {},
   "outputs": [
    {
     "data": {
      "text/plain": [
       "Id                 0\n",
       "MSSubClass         0\n",
       "MSZoning           4\n",
       "LotFrontage      227\n",
       "LotArea            0\n",
       "                ... \n",
       "MoSold             0\n",
       "YrSold             0\n",
       "SaleType           1\n",
       "SaleCondition      0\n",
       "Price              0\n",
       "Length: 81, dtype: int64"
      ]
     },
     "execution_count": 8,
     "metadata": {},
     "output_type": "execute_result"
    }
   ],
   "source": [
    "count_na"
   ]
  },
  {
   "cell_type": "code",
   "execution_count": 9,
   "id": "b83dd2af",
   "metadata": {},
   "outputs": [],
   "source": [
    "# dropping columns with more than 500 missing values "
   ]
  },
  {
   "cell_type": "code",
   "execution_count": 10,
   "id": "83258454",
   "metadata": {},
   "outputs": [],
   "source": [
    "columns_to_drop = count_na[count_na > 500].index.tolist()"
   ]
  },
  {
   "cell_type": "code",
   "execution_count": 11,
   "id": "04a753fc",
   "metadata": {},
   "outputs": [],
   "source": [
    "data_clean = data.drop(columns_to_drop, axis=1)"
   ]
  },
  {
   "cell_type": "code",
   "execution_count": 12,
   "id": "d3c807e1",
   "metadata": {},
   "outputs": [
    {
     "data": {
      "text/html": [
       "<div>\n",
       "<style scoped>\n",
       "    .dataframe tbody tr th:only-of-type {\n",
       "        vertical-align: middle;\n",
       "    }\n",
       "\n",
       "    .dataframe tbody tr th {\n",
       "        vertical-align: top;\n",
       "    }\n",
       "\n",
       "    .dataframe thead th {\n",
       "        text-align: right;\n",
       "    }\n",
       "</style>\n",
       "<table border=\"1\" class=\"dataframe\">\n",
       "  <thead>\n",
       "    <tr style=\"text-align: right;\">\n",
       "      <th></th>\n",
       "      <th>Id</th>\n",
       "      <th>MSSubClass</th>\n",
       "      <th>MSZoning</th>\n",
       "      <th>LotFrontage</th>\n",
       "      <th>LotArea</th>\n",
       "      <th>Street</th>\n",
       "      <th>LotShape</th>\n",
       "      <th>LandContour</th>\n",
       "      <th>Utilities</th>\n",
       "      <th>LotConfig</th>\n",
       "      <th>...</th>\n",
       "      <th>EnclosedPorch</th>\n",
       "      <th>3SsnPorch</th>\n",
       "      <th>ScreenPorch</th>\n",
       "      <th>PoolArea</th>\n",
       "      <th>MiscVal</th>\n",
       "      <th>MoSold</th>\n",
       "      <th>YrSold</th>\n",
       "      <th>SaleType</th>\n",
       "      <th>SaleCondition</th>\n",
       "      <th>Price</th>\n",
       "    </tr>\n",
       "  </thead>\n",
       "  <tbody>\n",
       "    <tr>\n",
       "      <th>0</th>\n",
       "      <td>1461</td>\n",
       "      <td>20</td>\n",
       "      <td>RH</td>\n",
       "      <td>80.0</td>\n",
       "      <td>11622</td>\n",
       "      <td>Pave</td>\n",
       "      <td>Reg</td>\n",
       "      <td>Lvl</td>\n",
       "      <td>AllPub</td>\n",
       "      <td>Inside</td>\n",
       "      <td>...</td>\n",
       "      <td>0</td>\n",
       "      <td>0</td>\n",
       "      <td>120</td>\n",
       "      <td>0</td>\n",
       "      <td>0</td>\n",
       "      <td>6</td>\n",
       "      <td>2010</td>\n",
       "      <td>WD</td>\n",
       "      <td>Normal</td>\n",
       "      <td>13300000</td>\n",
       "    </tr>\n",
       "    <tr>\n",
       "      <th>1</th>\n",
       "      <td>1462</td>\n",
       "      <td>20</td>\n",
       "      <td>RL</td>\n",
       "      <td>81.0</td>\n",
       "      <td>14267</td>\n",
       "      <td>Pave</td>\n",
       "      <td>IR1</td>\n",
       "      <td>Lvl</td>\n",
       "      <td>AllPub</td>\n",
       "      <td>Corner</td>\n",
       "      <td>...</td>\n",
       "      <td>0</td>\n",
       "      <td>0</td>\n",
       "      <td>0</td>\n",
       "      <td>0</td>\n",
       "      <td>12500</td>\n",
       "      <td>6</td>\n",
       "      <td>2010</td>\n",
       "      <td>WD</td>\n",
       "      <td>Normal</td>\n",
       "      <td>12250000</td>\n",
       "    </tr>\n",
       "    <tr>\n",
       "      <th>2</th>\n",
       "      <td>1463</td>\n",
       "      <td>60</td>\n",
       "      <td>RL</td>\n",
       "      <td>74.0</td>\n",
       "      <td>13830</td>\n",
       "      <td>Pave</td>\n",
       "      <td>IR1</td>\n",
       "      <td>Lvl</td>\n",
       "      <td>AllPub</td>\n",
       "      <td>Inside</td>\n",
       "      <td>...</td>\n",
       "      <td>0</td>\n",
       "      <td>0</td>\n",
       "      <td>0</td>\n",
       "      <td>0</td>\n",
       "      <td>0</td>\n",
       "      <td>3</td>\n",
       "      <td>2010</td>\n",
       "      <td>WD</td>\n",
       "      <td>Normal</td>\n",
       "      <td>12250000</td>\n",
       "    </tr>\n",
       "    <tr>\n",
       "      <th>3</th>\n",
       "      <td>1464</td>\n",
       "      <td>60</td>\n",
       "      <td>RL</td>\n",
       "      <td>78.0</td>\n",
       "      <td>9978</td>\n",
       "      <td>Pave</td>\n",
       "      <td>IR1</td>\n",
       "      <td>Lvl</td>\n",
       "      <td>AllPub</td>\n",
       "      <td>Inside</td>\n",
       "      <td>...</td>\n",
       "      <td>0</td>\n",
       "      <td>0</td>\n",
       "      <td>0</td>\n",
       "      <td>0</td>\n",
       "      <td>0</td>\n",
       "      <td>6</td>\n",
       "      <td>2010</td>\n",
       "      <td>WD</td>\n",
       "      <td>Normal</td>\n",
       "      <td>12215000</td>\n",
       "    </tr>\n",
       "    <tr>\n",
       "      <th>4</th>\n",
       "      <td>1465</td>\n",
       "      <td>120</td>\n",
       "      <td>RL</td>\n",
       "      <td>43.0</td>\n",
       "      <td>5005</td>\n",
       "      <td>Pave</td>\n",
       "      <td>IR1</td>\n",
       "      <td>HLS</td>\n",
       "      <td>AllPub</td>\n",
       "      <td>Inside</td>\n",
       "      <td>...</td>\n",
       "      <td>0</td>\n",
       "      <td>0</td>\n",
       "      <td>144</td>\n",
       "      <td>0</td>\n",
       "      <td>0</td>\n",
       "      <td>1</td>\n",
       "      <td>2010</td>\n",
       "      <td>WD</td>\n",
       "      <td>Normal</td>\n",
       "      <td>11410000</td>\n",
       "    </tr>\n",
       "  </tbody>\n",
       "</table>\n",
       "<p>5 rows × 76 columns</p>\n",
       "</div>"
      ],
      "text/plain": [
       "     Id  MSSubClass MSZoning  LotFrontage  LotArea Street LotShape  \\\n",
       "0  1461          20       RH         80.0    11622   Pave      Reg   \n",
       "1  1462          20       RL         81.0    14267   Pave      IR1   \n",
       "2  1463          60       RL         74.0    13830   Pave      IR1   \n",
       "3  1464          60       RL         78.0     9978   Pave      IR1   \n",
       "4  1465         120       RL         43.0     5005   Pave      IR1   \n",
       "\n",
       "  LandContour Utilities LotConfig  ... EnclosedPorch 3SsnPorch ScreenPorch  \\\n",
       "0         Lvl    AllPub    Inside  ...             0         0         120   \n",
       "1         Lvl    AllPub    Corner  ...             0         0           0   \n",
       "2         Lvl    AllPub    Inside  ...             0         0           0   \n",
       "3         Lvl    AllPub    Inside  ...             0         0           0   \n",
       "4         HLS    AllPub    Inside  ...             0         0         144   \n",
       "\n",
       "  PoolArea MiscVal MoSold  YrSold  SaleType  SaleCondition     Price  \n",
       "0        0       0      6    2010        WD         Normal  13300000  \n",
       "1        0   12500      6    2010        WD         Normal  12250000  \n",
       "2        0       0      3    2010        WD         Normal  12250000  \n",
       "3        0       0      6    2010        WD         Normal  12215000  \n",
       "4        0       0      1    2010        WD         Normal  11410000  \n",
       "\n",
       "[5 rows x 76 columns]"
      ]
     },
     "execution_count": 12,
     "metadata": {},
     "output_type": "execute_result"
    }
   ],
   "source": [
    "data_clean.head()"
   ]
  },
  {
   "cell_type": "code",
   "execution_count": 13,
   "id": "9f740bf9",
   "metadata": {},
   "outputs": [
    {
     "data": {
      "text/plain": [
       "LotFrontage     227\n",
       "GarageFinish     78\n",
       "GarageYrBlt      78\n",
       "GarageQual       78\n",
       "GarageCond       78\n",
       "               ... \n",
       "CentralAir        0\n",
       "Electrical        0\n",
       "1stFlrSF          0\n",
       "2ndFlrSF          0\n",
       "Price             0\n",
       "Length: 76, dtype: int64"
      ]
     },
     "execution_count": 13,
     "metadata": {},
     "output_type": "execute_result"
    }
   ],
   "source": [
    "data_clean.isna().sum().sort_values(ascending=False)\n"
   ]
  },
  {
   "cell_type": "code",
   "execution_count": 14,
   "id": "282bc67c",
   "metadata": {},
   "outputs": [
    {
     "name": "stdout",
     "output_type": "stream",
     "text": [
      "Id                 int64\n",
      "MSSubClass         int64\n",
      "MSZoning          object\n",
      "LotFrontage      float64\n",
      "LotArea            int64\n",
      "                  ...   \n",
      "MoSold             int64\n",
      "YrSold             int64\n",
      "SaleType          object\n",
      "SaleCondition     object\n",
      "Price              int64\n",
      "Length: 76, dtype: object\n"
     ]
    }
   ],
   "source": [
    "print(data_clean.dtypes)"
   ]
  },
  {
   "cell_type": "code",
   "execution_count": 15,
   "id": "58dd83cb",
   "metadata": {},
   "outputs": [],
   "source": [
    "# filling all na values with mode value "
   ]
  },
  {
   "cell_type": "code",
   "execution_count": 16,
   "id": "2392feb5",
   "metadata": {},
   "outputs": [],
   "source": [
    "data_clean1=data_clean.fillna(data_clean.mode().iloc[0])"
   ]
  },
  {
   "cell_type": "code",
   "execution_count": 17,
   "id": "a15a4bae",
   "metadata": {},
   "outputs": [
    {
     "data": {
      "text/plain": [
       "Id              0\n",
       "FullBath        0\n",
       "Fireplaces      0\n",
       "Functional      0\n",
       "TotRmsAbvGrd    0\n",
       "               ..\n",
       "MasVnrType      0\n",
       "Exterior2nd     0\n",
       "Exterior1st     0\n",
       "RoofMatl        0\n",
       "Price           0\n",
       "Length: 76, dtype: int64"
      ]
     },
     "execution_count": 17,
     "metadata": {},
     "output_type": "execute_result"
    }
   ],
   "source": [
    "data_clean1.isna().sum().sort_values(ascending=False)\n"
   ]
  },
  {
   "cell_type": "markdown",
   "id": "bfd13acc",
   "metadata": {},
   "source": [
    "# 3 . Encoding the categorical variables "
   ]
  },
  {
   "cell_type": "code",
   "execution_count": 18,
   "id": "0b35a39d",
   "metadata": {},
   "outputs": [],
   "source": [
    "categorical_vars = data_clean1.select_dtypes(include=['object']).columns"
   ]
  },
  {
   "cell_type": "code",
   "execution_count": 19,
   "id": "b2f675e2",
   "metadata": {
    "scrolled": true
   },
   "outputs": [
    {
     "data": {
      "text/plain": [
       "Index(['MSZoning', 'Street', 'LotShape', 'LandContour', 'Utilities',\n",
       "       'LotConfig', 'LandSlope', 'Neighborhood', 'Condition1', 'Condition2',\n",
       "       'BldgType', 'HouseStyle', 'RoofStyle', 'RoofMatl', 'Exterior1st',\n",
       "       'Exterior2nd', 'MasVnrType', 'ExterQual', 'ExterCond', 'Foundation',\n",
       "       'BsmtQual', 'BsmtCond', 'BsmtExposure', 'BsmtFinType1', 'BsmtFinType2',\n",
       "       'Heating', 'HeatingQC', 'CentralAir', 'Electrical', 'KitchenQual',\n",
       "       'Functional', 'GarageType', 'GarageFinish', 'GarageQual', 'GarageCond',\n",
       "       'PavedDrive', 'SaleType', 'SaleCondition'],\n",
       "      dtype='object')"
      ]
     },
     "execution_count": 19,
     "metadata": {},
     "output_type": "execute_result"
    }
   ],
   "source": [
    "categorical_vars "
   ]
  },
  {
   "cell_type": "code",
   "execution_count": 20,
   "id": "7b413e40",
   "metadata": {},
   "outputs": [],
   "source": [
    "# encoding them "
   ]
  },
  {
   "cell_type": "code",
   "execution_count": 21,
   "id": "c7c20dcf",
   "metadata": {},
   "outputs": [],
   "source": [
    "for var in categorical_vars:\n",
    "    data_clean1[var] = data_clean1[var].astype('category').cat.codes\n",
    "    "
   ]
  },
  {
   "cell_type": "code",
   "execution_count": 22,
   "id": "f7a298eb",
   "metadata": {},
   "outputs": [
    {
     "name": "stdout",
     "output_type": "stream",
     "text": [
      "Id                 int64\n",
      "MSSubClass         int64\n",
      "MSZoning            int8\n",
      "LotFrontage      float64\n",
      "LotArea            int64\n",
      "                  ...   \n",
      "MoSold             int64\n",
      "YrSold             int64\n",
      "SaleType            int8\n",
      "SaleCondition       int8\n",
      "Price              int64\n",
      "Length: 76, dtype: object\n"
     ]
    }
   ],
   "source": [
    "print(data_clean1.dtypes)"
   ]
  },
  {
   "cell_type": "code",
   "execution_count": 23,
   "id": "a4977d5d",
   "metadata": {},
   "outputs": [
    {
     "data": {
      "text/html": [
       "<div>\n",
       "<style scoped>\n",
       "    .dataframe tbody tr th:only-of-type {\n",
       "        vertical-align: middle;\n",
       "    }\n",
       "\n",
       "    .dataframe tbody tr th {\n",
       "        vertical-align: top;\n",
       "    }\n",
       "\n",
       "    .dataframe thead th {\n",
       "        text-align: right;\n",
       "    }\n",
       "</style>\n",
       "<table border=\"1\" class=\"dataframe\">\n",
       "  <thead>\n",
       "    <tr style=\"text-align: right;\">\n",
       "      <th></th>\n",
       "      <th>Id</th>\n",
       "      <th>MSSubClass</th>\n",
       "      <th>MSZoning</th>\n",
       "      <th>LotFrontage</th>\n",
       "      <th>LotArea</th>\n",
       "      <th>Street</th>\n",
       "      <th>LotShape</th>\n",
       "      <th>LandContour</th>\n",
       "      <th>Utilities</th>\n",
       "      <th>LotConfig</th>\n",
       "      <th>...</th>\n",
       "      <th>EnclosedPorch</th>\n",
       "      <th>3SsnPorch</th>\n",
       "      <th>ScreenPorch</th>\n",
       "      <th>PoolArea</th>\n",
       "      <th>MiscVal</th>\n",
       "      <th>MoSold</th>\n",
       "      <th>YrSold</th>\n",
       "      <th>SaleType</th>\n",
       "      <th>SaleCondition</th>\n",
       "      <th>Price</th>\n",
       "    </tr>\n",
       "  </thead>\n",
       "  <tbody>\n",
       "    <tr>\n",
       "      <th>0</th>\n",
       "      <td>1461</td>\n",
       "      <td>20</td>\n",
       "      <td>2</td>\n",
       "      <td>80.0</td>\n",
       "      <td>11622</td>\n",
       "      <td>1</td>\n",
       "      <td>3</td>\n",
       "      <td>3</td>\n",
       "      <td>0</td>\n",
       "      <td>4</td>\n",
       "      <td>...</td>\n",
       "      <td>0</td>\n",
       "      <td>0</td>\n",
       "      <td>120</td>\n",
       "      <td>0</td>\n",
       "      <td>0</td>\n",
       "      <td>6</td>\n",
       "      <td>2010</td>\n",
       "      <td>8</td>\n",
       "      <td>4</td>\n",
       "      <td>13300000</td>\n",
       "    </tr>\n",
       "    <tr>\n",
       "      <th>1</th>\n",
       "      <td>1462</td>\n",
       "      <td>20</td>\n",
       "      <td>3</td>\n",
       "      <td>81.0</td>\n",
       "      <td>14267</td>\n",
       "      <td>1</td>\n",
       "      <td>0</td>\n",
       "      <td>3</td>\n",
       "      <td>0</td>\n",
       "      <td>0</td>\n",
       "      <td>...</td>\n",
       "      <td>0</td>\n",
       "      <td>0</td>\n",
       "      <td>0</td>\n",
       "      <td>0</td>\n",
       "      <td>12500</td>\n",
       "      <td>6</td>\n",
       "      <td>2010</td>\n",
       "      <td>8</td>\n",
       "      <td>4</td>\n",
       "      <td>12250000</td>\n",
       "    </tr>\n",
       "    <tr>\n",
       "      <th>2</th>\n",
       "      <td>1463</td>\n",
       "      <td>60</td>\n",
       "      <td>3</td>\n",
       "      <td>74.0</td>\n",
       "      <td>13830</td>\n",
       "      <td>1</td>\n",
       "      <td>0</td>\n",
       "      <td>3</td>\n",
       "      <td>0</td>\n",
       "      <td>4</td>\n",
       "      <td>...</td>\n",
       "      <td>0</td>\n",
       "      <td>0</td>\n",
       "      <td>0</td>\n",
       "      <td>0</td>\n",
       "      <td>0</td>\n",
       "      <td>3</td>\n",
       "      <td>2010</td>\n",
       "      <td>8</td>\n",
       "      <td>4</td>\n",
       "      <td>12250000</td>\n",
       "    </tr>\n",
       "    <tr>\n",
       "      <th>3</th>\n",
       "      <td>1464</td>\n",
       "      <td>60</td>\n",
       "      <td>3</td>\n",
       "      <td>78.0</td>\n",
       "      <td>9978</td>\n",
       "      <td>1</td>\n",
       "      <td>0</td>\n",
       "      <td>3</td>\n",
       "      <td>0</td>\n",
       "      <td>4</td>\n",
       "      <td>...</td>\n",
       "      <td>0</td>\n",
       "      <td>0</td>\n",
       "      <td>0</td>\n",
       "      <td>0</td>\n",
       "      <td>0</td>\n",
       "      <td>6</td>\n",
       "      <td>2010</td>\n",
       "      <td>8</td>\n",
       "      <td>4</td>\n",
       "      <td>12215000</td>\n",
       "    </tr>\n",
       "    <tr>\n",
       "      <th>4</th>\n",
       "      <td>1465</td>\n",
       "      <td>120</td>\n",
       "      <td>3</td>\n",
       "      <td>43.0</td>\n",
       "      <td>5005</td>\n",
       "      <td>1</td>\n",
       "      <td>0</td>\n",
       "      <td>1</td>\n",
       "      <td>0</td>\n",
       "      <td>4</td>\n",
       "      <td>...</td>\n",
       "      <td>0</td>\n",
       "      <td>0</td>\n",
       "      <td>144</td>\n",
       "      <td>0</td>\n",
       "      <td>0</td>\n",
       "      <td>1</td>\n",
       "      <td>2010</td>\n",
       "      <td>8</td>\n",
       "      <td>4</td>\n",
       "      <td>11410000</td>\n",
       "    </tr>\n",
       "    <tr>\n",
       "      <th>5</th>\n",
       "      <td>1466</td>\n",
       "      <td>60</td>\n",
       "      <td>3</td>\n",
       "      <td>75.0</td>\n",
       "      <td>10000</td>\n",
       "      <td>1</td>\n",
       "      <td>0</td>\n",
       "      <td>3</td>\n",
       "      <td>0</td>\n",
       "      <td>0</td>\n",
       "      <td>...</td>\n",
       "      <td>0</td>\n",
       "      <td>0</td>\n",
       "      <td>0</td>\n",
       "      <td>0</td>\n",
       "      <td>0</td>\n",
       "      <td>4</td>\n",
       "      <td>2010</td>\n",
       "      <td>8</td>\n",
       "      <td>4</td>\n",
       "      <td>10850000</td>\n",
       "    </tr>\n",
       "    <tr>\n",
       "      <th>6</th>\n",
       "      <td>1467</td>\n",
       "      <td>20</td>\n",
       "      <td>3</td>\n",
       "      <td>60.0</td>\n",
       "      <td>7980</td>\n",
       "      <td>1</td>\n",
       "      <td>0</td>\n",
       "      <td>3</td>\n",
       "      <td>0</td>\n",
       "      <td>4</td>\n",
       "      <td>...</td>\n",
       "      <td>0</td>\n",
       "      <td>0</td>\n",
       "      <td>0</td>\n",
       "      <td>0</td>\n",
       "      <td>500</td>\n",
       "      <td>3</td>\n",
       "      <td>2010</td>\n",
       "      <td>8</td>\n",
       "      <td>4</td>\n",
       "      <td>10150000</td>\n",
       "    </tr>\n",
       "    <tr>\n",
       "      <th>7</th>\n",
       "      <td>1468</td>\n",
       "      <td>60</td>\n",
       "      <td>3</td>\n",
       "      <td>63.0</td>\n",
       "      <td>8402</td>\n",
       "      <td>1</td>\n",
       "      <td>0</td>\n",
       "      <td>3</td>\n",
       "      <td>0</td>\n",
       "      <td>4</td>\n",
       "      <td>...</td>\n",
       "      <td>0</td>\n",
       "      <td>0</td>\n",
       "      <td>0</td>\n",
       "      <td>0</td>\n",
       "      <td>0</td>\n",
       "      <td>5</td>\n",
       "      <td>2010</td>\n",
       "      <td>8</td>\n",
       "      <td>4</td>\n",
       "      <td>10150000</td>\n",
       "    </tr>\n",
       "    <tr>\n",
       "      <th>8</th>\n",
       "      <td>1469</td>\n",
       "      <td>20</td>\n",
       "      <td>3</td>\n",
       "      <td>85.0</td>\n",
       "      <td>10176</td>\n",
       "      <td>1</td>\n",
       "      <td>3</td>\n",
       "      <td>3</td>\n",
       "      <td>0</td>\n",
       "      <td>4</td>\n",
       "      <td>...</td>\n",
       "      <td>0</td>\n",
       "      <td>0</td>\n",
       "      <td>0</td>\n",
       "      <td>0</td>\n",
       "      <td>0</td>\n",
       "      <td>2</td>\n",
       "      <td>2010</td>\n",
       "      <td>8</td>\n",
       "      <td>4</td>\n",
       "      <td>9870000</td>\n",
       "    </tr>\n",
       "    <tr>\n",
       "      <th>9</th>\n",
       "      <td>1470</td>\n",
       "      <td>20</td>\n",
       "      <td>3</td>\n",
       "      <td>70.0</td>\n",
       "      <td>8400</td>\n",
       "      <td>1</td>\n",
       "      <td>3</td>\n",
       "      <td>3</td>\n",
       "      <td>0</td>\n",
       "      <td>0</td>\n",
       "      <td>...</td>\n",
       "      <td>0</td>\n",
       "      <td>0</td>\n",
       "      <td>0</td>\n",
       "      <td>0</td>\n",
       "      <td>0</td>\n",
       "      <td>4</td>\n",
       "      <td>2010</td>\n",
       "      <td>8</td>\n",
       "      <td>4</td>\n",
       "      <td>9800000</td>\n",
       "    </tr>\n",
       "    <tr>\n",
       "      <th>10</th>\n",
       "      <td>1471</td>\n",
       "      <td>120</td>\n",
       "      <td>2</td>\n",
       "      <td>26.0</td>\n",
       "      <td>5858</td>\n",
       "      <td>1</td>\n",
       "      <td>0</td>\n",
       "      <td>3</td>\n",
       "      <td>0</td>\n",
       "      <td>2</td>\n",
       "      <td>...</td>\n",
       "      <td>0</td>\n",
       "      <td>0</td>\n",
       "      <td>0</td>\n",
       "      <td>0</td>\n",
       "      <td>0</td>\n",
       "      <td>6</td>\n",
       "      <td>2010</td>\n",
       "      <td>8</td>\n",
       "      <td>4</td>\n",
       "      <td>9800000</td>\n",
       "    </tr>\n",
       "    <tr>\n",
       "      <th>11</th>\n",
       "      <td>1472</td>\n",
       "      <td>160</td>\n",
       "      <td>4</td>\n",
       "      <td>21.0</td>\n",
       "      <td>1680</td>\n",
       "      <td>1</td>\n",
       "      <td>3</td>\n",
       "      <td>3</td>\n",
       "      <td>0</td>\n",
       "      <td>4</td>\n",
       "      <td>...</td>\n",
       "      <td>0</td>\n",
       "      <td>0</td>\n",
       "      <td>0</td>\n",
       "      <td>0</td>\n",
       "      <td>0</td>\n",
       "      <td>2</td>\n",
       "      <td>2010</td>\n",
       "      <td>0</td>\n",
       "      <td>4</td>\n",
       "      <td>9681000</td>\n",
       "    </tr>\n",
       "    <tr>\n",
       "      <th>12</th>\n",
       "      <td>1473</td>\n",
       "      <td>160</td>\n",
       "      <td>4</td>\n",
       "      <td>21.0</td>\n",
       "      <td>1680</td>\n",
       "      <td>1</td>\n",
       "      <td>3</td>\n",
       "      <td>3</td>\n",
       "      <td>0</td>\n",
       "      <td>4</td>\n",
       "      <td>...</td>\n",
       "      <td>0</td>\n",
       "      <td>0</td>\n",
       "      <td>0</td>\n",
       "      <td>0</td>\n",
       "      <td>0</td>\n",
       "      <td>3</td>\n",
       "      <td>2010</td>\n",
       "      <td>8</td>\n",
       "      <td>4</td>\n",
       "      <td>9310000</td>\n",
       "    </tr>\n",
       "    <tr>\n",
       "      <th>13</th>\n",
       "      <td>1474</td>\n",
       "      <td>160</td>\n",
       "      <td>3</td>\n",
       "      <td>24.0</td>\n",
       "      <td>2280</td>\n",
       "      <td>1</td>\n",
       "      <td>3</td>\n",
       "      <td>3</td>\n",
       "      <td>0</td>\n",
       "      <td>2</td>\n",
       "      <td>...</td>\n",
       "      <td>0</td>\n",
       "      <td>0</td>\n",
       "      <td>0</td>\n",
       "      <td>0</td>\n",
       "      <td>0</td>\n",
       "      <td>6</td>\n",
       "      <td>2010</td>\n",
       "      <td>8</td>\n",
       "      <td>4</td>\n",
       "      <td>9240000</td>\n",
       "    </tr>\n",
       "    <tr>\n",
       "      <th>14</th>\n",
       "      <td>1475</td>\n",
       "      <td>120</td>\n",
       "      <td>3</td>\n",
       "      <td>24.0</td>\n",
       "      <td>2280</td>\n",
       "      <td>1</td>\n",
       "      <td>3</td>\n",
       "      <td>3</td>\n",
       "      <td>0</td>\n",
       "      <td>2</td>\n",
       "      <td>...</td>\n",
       "      <td>0</td>\n",
       "      <td>0</td>\n",
       "      <td>0</td>\n",
       "      <td>0</td>\n",
       "      <td>0</td>\n",
       "      <td>6</td>\n",
       "      <td>2010</td>\n",
       "      <td>8</td>\n",
       "      <td>4</td>\n",
       "      <td>9240000</td>\n",
       "    </tr>\n",
       "    <tr>\n",
       "      <th>15</th>\n",
       "      <td>1476</td>\n",
       "      <td>60</td>\n",
       "      <td>3</td>\n",
       "      <td>102.0</td>\n",
       "      <td>12858</td>\n",
       "      <td>1</td>\n",
       "      <td>0</td>\n",
       "      <td>3</td>\n",
       "      <td>0</td>\n",
       "      <td>4</td>\n",
       "      <td>...</td>\n",
       "      <td>0</td>\n",
       "      <td>0</td>\n",
       "      <td>0</td>\n",
       "      <td>0</td>\n",
       "      <td>0</td>\n",
       "      <td>1</td>\n",
       "      <td>2010</td>\n",
       "      <td>6</td>\n",
       "      <td>5</td>\n",
       "      <td>9100000</td>\n",
       "    </tr>\n",
       "    <tr>\n",
       "      <th>16</th>\n",
       "      <td>1477</td>\n",
       "      <td>20</td>\n",
       "      <td>3</td>\n",
       "      <td>94.0</td>\n",
       "      <td>12883</td>\n",
       "      <td>1</td>\n",
       "      <td>0</td>\n",
       "      <td>3</td>\n",
       "      <td>0</td>\n",
       "      <td>0</td>\n",
       "      <td>...</td>\n",
       "      <td>0</td>\n",
       "      <td>0</td>\n",
       "      <td>0</td>\n",
       "      <td>0</td>\n",
       "      <td>0</td>\n",
       "      <td>6</td>\n",
       "      <td>2010</td>\n",
       "      <td>6</td>\n",
       "      <td>5</td>\n",
       "      <td>9100000</td>\n",
       "    </tr>\n",
       "    <tr>\n",
       "      <th>17</th>\n",
       "      <td>1478</td>\n",
       "      <td>20</td>\n",
       "      <td>3</td>\n",
       "      <td>90.0</td>\n",
       "      <td>11520</td>\n",
       "      <td>1</td>\n",
       "      <td>3</td>\n",
       "      <td>3</td>\n",
       "      <td>0</td>\n",
       "      <td>4</td>\n",
       "      <td>...</td>\n",
       "      <td>0</td>\n",
       "      <td>0</td>\n",
       "      <td>0</td>\n",
       "      <td>0</td>\n",
       "      <td>0</td>\n",
       "      <td>6</td>\n",
       "      <td>2010</td>\n",
       "      <td>8</td>\n",
       "      <td>4</td>\n",
       "      <td>8960000</td>\n",
       "    </tr>\n",
       "    <tr>\n",
       "      <th>18</th>\n",
       "      <td>1479</td>\n",
       "      <td>20</td>\n",
       "      <td>3</td>\n",
       "      <td>79.0</td>\n",
       "      <td>14122</td>\n",
       "      <td>1</td>\n",
       "      <td>0</td>\n",
       "      <td>3</td>\n",
       "      <td>0</td>\n",
       "      <td>4</td>\n",
       "      <td>...</td>\n",
       "      <td>0</td>\n",
       "      <td>0</td>\n",
       "      <td>0</td>\n",
       "      <td>0</td>\n",
       "      <td>0</td>\n",
       "      <td>2</td>\n",
       "      <td>2010</td>\n",
       "      <td>8</td>\n",
       "      <td>4</td>\n",
       "      <td>8890000</td>\n",
       "    </tr>\n",
       "    <tr>\n",
       "      <th>19</th>\n",
       "      <td>1480</td>\n",
       "      <td>20</td>\n",
       "      <td>3</td>\n",
       "      <td>110.0</td>\n",
       "      <td>14300</td>\n",
       "      <td>1</td>\n",
       "      <td>3</td>\n",
       "      <td>1</td>\n",
       "      <td>0</td>\n",
       "      <td>4</td>\n",
       "      <td>...</td>\n",
       "      <td>0</td>\n",
       "      <td>0</td>\n",
       "      <td>0</td>\n",
       "      <td>0</td>\n",
       "      <td>0</td>\n",
       "      <td>6</td>\n",
       "      <td>2010</td>\n",
       "      <td>8</td>\n",
       "      <td>4</td>\n",
       "      <td>8855000</td>\n",
       "    </tr>\n",
       "  </tbody>\n",
       "</table>\n",
       "<p>20 rows × 76 columns</p>\n",
       "</div>"
      ],
      "text/plain": [
       "      Id  MSSubClass  MSZoning  LotFrontage  LotArea  Street  LotShape  \\\n",
       "0   1461          20         2         80.0    11622       1         3   \n",
       "1   1462          20         3         81.0    14267       1         0   \n",
       "2   1463          60         3         74.0    13830       1         0   \n",
       "3   1464          60         3         78.0     9978       1         0   \n",
       "4   1465         120         3         43.0     5005       1         0   \n",
       "5   1466          60         3         75.0    10000       1         0   \n",
       "6   1467          20         3         60.0     7980       1         0   \n",
       "7   1468          60         3         63.0     8402       1         0   \n",
       "8   1469          20         3         85.0    10176       1         3   \n",
       "9   1470          20         3         70.0     8400       1         3   \n",
       "10  1471         120         2         26.0     5858       1         0   \n",
       "11  1472         160         4         21.0     1680       1         3   \n",
       "12  1473         160         4         21.0     1680       1         3   \n",
       "13  1474         160         3         24.0     2280       1         3   \n",
       "14  1475         120         3         24.0     2280       1         3   \n",
       "15  1476          60         3        102.0    12858       1         0   \n",
       "16  1477          20         3         94.0    12883       1         0   \n",
       "17  1478          20         3         90.0    11520       1         3   \n",
       "18  1479          20         3         79.0    14122       1         0   \n",
       "19  1480          20         3        110.0    14300       1         3   \n",
       "\n",
       "    LandContour  Utilities  LotConfig  ...  EnclosedPorch  3SsnPorch  \\\n",
       "0             3          0          4  ...              0          0   \n",
       "1             3          0          0  ...              0          0   \n",
       "2             3          0          4  ...              0          0   \n",
       "3             3          0          4  ...              0          0   \n",
       "4             1          0          4  ...              0          0   \n",
       "5             3          0          0  ...              0          0   \n",
       "6             3          0          4  ...              0          0   \n",
       "7             3          0          4  ...              0          0   \n",
       "8             3          0          4  ...              0          0   \n",
       "9             3          0          0  ...              0          0   \n",
       "10            3          0          2  ...              0          0   \n",
       "11            3          0          4  ...              0          0   \n",
       "12            3          0          4  ...              0          0   \n",
       "13            3          0          2  ...              0          0   \n",
       "14            3          0          2  ...              0          0   \n",
       "15            3          0          4  ...              0          0   \n",
       "16            3          0          0  ...              0          0   \n",
       "17            3          0          4  ...              0          0   \n",
       "18            3          0          4  ...              0          0   \n",
       "19            1          0          4  ...              0          0   \n",
       "\n",
       "    ScreenPorch  PoolArea  MiscVal  MoSold  YrSold  SaleType  SaleCondition  \\\n",
       "0           120         0        0       6    2010         8              4   \n",
       "1             0         0    12500       6    2010         8              4   \n",
       "2             0         0        0       3    2010         8              4   \n",
       "3             0         0        0       6    2010         8              4   \n",
       "4           144         0        0       1    2010         8              4   \n",
       "5             0         0        0       4    2010         8              4   \n",
       "6             0         0      500       3    2010         8              4   \n",
       "7             0         0        0       5    2010         8              4   \n",
       "8             0         0        0       2    2010         8              4   \n",
       "9             0         0        0       4    2010         8              4   \n",
       "10            0         0        0       6    2010         8              4   \n",
       "11            0         0        0       2    2010         0              4   \n",
       "12            0         0        0       3    2010         8              4   \n",
       "13            0         0        0       6    2010         8              4   \n",
       "14            0         0        0       6    2010         8              4   \n",
       "15            0         0        0       1    2010         6              5   \n",
       "16            0         0        0       6    2010         6              5   \n",
       "17            0         0        0       6    2010         8              4   \n",
       "18            0         0        0       2    2010         8              4   \n",
       "19            0         0        0       6    2010         8              4   \n",
       "\n",
       "       Price  \n",
       "0   13300000  \n",
       "1   12250000  \n",
       "2   12250000  \n",
       "3   12215000  \n",
       "4   11410000  \n",
       "5   10850000  \n",
       "6   10150000  \n",
       "7   10150000  \n",
       "8    9870000  \n",
       "9    9800000  \n",
       "10   9800000  \n",
       "11   9681000  \n",
       "12   9310000  \n",
       "13   9240000  \n",
       "14   9240000  \n",
       "15   9100000  \n",
       "16   9100000  \n",
       "17   8960000  \n",
       "18   8890000  \n",
       "19   8855000  \n",
       "\n",
       "[20 rows x 76 columns]"
      ]
     },
     "execution_count": 23,
     "metadata": {},
     "output_type": "execute_result"
    }
   ],
   "source": [
    "data_clean1.head(20)"
   ]
  },
  {
   "cell_type": "markdown",
   "id": "a281a332",
   "metadata": {},
   "source": [
    "# 4. creating the contingency tables "
   ]
  },
  {
   "cell_type": "markdown",
   "id": "c98560a8",
   "metadata": {},
   "source": [
    "#1. coningeny tables between two categorical variables "
   ]
  },
  {
   "cell_type": "code",
   "execution_count": 24,
   "id": "014fd0e5",
   "metadata": {},
   "outputs": [],
   "source": [
    "# Neighborhood and house style  "
   ]
  },
  {
   "cell_type": "code",
   "execution_count": 25,
   "id": "d47c37cb",
   "metadata": {},
   "outputs": [],
   "source": [
    "contingency_table = pd.crosstab(data['Neighborhood'], data['HouseStyle'])"
   ]
  },
  {
   "cell_type": "code",
   "execution_count": 26,
   "id": "8233bfa5",
   "metadata": {},
   "outputs": [
    {
     "name": "stdout",
     "output_type": "stream",
     "text": [
      "HouseStyle    1.5Fin  1.5Unf  1Story  2.5Unf  2Story  SFoyer  SLvl\n",
      "Neighborhood                                                      \n",
      "Blmngtn            0       0      11       0       0       0     0\n",
      "Blueste            0       0       3       0       5       0     0\n",
      "BrDale             0       0       0       0      14       0     0\n",
      "BrkSide           31       2      12       1       4       0     0\n",
      "ClearCr            2       0      11       0       2       0     1\n",
      "CollgCr            0       0      67       0      45       2     3\n",
      "Crawfor           12       0      22       3      13       0     2\n",
      "Edwards           21       0      49       1      10       8     5\n",
      "Gilbert            0       0      15       0      59       0    12\n",
      "IDOTRR            20       1      20       1      11       1     2\n",
      "MeadowV            0       0       2       0      14       2     2\n",
      "Mitchel            1       0      35       0      11      13     5\n",
      "NAmes             14       2     172       0      13       6    11\n",
      "NPkVill            0       0       7       0       7       0     0\n",
      "NWAmes             1       0      31       0      19       4     3\n",
      "NoRidge            1       0       2       1      26       0     0\n",
      "NridgHt            0       0      59       0      30       0     0\n",
      "OldTown           40       0      37       5      43       0     1\n",
      "SWISU             10       0       6       1       6       0     0\n",
      "Sawyer             5       0      54       0       3       8     7\n",
      "SawyerW            2       0      25       0      33       2     4\n",
      "Somerst            0       0      52       0      43       0     1\n",
      "StoneBr            0       0      18       0       8       0     0\n",
      "Timber             0       0      26       0       6       0     2\n",
      "Veenker            0       0       9       0       2       0     2\n"
     ]
    }
   ],
   "source": [
    "print(contingency_table)"
   ]
  },
  {
   "cell_type": "code",
   "execution_count": 27,
   "id": "92859baa",
   "metadata": {},
   "outputs": [],
   "source": [
    "# 2 zoning vs type of dwelling "
   ]
  },
  {
   "cell_type": "code",
   "execution_count": 28,
   "id": "88c516bc",
   "metadata": {},
   "outputs": [],
   "source": [
    "contingency_table1 = pd.crosstab(data['MSZoning'], data['MSSubClass'])"
   ]
  },
  {
   "cell_type": "code",
   "execution_count": 29,
   "id": "8367986a",
   "metadata": {},
   "outputs": [
    {
     "name": "stdout",
     "output_type": "stream",
     "text": [
      "MSSubClass  20   30   40   45   50   60   70   75   80   85   90   120  150  \\\n",
      "MSZoning                                                                      \n",
      "C (all)       1    6    0    0    3    0    3    0    0    0    0    0    0   \n",
      "FV           21    0    0    0    0   18    0    0    0    0    0   14    0   \n",
      "RH            1    1    0    0    1    0    0    0    0    0    1    4    0   \n",
      "RL          508   28    2    2   71  256   27    3   57   27   49   58    1   \n",
      "RM           10   34    0    4   68    2   37    4    3    1    7   19    0   \n",
      "\n",
      "MSSubClass  160  180  190  \n",
      "MSZoning                   \n",
      "C (all)       0    0    2  \n",
      "FV           21    0    0  \n",
      "RH            0    0    2  \n",
      "RL           10    0   15  \n",
      "RM           34    7   12  \n"
     ]
    }
   ],
   "source": [
    "print(contingency_table1)"
   ]
  },
  {
   "cell_type": "code",
   "execution_count": 30,
   "id": "9433a4a7",
   "metadata": {},
   "outputs": [],
   "source": [
    "# 3 heating quality and central air "
   ]
  },
  {
   "cell_type": "code",
   "execution_count": 31,
   "id": "322bacc6",
   "metadata": {},
   "outputs": [],
   "source": [
    "contingency_table2 = pd.crosstab(data['CentralAir'], data['HeatingQC'])"
   ]
  },
  {
   "cell_type": "code",
   "execution_count": 32,
   "id": "ea96c2dc",
   "metadata": {},
   "outputs": [
    {
     "data": {
      "text/html": [
       "<div>\n",
       "<style scoped>\n",
       "    .dataframe tbody tr th:only-of-type {\n",
       "        vertical-align: middle;\n",
       "    }\n",
       "\n",
       "    .dataframe tbody tr th {\n",
       "        vertical-align: top;\n",
       "    }\n",
       "\n",
       "    .dataframe thead th {\n",
       "        text-align: right;\n",
       "    }\n",
       "</style>\n",
       "<table border=\"1\" class=\"dataframe\">\n",
       "  <thead>\n",
       "    <tr style=\"text-align: right;\">\n",
       "      <th>HeatingQC</th>\n",
       "      <th>Ex</th>\n",
       "      <th>Fa</th>\n",
       "      <th>Gd</th>\n",
       "      <th>Po</th>\n",
       "      <th>TA</th>\n",
       "    </tr>\n",
       "    <tr>\n",
       "      <th>CentralAir</th>\n",
       "      <th></th>\n",
       "      <th></th>\n",
       "      <th></th>\n",
       "      <th></th>\n",
       "      <th></th>\n",
       "    </tr>\n",
       "  </thead>\n",
       "  <tbody>\n",
       "    <tr>\n",
       "      <th>N</th>\n",
       "      <td>8</td>\n",
       "      <td>18</td>\n",
       "      <td>16</td>\n",
       "      <td>1</td>\n",
       "      <td>58</td>\n",
       "    </tr>\n",
       "    <tr>\n",
       "      <th>Y</th>\n",
       "      <td>744</td>\n",
       "      <td>25</td>\n",
       "      <td>217</td>\n",
       "      <td>1</td>\n",
       "      <td>371</td>\n",
       "    </tr>\n",
       "  </tbody>\n",
       "</table>\n",
       "</div>"
      ],
      "text/plain": [
       "HeatingQC    Ex  Fa   Gd  Po   TA\n",
       "CentralAir                       \n",
       "N             8  18   16   1   58\n",
       "Y           744  25  217   1  371"
      ]
     },
     "execution_count": 32,
     "metadata": {},
     "output_type": "execute_result"
    }
   ],
   "source": [
    "contingency_table2"
   ]
  },
  {
   "cell_type": "code",
   "execution_count": 33,
   "id": "d9d72802",
   "metadata": {},
   "outputs": [],
   "source": [
    "# 4 fireplace quality and number of fire places "
   ]
  },
  {
   "cell_type": "code",
   "execution_count": 34,
   "id": "a72fd2d8",
   "metadata": {},
   "outputs": [],
   "source": [
    "contingency_table3=pd.crosstab(data['FireplaceQu'],data['Fireplaces'])"
   ]
  },
  {
   "cell_type": "code",
   "execution_count": 35,
   "id": "06791a5d",
   "metadata": {},
   "outputs": [
    {
     "data": {
      "text/html": [
       "<div>\n",
       "<style scoped>\n",
       "    .dataframe tbody tr th:only-of-type {\n",
       "        vertical-align: middle;\n",
       "    }\n",
       "\n",
       "    .dataframe tbody tr th {\n",
       "        vertical-align: top;\n",
       "    }\n",
       "\n",
       "    .dataframe thead th {\n",
       "        text-align: right;\n",
       "    }\n",
       "</style>\n",
       "<table border=\"1\" class=\"dataframe\">\n",
       "  <thead>\n",
       "    <tr style=\"text-align: right;\">\n",
       "      <th>Fireplaces</th>\n",
       "      <th>1</th>\n",
       "      <th>2</th>\n",
       "      <th>3</th>\n",
       "      <th>4</th>\n",
       "    </tr>\n",
       "    <tr>\n",
       "      <th>FireplaceQu</th>\n",
       "      <th></th>\n",
       "      <th></th>\n",
       "      <th></th>\n",
       "      <th></th>\n",
       "    </tr>\n",
       "  </thead>\n",
       "  <tbody>\n",
       "    <tr>\n",
       "      <th>Ex</th>\n",
       "      <td>18</td>\n",
       "      <td>1</td>\n",
       "      <td>0</td>\n",
       "      <td>0</td>\n",
       "    </tr>\n",
       "    <tr>\n",
       "      <th>Fa</th>\n",
       "      <td>35</td>\n",
       "      <td>6</td>\n",
       "      <td>0</td>\n",
       "      <td>0</td>\n",
       "    </tr>\n",
       "    <tr>\n",
       "      <th>Gd</th>\n",
       "      <td>303</td>\n",
       "      <td>58</td>\n",
       "      <td>3</td>\n",
       "      <td>0</td>\n",
       "    </tr>\n",
       "    <tr>\n",
       "      <th>Po</th>\n",
       "      <td>26</td>\n",
       "      <td>0</td>\n",
       "      <td>0</td>\n",
       "      <td>0</td>\n",
       "    </tr>\n",
       "    <tr>\n",
       "      <th>TA</th>\n",
       "      <td>236</td>\n",
       "      <td>39</td>\n",
       "      <td>3</td>\n",
       "      <td>1</td>\n",
       "    </tr>\n",
       "  </tbody>\n",
       "</table>\n",
       "</div>"
      ],
      "text/plain": [
       "Fireplaces     1   2  3  4\n",
       "FireplaceQu               \n",
       "Ex            18   1  0  0\n",
       "Fa            35   6  0  0\n",
       "Gd           303  58  3  0\n",
       "Po            26   0  0  0\n",
       "TA           236  39  3  1"
      ]
     },
     "execution_count": 35,
     "metadata": {},
     "output_type": "execute_result"
    }
   ],
   "source": [
    "contingency_table3"
   ]
  },
  {
   "cell_type": "code",
   "execution_count": 36,
   "id": "7f720ce6",
   "metadata": {},
   "outputs": [],
   "source": [
    "# 4 type of roof and roof material "
   ]
  },
  {
   "cell_type": "code",
   "execution_count": 37,
   "id": "c1a61289",
   "metadata": {},
   "outputs": [],
   "source": [
    "contingency_table4=pd.crosstab(data['RoofStyle'],data['RoofMatl'])"
   ]
  },
  {
   "cell_type": "code",
   "execution_count": 38,
   "id": "831ffd10",
   "metadata": {},
   "outputs": [
    {
     "data": {
      "text/html": [
       "<div>\n",
       "<style scoped>\n",
       "    .dataframe tbody tr th:only-of-type {\n",
       "        vertical-align: middle;\n",
       "    }\n",
       "\n",
       "    .dataframe tbody tr th {\n",
       "        vertical-align: top;\n",
       "    }\n",
       "\n",
       "    .dataframe thead th {\n",
       "        text-align: right;\n",
       "    }\n",
       "</style>\n",
       "<table border=\"1\" class=\"dataframe\">\n",
       "  <thead>\n",
       "    <tr style=\"text-align: right;\">\n",
       "      <th>RoofMatl</th>\n",
       "      <th>CompShg</th>\n",
       "      <th>Tar&amp;Grv</th>\n",
       "      <th>WdShake</th>\n",
       "      <th>WdShngl</th>\n",
       "    </tr>\n",
       "    <tr>\n",
       "      <th>RoofStyle</th>\n",
       "      <th></th>\n",
       "      <th></th>\n",
       "      <th></th>\n",
       "      <th></th>\n",
       "    </tr>\n",
       "  </thead>\n",
       "  <tbody>\n",
       "    <tr>\n",
       "      <th>Flat</th>\n",
       "      <td>0</td>\n",
       "      <td>7</td>\n",
       "      <td>0</td>\n",
       "      <td>0</td>\n",
       "    </tr>\n",
       "    <tr>\n",
       "      <th>Gable</th>\n",
       "      <td>1164</td>\n",
       "      <td>5</td>\n",
       "      <td>0</td>\n",
       "      <td>0</td>\n",
       "    </tr>\n",
       "    <tr>\n",
       "      <th>Gambrel</th>\n",
       "      <td>11</td>\n",
       "      <td>0</td>\n",
       "      <td>0</td>\n",
       "      <td>0</td>\n",
       "    </tr>\n",
       "    <tr>\n",
       "      <th>Hip</th>\n",
       "      <td>262</td>\n",
       "      <td>0</td>\n",
       "      <td>3</td>\n",
       "      <td>0</td>\n",
       "    </tr>\n",
       "    <tr>\n",
       "      <th>Mansard</th>\n",
       "      <td>3</td>\n",
       "      <td>0</td>\n",
       "      <td>1</td>\n",
       "      <td>0</td>\n",
       "    </tr>\n",
       "    <tr>\n",
       "      <th>Shed</th>\n",
       "      <td>2</td>\n",
       "      <td>0</td>\n",
       "      <td>0</td>\n",
       "      <td>1</td>\n",
       "    </tr>\n",
       "  </tbody>\n",
       "</table>\n",
       "</div>"
      ],
      "text/plain": [
       "RoofMatl   CompShg  Tar&Grv  WdShake  WdShngl\n",
       "RoofStyle                                    \n",
       "Flat             0        7        0        0\n",
       "Gable         1164        5        0        0\n",
       "Gambrel         11        0        0        0\n",
       "Hip            262        0        3        0\n",
       "Mansard          3        0        1        0\n",
       "Shed             2        0        0        1"
      ]
     },
     "execution_count": 38,
     "metadata": {},
     "output_type": "execute_result"
    }
   ],
   "source": [
    "contingency_table4"
   ]
  },
  {
   "cell_type": "code",
   "execution_count": 39,
   "id": "dc288af4",
   "metadata": {},
   "outputs": [],
   "source": [
    "# 5 elctrical system , heating quality and air conditioning "
   ]
  },
  {
   "cell_type": "code",
   "execution_count": 40,
   "id": "5df51353",
   "metadata": {},
   "outputs": [],
   "source": [
    "contingency_table5=pd.crosstab(data['Electrical'],data['CentralAir'])"
   ]
  },
  {
   "cell_type": "code",
   "execution_count": 41,
   "id": "77b70db0",
   "metadata": {},
   "outputs": [
    {
     "data": {
      "text/html": [
       "<div>\n",
       "<style scoped>\n",
       "    .dataframe tbody tr th:only-of-type {\n",
       "        vertical-align: middle;\n",
       "    }\n",
       "\n",
       "    .dataframe tbody tr th {\n",
       "        vertical-align: top;\n",
       "    }\n",
       "\n",
       "    .dataframe thead th {\n",
       "        text-align: right;\n",
       "    }\n",
       "</style>\n",
       "<table border=\"1\" class=\"dataframe\">\n",
       "  <thead>\n",
       "    <tr style=\"text-align: right;\">\n",
       "      <th>CentralAir</th>\n",
       "      <th>N</th>\n",
       "      <th>Y</th>\n",
       "    </tr>\n",
       "    <tr>\n",
       "      <th>Electrical</th>\n",
       "      <th></th>\n",
       "      <th></th>\n",
       "    </tr>\n",
       "  </thead>\n",
       "  <tbody>\n",
       "    <tr>\n",
       "      <th>FuseA</th>\n",
       "      <td>28</td>\n",
       "      <td>66</td>\n",
       "    </tr>\n",
       "    <tr>\n",
       "      <th>FuseF</th>\n",
       "      <td>12</td>\n",
       "      <td>11</td>\n",
       "    </tr>\n",
       "    <tr>\n",
       "      <th>FuseP</th>\n",
       "      <td>4</td>\n",
       "      <td>1</td>\n",
       "    </tr>\n",
       "    <tr>\n",
       "      <th>SBrkr</th>\n",
       "      <td>57</td>\n",
       "      <td>1280</td>\n",
       "    </tr>\n",
       "  </tbody>\n",
       "</table>\n",
       "</div>"
      ],
      "text/plain": [
       "CentralAir   N     Y\n",
       "Electrical          \n",
       "FuseA       28    66\n",
       "FuseF       12    11\n",
       "FuseP        4     1\n",
       "SBrkr       57  1280"
      ]
     },
     "execution_count": 41,
     "metadata": {},
     "output_type": "execute_result"
    }
   ],
   "source": [
    "contingency_table5"
   ]
  },
  {
   "cell_type": "markdown",
   "id": "60febc55",
   "metadata": {},
   "source": [
    "# 5 Using Chi-square to determine whethr there is a significant difference between the variables "
   ]
  },
  {
   "cell_type": "code",
   "execution_count": 42,
   "id": "773eaa43",
   "metadata": {},
   "outputs": [],
   "source": [
    "import pandas as pd\n",
    "from scipy.stats import chi2_contingency"
   ]
  },
  {
   "cell_type": "code",
   "execution_count": 43,
   "id": "8428fe2a",
   "metadata": {},
   "outputs": [],
   "source": [
    "# 1 for the first contingency table "
   ]
  },
  {
   "cell_type": "code",
   "execution_count": 44,
   "id": "e7fa70de",
   "metadata": {},
   "outputs": [
    {
     "name": "stdout",
     "output_type": "stream",
     "text": [
      "Chi-square statistic: 907.7995948640149\n",
      "P-value: 4.591814585050864e-111\n",
      "Degrees of freedom: 144\n",
      "Expected frequencies: [[1.20630569e+00 3.76970528e-02 5.61686086e+00 9.80123372e-02\n",
      "  3.21932831e+00 3.46812886e-01 4.74982865e-01]\n",
      " [8.77313228e-01 2.74160384e-02 4.08498972e+00 7.12816998e-02\n",
      "  2.34132968e+00 2.52227553e-01 3.45442084e-01]\n",
      " [1.53529815e+00 4.79780672e-02 7.14873201e+00 1.24742975e-01\n",
      "  4.09732694e+00 4.41398218e-01 6.04523646e-01]\n",
      " [5.48320768e+00 1.71350240e-01 2.55311857e+01 4.45510624e-01\n",
      "  1.46333105e+01 1.57642221e+00 2.15901302e+00]\n",
      " [1.75462646e+00 5.48320768e-02 8.16997944e+00 1.42563400e-01\n",
      "  4.68265936e+00 5.04455106e-01 6.90884167e-01]\n",
      " [1.28307060e+01 4.00959561e-01 5.97429746e+01 1.04249486e+00\n",
      "  3.42419465e+01 3.68882796e+00 5.05209047e+00]\n",
      " [5.70253598e+00 1.78204249e-01 2.65524332e+01 4.63331049e-01\n",
      "  1.52186429e+01 1.63947910e+00 2.24537354e+00]\n",
      " [1.03084304e+01 3.22138451e-01 4.79986292e+01 8.37559973e-01\n",
      "  2.75106237e+01 2.96367375e+00 4.05894448e+00]\n",
      " [9.43111720e+00 2.94722413e-01 4.39136395e+01 7.66278273e-01\n",
      "  2.51692940e+01 2.71144620e+00 3.71350240e+00]\n",
      " [6.14119260e+00 1.91912269e-01 2.85949280e+01 4.98971899e-01\n",
      "  1.63893077e+01 1.76559287e+00 2.41809459e+00]\n",
      " [2.19328307e+00 6.85400960e-02 1.02124743e+01 1.78204249e-01\n",
      "  5.85332419e+00 6.30568883e-01 8.63605209e-01]\n",
      " [7.12816998e+00 2.22755312e-01 3.31905415e+01 5.79163811e-01\n",
      "  1.90233036e+01 2.04934887e+00 2.80671693e+00]\n",
      " [2.39067855e+01 7.47087046e-01 1.11315970e+02 1.94242632e+00\n",
      "  6.38012337e+01 6.87320082e+00 9.41329678e+00]\n",
      " [1.53529815e+00 4.79780672e-02 7.14873201e+00 1.24742975e-01\n",
      "  4.09732694e+00 4.41398218e-01 6.04523646e-01]\n",
      " [6.36052090e+00 1.98766278e-01 2.96161755e+01 5.16792324e-01\n",
      "  1.69746402e+01 1.82864976e+00 2.50445511e+00]\n",
      " [3.28992461e+00 1.02810144e-01 1.53187114e+01 2.67306374e-01\n",
      "  8.77998629e+00 9.45853324e-01 1.29540781e+00]\n",
      " [9.76010966e+00 3.05003427e-01 4.54455106e+01 7.93008910e-01\n",
      "  2.60472927e+01 2.80603153e+00 3.84304318e+00]\n",
      " [1.38176833e+01 4.31802605e-01 6.43385881e+01 1.12268677e+00\n",
      "  3.68759424e+01 3.97258396e+00 5.44071282e+00]\n",
      " [2.52227553e+00 7.88211103e-02 1.17443454e+01 2.04934887e-01\n",
      "  6.73132282e+00 7.25154215e-01 9.93145990e-01]\n",
      " [8.44413982e+00 2.63879369e-01 3.93180260e+01 6.86086361e-01\n",
      "  2.25352981e+01 2.42769020e+00 3.32488005e+00]\n",
      " [7.23783413e+00 2.26182317e-01 3.37011652e+01 5.88074023e-01\n",
      "  1.93159698e+01 2.08087731e+00 2.84989719e+00]\n",
      " [1.05277587e+01 3.28992461e-01 4.90198766e+01 8.55380398e-01\n",
      "  2.80959561e+01 3.02673064e+00 4.14530500e+00]\n",
      " [2.85126799e+00 8.91021247e-02 1.32762166e+01 2.31665524e-01\n",
      "  7.60932145e+00 8.19739548e-01 1.12268677e+00]\n",
      " [3.72858122e+00 1.16518163e-01 1.73612063e+01 3.02947224e-01\n",
      "  9.95065113e+00 1.07196710e+00 1.46812886e+00]\n",
      " [1.42563400e+00 4.45510624e-02 6.63810829e+00 1.15832762e-01\n",
      "  3.80466073e+00 4.09869774e-01 5.61343386e-01]]\n"
     ]
    }
   ],
   "source": [
    "chi2_stat, p_val, dof, expected = chi2_contingency(contingency_table)\n",
    "\n",
    "# print the results\n",
    "print('Chi-square statistic:', chi2_stat)\n",
    "print('P-value:', p_val)\n",
    "print('Degrees of freedom:', dof)\n",
    "print('Expected frequencies:', expected)"
   ]
  },
  {
   "cell_type": "markdown",
   "id": "7a84facf",
   "metadata": {},
   "source": [
    "- the results indicate a signiifcant relationship between the two variables "
   ]
  },
  {
   "cell_type": "code",
   "execution_count": 45,
   "id": "a0342107",
   "metadata": {},
   "outputs": [],
   "source": [
    "# second contingency table "
   ]
  },
  {
   "cell_type": "code",
   "execution_count": 46,
   "id": "e6a84a9a",
   "metadata": {},
   "outputs": [
    {
     "name": "stdout",
     "output_type": "stream",
     "text": [
      "Chi-square statistic: 776.9974114690623\n",
      "P-value: 2.8609492282874874e-125\n",
      "Degrees of freedom: 60\n",
      "Expected frequencies: [[5.57731959e+00 7.11340206e-01 2.06185567e-02 6.18556701e-02\n",
      "  1.47422680e+00 2.84536082e+00 6.90721649e-01 7.21649485e-02\n",
      "  6.18556701e-01 2.88659794e-01 5.87628866e-01 9.79381443e-01\n",
      "  1.03092784e-02 6.70103093e-01 7.21649485e-02 3.19587629e-01]\n",
      " [2.75147766e+01 3.50927835e+00 1.01718213e-01 3.05154639e-01\n",
      "  7.27285223e+00 1.40371134e+01 3.40756014e+00 3.56013746e-01\n",
      "  3.05154639e+00 1.42405498e+00 2.89896907e+00 4.83161512e+00\n",
      "  5.08591065e-02 3.30584192e+00 3.56013746e-01 1.57663230e+00]\n",
      " [3.71821306e+00 4.74226804e-01 1.37457045e-02 4.12371134e-02\n",
      "  9.82817869e-01 1.89690722e+00 4.60481100e-01 4.81099656e-02\n",
      "  4.12371134e-01 1.92439863e-01 3.91752577e-01 6.52920962e-01\n",
      "  6.87285223e-03 4.46735395e-01 4.81099656e-02 2.13058419e-01]\n",
      " [4.14208935e+02 5.28288660e+01 1.53127148e+00 4.59381443e+00\n",
      "  1.09485911e+02 2.11315464e+02 5.12975945e+01 5.35945017e+00\n",
      "  4.59381443e+01 2.14378007e+01 4.36412371e+01 7.27353952e+01\n",
      "  7.65635739e-01 4.97663230e+01 5.35945017e+00 2.37347079e+01]\n",
      " [8.99807560e+01 1.14762887e+01 3.32646048e-01 9.97938144e-01\n",
      "  2.37841924e+01 4.59051546e+01 1.11436426e+01 1.16426117e+00\n",
      "  9.97938144e+00 4.65704467e+00 9.48041237e+00 1.58006873e+01\n",
      "  1.66323024e-01 1.08109966e+01 1.16426117e+00 5.15601375e+00]]\n"
     ]
    }
   ],
   "source": [
    "chi2_stat, p_val, dof, expected = chi2_contingency(contingency_table1)\n",
    "\n",
    "# print the results\n",
    "print('Chi-square statistic:', chi2_stat)\n",
    "print('P-value:', p_val)\n",
    "print('Degrees of freedom:', dof)\n",
    "print('Expected frequencies:', expected)"
   ]
  },
  {
   "cell_type": "markdown",
   "id": "97ee2081",
   "metadata": {},
   "source": [
    "- the results indicate a significant relationship between the two variables since the p-value is < than 0.05"
   ]
  },
  {
   "cell_type": "code",
   "execution_count": 47,
   "id": "dd6c9697",
   "metadata": {},
   "outputs": [],
   "source": [
    "# third contingency table "
   ]
  },
  {
   "cell_type": "code",
   "execution_count": 48,
   "id": "a28a8d3b",
   "metadata": {},
   "outputs": [
    {
     "name": "stdout",
     "output_type": "stream",
     "text": [
      "Chi-square statistic: 156.26104680755472\n",
      "P-value: 9.261660470996078e-33\n",
      "Degrees of freedom: 4\n",
      "Expected frequencies: [[5.20575737e+01 2.97669637e+00 1.61295408e+01 1.38450994e-01\n",
      "  2.96977382e+01]\n",
      " [6.99942426e+02 4.00233036e+01 2.16870459e+02 1.86154901e+00\n",
      "  3.99302262e+02]]\n"
     ]
    }
   ],
   "source": [
    "chi2_stat, p_val, dof, expected = chi2_contingency(contingency_table2)\n",
    "\n",
    "# print the results\n",
    "print('Chi-square statistic:', chi2_stat)\n",
    "print('P-value:', p_val)\n",
    "print('Degrees of freedom:', dof)\n",
    "print('Expected frequencies:', expected)"
   ]
  },
  {
   "cell_type": "markdown",
   "id": "6c21e629",
   "metadata": {},
   "source": [
    "- the results show a significant relationship between the two variables since the p-value < 0.05"
   ]
  },
  {
   "cell_type": "code",
   "execution_count": 49,
   "id": "8566ebd2",
   "metadata": {},
   "outputs": [],
   "source": [
    "# fourth contingency table "
   ]
  },
  {
   "cell_type": "code",
   "execution_count": 50,
   "id": "ea95261f",
   "metadata": {},
   "outputs": [
    {
     "name": "stdout",
     "output_type": "stream",
     "text": [
      "Chi-square statistic: 9.092101117705248\n",
      "P-value: 0.6950442879792258\n",
      "Degrees of freedom: 12\n",
      "Expected frequencies: [[1.61069959e+01 2.71056241e+00 1.56378601e-01 2.60631001e-02]\n",
      " [3.47572016e+01 5.84910837e+00 3.37448560e-01 5.62414266e-02]\n",
      " [3.08576132e+02 5.19286694e+01 2.99588477e+00 4.99314129e-01]\n",
      " [2.20411523e+01 3.70919067e+00 2.13991770e-01 3.56652949e-02]\n",
      " [2.36518519e+02 3.98024691e+01 2.29629630e+00 3.82716049e-01]]\n"
     ]
    }
   ],
   "source": [
    "chi2_stat, p_val, dof, expected = chi2_contingency(contingency_table3)\n",
    "\n",
    "# print the results\n",
    "print('Chi-square statistic:', chi2_stat)\n",
    "print('P-value:', p_val)\n",
    "print('Degrees of freedom:', dof)\n",
    "print('Expected frequencies:', expected)"
   ]
  },
  {
   "cell_type": "markdown",
   "id": "6c0f218b",
   "metadata": {},
   "source": [
    "- the p-value is > 0.05 and so , there is no significant relationship between the two variables "
   ]
  },
  {
   "cell_type": "code",
   "execution_count": 51,
   "id": "c87e4b4b",
   "metadata": {},
   "outputs": [],
   "source": [
    "# fifth contingency table "
   ]
  },
  {
   "cell_type": "code",
   "execution_count": 52,
   "id": "a195f1b3",
   "metadata": {},
   "outputs": [
    {
     "name": "stdout",
     "output_type": "stream",
     "text": [
      "Chi-square statistic: 1434.1203784563504\n",
      "P-value: 7.54474301628423e-297\n",
      "Degrees of freedom: 15\n",
      "Expected frequencies: [[6.91843729e+00 5.75736806e-02 1.91912269e-02 4.79780672e-03]\n",
      " [1.15537903e+03 9.61480466e+00 3.20493489e+00 8.01233722e-01]\n",
      " [1.08718300e+01 9.04729267e-02 3.01576422e-02 7.53941056e-03]\n",
      " [2.61912269e+02 2.17957505e+00 7.26525017e-01 1.81631254e-01]\n",
      " [3.95339273e+00 3.28992461e-02 1.09664154e-02 2.74160384e-03]\n",
      " [2.96504455e+00 2.46744345e-02 8.22481151e-03 2.05620288e-03]]\n"
     ]
    }
   ],
   "source": [
    "chi2_stat, p_val, dof, expected = chi2_contingency(contingency_table4)\n",
    "\n",
    "# print the results\n",
    "print('Chi-square statistic:', chi2_stat)\n",
    "print('P-value:', p_val)\n",
    "print('Degrees of freedom:', dof)\n",
    "print('Expected frequencies:', expected)"
   ]
  },
  {
   "cell_type": "markdown",
   "id": "1a6bf3bd",
   "metadata": {},
   "source": [
    "- The results indicate that there exists a significant relationship between the two variables "
   ]
  },
  {
   "cell_type": "code",
   "execution_count": 53,
   "id": "00f02a37",
   "metadata": {},
   "outputs": [],
   "source": [
    "# sixth contingency table "
   ]
  },
  {
   "cell_type": "code",
   "execution_count": 54,
   "id": "b9968865",
   "metadata": {},
   "outputs": [
    {
     "name": "stdout",
     "output_type": "stream",
     "text": [
      "Chi-square statistic: 205.47731645673883\n",
      "P-value: 2.7643181719339983e-44\n",
      "Degrees of freedom: 3\n",
      "Expected frequencies: [[6.50719671e+00 8.74928033e+01]\n",
      " [1.59218643e+00 2.14078136e+01]\n",
      " [3.46127485e-01 4.65387252e+00]\n",
      " [9.25544894e+01 1.24444551e+03]]\n"
     ]
    }
   ],
   "source": [
    "chi2_stat, p_val, dof, expected = chi2_contingency(contingency_table5)\n",
    "\n",
    "# print the results\n",
    "print('Chi-square statistic:', chi2_stat)\n",
    "print('P-value:', p_val)\n",
    "print('Degrees of freedom:', dof)\n",
    "print('Expected frequencies:', expected)"
   ]
  },
  {
   "cell_type": "markdown",
   "id": "b5b7b2b6",
   "metadata": {},
   "source": [
    "- The results indicate that there exists a significant relationship between the two variables "
   ]
  },
  {
   "cell_type": "markdown",
   "id": "05fd1551",
   "metadata": {},
   "source": [
    "# 6. Corresponence analysis "
   ]
  },
  {
   "cell_type": "code",
   "execution_count": 55,
   "id": "68bafd3f",
   "metadata": {},
   "outputs": [],
   "source": [
    "import prince\n",
    "from prince import MCA\n",
    "import seaborn as sns\n",
    "import matplotlib.pyplot as plt\n",
    "from prince import CA"
   ]
  },
  {
   "cell_type": "code",
   "execution_count": 56,
   "id": "676818d1",
   "metadata": {},
   "outputs": [],
   "source": [
    "# sixth contingency table"
   ]
  },
  {
   "cell_type": "code",
   "execution_count": 57,
   "id": "0ecc9002",
   "metadata": {},
   "outputs": [],
   "source": [
    "ca=prince.CA(\n",
    "    n_components=2,\n",
    "    n_iter=3,\n",
    "    copy=True,\n",
    "    check_input=True,\n",
    "    engine=\"sklearn\",\n",
    "    random_state=42)"
   ]
  },
  {
   "cell_type": "code",
   "execution_count": 58,
   "id": "1f48e263",
   "metadata": {},
   "outputs": [],
   "source": [
    "contingency_table5=pd.crosstab(data_clean['Electrical'],data_clean['CentralAir'])"
   ]
  },
  {
   "cell_type": "code",
   "execution_count": 59,
   "id": "6d8d3de8",
   "metadata": {},
   "outputs": [],
   "source": [
    "ca = prince.CA(n_components=2)\n",
    "ca=ca.fit(contingency_table5)"
   ]
  },
  {
   "cell_type": "code",
   "execution_count": 60,
   "id": "3314dbf8",
   "metadata": {},
   "outputs": [
    {
     "data": {
      "text/plain": [
       "{'Total inertia': 0.14083434986753862}"
      ]
     },
     "execution_count": 60,
     "metadata": {},
     "output_type": "execute_result"
    }
   ],
   "source": [
    "summary = {\n",
    "    'Total inertia': ca.total_inertia_,\n",
    "}\n",
    "summary"
   ]
  },
  {
   "cell_type": "code",
   "execution_count": 61,
   "id": "12e7ad1d",
   "metadata": {},
   "outputs": [],
   "source": [
    "sv = np.sqrt(ca.total_inertia_)"
   ]
  },
  {
   "cell_type": "code",
   "execution_count": 62,
   "id": "073094bb",
   "metadata": {},
   "outputs": [
    {
     "name": "stdout",
     "output_type": "stream",
     "text": [
      "Explained variance: 1.0\n"
     ]
    }
   ],
   "source": [
    "# explained variance for each dimension \n",
    "explained_var = sv**2 / np.sum(sv**2)\n",
    "print('Explained variance:', explained_var)"
   ]
  },
  {
   "cell_type": "code",
   "execution_count": 63,
   "id": "b51fc21e",
   "metadata": {},
   "outputs": [],
   "source": [
    "u, s, vh = np.linalg.svd(contingency_table5)\n",
    "eigenvalues = (s ** 2) / contingency_table5.values.sum()"
   ]
  },
  {
   "cell_type": "code",
   "execution_count": 64,
   "id": "6de3abc4",
   "metadata": {
    "scrolled": true
   },
   "outputs": [
    {
     "name": "stdout",
     "output_type": "stream",
     "text": [
      "Eigen Values: [1.12837448e+03 5.29563346e-01]\n"
     ]
    }
   ],
   "source": [
    "print(\"Eigen Values:\",eigenvalues)"
   ]
  },
  {
   "cell_type": "markdown",
   "id": "76281588",
   "metadata": {},
   "source": [
    "- since the eigen value for the first dimension is greater than 1 , there exists a relationship between the twoo variables"
   ]
  },
  {
   "cell_type": "code",
   "execution_count": 65,
   "id": "05232a5c",
   "metadata": {},
   "outputs": [],
   "source": [
    "# fifth contingency table"
   ]
  },
  {
   "cell_type": "code",
   "execution_count": 66,
   "id": "b1eee85e",
   "metadata": {},
   "outputs": [],
   "source": [
    "ca2=ca.fit(contingency_table4)"
   ]
  },
  {
   "cell_type": "code",
   "execution_count": 67,
   "id": "41be1a8f",
   "metadata": {},
   "outputs": [
    {
     "data": {
      "text/plain": [
       "{'Total inertia': 0.9829474835204596}"
      ]
     },
     "execution_count": 67,
     "metadata": {},
     "output_type": "execute_result"
    }
   ],
   "source": [
    "summary = {\n",
    "    'Total inertia': ca2.total_inertia_,\n",
    "}\n",
    "summary"
   ]
  },
  {
   "cell_type": "code",
   "execution_count": 68,
   "id": "b12b9a9a",
   "metadata": {},
   "outputs": [],
   "source": [
    "sv2 = np.sqrt(ca.total_inertia_)"
   ]
  },
  {
   "cell_type": "code",
   "execution_count": 69,
   "id": "56ee77cf",
   "metadata": {},
   "outputs": [
    {
     "name": "stdout",
     "output_type": "stream",
     "text": [
      "Explained variance: 1.0\n"
     ]
    }
   ],
   "source": [
    "# explained variance for each dimension \n",
    "explained_var2 = sv2**2 / np.sum(sv2**2)\n",
    "print('Explained variance:', explained_var2)"
   ]
  },
  {
   "cell_type": "code",
   "execution_count": 70,
   "id": "f1f1176f",
   "metadata": {},
   "outputs": [],
   "source": [
    "u, s, vh = np.linalg.svd(contingency_table4)\n",
    "eigenvalues1 = (s ** 2) / contingency_table4.values.sum()"
   ]
  },
  {
   "cell_type": "code",
   "execution_count": 71,
   "id": "749cdc3a",
   "metadata": {},
   "outputs": [
    {
     "name": "stdout",
     "output_type": "stream",
     "text": [
      "Eigen Values: [9.75804133e+02 3.45862263e-02 6.37996009e-03 6.85397881e-04]\n"
     ]
    }
   ],
   "source": [
    "print(\"Eigen Values:\",eigenvalues1)"
   ]
  },
  {
   "cell_type": "markdown",
   "id": "3e67d3a9",
   "metadata": {},
   "source": [
    "- since the first dimension has an eigen value of greater than 1 , there exists a relationship but it is not quite significant "
   ]
  },
  {
   "cell_type": "code",
   "execution_count": 72,
   "id": "7601979b",
   "metadata": {},
   "outputs": [],
   "source": [
    "# fourth contingency table "
   ]
  },
  {
   "cell_type": "code",
   "execution_count": 73,
   "id": "e4c9b4a9",
   "metadata": {},
   "outputs": [],
   "source": [
    "ca3=ca.fit(contingency_table3)"
   ]
  },
  {
   "cell_type": "code",
   "execution_count": 74,
   "id": "63d50406",
   "metadata": {},
   "outputs": [
    {
     "data": {
      "text/plain": [
       "{'Total inertia': 0.012472017994108705}"
      ]
     },
     "execution_count": 74,
     "metadata": {},
     "output_type": "execute_result"
    }
   ],
   "source": [
    "summary = {\n",
    "    'Total inertia': ca3.total_inertia_,\n",
    "}\n",
    "summary"
   ]
  },
  {
   "cell_type": "code",
   "execution_count": 75,
   "id": "0718bd92",
   "metadata": {},
   "outputs": [],
   "source": [
    "sv3 = np.sqrt(ca.total_inertia_)"
   ]
  },
  {
   "cell_type": "code",
   "execution_count": 76,
   "id": "73881c4c",
   "metadata": {},
   "outputs": [
    {
     "name": "stdout",
     "output_type": "stream",
     "text": [
      "Explained variance: 1.0\n"
     ]
    }
   ],
   "source": [
    "# explained variance for each dimension \n",
    "explained_var3 = sv3**2 / np.sum(sv3**2)\n",
    "print('Explained variance:', explained_var3)"
   ]
  },
  {
   "cell_type": "code",
   "execution_count": 77,
   "id": "8ead374b",
   "metadata": {},
   "outputs": [],
   "source": [
    "u, s, vh = np.linalg.svd(contingency_table3)\n",
    "eigenvalues2 = (s ** 2) / contingency_table3.values.sum()"
   ]
  },
  {
   "cell_type": "code",
   "execution_count": 78,
   "id": "6afaa613",
   "metadata": {},
   "outputs": [
    {
     "name": "stdout",
     "output_type": "stream",
     "text": [
      "Eigen values: [2.12099270e+02 6.82129796e-02 1.18512647e-03 5.63886109e-05]\n"
     ]
    }
   ],
   "source": [
    "print(\"Eigen values:\",eigenvalues2)"
   ]
  },
  {
   "cell_type": "markdown",
   "id": "e7ecee7c",
   "metadata": {},
   "source": [
    "- since the first dimension has an eigen value of greater than 1 , there exists a relationship but it is not quite significant "
   ]
  },
  {
   "cell_type": "markdown",
   "id": "6fc271a6",
   "metadata": {},
   "source": [
    "# 7 . machine learning methods "
   ]
  },
  {
   "cell_type": "markdown",
   "id": "a5dfd1a4",
   "metadata": {},
   "source": [
    "#1. Decision trees "
   ]
  },
  {
   "cell_type": "code",
   "execution_count": 79,
   "id": "2693dc71",
   "metadata": {},
   "outputs": [],
   "source": [
    "from sklearn.model_selection import train_test_split\n",
    "from sklearn.tree import DecisionTreeRegressor\n",
    "from sklearn import metrics "
   ]
  },
  {
   "cell_type": "code",
   "execution_count": 80,
   "id": "7a0c0811",
   "metadata": {},
   "outputs": [],
   "source": [
    "import dtreeviz"
   ]
  },
  {
   "cell_type": "code",
   "execution_count": 81,
   "id": "3521c4a2",
   "metadata": {},
   "outputs": [],
   "source": [
    "# fitting the model with all the variables "
   ]
  },
  {
   "cell_type": "code",
   "execution_count": 82,
   "id": "0f42b75e",
   "metadata": {},
   "outputs": [],
   "source": [
    "X=data_clean1.drop('Price',axis=1)\n",
    "y=data_clean1['Price']"
   ]
  },
  {
   "cell_type": "code",
   "execution_count": 83,
   "id": "4f40e430",
   "metadata": {},
   "outputs": [],
   "source": [
    "X_train,X_test,y_train,y_test=train_test_split(X,y,test_size=0.3,random_state=42)"
   ]
  },
  {
   "cell_type": "markdown",
   "id": "4282f1b5",
   "metadata": {},
   "source": [
    "#1.  the decision tree classifier "
   ]
  },
  {
   "cell_type": "code",
   "execution_count": 84,
   "id": "e5d892f4",
   "metadata": {},
   "outputs": [],
   "source": [
    "clf=DecisionTreeRegressor()"
   ]
  },
  {
   "cell_type": "code",
   "execution_count": 85,
   "id": "b6e53651",
   "metadata": {
    "scrolled": false
   },
   "outputs": [],
   "source": [
    "clf.fit(X_train,y_train)\n",
    "tr_ee=dtreeviz.model(clf, X_train,y_train, target_name='Price', feature_names=X_train.columns)"
   ]
  },
  {
   "cell_type": "code",
   "execution_count": 86,
   "id": "ea27e49a",
   "metadata": {},
   "outputs": [],
   "source": [
    "# making predictions "
   ]
  },
  {
   "cell_type": "code",
   "execution_count": 87,
   "id": "34c64b98",
   "metadata": {},
   "outputs": [],
   "source": [
    "y_pred = clf.predict(X_test)"
   ]
  },
  {
   "cell_type": "code",
   "execution_count": 88,
   "id": "253f676f",
   "metadata": {},
   "outputs": [],
   "source": [
    "# model evaluation "
   ]
  },
  {
   "cell_type": "code",
   "execution_count": 89,
   "id": "37165d8f",
   "metadata": {},
   "outputs": [
    {
     "name": "stdout",
     "output_type": "stream",
     "text": [
      "Accuracy: 0.14840182648401826\n"
     ]
    }
   ],
   "source": [
    "accuracy = metrics.accuracy_score(y_test, y_pred)\n",
    "print(\"Accuracy:\", accuracy)"
   ]
  },
  {
   "cell_type": "code",
   "execution_count": 90,
   "id": "79d254f0",
   "metadata": {},
   "outputs": [],
   "source": [
    "# important variables \n"
   ]
  },
  {
   "cell_type": "code",
   "execution_count": 91,
   "id": "0d461f6a",
   "metadata": {},
   "outputs": [
    {
     "data": {
      "text/plain": [
       "<dtreeviz.trees.DTreeVizAPI at 0x26a849e52d0>"
      ]
     },
     "execution_count": 91,
     "metadata": {},
     "output_type": "execute_result"
    }
   ],
   "source": [
    "tr_ee"
   ]
  },
  {
   "cell_type": "code",
   "execution_count": 93,
   "id": "5e6ee746",
   "metadata": {},
   "outputs": [],
   "source": [
    "feat_dict= {}\n",
    "for col, val in sorted(zip(X_train.columns, clf.feature_importances_),key=lambda x:x[1],reverse=True):\n",
    "  feat_dict[col]=val"
   ]
  },
  {
   "cell_type": "code",
   "execution_count": 94,
   "id": "86aa7323",
   "metadata": {
    "scrolled": true
   },
   "outputs": [
    {
     "name": "stdout",
     "output_type": "stream",
     "text": [
      "Feature: Id, Importance: 0.36155033393791686\n",
      "Feature: TotalBsmtSF, Importance: 0.06403576228340778\n",
      "Feature: BsmtFinSF1, Importance: 0.0484183567004436\n",
      "Feature: Neighborhood, Importance: 0.03311880389671682\n",
      "Feature: BsmtUnfSF, Importance: 0.03305727965574485\n",
      "Feature: GrLivArea, Importance: 0.031999537395042243\n",
      "Feature: LotArea, Importance: 0.03137769570722922\n",
      "Feature: MoSold, Importance: 0.030308303223316645\n",
      "Feature: 1stFlrSF, Importance: 0.02655454891151274\n",
      "Feature: OpenPorchSF, Importance: 0.026486378524528252\n",
      "Feature: WoodDeckSF, Importance: 0.022204003355062688\n",
      "Feature: GarageYrBlt, Importance: 0.022087804464763515\n",
      "Feature: LotFrontage, Importance: 0.018843777161812417\n",
      "Feature: MasVnrArea, Importance: 0.016510242049175432\n",
      "Feature: YearBuilt, Importance: 0.015794360424561456\n",
      "Feature: GarageArea, Importance: 0.015434088589853985\n",
      "Feature: LotConfig, Importance: 0.014767024194123821\n",
      "Feature: TotRmsAbvGrd, Importance: 0.014250989631945427\n",
      "Feature: GarageFinish, Importance: 0.013207445646436378\n",
      "Feature: BsmtExposure, Importance: 0.012438152995293144\n",
      "Feature: MSZoning, Importance: 0.012420708845372252\n",
      "Feature: YearRemodAdd, Importance: 0.01114301694305048\n",
      "Feature: LotShape, Importance: 0.011114996415833894\n",
      "Feature: BsmtFinType1, Importance: 0.009233648805807784\n",
      "Feature: Fireplaces, Importance: 0.008699861637825192\n",
      "Feature: Exterior1st, Importance: 0.008314877369429341\n",
      "Feature: ScreenPorch, Importance: 0.008182019138285618\n",
      "Feature: OverallCond, Importance: 0.007656868902251774\n",
      "Feature: BldgType, Importance: 0.006395522100454099\n",
      "Feature: GarageCars, Importance: 0.006293036080081253\n",
      "Feature: Condition1, Importance: 0.006272102399317668\n",
      "Feature: 2ndFlrSF, Importance: 0.0050829574480525915\n",
      "Feature: LandSlope, Importance: 0.004781348492253292\n",
      "Feature: GarageQual, Importance: 0.004774570330461935\n",
      "Feature: SaleCondition, Importance: 0.0041359980289825075\n",
      "Feature: Exterior2nd, Importance: 0.0038342102622703203\n",
      "Feature: EnclosedPorch, Importance: 0.0035523763866136806\n",
      "Feature: YrSold, Importance: 0.003271042004511722\n",
      "Feature: MasVnrType, Importance: 0.0029685154814576243\n",
      "Feature: MSSubClass, Importance: 0.0024300521992171174\n",
      "Feature: HouseStyle, Importance: 0.002284636094859899\n",
      "Feature: KitchenQual, Importance: 0.0020686400476407256\n",
      "Feature: HalfBath, Importance: 0.0020157549155300917\n",
      "Feature: OverallQual, Importance: 0.0014782126177363413\n",
      "Feature: Functional, Importance: 0.0011854952443197165\n",
      "Feature: PavedDrive, Importance: 0.0009799573403456358\n",
      "Feature: LandContour, Importance: 0.0009735542538290906\n",
      "Feature: SaleType, Importance: 0.0009664676597919059\n",
      "Feature: RoofStyle, Importance: 0.0009646183061727398\n",
      "Feature: BsmtQual, Importance: 0.0007807131373918361\n",
      "Feature: BedroomAbvGr, Importance: 0.0006039832543150878\n",
      "Feature: Foundation, Importance: 0.0005673059861806867\n",
      "Feature: ExterQual, Importance: 0.00046418311359394795\n",
      "Feature: FullBath, Importance: 0.00037989932082392375\n",
      "Feature: BsmtFullBath, Importance: 0.00031869044278163476\n",
      "Feature: BsmtFinType2, Importance: 0.00028609607444894566\n",
      "Feature: Heating, Importance: 0.0002446047821358545\n",
      "Feature: HeatingQC, Importance: 0.00019613880336821917\n",
      "Feature: BsmtCond, Importance: 0.00014310728371517238\n",
      "Feature: BsmtFinSF2, Importance: 3.806234582320034e-05\n",
      "Feature: Electrical, Importance: 2.4572078036200045e-05\n",
      "Feature: GarageType, Importance: 2.0216382455892257e-05\n",
      "Feature: GarageCond, Importance: 8.563208573363209e-06\n",
      "Feature: CentralAir, Importance: 2.1201250591204695e-06\n",
      "Feature: KitchenAbvGr, Importance: 1.4963002494890613e-06\n",
      "Feature: BsmtHalfBath, Importance: 2.5144769781878615e-07\n",
      "Feature: LowQualFinSF, Importance: 2.5354749618856023e-08\n",
      "Feature: ExterCond, Importance: 1.6057956485376345e-08\n",
      "Feature: Street, Importance: 0.0\n",
      "Feature: Utilities, Importance: 0.0\n",
      "Feature: Condition2, Importance: 0.0\n",
      "Feature: RoofMatl, Importance: 0.0\n",
      "Feature: 3SsnPorch, Importance: 0.0\n",
      "Feature: PoolArea, Importance: 0.0\n",
      "Feature: MiscVal, Importance: 0.0\n"
     ]
    }
   ],
   "source": [
    "for feature, importance in feat_dict.items():\n",
    "    print(f\"Feature: {feature}, Importance: {importance}\")"
   ]
  },
  {
   "cell_type": "code",
   "execution_count": null,
   "id": "6cd2ea5f",
   "metadata": {},
   "outputs": [],
   "source": [
    "# Based on the results some of the most important categorical variables include : Neighborhood , LotShape , MSZoning , MSSubClass and OverallCond to mention a few  "
   ]
  },
  {
   "cell_type": "code",
   "execution_count": 95,
   "id": "fba17d0b",
   "metadata": {},
   "outputs": [],
   "source": [
    "# 2. Naive Bayes Classifier "
   ]
  },
  {
   "cell_type": "code",
   "execution_count": 96,
   "id": "f3fd4dc8",
   "metadata": {},
   "outputs": [],
   "source": [
    "from sklearn.naive_bayes import GaussianNB"
   ]
  },
  {
   "cell_type": "code",
   "execution_count": 97,
   "id": "93f40511",
   "metadata": {},
   "outputs": [],
   "source": [
    "gnb = GaussianNB()"
   ]
  },
  {
   "cell_type": "code",
   "execution_count": 98,
   "id": "98f9c22c",
   "metadata": {},
   "outputs": [
    {
     "data": {
      "text/html": [
       "<style>#sk-container-id-1 {color: black;background-color: white;}#sk-container-id-1 pre{padding: 0;}#sk-container-id-1 div.sk-toggleable {background-color: white;}#sk-container-id-1 label.sk-toggleable__label {cursor: pointer;display: block;width: 100%;margin-bottom: 0;padding: 0.3em;box-sizing: border-box;text-align: center;}#sk-container-id-1 label.sk-toggleable__label-arrow:before {content: \"▸\";float: left;margin-right: 0.25em;color: #696969;}#sk-container-id-1 label.sk-toggleable__label-arrow:hover:before {color: black;}#sk-container-id-1 div.sk-estimator:hover label.sk-toggleable__label-arrow:before {color: black;}#sk-container-id-1 div.sk-toggleable__content {max-height: 0;max-width: 0;overflow: hidden;text-align: left;background-color: #f0f8ff;}#sk-container-id-1 div.sk-toggleable__content pre {margin: 0.2em;color: black;border-radius: 0.25em;background-color: #f0f8ff;}#sk-container-id-1 input.sk-toggleable__control:checked~div.sk-toggleable__content {max-height: 200px;max-width: 100%;overflow: auto;}#sk-container-id-1 input.sk-toggleable__control:checked~label.sk-toggleable__label-arrow:before {content: \"▾\";}#sk-container-id-1 div.sk-estimator input.sk-toggleable__control:checked~label.sk-toggleable__label {background-color: #d4ebff;}#sk-container-id-1 div.sk-label input.sk-toggleable__control:checked~label.sk-toggleable__label {background-color: #d4ebff;}#sk-container-id-1 input.sk-hidden--visually {border: 0;clip: rect(1px 1px 1px 1px);clip: rect(1px, 1px, 1px, 1px);height: 1px;margin: -1px;overflow: hidden;padding: 0;position: absolute;width: 1px;}#sk-container-id-1 div.sk-estimator {font-family: monospace;background-color: #f0f8ff;border: 1px dotted black;border-radius: 0.25em;box-sizing: border-box;margin-bottom: 0.5em;}#sk-container-id-1 div.sk-estimator:hover {background-color: #d4ebff;}#sk-container-id-1 div.sk-parallel-item::after {content: \"\";width: 100%;border-bottom: 1px solid gray;flex-grow: 1;}#sk-container-id-1 div.sk-label:hover label.sk-toggleable__label {background-color: #d4ebff;}#sk-container-id-1 div.sk-serial::before {content: \"\";position: absolute;border-left: 1px solid gray;box-sizing: border-box;top: 0;bottom: 0;left: 50%;z-index: 0;}#sk-container-id-1 div.sk-serial {display: flex;flex-direction: column;align-items: center;background-color: white;padding-right: 0.2em;padding-left: 0.2em;position: relative;}#sk-container-id-1 div.sk-item {position: relative;z-index: 1;}#sk-container-id-1 div.sk-parallel {display: flex;align-items: stretch;justify-content: center;background-color: white;position: relative;}#sk-container-id-1 div.sk-item::before, #sk-container-id-1 div.sk-parallel-item::before {content: \"\";position: absolute;border-left: 1px solid gray;box-sizing: border-box;top: 0;bottom: 0;left: 50%;z-index: -1;}#sk-container-id-1 div.sk-parallel-item {display: flex;flex-direction: column;z-index: 1;position: relative;background-color: white;}#sk-container-id-1 div.sk-parallel-item:first-child::after {align-self: flex-end;width: 50%;}#sk-container-id-1 div.sk-parallel-item:last-child::after {align-self: flex-start;width: 50%;}#sk-container-id-1 div.sk-parallel-item:only-child::after {width: 0;}#sk-container-id-1 div.sk-dashed-wrapped {border: 1px dashed gray;margin: 0 0.4em 0.5em 0.4em;box-sizing: border-box;padding-bottom: 0.4em;background-color: white;}#sk-container-id-1 div.sk-label label {font-family: monospace;font-weight: bold;display: inline-block;line-height: 1.2em;}#sk-container-id-1 div.sk-label-container {text-align: center;}#sk-container-id-1 div.sk-container {/* jupyter's `normalize.less` sets `[hidden] { display: none; }` but bootstrap.min.css set `[hidden] { display: none !important; }` so we also need the `!important` here to be able to override the default hidden behavior on the sphinx rendered scikit-learn.org. See: https://github.com/scikit-learn/scikit-learn/issues/21755 */display: inline-block !important;position: relative;}#sk-container-id-1 div.sk-text-repr-fallback {display: none;}</style><div id=\"sk-container-id-1\" class=\"sk-top-container\"><div class=\"sk-text-repr-fallback\"><pre>GaussianNB()</pre><b>In a Jupyter environment, please rerun this cell to show the HTML representation or trust the notebook. <br />On GitHub, the HTML representation is unable to render, please try loading this page with nbviewer.org.</b></div><div class=\"sk-container\" hidden><div class=\"sk-item\"><div class=\"sk-estimator sk-toggleable\"><input class=\"sk-toggleable__control sk-hidden--visually\" id=\"sk-estimator-id-1\" type=\"checkbox\" checked><label for=\"sk-estimator-id-1\" class=\"sk-toggleable__label sk-toggleable__label-arrow\">GaussianNB</label><div class=\"sk-toggleable__content\"><pre>GaussianNB()</pre></div></div></div></div></div>"
      ],
      "text/plain": [
       "GaussianNB()"
      ]
     },
     "execution_count": 98,
     "metadata": {},
     "output_type": "execute_result"
    }
   ],
   "source": [
    "gnb.fit(X_train,y_train)"
   ]
  },
  {
   "cell_type": "code",
   "execution_count": 99,
   "id": "9a255ec8",
   "metadata": {},
   "outputs": [],
   "source": [
    "# make predictions "
   ]
  },
  {
   "cell_type": "code",
   "execution_count": 101,
   "id": "e876e51a",
   "metadata": {},
   "outputs": [],
   "source": [
    "y_pred1 = gnb.predict(X_test)"
   ]
  },
  {
   "cell_type": "code",
   "execution_count": 102,
   "id": "54667f00",
   "metadata": {},
   "outputs": [
    {
     "name": "stdout",
     "output_type": "stream",
     "text": [
      "Accuracy: 0.0547945205479452\n"
     ]
    }
   ],
   "source": [
    "accuracy = metrics.accuracy_score(y_test, y_pred1)\n",
    "print(\"Accuracy:\", accuracy)"
   ]
  },
  {
   "cell_type": "markdown",
   "id": "a39d978e",
   "metadata": {},
   "source": [
    "# 8 . Apriori algorithm "
   ]
  },
  {
   "cell_type": "code",
   "execution_count": null,
   "id": "9d3b88c4",
   "metadata": {},
   "outputs": [],
   "source": [
    "from mlxtend.preprocessing import TransactionEncoder\n",
    "from mlxtend.frequent_patterns import apriori, association_rules"
   ]
  },
  {
   "cell_type": "code",
   "execution_count": null,
   "id": "c83717b2",
   "metadata": {},
   "outputs": [],
   "source": [
    "# overall quality and overall condition"
   ]
  },
  {
   "cell_type": "code",
   "execution_count": null,
   "id": "14c43080",
   "metadata": {},
   "outputs": [],
   "source": [
    "df_apri=data[['OverallCond','OverallQual']]"
   ]
  },
  {
   "cell_type": "code",
   "execution_count": null,
   "id": "f3fb368c",
   "metadata": {},
   "outputs": [],
   "source": [
    "df_apri"
   ]
  },
  {
   "cell_type": "code",
   "execution_count": null,
   "id": "cfd9520d",
   "metadata": {},
   "outputs": [],
   "source": [
    "# convert to categorical "
   ]
  },
  {
   "cell_type": "code",
   "execution_count": null,
   "id": "1eb09d18",
   "metadata": {},
   "outputs": [],
   "source": [
    "bins = [0, 5, 7, np.inf]\n",
    "labels = ['Low', 'Medium', 'High']\n",
    "df_apri['OverallCond_cat'] = pd.cut(df_apri['OverallCond'], bins=bins, labels=labels)\n",
    "df_apri['OverallQual_cat'] = pd.cut(df_apri['OverallQual'], bins=bins, labels=labels)"
   ]
  },
  {
   "cell_type": "code",
   "execution_count": null,
   "id": "f3c59401",
   "metadata": {
    "scrolled": true
   },
   "outputs": [],
   "source": [
    "df=df_apri.drop(['OverallCond','OverallQual'],axis=1)"
   ]
  },
  {
   "cell_type": "code",
   "execution_count": null,
   "id": "09a9dd65",
   "metadata": {},
   "outputs": [],
   "source": [
    "te = TransactionEncoder()\n",
    "te_ary = te.fit(df.values).transform(df.values)\n",
    "df_encoded = pd.DataFrame(te_ary, columns=te.columns_)"
   ]
  },
  {
   "cell_type": "markdown",
   "id": "ed792cef",
   "metadata": {},
   "source": [
    "#1. finding frequent terms in overall quality and condition of a house "
   ]
  },
  {
   "cell_type": "code",
   "execution_count": null,
   "id": "7dbcaef1",
   "metadata": {},
   "outputs": [],
   "source": [
    "frequent_itemsets = apriori(df_encoded, min_support=0.2, use_colnames=True)\n"
   ]
  },
  {
   "cell_type": "code",
   "execution_count": null,
   "id": "992b8572",
   "metadata": {},
   "outputs": [],
   "source": [
    "frequent_itemsets"
   ]
  },
  {
   "cell_type": "code",
   "execution_count": null,
   "id": "78a5f728",
   "metadata": {},
   "outputs": [],
   "source": [
    "# association rules "
   ]
  },
  {
   "cell_type": "code",
   "execution_count": null,
   "id": "d2fcf28e",
   "metadata": {},
   "outputs": [],
   "source": [
    "rules = association_rules(frequent_itemsets, metric='confidence', min_threshold=0.6)\n"
   ]
  },
  {
   "cell_type": "code",
   "execution_count": null,
   "id": "68dda511",
   "metadata": {},
   "outputs": [],
   "source": [
    "# Display frequent itemsets"
   ]
  },
  {
   "cell_type": "code",
   "execution_count": null,
   "id": "826875da",
   "metadata": {},
   "outputs": [],
   "source": [
    "print(\"Frequent Itemsets:\")\n",
    "print(frequent_itemsets)"
   ]
  },
  {
   "cell_type": "code",
   "execution_count": null,
   "id": "09eaedbf",
   "metadata": {},
   "outputs": [],
   "source": [
    "# Display association rules"
   ]
  },
  {
   "cell_type": "code",
   "execution_count": null,
   "id": "02752b30",
   "metadata": {
    "scrolled": true
   },
   "outputs": [],
   "source": [
    "print(\"\\nAssociation Rules:\")\n",
    "print(rules)"
   ]
  },
  {
   "cell_type": "markdown",
   "id": "7dce52f3",
   "metadata": {},
   "source": [
    "-The results show that most of the houses had a low rating in regard to both overall quality and condition \n",
    "-since the itemset low had has a support of 0.822481, indicating that the category \"Low\" for either OverallQual or OverallCond \n",
    "appears in approximately 82.25% of the data"
   ]
  }
 ],
 "metadata": {
  "kernelspec": {
   "display_name": "Python 3 (ipykernel)",
   "language": "python",
   "name": "python3"
  },
  "language_info": {
   "codemirror_mode": {
    "name": "ipython",
    "version": 3
   },
   "file_extension": ".py",
   "mimetype": "text/x-python",
   "name": "python",
   "nbconvert_exporter": "python",
   "pygments_lexer": "ipython3",
   "version": "3.10.9"
  }
 },
 "nbformat": 4,
 "nbformat_minor": 5
}
