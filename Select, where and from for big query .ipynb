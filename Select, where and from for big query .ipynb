{
 "cells": [
  {
   "cell_type": "code",
   "execution_count": 4,
   "id": "631a8efc",
   "metadata": {},
   "outputs": [
    {
     "data": {
      "text/plain": [
       "1.0"
      ]
     },
     "execution_count": 4,
     "metadata": {},
     "output_type": "execute_result"
    }
   ],
   "source": [
    "1.# SELECT AND FROM clauses work the same was to basic mysql code , with the main disparity being that the FROM clause in reference\n",
    "# to the dataset selected must begin and end with backticks "
   ]
  },
  {
   "cell_type": "code",
   "execution_count": 7,
   "id": "c2ddb665",
   "metadata": {},
   "outputs": [],
   "source": [
    "# The first step in writing a query in big query stars with creating a client object as usual "
   ]
  },
  {
   "cell_type": "code",
   "execution_count": 8,
   "id": "228aa37a",
   "metadata": {},
   "outputs": [
    {
     "ename": "NameError",
     "evalue": "name 'bigquery' is not defined",
     "output_type": "error",
     "traceback": [
      "\u001b[1;31m---------------------------------------------------------------------------\u001b[0m",
      "\u001b[1;31mNameError\u001b[0m                                 Traceback (most recent call last)",
      "Cell \u001b[1;32mIn[8], line 1\u001b[0m\n\u001b[1;32m----> 1\u001b[0m client \u001b[38;5;241m=\u001b[39m \u001b[43mbigquery\u001b[49m\u001b[38;5;241m.\u001b[39mClient()\n",
      "\u001b[1;31mNameError\u001b[0m: name 'bigquery' is not defined"
     ]
    }
   ],
   "source": [
    "client = bigquery.Client()"
   ]
  },
  {
   "cell_type": "code",
   "execution_count": 9,
   "id": "68f70847",
   "metadata": {},
   "outputs": [],
   "source": [
    "# the next step is setting the query with query() method "
   ]
  },
  {
   "cell_type": "code",
   "execution_count": 10,
   "id": "3a4e03df",
   "metadata": {},
   "outputs": [
    {
     "ename": "NameError",
     "evalue": "name 'client' is not defined",
     "output_type": "error",
     "traceback": [
      "\u001b[1;31m---------------------------------------------------------------------------\u001b[0m",
      "\u001b[1;31mNameError\u001b[0m                                 Traceback (most recent call last)",
      "Cell \u001b[1;32mIn[10], line 2\u001b[0m\n\u001b[0;32m      1\u001b[0m \u001b[38;5;66;03m# Set up the query\u001b[39;00m\n\u001b[1;32m----> 2\u001b[0m query_job \u001b[38;5;241m=\u001b[39m \u001b[43mclient\u001b[49m\u001b[38;5;241m.\u001b[39mquery(query)\n",
      "\u001b[1;31mNameError\u001b[0m: name 'client' is not defined"
     ]
    }
   ],
   "source": [
    "# Set up the query\n",
    "query_job = client.query(query)"
   ]
  },
  {
   "cell_type": "code",
   "execution_count": 11,
   "id": "427e2614",
   "metadata": {},
   "outputs": [
    {
     "ename": "NameError",
     "evalue": "name 'query_job' is not defined",
     "output_type": "error",
     "traceback": [
      "\u001b[1;31m---------------------------------------------------------------------------\u001b[0m",
      "\u001b[1;31mNameError\u001b[0m                                 Traceback (most recent call last)",
      "Cell \u001b[1;32mIn[11], line 2\u001b[0m\n\u001b[0;32m      1\u001b[0m \u001b[38;5;66;03m# API request - run the query, and return a pandas DataFrame\u001b[39;00m\n\u001b[1;32m----> 2\u001b[0m us_cities \u001b[38;5;241m=\u001b[39m \u001b[43mquery_job\u001b[49m\u001b[38;5;241m.\u001b[39mto_dataframe()\n",
      "\u001b[1;31mNameError\u001b[0m: name 'query_job' is not defined"
     ]
    }
   ],
   "source": [
    "# API request - run the query, and return a pandas DataFrame\n",
    "us_cities = query_job.to_dataframe()"
   ]
  },
  {
   "cell_type": "code",
   "execution_count": null,
   "id": "43dc209c",
   "metadata": {},
   "outputs": [],
   "source": [
    "# What five cities have the most measurements?\n",
    "us_cities.city.value_counts().head()"
   ]
  },
  {
   "cell_type": "code",
   "execution_count": 1,
   "id": "3d9f09f2",
   "metadata": {},
   "outputs": [],
   "source": [
    "query=\"\"\"\"\n",
    "    SELECT Name \n",
    "    From ` bigquery-public-data.pet_records.pets`\n",
    "    \"\"\" "
   ]
  },
  {
   "cell_type": "code",
   "execution_count": 5,
   "id": "3137203f",
   "metadata": {},
   "outputs": [],
   "source": [
    "#2. The where clause : For isntnace e want to select all the values from the city column that are in rows where the country column is 'US' (for \"United States\")."
   ]
  },
  {
   "cell_type": "code",
   "execution_count": 6,
   "id": "e1b12687",
   "metadata": {},
   "outputs": [],
   "source": [
    "query=\"\"\"\"\n",
    "    SELECT city \n",
    "    FROM `bigquery-public-data.openaq.global_air_quality`\n",
    "    WHERE Country=\"US\"\n",
    "    \"\"\""
   ]
  },
  {
   "cell_type": "code",
   "execution_count": null,
   "id": "e3c2b751",
   "metadata": {},
   "outputs": [],
   "source": []
  }
 ],
 "metadata": {
  "kernelspec": {
   "display_name": "Python 3 (ipykernel)",
   "language": "python",
   "name": "python3"
  },
  "language_info": {
   "codemirror_mode": {
    "name": "ipython",
    "version": 3
   },
   "file_extension": ".py",
   "mimetype": "text/x-python",
   "name": "python",
   "nbconvert_exporter": "python",
   "pygments_lexer": "ipython3",
   "version": "3.10.9"
  }
 },
 "nbformat": 4,
 "nbformat_minor": 5
}
