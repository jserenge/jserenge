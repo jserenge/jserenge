{
 "cells": [
  {
   "cell_type": "markdown",
   "id": "886b2c9e",
   "metadata": {},
   "source": [
    "# Description of dataset: This dataset consists of data from 300 users and 91 art pieces. \n",
    "#The art pieces are described in the file “theArt.csv”. Here is how this file is structured:\n",
    "#1\n",
    "#st row: Headers (e.g. number, title, etc.)\n",
    "#Rows 2-92: Information about the 91 individual art piece\n",
    "#Column 1: “Number” (the ID number of the art piece)\n",
    "#Column 2: Artist\n",
    "#Column 3: Title\n",
    "#Column 4: Artistic style\n",
    "#Column 5: Year of completion\n",
    "#Column 6: Type code – 1 = classical art, 2 = modern art, 3 = non-human art\n",
    "#Column 7: computer or animal code – 0 = human, 1 = computer generated art, 2 = animal art\n",
    "#Column 8: Intentionally created? 0 = no, 1 = yes\n",
    "#The user data is contained in the file “theData.csv”. Here is how this file is structured:\n",
    "#Rows 1-300: Responses from individual users\n",
    "#Columns 1-91: Preference ratings (liking) of the 91 art pieces. The column number in this file \n",
    "#corresponds to the number of the art piece in column 1 of “theArt.csv” file described above. For \n",
    "#instance, ratings of art piece 27 (“the woman at the window”) is in column 27. Numbers represent \n",
    "#preference ratings from 1 (“hate it”) to 7 (“love it”).\n",
    "#Columns 92-182: “Energy” ratings of the same 91 art pieces (in the same order as the preference \n",
    "#ratings above). Numbers represent ratings from 1 (“it calms me down a lot”) to 7 (“it agitates me a \n",
    "#lot”). \n",
    "#Columns 183-194: “Dark” personality traits. Numbers represent how much a user agrees with a \n",
    "#statement, from 1 (strongly disagree) to 5 (strongly agree). Here are the 12 statements, in column \n",
    "#order:\n",
    "#1 I tend to manipulate others to get my way\n",
    "#2 I have used deceit or lied to get my way\n",
    "#3 I have used flattery to get my way\n",
    "#4 I tend to exploit others towards my own end\n",
    "#5 I tend to lack remorse\n",
    "#6 I tend to be unconcerned with the morality of my actions\n",
    "#7 I can be callous or insensitive\n",
    "#8 I tend to be cynical\n",
    "#9 I tend to want others to admire me\n",
    "#10 I tend to want others to pay attention to me\n",
    "#11 I tend to seek prestige and status\n",
    "#12 I tend to expect favors from others\n",
    "#Columns 195-205: Action preferences. Numbers represent how much a user agrees with a statement, \n",
    "#from 1 (strongly disagree) to 5 (strongly agree). Here are the 11 actions, in column order:\n",
    "#1 I like to play board games\n",
    "#2 I like to play role playing (e.g. D&D) games\n",
    "#3 I like to play video games\n",
    "#4 I like to do yoga\n",
    "#5 I like to meditate\n",
    "#6 I like to take walks in the forest\n",
    "#7 I like to take walks on the beach\n",
    "#8 I like to hike\n",
    "#9 I like to ski\n",
    "#10 I like to do paintball\n",
    "#11 I like amusement parks\n",
    "#Columns 206-215: Self-image/self-esteem. Numbers represent how much a user agrees with a \n",
    "#statement. Note that if a statement has “reverse polarity”, e.g. statement 2 “at times I feel like I am \n",
    "#no good at all”, it has already been re-coded/inverted by the professor such that higher numbers \n",
    "#represent higher self-esteem. Here are the 10 items, in column order:\n",
    "#1 On the whole, I am satisfied with myself\n",
    "#2 At times I think I am no good at all\n",
    "#3 I feel that I have a number of good qualities\n",
    "#4 I am able to do things as well as most other people\n",
    "#5 I feel I do not have much to be proud of\n",
    "#6 I certainly feel useless at times\n",
    "#7 I feel that I'm a person of worth, at least on an equal plane with others\n",
    "#8 I wish I could have more respect for myself\n",
    "#9 All in all, I am inclined to feel that I am a failure\n",
    "#10 I take a positive attitude toward myself\n",
    "#Column 216: User age\n",
    "#Column 217: User gender (1 = male, 2 = female, 3 = non-binary)\n",
    "#Column 218: Political orientation (1 = progressive, 2 = liberal, 3 = moderate, 4 = conservative, \n",
    "#5 = libertarian, 6 = independent)\n",
    "#Column 219: Art education (The higher the number, the more: 0 = none, 3 = years of art education)\n",
    "#Column 220: General sophistication (The higher, the more: 0 = not going to the opera, etc. \n",
    "#3 = doing everything – opera, art galleries, etc.)\n",
    "#Column 221: Being somewhat of an artist myself? (0 = no, 1 = sort of, 2 = yes, I see myself as an artist)"
   ]
  },
  {
   "cell_type": "code",
   "execution_count": 1,
   "id": "5dec68c4",
   "metadata": {},
   "outputs": [],
   "source": [
    "import pandas as pd \n",
    "import numpy as np \n",
    "import matplotlib.pyplot as plt \n",
    "import seaborn as sns "
   ]
  },
  {
   "cell_type": "markdown",
   "id": "4af12f23",
   "metadata": {},
   "source": [
    "# setting the random seed"
   ]
  },
  {
   "cell_type": "code",
   "execution_count": 2,
   "id": "bba36260",
   "metadata": {},
   "outputs": [],
   "source": [
    "import random \n",
    "random.seed(12075880)"
   ]
  },
  {
   "cell_type": "markdown",
   "id": "ad28e4c5",
   "metadata": {},
   "source": [
    "# importing the art data"
   ]
  },
  {
   "cell_type": "code",
   "execution_count": 3,
   "id": "827fa0eb",
   "metadata": {},
   "outputs": [],
   "source": [
    "data=pd.read_csv('theArt.csv')"
   ]
  },
  {
   "cell_type": "code",
   "execution_count": 4,
   "id": "92bb79c1",
   "metadata": {},
   "outputs": [
    {
     "name": "stdout",
     "output_type": "stream",
     "text": [
      "(91, 8)\n"
     ]
    }
   ],
   "source": [
    "print(data.shape)"
   ]
  },
  {
   "cell_type": "code",
   "execution_count": 5,
   "id": "66515c1a",
   "metadata": {},
   "outputs": [
    {
     "data": {
      "text/html": [
       "<div>\n",
       "<style scoped>\n",
       "    .dataframe tbody tr th:only-of-type {\n",
       "        vertical-align: middle;\n",
       "    }\n",
       "\n",
       "    .dataframe tbody tr th {\n",
       "        vertical-align: top;\n",
       "    }\n",
       "\n",
       "    .dataframe thead th {\n",
       "        text-align: right;\n",
       "    }\n",
       "</style>\n",
       "<table border=\"1\" class=\"dataframe\">\n",
       "  <thead>\n",
       "    <tr style=\"text-align: right;\">\n",
       "      <th></th>\n",
       "      <th>Number</th>\n",
       "      <th>Artist</th>\n",
       "      <th>Title</th>\n",
       "      <th>Style</th>\n",
       "      <th>Year</th>\n",
       "      <th>Source (1 = classical, 2 = modern, 3 = nonhuman)</th>\n",
       "      <th>computerOrAnimal (0 = human, 1 = computer, 2 = animal)</th>\n",
       "      <th>Intent (0 = no, 1 = yes)</th>\n",
       "    </tr>\n",
       "  </thead>\n",
       "  <tbody>\n",
       "    <tr>\n",
       "      <th>0</th>\n",
       "      <td>1</td>\n",
       "      <td>Durer</td>\n",
       "      <td>Self-Portrait</td>\n",
       "      <td>Northern Renaissance</td>\n",
       "      <td>1500</td>\n",
       "      <td>1</td>\n",
       "      <td>0</td>\n",
       "      <td>1</td>\n",
       "    </tr>\n",
       "    <tr>\n",
       "      <th>1</th>\n",
       "      <td>2</td>\n",
       "      <td>de Vinci</td>\n",
       "      <td>Mona Lisa</td>\n",
       "      <td>Renaissance</td>\n",
       "      <td>1503</td>\n",
       "      <td>1</td>\n",
       "      <td>0</td>\n",
       "      <td>1</td>\n",
       "    </tr>\n",
       "    <tr>\n",
       "      <th>2</th>\n",
       "      <td>3</td>\n",
       "      <td>Michelangelo</td>\n",
       "      <td>The Creation of Adam</td>\n",
       "      <td>Italian Renaissance</td>\n",
       "      <td>1512</td>\n",
       "      <td>1</td>\n",
       "      <td>0</td>\n",
       "      <td>1</td>\n",
       "    </tr>\n",
       "    <tr>\n",
       "      <th>3</th>\n",
       "      <td>4</td>\n",
       "      <td>Bruegel</td>\n",
       "      <td>Tower of Babel</td>\n",
       "      <td>Dutch and Flemish Renaissance</td>\n",
       "      <td>1563</td>\n",
       "      <td>1</td>\n",
       "      <td>0</td>\n",
       "      <td>1</td>\n",
       "    </tr>\n",
       "    <tr>\n",
       "      <th>4</th>\n",
       "      <td>5</td>\n",
       "      <td>Hals</td>\n",
       "      <td>Laughing Cavalier</td>\n",
       "      <td>Baroque</td>\n",
       "      <td>1624</td>\n",
       "      <td>1</td>\n",
       "      <td>0</td>\n",
       "      <td>1</td>\n",
       "    </tr>\n",
       "  </tbody>\n",
       "</table>\n",
       "</div>"
      ],
      "text/plain": [
       "   Number        Artist                  Title                          Style  \\\n",
       "0        1         Durer         Self-Portrait           Northern Renaissance   \n",
       "1        2      de Vinci             Mona Lisa                    Renaissance   \n",
       "2        3  Michelangelo  The Creation of Adam            Italian Renaissance   \n",
       "3        4       Bruegel        Tower of Babel  Dutch and Flemish Renaissance   \n",
       "4        5          Hals     Laughing Cavalier                        Baroque   \n",
       "\n",
       "   Year  Source (1 = classical, 2 = modern, 3 = nonhuman)  \\\n",
       "0  1500                                                 1   \n",
       "1  1503                                                 1   \n",
       "2  1512                                                 1   \n",
       "3  1563                                                 1   \n",
       "4  1624                                                 1   \n",
       "\n",
       "   computerOrAnimal (0 = human, 1 = computer, 2 = animal)  \\\n",
       "0                                                  0        \n",
       "1                                                  0        \n",
       "2                                                  0        \n",
       "3                                                  0        \n",
       "4                                                  0        \n",
       "\n",
       "   Intent (0 = no, 1 = yes)  \n",
       "0                         1  \n",
       "1                         1  \n",
       "2                         1  \n",
       "3                         1  \n",
       "4                         1  "
      ]
     },
     "execution_count": 5,
     "metadata": {},
     "output_type": "execute_result"
    }
   ],
   "source": [
    "data.head()"
   ]
  },
  {
   "cell_type": "code",
   "execution_count": 6,
   "id": "acb6292f",
   "metadata": {},
   "outputs": [
    {
     "name": "stdout",
     "output_type": "stream",
     "text": [
      "Number \n",
      "Artist \n",
      "Title\n",
      "Style\n",
      "Year\n",
      "Source (1 = classical, 2 = modern, 3 = nonhuman)\n",
      "computerOrAnimal (0 = human, 1 = computer, 2 = animal)\n",
      "Intent (0 = no, 1 = yes)\n"
     ]
    }
   ],
   "source": [
    "for col in data.columns: \n",
    "    print(col)\n"
   ]
  },
  {
   "cell_type": "code",
   "execution_count": 7,
   "id": "1300869b",
   "metadata": {},
   "outputs": [
    {
     "data": {
      "text/plain": [
       "Number                                                    0\n",
       "Artist                                                    0\n",
       "Title                                                     0\n",
       "Style                                                     0\n",
       "Year                                                      0\n",
       "Source (1 = classical, 2 = modern, 3 = nonhuman)          0\n",
       "computerOrAnimal (0 = human, 1 = computer, 2 = animal)    0\n",
       "Intent (0 = no, 1 = yes)                                  0\n",
       "dtype: int64"
      ]
     },
     "execution_count": 7,
     "metadata": {},
     "output_type": "execute_result"
    }
   ],
   "source": [
    "data.isna().sum()"
   ]
  },
  {
   "cell_type": "code",
   "execution_count": 8,
   "id": "cef16b97",
   "metadata": {},
   "outputs": [],
   "source": [
    "data['new_col'] = range(1, len(data) + 1)"
   ]
  },
  {
   "cell_type": "code",
   "execution_count": 9,
   "id": "314689c9",
   "metadata": {},
   "outputs": [
    {
     "data": {
      "text/html": [
       "<div>\n",
       "<style scoped>\n",
       "    .dataframe tbody tr th:only-of-type {\n",
       "        vertical-align: middle;\n",
       "    }\n",
       "\n",
       "    .dataframe tbody tr th {\n",
       "        vertical-align: top;\n",
       "    }\n",
       "\n",
       "    .dataframe thead th {\n",
       "        text-align: right;\n",
       "    }\n",
       "</style>\n",
       "<table border=\"1\" class=\"dataframe\">\n",
       "  <thead>\n",
       "    <tr style=\"text-align: right;\">\n",
       "      <th></th>\n",
       "      <th>Number</th>\n",
       "      <th>Artist</th>\n",
       "      <th>Title</th>\n",
       "      <th>Style</th>\n",
       "      <th>Year</th>\n",
       "      <th>Source (1 = classical, 2 = modern, 3 = nonhuman)</th>\n",
       "      <th>computerOrAnimal (0 = human, 1 = computer, 2 = animal)</th>\n",
       "      <th>Intent (0 = no, 1 = yes)</th>\n",
       "      <th>new_col</th>\n",
       "    </tr>\n",
       "  </thead>\n",
       "  <tbody>\n",
       "    <tr>\n",
       "      <th>0</th>\n",
       "      <td>1</td>\n",
       "      <td>Durer</td>\n",
       "      <td>Self-Portrait</td>\n",
       "      <td>Northern Renaissance</td>\n",
       "      <td>1500</td>\n",
       "      <td>1</td>\n",
       "      <td>0</td>\n",
       "      <td>1</td>\n",
       "      <td>1</td>\n",
       "    </tr>\n",
       "    <tr>\n",
       "      <th>1</th>\n",
       "      <td>2</td>\n",
       "      <td>de Vinci</td>\n",
       "      <td>Mona Lisa</td>\n",
       "      <td>Renaissance</td>\n",
       "      <td>1503</td>\n",
       "      <td>1</td>\n",
       "      <td>0</td>\n",
       "      <td>1</td>\n",
       "      <td>2</td>\n",
       "    </tr>\n",
       "    <tr>\n",
       "      <th>2</th>\n",
       "      <td>3</td>\n",
       "      <td>Michelangelo</td>\n",
       "      <td>The Creation of Adam</td>\n",
       "      <td>Italian Renaissance</td>\n",
       "      <td>1512</td>\n",
       "      <td>1</td>\n",
       "      <td>0</td>\n",
       "      <td>1</td>\n",
       "      <td>3</td>\n",
       "    </tr>\n",
       "    <tr>\n",
       "      <th>3</th>\n",
       "      <td>4</td>\n",
       "      <td>Bruegel</td>\n",
       "      <td>Tower of Babel</td>\n",
       "      <td>Dutch and Flemish Renaissance</td>\n",
       "      <td>1563</td>\n",
       "      <td>1</td>\n",
       "      <td>0</td>\n",
       "      <td>1</td>\n",
       "      <td>4</td>\n",
       "    </tr>\n",
       "    <tr>\n",
       "      <th>4</th>\n",
       "      <td>5</td>\n",
       "      <td>Hals</td>\n",
       "      <td>Laughing Cavalier</td>\n",
       "      <td>Baroque</td>\n",
       "      <td>1624</td>\n",
       "      <td>1</td>\n",
       "      <td>0</td>\n",
       "      <td>1</td>\n",
       "      <td>5</td>\n",
       "    </tr>\n",
       "  </tbody>\n",
       "</table>\n",
       "</div>"
      ],
      "text/plain": [
       "   Number        Artist                  Title                          Style  \\\n",
       "0        1         Durer         Self-Portrait           Northern Renaissance   \n",
       "1        2      de Vinci             Mona Lisa                    Renaissance   \n",
       "2        3  Michelangelo  The Creation of Adam            Italian Renaissance   \n",
       "3        4       Bruegel        Tower of Babel  Dutch and Flemish Renaissance   \n",
       "4        5          Hals     Laughing Cavalier                        Baroque   \n",
       "\n",
       "   Year  Source (1 = classical, 2 = modern, 3 = nonhuman)  \\\n",
       "0  1500                                                 1   \n",
       "1  1503                                                 1   \n",
       "2  1512                                                 1   \n",
       "3  1563                                                 1   \n",
       "4  1624                                                 1   \n",
       "\n",
       "   computerOrAnimal (0 = human, 1 = computer, 2 = animal)  \\\n",
       "0                                                  0        \n",
       "1                                                  0        \n",
       "2                                                  0        \n",
       "3                                                  0        \n",
       "4                                                  0        \n",
       "\n",
       "   Intent (0 = no, 1 = yes)  new_col  \n",
       "0                         1        1  \n",
       "1                         1        2  \n",
       "2                         1        3  \n",
       "3                         1        4  \n",
       "4                         1        5  "
      ]
     },
     "execution_count": 9,
     "metadata": {},
     "output_type": "execute_result"
    }
   ],
   "source": [
    "data.head()"
   ]
  },
  {
   "cell_type": "code",
   "execution_count": 10,
   "id": "3c4edec2",
   "metadata": {},
   "outputs": [
    {
     "name": "stdout",
     "output_type": "stream",
     "text": [
      "(91, 9)\n"
     ]
    }
   ],
   "source": [
    "print(data.shape)"
   ]
  },
  {
   "cell_type": "markdown",
   "id": "3c06c89d",
   "metadata": {},
   "source": [
    "# The user data "
   ]
  },
  {
   "cell_type": "code",
   "execution_count": 11,
   "id": "eda720f8",
   "metadata": {},
   "outputs": [],
   "source": [
    "thedata=pd.read_csv(\"theData.csv\")"
   ]
  },
  {
   "cell_type": "code",
   "execution_count": 12,
   "id": "a34a98b1",
   "metadata": {},
   "outputs": [
    {
     "name": "stdout",
     "output_type": "stream",
     "text": [
      "(299, 221)\n"
     ]
    }
   ],
   "source": [
    "print(thedata.shape)"
   ]
  },
  {
   "cell_type": "code",
   "execution_count": 13,
   "id": "9dbb26bb",
   "metadata": {},
   "outputs": [
    {
     "data": {
      "text/html": [
       "<div>\n",
       "<style scoped>\n",
       "    .dataframe tbody tr th:only-of-type {\n",
       "        vertical-align: middle;\n",
       "    }\n",
       "\n",
       "    .dataframe tbody tr th {\n",
       "        vertical-align: top;\n",
       "    }\n",
       "\n",
       "    .dataframe thead th {\n",
       "        text-align: right;\n",
       "    }\n",
       "</style>\n",
       "<table border=\"1\" class=\"dataframe\">\n",
       "  <thead>\n",
       "    <tr style=\"text-align: right;\">\n",
       "      <th></th>\n",
       "      <th>7</th>\n",
       "      <th>6</th>\n",
       "      <th>2</th>\n",
       "      <th>6.1</th>\n",
       "      <th>3</th>\n",
       "      <th>3.1</th>\n",
       "      <th>5</th>\n",
       "      <th>4</th>\n",
       "      <th>6.2</th>\n",
       "      <th>6.3</th>\n",
       "      <th>...</th>\n",
       "      <th>5.41</th>\n",
       "      <th>2.44</th>\n",
       "      <th>3.23</th>\n",
       "      <th>4.72</th>\n",
       "      <th>19</th>\n",
       "      <th>2.45</th>\n",
       "      <th>3.24</th>\n",
       "      <th>0</th>\n",
       "      <th>2.46</th>\n",
       "      <th>2.47</th>\n",
       "    </tr>\n",
       "  </thead>\n",
       "  <tbody>\n",
       "    <tr>\n",
       "      <th>0</th>\n",
       "      <td>6</td>\n",
       "      <td>6</td>\n",
       "      <td>5</td>\n",
       "      <td>6</td>\n",
       "      <td>5</td>\n",
       "      <td>5</td>\n",
       "      <td>4</td>\n",
       "      <td>6</td>\n",
       "      <td>2</td>\n",
       "      <td>5</td>\n",
       "      <td>...</td>\n",
       "      <td>4.0</td>\n",
       "      <td>3.0</td>\n",
       "      <td>2.0</td>\n",
       "      <td>4.0</td>\n",
       "      <td>20.0</td>\n",
       "      <td>1.0</td>\n",
       "      <td>6.0</td>\n",
       "      <td>1.0</td>\n",
       "      <td>3.0</td>\n",
       "      <td>1.0</td>\n",
       "    </tr>\n",
       "    <tr>\n",
       "      <th>1</th>\n",
       "      <td>7</td>\n",
       "      <td>6</td>\n",
       "      <td>6</td>\n",
       "      <td>6</td>\n",
       "      <td>5</td>\n",
       "      <td>6</td>\n",
       "      <td>7</td>\n",
       "      <td>6</td>\n",
       "      <td>5</td>\n",
       "      <td>5</td>\n",
       "      <td>...</td>\n",
       "      <td>4.0</td>\n",
       "      <td>1.0</td>\n",
       "      <td>2.0</td>\n",
       "      <td>2.0</td>\n",
       "      <td>18.0</td>\n",
       "      <td>2.0</td>\n",
       "      <td>2.0</td>\n",
       "      <td>1.0</td>\n",
       "      <td>1.0</td>\n",
       "      <td>2.0</td>\n",
       "    </tr>\n",
       "    <tr>\n",
       "      <th>2</th>\n",
       "      <td>6</td>\n",
       "      <td>6</td>\n",
       "      <td>5</td>\n",
       "      <td>7</td>\n",
       "      <td>6</td>\n",
       "      <td>5</td>\n",
       "      <td>4</td>\n",
       "      <td>6</td>\n",
       "      <td>6</td>\n",
       "      <td>6</td>\n",
       "      <td>...</td>\n",
       "      <td>5.0</td>\n",
       "      <td>3.0</td>\n",
       "      <td>5.0</td>\n",
       "      <td>4.0</td>\n",
       "      <td>21.0</td>\n",
       "      <td>2.0</td>\n",
       "      <td>5.0</td>\n",
       "      <td>1.0</td>\n",
       "      <td>3.0</td>\n",
       "      <td>0.0</td>\n",
       "    </tr>\n",
       "    <tr>\n",
       "      <th>3</th>\n",
       "      <td>7</td>\n",
       "      <td>5</td>\n",
       "      <td>5</td>\n",
       "      <td>5</td>\n",
       "      <td>6</td>\n",
       "      <td>5</td>\n",
       "      <td>5</td>\n",
       "      <td>7</td>\n",
       "      <td>6</td>\n",
       "      <td>7</td>\n",
       "      <td>...</td>\n",
       "      <td>3.0</td>\n",
       "      <td>4.0</td>\n",
       "      <td>3.0</td>\n",
       "      <td>3.0</td>\n",
       "      <td>22.0</td>\n",
       "      <td>1.0</td>\n",
       "      <td>3.0</td>\n",
       "      <td>0.0</td>\n",
       "      <td>3.0</td>\n",
       "      <td>0.0</td>\n",
       "    </tr>\n",
       "    <tr>\n",
       "      <th>4</th>\n",
       "      <td>5</td>\n",
       "      <td>5</td>\n",
       "      <td>5</td>\n",
       "      <td>6</td>\n",
       "      <td>4</td>\n",
       "      <td>5</td>\n",
       "      <td>4</td>\n",
       "      <td>5</td>\n",
       "      <td>4</td>\n",
       "      <td>5</td>\n",
       "      <td>...</td>\n",
       "      <td>5.0</td>\n",
       "      <td>3.0</td>\n",
       "      <td>4.0</td>\n",
       "      <td>4.0</td>\n",
       "      <td>24.0</td>\n",
       "      <td>2.0</td>\n",
       "      <td>4.0</td>\n",
       "      <td>0.0</td>\n",
       "      <td>2.0</td>\n",
       "      <td>0.0</td>\n",
       "    </tr>\n",
       "  </tbody>\n",
       "</table>\n",
       "<p>5 rows × 221 columns</p>\n",
       "</div>"
      ],
      "text/plain": [
       "   7  6  2  6.1  3  3.1  5  4  6.2  6.3  ...  5.41  2.44  3.23  4.72    19  \\\n",
       "0  6  6  5    6  5    5  4  6    2    5  ...   4.0   3.0   2.0   4.0  20.0   \n",
       "1  7  6  6    6  5    6  7  6    5    5  ...   4.0   1.0   2.0   2.0  18.0   \n",
       "2  6  6  5    7  6    5  4  6    6    6  ...   5.0   3.0   5.0   4.0  21.0   \n",
       "3  7  5  5    5  6    5  5  7    6    7  ...   3.0   4.0   3.0   3.0  22.0   \n",
       "4  5  5  5    6  4    5  4  5    4    5  ...   5.0   3.0   4.0   4.0  24.0   \n",
       "\n",
       "   2.45  3.24    0  2.46  2.47  \n",
       "0   1.0   6.0  1.0   3.0   1.0  \n",
       "1   2.0   2.0  1.0   1.0   2.0  \n",
       "2   2.0   5.0  1.0   3.0   0.0  \n",
       "3   1.0   3.0  0.0   3.0   0.0  \n",
       "4   2.0   4.0  0.0   2.0   0.0  \n",
       "\n",
       "[5 rows x 221 columns]"
      ]
     },
     "execution_count": 13,
     "metadata": {},
     "output_type": "execute_result"
    }
   ],
   "source": [
    "thedata.head()"
   ]
  },
  {
   "cell_type": "code",
   "execution_count": 14,
   "id": "b026d68b",
   "metadata": {},
   "outputs": [],
   "source": [
    "# selecting columns the 91 columns"
   ]
  },
  {
   "cell_type": "code",
   "execution_count": 15,
   "id": "c4b6b260",
   "metadata": {},
   "outputs": [],
   "source": [
    "art_rating=thedata[thedata.columns[1:91]]"
   ]
  },
  {
   "cell_type": "code",
   "execution_count": 16,
   "id": "bf6ec2d6",
   "metadata": {},
   "outputs": [
    {
     "name": "stdout",
     "output_type": "stream",
     "text": [
      "(299, 90)\n"
     ]
    }
   ],
   "source": [
    "print(art_rating.shape)"
   ]
  },
  {
   "cell_type": "code",
   "execution_count": 17,
   "id": "915bfbde",
   "metadata": {},
   "outputs": [
    {
     "data": {
      "text/html": [
       "<div>\n",
       "<style scoped>\n",
       "    .dataframe tbody tr th:only-of-type {\n",
       "        vertical-align: middle;\n",
       "    }\n",
       "\n",
       "    .dataframe tbody tr th {\n",
       "        vertical-align: top;\n",
       "    }\n",
       "\n",
       "    .dataframe thead th {\n",
       "        text-align: right;\n",
       "    }\n",
       "</style>\n",
       "<table border=\"1\" class=\"dataframe\">\n",
       "  <thead>\n",
       "    <tr style=\"text-align: right;\">\n",
       "      <th></th>\n",
       "      <th>6</th>\n",
       "      <th>2</th>\n",
       "      <th>6.1</th>\n",
       "      <th>3</th>\n",
       "      <th>3.1</th>\n",
       "      <th>5</th>\n",
       "      <th>4</th>\n",
       "      <th>6.2</th>\n",
       "      <th>6.3</th>\n",
       "      <th>5.1</th>\n",
       "      <th>...</th>\n",
       "      <th>1.7</th>\n",
       "      <th>2.23</th>\n",
       "      <th>2.24</th>\n",
       "      <th>1.8</th>\n",
       "      <th>2.25</th>\n",
       "      <th>1.9</th>\n",
       "      <th>1.10</th>\n",
       "      <th>5.18</th>\n",
       "      <th>5.19</th>\n",
       "      <th>2.26</th>\n",
       "    </tr>\n",
       "  </thead>\n",
       "  <tbody>\n",
       "    <tr>\n",
       "      <th>0</th>\n",
       "      <td>6</td>\n",
       "      <td>5</td>\n",
       "      <td>6</td>\n",
       "      <td>5</td>\n",
       "      <td>5</td>\n",
       "      <td>4</td>\n",
       "      <td>6</td>\n",
       "      <td>2</td>\n",
       "      <td>5</td>\n",
       "      <td>6</td>\n",
       "      <td>...</td>\n",
       "      <td>3</td>\n",
       "      <td>5</td>\n",
       "      <td>3</td>\n",
       "      <td>2</td>\n",
       "      <td>3</td>\n",
       "      <td>6</td>\n",
       "      <td>1</td>\n",
       "      <td>4</td>\n",
       "      <td>2</td>\n",
       "      <td>5</td>\n",
       "    </tr>\n",
       "    <tr>\n",
       "      <th>1</th>\n",
       "      <td>6</td>\n",
       "      <td>6</td>\n",
       "      <td>6</td>\n",
       "      <td>5</td>\n",
       "      <td>6</td>\n",
       "      <td>7</td>\n",
       "      <td>6</td>\n",
       "      <td>5</td>\n",
       "      <td>5</td>\n",
       "      <td>7</td>\n",
       "      <td>...</td>\n",
       "      <td>4</td>\n",
       "      <td>4</td>\n",
       "      <td>7</td>\n",
       "      <td>6</td>\n",
       "      <td>3</td>\n",
       "      <td>4</td>\n",
       "      <td>4</td>\n",
       "      <td>5</td>\n",
       "      <td>4</td>\n",
       "      <td>4</td>\n",
       "    </tr>\n",
       "    <tr>\n",
       "      <th>2</th>\n",
       "      <td>6</td>\n",
       "      <td>5</td>\n",
       "      <td>7</td>\n",
       "      <td>6</td>\n",
       "      <td>5</td>\n",
       "      <td>4</td>\n",
       "      <td>6</td>\n",
       "      <td>6</td>\n",
       "      <td>6</td>\n",
       "      <td>5</td>\n",
       "      <td>...</td>\n",
       "      <td>5</td>\n",
       "      <td>5</td>\n",
       "      <td>6</td>\n",
       "      <td>4</td>\n",
       "      <td>2</td>\n",
       "      <td>4</td>\n",
       "      <td>4</td>\n",
       "      <td>4</td>\n",
       "      <td>3</td>\n",
       "      <td>5</td>\n",
       "    </tr>\n",
       "    <tr>\n",
       "      <th>3</th>\n",
       "      <td>5</td>\n",
       "      <td>5</td>\n",
       "      <td>5</td>\n",
       "      <td>6</td>\n",
       "      <td>5</td>\n",
       "      <td>5</td>\n",
       "      <td>7</td>\n",
       "      <td>6</td>\n",
       "      <td>7</td>\n",
       "      <td>5</td>\n",
       "      <td>...</td>\n",
       "      <td>4</td>\n",
       "      <td>1</td>\n",
       "      <td>4</td>\n",
       "      <td>2</td>\n",
       "      <td>5</td>\n",
       "      <td>4</td>\n",
       "      <td>2</td>\n",
       "      <td>4</td>\n",
       "      <td>6</td>\n",
       "      <td>3</td>\n",
       "    </tr>\n",
       "    <tr>\n",
       "      <th>4</th>\n",
       "      <td>5</td>\n",
       "      <td>5</td>\n",
       "      <td>6</td>\n",
       "      <td>4</td>\n",
       "      <td>5</td>\n",
       "      <td>4</td>\n",
       "      <td>5</td>\n",
       "      <td>4</td>\n",
       "      <td>5</td>\n",
       "      <td>5</td>\n",
       "      <td>...</td>\n",
       "      <td>2</td>\n",
       "      <td>4</td>\n",
       "      <td>3</td>\n",
       "      <td>4</td>\n",
       "      <td>4</td>\n",
       "      <td>3</td>\n",
       "      <td>3</td>\n",
       "      <td>5</td>\n",
       "      <td>5</td>\n",
       "      <td>2</td>\n",
       "    </tr>\n",
       "  </tbody>\n",
       "</table>\n",
       "<p>5 rows × 90 columns</p>\n",
       "</div>"
      ],
      "text/plain": [
       "   6  2  6.1  3  3.1  5  4  6.2  6.3  5.1  ...  1.7  2.23  2.24  1.8  2.25  \\\n",
       "0  6  5    6  5    5  4  6    2    5    6  ...    3     5     3    2     3   \n",
       "1  6  6    6  5    6  7  6    5    5    7  ...    4     4     7    6     3   \n",
       "2  6  5    7  6    5  4  6    6    6    5  ...    5     5     6    4     2   \n",
       "3  5  5    5  6    5  5  7    6    7    5  ...    4     1     4    2     5   \n",
       "4  5  5    6  4    5  4  5    4    5    5  ...    2     4     3    4     4   \n",
       "\n",
       "   1.9  1.10  5.18  5.19  2.26  \n",
       "0    6     1     4     2     5  \n",
       "1    4     4     5     4     4  \n",
       "2    4     4     4     3     5  \n",
       "3    4     2     4     6     3  \n",
       "4    3     3     5     5     2  \n",
       "\n",
       "[5 rows x 90 columns]"
      ]
     },
     "execution_count": 17,
     "metadata": {},
     "output_type": "execute_result"
    }
   ],
   "source": [
    "art_rating.head()"
   ]
  },
  {
   "cell_type": "code",
   "execution_count": 18,
   "id": "9870349b",
   "metadata": {},
   "outputs": [],
   "source": [
    "# transposing the art_rating "
   ]
  },
  {
   "cell_type": "code",
   "execution_count": 19,
   "id": "80244dcd",
   "metadata": {},
   "outputs": [],
   "source": [
    "art=art_rating.transpose()"
   ]
  },
  {
   "cell_type": "code",
   "execution_count": 20,
   "id": "6a780293",
   "metadata": {},
   "outputs": [
    {
     "name": "stdout",
     "output_type": "stream",
     "text": [
      "(90, 299)\n"
     ]
    }
   ],
   "source": [
    "print(art.shape)"
   ]
  },
  {
   "cell_type": "code",
   "execution_count": 21,
   "id": "05fe1bed",
   "metadata": {},
   "outputs": [],
   "source": [
    "art['rating']=art.mean(axis=1)"
   ]
  },
  {
   "cell_type": "code",
   "execution_count": 22,
   "id": "7a2d2561",
   "metadata": {},
   "outputs": [
    {
     "data": {
      "text/html": [
       "<div>\n",
       "<style scoped>\n",
       "    .dataframe tbody tr th:only-of-type {\n",
       "        vertical-align: middle;\n",
       "    }\n",
       "\n",
       "    .dataframe tbody tr th {\n",
       "        vertical-align: top;\n",
       "    }\n",
       "\n",
       "    .dataframe thead th {\n",
       "        text-align: right;\n",
       "    }\n",
       "</style>\n",
       "<table border=\"1\" class=\"dataframe\">\n",
       "  <thead>\n",
       "    <tr style=\"text-align: right;\">\n",
       "      <th></th>\n",
       "      <th>0</th>\n",
       "      <th>1</th>\n",
       "      <th>2</th>\n",
       "      <th>3</th>\n",
       "      <th>4</th>\n",
       "      <th>5</th>\n",
       "      <th>6</th>\n",
       "      <th>7</th>\n",
       "      <th>8</th>\n",
       "      <th>9</th>\n",
       "      <th>...</th>\n",
       "      <th>290</th>\n",
       "      <th>291</th>\n",
       "      <th>292</th>\n",
       "      <th>293</th>\n",
       "      <th>294</th>\n",
       "      <th>295</th>\n",
       "      <th>296</th>\n",
       "      <th>297</th>\n",
       "      <th>298</th>\n",
       "      <th>rating</th>\n",
       "    </tr>\n",
       "  </thead>\n",
       "  <tbody>\n",
       "    <tr>\n",
       "      <th>6</th>\n",
       "      <td>6</td>\n",
       "      <td>6</td>\n",
       "      <td>6</td>\n",
       "      <td>5</td>\n",
       "      <td>5</td>\n",
       "      <td>5</td>\n",
       "      <td>6</td>\n",
       "      <td>4</td>\n",
       "      <td>6</td>\n",
       "      <td>6</td>\n",
       "      <td>...</td>\n",
       "      <td>6</td>\n",
       "      <td>6</td>\n",
       "      <td>6</td>\n",
       "      <td>7</td>\n",
       "      <td>7</td>\n",
       "      <td>5</td>\n",
       "      <td>6</td>\n",
       "      <td>4</td>\n",
       "      <td>7</td>\n",
       "      <td>5.628763</td>\n",
       "    </tr>\n",
       "    <tr>\n",
       "      <th>2</th>\n",
       "      <td>5</td>\n",
       "      <td>6</td>\n",
       "      <td>5</td>\n",
       "      <td>5</td>\n",
       "      <td>5</td>\n",
       "      <td>4</td>\n",
       "      <td>6</td>\n",
       "      <td>4</td>\n",
       "      <td>1</td>\n",
       "      <td>6</td>\n",
       "      <td>...</td>\n",
       "      <td>4</td>\n",
       "      <td>5</td>\n",
       "      <td>5</td>\n",
       "      <td>7</td>\n",
       "      <td>7</td>\n",
       "      <td>6</td>\n",
       "      <td>5</td>\n",
       "      <td>4</td>\n",
       "      <td>6</td>\n",
       "      <td>4.414716</td>\n",
       "    </tr>\n",
       "    <tr>\n",
       "      <th>6.1</th>\n",
       "      <td>6</td>\n",
       "      <td>6</td>\n",
       "      <td>7</td>\n",
       "      <td>5</td>\n",
       "      <td>6</td>\n",
       "      <td>7</td>\n",
       "      <td>7</td>\n",
       "      <td>4</td>\n",
       "      <td>7</td>\n",
       "      <td>6</td>\n",
       "      <td>...</td>\n",
       "      <td>7</td>\n",
       "      <td>5</td>\n",
       "      <td>5</td>\n",
       "      <td>7</td>\n",
       "      <td>7</td>\n",
       "      <td>6</td>\n",
       "      <td>2</td>\n",
       "      <td>6</td>\n",
       "      <td>7</td>\n",
       "      <td>5.842809</td>\n",
       "    </tr>\n",
       "    <tr>\n",
       "      <th>3</th>\n",
       "      <td>5</td>\n",
       "      <td>5</td>\n",
       "      <td>6</td>\n",
       "      <td>6</td>\n",
       "      <td>4</td>\n",
       "      <td>4</td>\n",
       "      <td>6</td>\n",
       "      <td>4</td>\n",
       "      <td>1</td>\n",
       "      <td>3</td>\n",
       "      <td>...</td>\n",
       "      <td>4</td>\n",
       "      <td>5</td>\n",
       "      <td>5</td>\n",
       "      <td>4</td>\n",
       "      <td>7</td>\n",
       "      <td>4</td>\n",
       "      <td>5</td>\n",
       "      <td>4</td>\n",
       "      <td>6</td>\n",
       "      <td>4.193980</td>\n",
       "    </tr>\n",
       "    <tr>\n",
       "      <th>3.1</th>\n",
       "      <td>5</td>\n",
       "      <td>6</td>\n",
       "      <td>5</td>\n",
       "      <td>5</td>\n",
       "      <td>5</td>\n",
       "      <td>6</td>\n",
       "      <td>6</td>\n",
       "      <td>4</td>\n",
       "      <td>1</td>\n",
       "      <td>6</td>\n",
       "      <td>...</td>\n",
       "      <td>5</td>\n",
       "      <td>4</td>\n",
       "      <td>6</td>\n",
       "      <td>5</td>\n",
       "      <td>7</td>\n",
       "      <td>3</td>\n",
       "      <td>6</td>\n",
       "      <td>5</td>\n",
       "      <td>6</td>\n",
       "      <td>4.702341</td>\n",
       "    </tr>\n",
       "    <tr>\n",
       "      <th>...</th>\n",
       "      <td>...</td>\n",
       "      <td>...</td>\n",
       "      <td>...</td>\n",
       "      <td>...</td>\n",
       "      <td>...</td>\n",
       "      <td>...</td>\n",
       "      <td>...</td>\n",
       "      <td>...</td>\n",
       "      <td>...</td>\n",
       "      <td>...</td>\n",
       "      <td>...</td>\n",
       "      <td>...</td>\n",
       "      <td>...</td>\n",
       "      <td>...</td>\n",
       "      <td>...</td>\n",
       "      <td>...</td>\n",
       "      <td>...</td>\n",
       "      <td>...</td>\n",
       "      <td>...</td>\n",
       "      <td>...</td>\n",
       "      <td>...</td>\n",
       "    </tr>\n",
       "    <tr>\n",
       "      <th>1.9</th>\n",
       "      <td>6</td>\n",
       "      <td>4</td>\n",
       "      <td>4</td>\n",
       "      <td>4</td>\n",
       "      <td>3</td>\n",
       "      <td>4</td>\n",
       "      <td>1</td>\n",
       "      <td>4</td>\n",
       "      <td>6</td>\n",
       "      <td>4</td>\n",
       "      <td>...</td>\n",
       "      <td>1</td>\n",
       "      <td>4</td>\n",
       "      <td>5</td>\n",
       "      <td>1</td>\n",
       "      <td>4</td>\n",
       "      <td>1</td>\n",
       "      <td>2</td>\n",
       "      <td>4</td>\n",
       "      <td>6</td>\n",
       "      <td>3.484950</td>\n",
       "    </tr>\n",
       "    <tr>\n",
       "      <th>1.10</th>\n",
       "      <td>1</td>\n",
       "      <td>4</td>\n",
       "      <td>4</td>\n",
       "      <td>2</td>\n",
       "      <td>3</td>\n",
       "      <td>4</td>\n",
       "      <td>1</td>\n",
       "      <td>4</td>\n",
       "      <td>7</td>\n",
       "      <td>2</td>\n",
       "      <td>...</td>\n",
       "      <td>4</td>\n",
       "      <td>2</td>\n",
       "      <td>5</td>\n",
       "      <td>1</td>\n",
       "      <td>2</td>\n",
       "      <td>4</td>\n",
       "      <td>2</td>\n",
       "      <td>6</td>\n",
       "      <td>6</td>\n",
       "      <td>3.361204</td>\n",
       "    </tr>\n",
       "    <tr>\n",
       "      <th>5.18</th>\n",
       "      <td>4</td>\n",
       "      <td>5</td>\n",
       "      <td>4</td>\n",
       "      <td>4</td>\n",
       "      <td>5</td>\n",
       "      <td>6</td>\n",
       "      <td>1</td>\n",
       "      <td>6</td>\n",
       "      <td>6</td>\n",
       "      <td>6</td>\n",
       "      <td>...</td>\n",
       "      <td>7</td>\n",
       "      <td>5</td>\n",
       "      <td>5</td>\n",
       "      <td>4</td>\n",
       "      <td>3</td>\n",
       "      <td>6</td>\n",
       "      <td>6</td>\n",
       "      <td>6</td>\n",
       "      <td>6</td>\n",
       "      <td>4.913043</td>\n",
       "    </tr>\n",
       "    <tr>\n",
       "      <th>5.19</th>\n",
       "      <td>2</td>\n",
       "      <td>4</td>\n",
       "      <td>3</td>\n",
       "      <td>6</td>\n",
       "      <td>5</td>\n",
       "      <td>4</td>\n",
       "      <td>4</td>\n",
       "      <td>5</td>\n",
       "      <td>6</td>\n",
       "      <td>2</td>\n",
       "      <td>...</td>\n",
       "      <td>1</td>\n",
       "      <td>2</td>\n",
       "      <td>5</td>\n",
       "      <td>4</td>\n",
       "      <td>4</td>\n",
       "      <td>4</td>\n",
       "      <td>6</td>\n",
       "      <td>4</td>\n",
       "      <td>5</td>\n",
       "      <td>3.829431</td>\n",
       "    </tr>\n",
       "    <tr>\n",
       "      <th>2.26</th>\n",
       "      <td>5</td>\n",
       "      <td>4</td>\n",
       "      <td>5</td>\n",
       "      <td>3</td>\n",
       "      <td>2</td>\n",
       "      <td>4</td>\n",
       "      <td>1</td>\n",
       "      <td>4</td>\n",
       "      <td>7</td>\n",
       "      <td>2</td>\n",
       "      <td>...</td>\n",
       "      <td>1</td>\n",
       "      <td>4</td>\n",
       "      <td>4</td>\n",
       "      <td>5</td>\n",
       "      <td>2</td>\n",
       "      <td>3</td>\n",
       "      <td>2</td>\n",
       "      <td>5</td>\n",
       "      <td>7</td>\n",
       "      <td>3.615385</td>\n",
       "    </tr>\n",
       "  </tbody>\n",
       "</table>\n",
       "<p>90 rows × 300 columns</p>\n",
       "</div>"
      ],
      "text/plain": [
       "      0  1  2  3  4  5  6  7  8  9  ...  290  291  292  293  294  295  296  \\\n",
       "6     6  6  6  5  5  5  6  4  6  6  ...    6    6    6    7    7    5    6   \n",
       "2     5  6  5  5  5  4  6  4  1  6  ...    4    5    5    7    7    6    5   \n",
       "6.1   6  6  7  5  6  7  7  4  7  6  ...    7    5    5    7    7    6    2   \n",
       "3     5  5  6  6  4  4  6  4  1  3  ...    4    5    5    4    7    4    5   \n",
       "3.1   5  6  5  5  5  6  6  4  1  6  ...    5    4    6    5    7    3    6   \n",
       "...  .. .. .. .. .. .. .. .. .. ..  ...  ...  ...  ...  ...  ...  ...  ...   \n",
       "1.9   6  4  4  4  3  4  1  4  6  4  ...    1    4    5    1    4    1    2   \n",
       "1.10  1  4  4  2  3  4  1  4  7  2  ...    4    2    5    1    2    4    2   \n",
       "5.18  4  5  4  4  5  6  1  6  6  6  ...    7    5    5    4    3    6    6   \n",
       "5.19  2  4  3  6  5  4  4  5  6  2  ...    1    2    5    4    4    4    6   \n",
       "2.26  5  4  5  3  2  4  1  4  7  2  ...    1    4    4    5    2    3    2   \n",
       "\n",
       "      297  298    rating  \n",
       "6       4    7  5.628763  \n",
       "2       4    6  4.414716  \n",
       "6.1     6    7  5.842809  \n",
       "3       4    6  4.193980  \n",
       "3.1     5    6  4.702341  \n",
       "...   ...  ...       ...  \n",
       "1.9     4    6  3.484950  \n",
       "1.10    6    6  3.361204  \n",
       "5.18    6    6  4.913043  \n",
       "5.19    4    5  3.829431  \n",
       "2.26    5    7  3.615385  \n",
       "\n",
       "[90 rows x 300 columns]"
      ]
     },
     "execution_count": 22,
     "metadata": {},
     "output_type": "execute_result"
    }
   ],
   "source": [
    "art.head(90)"
   ]
  },
  {
   "cell_type": "code",
   "execution_count": 23,
   "id": "15e2cf27",
   "metadata": {},
   "outputs": [
    {
     "data": {
      "text/html": [
       "<div>\n",
       "<style scoped>\n",
       "    .dataframe tbody tr th:only-of-type {\n",
       "        vertical-align: middle;\n",
       "    }\n",
       "\n",
       "    .dataframe tbody tr th {\n",
       "        vertical-align: top;\n",
       "    }\n",
       "\n",
       "    .dataframe thead th {\n",
       "        text-align: right;\n",
       "    }\n",
       "</style>\n",
       "<table border=\"1\" class=\"dataframe\">\n",
       "  <thead>\n",
       "    <tr style=\"text-align: right;\">\n",
       "      <th></th>\n",
       "      <th>0</th>\n",
       "      <th>1</th>\n",
       "      <th>2</th>\n",
       "      <th>3</th>\n",
       "      <th>4</th>\n",
       "      <th>5</th>\n",
       "      <th>6</th>\n",
       "      <th>7</th>\n",
       "      <th>8</th>\n",
       "      <th>9</th>\n",
       "      <th>...</th>\n",
       "      <th>290</th>\n",
       "      <th>291</th>\n",
       "      <th>292</th>\n",
       "      <th>293</th>\n",
       "      <th>294</th>\n",
       "      <th>295</th>\n",
       "      <th>296</th>\n",
       "      <th>297</th>\n",
       "      <th>298</th>\n",
       "      <th>rating</th>\n",
       "    </tr>\n",
       "  </thead>\n",
       "  <tbody>\n",
       "    <tr>\n",
       "      <th>6</th>\n",
       "      <td>6</td>\n",
       "      <td>6</td>\n",
       "      <td>6</td>\n",
       "      <td>5</td>\n",
       "      <td>5</td>\n",
       "      <td>5</td>\n",
       "      <td>6</td>\n",
       "      <td>4</td>\n",
       "      <td>6</td>\n",
       "      <td>6</td>\n",
       "      <td>...</td>\n",
       "      <td>6</td>\n",
       "      <td>6</td>\n",
       "      <td>6</td>\n",
       "      <td>7</td>\n",
       "      <td>7</td>\n",
       "      <td>5</td>\n",
       "      <td>6</td>\n",
       "      <td>4</td>\n",
       "      <td>7</td>\n",
       "      <td>5.628763</td>\n",
       "    </tr>\n",
       "    <tr>\n",
       "      <th>2</th>\n",
       "      <td>5</td>\n",
       "      <td>6</td>\n",
       "      <td>5</td>\n",
       "      <td>5</td>\n",
       "      <td>5</td>\n",
       "      <td>4</td>\n",
       "      <td>6</td>\n",
       "      <td>4</td>\n",
       "      <td>1</td>\n",
       "      <td>6</td>\n",
       "      <td>...</td>\n",
       "      <td>4</td>\n",
       "      <td>5</td>\n",
       "      <td>5</td>\n",
       "      <td>7</td>\n",
       "      <td>7</td>\n",
       "      <td>6</td>\n",
       "      <td>5</td>\n",
       "      <td>4</td>\n",
       "      <td>6</td>\n",
       "      <td>4.414716</td>\n",
       "    </tr>\n",
       "    <tr>\n",
       "      <th>6.1</th>\n",
       "      <td>6</td>\n",
       "      <td>6</td>\n",
       "      <td>7</td>\n",
       "      <td>5</td>\n",
       "      <td>6</td>\n",
       "      <td>7</td>\n",
       "      <td>7</td>\n",
       "      <td>4</td>\n",
       "      <td>7</td>\n",
       "      <td>6</td>\n",
       "      <td>...</td>\n",
       "      <td>7</td>\n",
       "      <td>5</td>\n",
       "      <td>5</td>\n",
       "      <td>7</td>\n",
       "      <td>7</td>\n",
       "      <td>6</td>\n",
       "      <td>2</td>\n",
       "      <td>6</td>\n",
       "      <td>7</td>\n",
       "      <td>5.842809</td>\n",
       "    </tr>\n",
       "    <tr>\n",
       "      <th>3</th>\n",
       "      <td>5</td>\n",
       "      <td>5</td>\n",
       "      <td>6</td>\n",
       "      <td>6</td>\n",
       "      <td>4</td>\n",
       "      <td>4</td>\n",
       "      <td>6</td>\n",
       "      <td>4</td>\n",
       "      <td>1</td>\n",
       "      <td>3</td>\n",
       "      <td>...</td>\n",
       "      <td>4</td>\n",
       "      <td>5</td>\n",
       "      <td>5</td>\n",
       "      <td>4</td>\n",
       "      <td>7</td>\n",
       "      <td>4</td>\n",
       "      <td>5</td>\n",
       "      <td>4</td>\n",
       "      <td>6</td>\n",
       "      <td>4.193980</td>\n",
       "    </tr>\n",
       "    <tr>\n",
       "      <th>3.1</th>\n",
       "      <td>5</td>\n",
       "      <td>6</td>\n",
       "      <td>5</td>\n",
       "      <td>5</td>\n",
       "      <td>5</td>\n",
       "      <td>6</td>\n",
       "      <td>6</td>\n",
       "      <td>4</td>\n",
       "      <td>1</td>\n",
       "      <td>6</td>\n",
       "      <td>...</td>\n",
       "      <td>5</td>\n",
       "      <td>4</td>\n",
       "      <td>6</td>\n",
       "      <td>5</td>\n",
       "      <td>7</td>\n",
       "      <td>3</td>\n",
       "      <td>6</td>\n",
       "      <td>5</td>\n",
       "      <td>6</td>\n",
       "      <td>4.702341</td>\n",
       "    </tr>\n",
       "  </tbody>\n",
       "</table>\n",
       "<p>5 rows × 300 columns</p>\n",
       "</div>"
      ],
      "text/plain": [
       "     0  1  2  3  4  5  6  7  8  9  ...  290  291  292  293  294  295  296  \\\n",
       "6    6  6  6  5  5  5  6  4  6  6  ...    6    6    6    7    7    5    6   \n",
       "2    5  6  5  5  5  4  6  4  1  6  ...    4    5    5    7    7    6    5   \n",
       "6.1  6  6  7  5  6  7  7  4  7  6  ...    7    5    5    7    7    6    2   \n",
       "3    5  5  6  6  4  4  6  4  1  3  ...    4    5    5    4    7    4    5   \n",
       "3.1  5  6  5  5  5  6  6  4  1  6  ...    5    4    6    5    7    3    6   \n",
       "\n",
       "     297  298    rating  \n",
       "6      4    7  5.628763  \n",
       "2      4    6  4.414716  \n",
       "6.1    6    7  5.842809  \n",
       "3      4    6  4.193980  \n",
       "3.1    5    6  4.702341  \n",
       "\n",
       "[5 rows x 300 columns]"
      ]
     },
     "execution_count": 23,
     "metadata": {},
     "output_type": "execute_result"
    }
   ],
   "source": [
    "art.head()"
   ]
  },
  {
   "cell_type": "code",
   "execution_count": 24,
   "id": "6c0e3383",
   "metadata": {},
   "outputs": [],
   "source": [
    "# selecting the rating columns "
   ]
  },
  {
   "cell_type": "code",
   "execution_count": 25,
   "id": "2e3bfa08",
   "metadata": {},
   "outputs": [
    {
     "data": {
      "text/plain": [
       "0"
      ]
     },
     "execution_count": 25,
     "metadata": {},
     "output_type": "execute_result"
    }
   ],
   "source": [
    "art['rating'].isna().sum()"
   ]
  },
  {
   "cell_type": "code",
   "execution_count": 26,
   "id": "36c208d7",
   "metadata": {},
   "outputs": [],
   "source": [
    "art['new_col'] = range(1, len(art) + 1)"
   ]
  },
  {
   "cell_type": "code",
   "execution_count": 27,
   "id": "1f3cbbce",
   "metadata": {},
   "outputs": [
    {
     "data": {
      "text/html": [
       "<div>\n",
       "<style scoped>\n",
       "    .dataframe tbody tr th:only-of-type {\n",
       "        vertical-align: middle;\n",
       "    }\n",
       "\n",
       "    .dataframe tbody tr th {\n",
       "        vertical-align: top;\n",
       "    }\n",
       "\n",
       "    .dataframe thead th {\n",
       "        text-align: right;\n",
       "    }\n",
       "</style>\n",
       "<table border=\"1\" class=\"dataframe\">\n",
       "  <thead>\n",
       "    <tr style=\"text-align: right;\">\n",
       "      <th></th>\n",
       "      <th>0</th>\n",
       "      <th>1</th>\n",
       "      <th>2</th>\n",
       "      <th>3</th>\n",
       "      <th>4</th>\n",
       "      <th>5</th>\n",
       "      <th>6</th>\n",
       "      <th>7</th>\n",
       "      <th>8</th>\n",
       "      <th>9</th>\n",
       "      <th>...</th>\n",
       "      <th>291</th>\n",
       "      <th>292</th>\n",
       "      <th>293</th>\n",
       "      <th>294</th>\n",
       "      <th>295</th>\n",
       "      <th>296</th>\n",
       "      <th>297</th>\n",
       "      <th>298</th>\n",
       "      <th>rating</th>\n",
       "      <th>new_col</th>\n",
       "    </tr>\n",
       "  </thead>\n",
       "  <tbody>\n",
       "    <tr>\n",
       "      <th>6</th>\n",
       "      <td>6</td>\n",
       "      <td>6</td>\n",
       "      <td>6</td>\n",
       "      <td>5</td>\n",
       "      <td>5</td>\n",
       "      <td>5</td>\n",
       "      <td>6</td>\n",
       "      <td>4</td>\n",
       "      <td>6</td>\n",
       "      <td>6</td>\n",
       "      <td>...</td>\n",
       "      <td>6</td>\n",
       "      <td>6</td>\n",
       "      <td>7</td>\n",
       "      <td>7</td>\n",
       "      <td>5</td>\n",
       "      <td>6</td>\n",
       "      <td>4</td>\n",
       "      <td>7</td>\n",
       "      <td>5.628763</td>\n",
       "      <td>1</td>\n",
       "    </tr>\n",
       "    <tr>\n",
       "      <th>2</th>\n",
       "      <td>5</td>\n",
       "      <td>6</td>\n",
       "      <td>5</td>\n",
       "      <td>5</td>\n",
       "      <td>5</td>\n",
       "      <td>4</td>\n",
       "      <td>6</td>\n",
       "      <td>4</td>\n",
       "      <td>1</td>\n",
       "      <td>6</td>\n",
       "      <td>...</td>\n",
       "      <td>5</td>\n",
       "      <td>5</td>\n",
       "      <td>7</td>\n",
       "      <td>7</td>\n",
       "      <td>6</td>\n",
       "      <td>5</td>\n",
       "      <td>4</td>\n",
       "      <td>6</td>\n",
       "      <td>4.414716</td>\n",
       "      <td>2</td>\n",
       "    </tr>\n",
       "    <tr>\n",
       "      <th>6.1</th>\n",
       "      <td>6</td>\n",
       "      <td>6</td>\n",
       "      <td>7</td>\n",
       "      <td>5</td>\n",
       "      <td>6</td>\n",
       "      <td>7</td>\n",
       "      <td>7</td>\n",
       "      <td>4</td>\n",
       "      <td>7</td>\n",
       "      <td>6</td>\n",
       "      <td>...</td>\n",
       "      <td>5</td>\n",
       "      <td>5</td>\n",
       "      <td>7</td>\n",
       "      <td>7</td>\n",
       "      <td>6</td>\n",
       "      <td>2</td>\n",
       "      <td>6</td>\n",
       "      <td>7</td>\n",
       "      <td>5.842809</td>\n",
       "      <td>3</td>\n",
       "    </tr>\n",
       "    <tr>\n",
       "      <th>3</th>\n",
       "      <td>5</td>\n",
       "      <td>5</td>\n",
       "      <td>6</td>\n",
       "      <td>6</td>\n",
       "      <td>4</td>\n",
       "      <td>4</td>\n",
       "      <td>6</td>\n",
       "      <td>4</td>\n",
       "      <td>1</td>\n",
       "      <td>3</td>\n",
       "      <td>...</td>\n",
       "      <td>5</td>\n",
       "      <td>5</td>\n",
       "      <td>4</td>\n",
       "      <td>7</td>\n",
       "      <td>4</td>\n",
       "      <td>5</td>\n",
       "      <td>4</td>\n",
       "      <td>6</td>\n",
       "      <td>4.193980</td>\n",
       "      <td>4</td>\n",
       "    </tr>\n",
       "    <tr>\n",
       "      <th>3.1</th>\n",
       "      <td>5</td>\n",
       "      <td>6</td>\n",
       "      <td>5</td>\n",
       "      <td>5</td>\n",
       "      <td>5</td>\n",
       "      <td>6</td>\n",
       "      <td>6</td>\n",
       "      <td>4</td>\n",
       "      <td>1</td>\n",
       "      <td>6</td>\n",
       "      <td>...</td>\n",
       "      <td>4</td>\n",
       "      <td>6</td>\n",
       "      <td>5</td>\n",
       "      <td>7</td>\n",
       "      <td>3</td>\n",
       "      <td>6</td>\n",
       "      <td>5</td>\n",
       "      <td>6</td>\n",
       "      <td>4.702341</td>\n",
       "      <td>5</td>\n",
       "    </tr>\n",
       "    <tr>\n",
       "      <th>...</th>\n",
       "      <td>...</td>\n",
       "      <td>...</td>\n",
       "      <td>...</td>\n",
       "      <td>...</td>\n",
       "      <td>...</td>\n",
       "      <td>...</td>\n",
       "      <td>...</td>\n",
       "      <td>...</td>\n",
       "      <td>...</td>\n",
       "      <td>...</td>\n",
       "      <td>...</td>\n",
       "      <td>...</td>\n",
       "      <td>...</td>\n",
       "      <td>...</td>\n",
       "      <td>...</td>\n",
       "      <td>...</td>\n",
       "      <td>...</td>\n",
       "      <td>...</td>\n",
       "      <td>...</td>\n",
       "      <td>...</td>\n",
       "      <td>...</td>\n",
       "    </tr>\n",
       "    <tr>\n",
       "      <th>1.9</th>\n",
       "      <td>6</td>\n",
       "      <td>4</td>\n",
       "      <td>4</td>\n",
       "      <td>4</td>\n",
       "      <td>3</td>\n",
       "      <td>4</td>\n",
       "      <td>1</td>\n",
       "      <td>4</td>\n",
       "      <td>6</td>\n",
       "      <td>4</td>\n",
       "      <td>...</td>\n",
       "      <td>4</td>\n",
       "      <td>5</td>\n",
       "      <td>1</td>\n",
       "      <td>4</td>\n",
       "      <td>1</td>\n",
       "      <td>2</td>\n",
       "      <td>4</td>\n",
       "      <td>6</td>\n",
       "      <td>3.484950</td>\n",
       "      <td>86</td>\n",
       "    </tr>\n",
       "    <tr>\n",
       "      <th>1.10</th>\n",
       "      <td>1</td>\n",
       "      <td>4</td>\n",
       "      <td>4</td>\n",
       "      <td>2</td>\n",
       "      <td>3</td>\n",
       "      <td>4</td>\n",
       "      <td>1</td>\n",
       "      <td>4</td>\n",
       "      <td>7</td>\n",
       "      <td>2</td>\n",
       "      <td>...</td>\n",
       "      <td>2</td>\n",
       "      <td>5</td>\n",
       "      <td>1</td>\n",
       "      <td>2</td>\n",
       "      <td>4</td>\n",
       "      <td>2</td>\n",
       "      <td>6</td>\n",
       "      <td>6</td>\n",
       "      <td>3.361204</td>\n",
       "      <td>87</td>\n",
       "    </tr>\n",
       "    <tr>\n",
       "      <th>5.18</th>\n",
       "      <td>4</td>\n",
       "      <td>5</td>\n",
       "      <td>4</td>\n",
       "      <td>4</td>\n",
       "      <td>5</td>\n",
       "      <td>6</td>\n",
       "      <td>1</td>\n",
       "      <td>6</td>\n",
       "      <td>6</td>\n",
       "      <td>6</td>\n",
       "      <td>...</td>\n",
       "      <td>5</td>\n",
       "      <td>5</td>\n",
       "      <td>4</td>\n",
       "      <td>3</td>\n",
       "      <td>6</td>\n",
       "      <td>6</td>\n",
       "      <td>6</td>\n",
       "      <td>6</td>\n",
       "      <td>4.913043</td>\n",
       "      <td>88</td>\n",
       "    </tr>\n",
       "    <tr>\n",
       "      <th>5.19</th>\n",
       "      <td>2</td>\n",
       "      <td>4</td>\n",
       "      <td>3</td>\n",
       "      <td>6</td>\n",
       "      <td>5</td>\n",
       "      <td>4</td>\n",
       "      <td>4</td>\n",
       "      <td>5</td>\n",
       "      <td>6</td>\n",
       "      <td>2</td>\n",
       "      <td>...</td>\n",
       "      <td>2</td>\n",
       "      <td>5</td>\n",
       "      <td>4</td>\n",
       "      <td>4</td>\n",
       "      <td>4</td>\n",
       "      <td>6</td>\n",
       "      <td>4</td>\n",
       "      <td>5</td>\n",
       "      <td>3.829431</td>\n",
       "      <td>89</td>\n",
       "    </tr>\n",
       "    <tr>\n",
       "      <th>2.26</th>\n",
       "      <td>5</td>\n",
       "      <td>4</td>\n",
       "      <td>5</td>\n",
       "      <td>3</td>\n",
       "      <td>2</td>\n",
       "      <td>4</td>\n",
       "      <td>1</td>\n",
       "      <td>4</td>\n",
       "      <td>7</td>\n",
       "      <td>2</td>\n",
       "      <td>...</td>\n",
       "      <td>4</td>\n",
       "      <td>4</td>\n",
       "      <td>5</td>\n",
       "      <td>2</td>\n",
       "      <td>3</td>\n",
       "      <td>2</td>\n",
       "      <td>5</td>\n",
       "      <td>7</td>\n",
       "      <td>3.615385</td>\n",
       "      <td>90</td>\n",
       "    </tr>\n",
       "  </tbody>\n",
       "</table>\n",
       "<p>90 rows × 301 columns</p>\n",
       "</div>"
      ],
      "text/plain": [
       "      0  1  2  3  4  5  6  7  8  9  ...  291  292  293  294  295  296  297  \\\n",
       "6     6  6  6  5  5  5  6  4  6  6  ...    6    6    7    7    5    6    4   \n",
       "2     5  6  5  5  5  4  6  4  1  6  ...    5    5    7    7    6    5    4   \n",
       "6.1   6  6  7  5  6  7  7  4  7  6  ...    5    5    7    7    6    2    6   \n",
       "3     5  5  6  6  4  4  6  4  1  3  ...    5    5    4    7    4    5    4   \n",
       "3.1   5  6  5  5  5  6  6  4  1  6  ...    4    6    5    7    3    6    5   \n",
       "...  .. .. .. .. .. .. .. .. .. ..  ...  ...  ...  ...  ...  ...  ...  ...   \n",
       "1.9   6  4  4  4  3  4  1  4  6  4  ...    4    5    1    4    1    2    4   \n",
       "1.10  1  4  4  2  3  4  1  4  7  2  ...    2    5    1    2    4    2    6   \n",
       "5.18  4  5  4  4  5  6  1  6  6  6  ...    5    5    4    3    6    6    6   \n",
       "5.19  2  4  3  6  5  4  4  5  6  2  ...    2    5    4    4    4    6    4   \n",
       "2.26  5  4  5  3  2  4  1  4  7  2  ...    4    4    5    2    3    2    5   \n",
       "\n",
       "      298    rating  new_col  \n",
       "6       7  5.628763        1  \n",
       "2       6  4.414716        2  \n",
       "6.1     7  5.842809        3  \n",
       "3       6  4.193980        4  \n",
       "3.1     6  4.702341        5  \n",
       "...   ...       ...      ...  \n",
       "1.9     6  3.484950       86  \n",
       "1.10    6  3.361204       87  \n",
       "5.18    6  4.913043       88  \n",
       "5.19    5  3.829431       89  \n",
       "2.26    7  3.615385       90  \n",
       "\n",
       "[90 rows x 301 columns]"
      ]
     },
     "execution_count": 27,
     "metadata": {},
     "output_type": "execute_result"
    }
   ],
   "source": [
    "art.head(90)"
   ]
  },
  {
   "cell_type": "code",
   "execution_count": 28,
   "id": "ba8e4142",
   "metadata": {},
   "outputs": [
    {
     "name": "stdout",
     "output_type": "stream",
     "text": [
      "(90, 301)\n"
     ]
    }
   ],
   "source": [
    "print(art.shape)"
   ]
  },
  {
   "cell_type": "code",
   "execution_count": 29,
   "id": "1ca2a666",
   "metadata": {},
   "outputs": [],
   "source": [
    "art2=art[['rating','new_col']]"
   ]
  },
  {
   "cell_type": "code",
   "execution_count": 30,
   "id": "7aa38499",
   "metadata": {},
   "outputs": [],
   "source": [
    "# merging the art and the rating data "
   ]
  },
  {
   "cell_type": "code",
   "execution_count": 31,
   "id": "f20860e4",
   "metadata": {},
   "outputs": [],
   "source": [
    "artdata=pd.merge(art2,data)"
   ]
  },
  {
   "cell_type": "code",
   "execution_count": 32,
   "id": "729e7d7f",
   "metadata": {},
   "outputs": [
    {
     "name": "stdout",
     "output_type": "stream",
     "text": [
      "(90, 10)\n"
     ]
    }
   ],
   "source": [
    "print(artdata.shape)"
   ]
  },
  {
   "cell_type": "code",
   "execution_count": 33,
   "id": "c940d16a",
   "metadata": {},
   "outputs": [
    {
     "data": {
      "text/html": [
       "<div>\n",
       "<style scoped>\n",
       "    .dataframe tbody tr th:only-of-type {\n",
       "        vertical-align: middle;\n",
       "    }\n",
       "\n",
       "    .dataframe tbody tr th {\n",
       "        vertical-align: top;\n",
       "    }\n",
       "\n",
       "    .dataframe thead th {\n",
       "        text-align: right;\n",
       "    }\n",
       "</style>\n",
       "<table border=\"1\" class=\"dataframe\">\n",
       "  <thead>\n",
       "    <tr style=\"text-align: right;\">\n",
       "      <th></th>\n",
       "      <th>rating</th>\n",
       "      <th>new_col</th>\n",
       "      <th>Number</th>\n",
       "      <th>Artist</th>\n",
       "      <th>Title</th>\n",
       "      <th>Style</th>\n",
       "      <th>Year</th>\n",
       "      <th>Source (1 = classical, 2 = modern, 3 = nonhuman)</th>\n",
       "      <th>computerOrAnimal (0 = human, 1 = computer, 2 = animal)</th>\n",
       "      <th>Intent (0 = no, 1 = yes)</th>\n",
       "    </tr>\n",
       "  </thead>\n",
       "  <tbody>\n",
       "    <tr>\n",
       "      <th>0</th>\n",
       "      <td>5.628763</td>\n",
       "      <td>1</td>\n",
       "      <td>1</td>\n",
       "      <td>Durer</td>\n",
       "      <td>Self-Portrait</td>\n",
       "      <td>Northern Renaissance</td>\n",
       "      <td>1500</td>\n",
       "      <td>1</td>\n",
       "      <td>0</td>\n",
       "      <td>1</td>\n",
       "    </tr>\n",
       "    <tr>\n",
       "      <th>1</th>\n",
       "      <td>4.414716</td>\n",
       "      <td>2</td>\n",
       "      <td>2</td>\n",
       "      <td>de Vinci</td>\n",
       "      <td>Mona Lisa</td>\n",
       "      <td>Renaissance</td>\n",
       "      <td>1503</td>\n",
       "      <td>1</td>\n",
       "      <td>0</td>\n",
       "      <td>1</td>\n",
       "    </tr>\n",
       "    <tr>\n",
       "      <th>2</th>\n",
       "      <td>5.842809</td>\n",
       "      <td>3</td>\n",
       "      <td>3</td>\n",
       "      <td>Michelangelo</td>\n",
       "      <td>The Creation of Adam</td>\n",
       "      <td>Italian Renaissance</td>\n",
       "      <td>1512</td>\n",
       "      <td>1</td>\n",
       "      <td>0</td>\n",
       "      <td>1</td>\n",
       "    </tr>\n",
       "    <tr>\n",
       "      <th>3</th>\n",
       "      <td>4.193980</td>\n",
       "      <td>4</td>\n",
       "      <td>4</td>\n",
       "      <td>Bruegel</td>\n",
       "      <td>Tower of Babel</td>\n",
       "      <td>Dutch and Flemish Renaissance</td>\n",
       "      <td>1563</td>\n",
       "      <td>1</td>\n",
       "      <td>0</td>\n",
       "      <td>1</td>\n",
       "    </tr>\n",
       "    <tr>\n",
       "      <th>4</th>\n",
       "      <td>4.702341</td>\n",
       "      <td>5</td>\n",
       "      <td>5</td>\n",
       "      <td>Hals</td>\n",
       "      <td>Laughing Cavalier</td>\n",
       "      <td>Baroque</td>\n",
       "      <td>1624</td>\n",
       "      <td>1</td>\n",
       "      <td>0</td>\n",
       "      <td>1</td>\n",
       "    </tr>\n",
       "  </tbody>\n",
       "</table>\n",
       "</div>"
      ],
      "text/plain": [
       "     rating  new_col  Number        Artist                  Title  \\\n",
       "0  5.628763        1        1         Durer         Self-Portrait   \n",
       "1  4.414716        2        2      de Vinci             Mona Lisa   \n",
       "2  5.842809        3        3  Michelangelo  The Creation of Adam   \n",
       "3  4.193980        4        4       Bruegel        Tower of Babel   \n",
       "4  4.702341        5        5          Hals     Laughing Cavalier   \n",
       "\n",
       "                           Style  Year  \\\n",
       "0           Northern Renaissance  1500   \n",
       "1                    Renaissance  1503   \n",
       "2            Italian Renaissance  1512   \n",
       "3  Dutch and Flemish Renaissance  1563   \n",
       "4                        Baroque  1624   \n",
       "\n",
       "   Source (1 = classical, 2 = modern, 3 = nonhuman)  \\\n",
       "0                                                 1   \n",
       "1                                                 1   \n",
       "2                                                 1   \n",
       "3                                                 1   \n",
       "4                                                 1   \n",
       "\n",
       "   computerOrAnimal (0 = human, 1 = computer, 2 = animal)  \\\n",
       "0                                                  0        \n",
       "1                                                  0        \n",
       "2                                                  0        \n",
       "3                                                  0        \n",
       "4                                                  0        \n",
       "\n",
       "   Intent (0 = no, 1 = yes)  \n",
       "0                         1  \n",
       "1                         1  \n",
       "2                         1  \n",
       "3                         1  \n",
       "4                         1  "
      ]
     },
     "execution_count": 33,
     "metadata": {},
     "output_type": "execute_result"
    }
   ],
   "source": [
    "artdata.head()"
   ]
  },
  {
   "cell_type": "code",
   "execution_count": 34,
   "id": "7a3c0835",
   "metadata": {},
   "outputs": [
    {
     "name": "stdout",
     "output_type": "stream",
     "text": [
      "rating\n",
      "new_col\n",
      "Number \n",
      "Artist \n",
      "Title\n",
      "Style\n",
      "Year\n",
      "Source (1 = classical, 2 = modern, 3 = nonhuman)\n",
      "computerOrAnimal (0 = human, 1 = computer, 2 = animal)\n",
      "Intent (0 = no, 1 = yes)\n"
     ]
    }
   ],
   "source": [
    "for col in artdata.columns: \n",
    "    print(col)"
   ]
  },
  {
   "cell_type": "code",
   "execution_count": 35,
   "id": "40621871",
   "metadata": {},
   "outputs": [
    {
     "data": {
      "text/plain": [
       "rating                                                    0\n",
       "new_col                                                   0\n",
       "Number                                                    0\n",
       "Artist                                                    0\n",
       "Title                                                     0\n",
       "Style                                                     0\n",
       "Year                                                      0\n",
       "Source (1 = classical, 2 = modern, 3 = nonhuman)          0\n",
       "computerOrAnimal (0 = human, 1 = computer, 2 = animal)    0\n",
       "Intent (0 = no, 1 = yes)                                  0\n",
       "dtype: int64"
      ]
     },
     "execution_count": 35,
     "metadata": {},
     "output_type": "execute_result"
    }
   ],
   "source": [
    "artdata.isna().sum()"
   ]
  },
  {
   "cell_type": "code",
   "execution_count": 36,
   "id": "d4a587d7",
   "metadata": {},
   "outputs": [],
   "source": [
    "# selecting the 90 energy rating "
   ]
  },
  {
   "cell_type": "code",
   "execution_count": 37,
   "id": "32da4f01",
   "metadata": {},
   "outputs": [],
   "source": [
    "energ_rating=thedata[thedata.columns[92:182]]"
   ]
  },
  {
   "cell_type": "code",
   "execution_count": 38,
   "id": "bf78f41c",
   "metadata": {},
   "outputs": [
    {
     "name": "stdout",
     "output_type": "stream",
     "text": [
      "(299, 90)\n"
     ]
    }
   ],
   "source": [
    "print(energ_rating.shape)"
   ]
  },
  {
   "cell_type": "code",
   "execution_count": 39,
   "id": "9a492f63",
   "metadata": {},
   "outputs": [],
   "source": [
    "energy=energ_rating.transpose()"
   ]
  },
  {
   "cell_type": "code",
   "execution_count": 40,
   "id": "aa3f7ba8",
   "metadata": {},
   "outputs": [
    {
     "name": "stdout",
     "output_type": "stream",
     "text": [
      "(90, 299)\n"
     ]
    }
   ],
   "source": [
    "print(energy.shape)"
   ]
  },
  {
   "cell_type": "code",
   "execution_count": 41,
   "id": "d05a93a6",
   "metadata": {},
   "outputs": [],
   "source": [
    "energy['energy_rat']=energy.mean(axis=1)"
   ]
  },
  {
   "cell_type": "code",
   "execution_count": 42,
   "id": "9a5e7b4e",
   "metadata": {},
   "outputs": [
    {
     "name": "stdout",
     "output_type": "stream",
     "text": [
      "(90, 300)\n"
     ]
    }
   ],
   "source": [
    "print(energy.shape)"
   ]
  },
  {
   "cell_type": "code",
   "execution_count": 43,
   "id": "3bd1b11f",
   "metadata": {},
   "outputs": [
    {
     "data": {
      "text/plain": [
       "0             0\n",
       "1             0\n",
       "2             0\n",
       "3             0\n",
       "4             0\n",
       "             ..\n",
       "295           0\n",
       "296           0\n",
       "297           0\n",
       "298           0\n",
       "energy_rat    0\n",
       "Length: 300, dtype: int64"
      ]
     },
     "execution_count": 43,
     "metadata": {},
     "output_type": "execute_result"
    }
   ],
   "source": [
    "energy.isna().sum()"
   ]
  },
  {
   "cell_type": "code",
   "execution_count": 44,
   "id": "b45c8a70",
   "metadata": {},
   "outputs": [],
   "source": [
    "energy['new_col'] = range(1, len(energy) + 1)"
   ]
  },
  {
   "cell_type": "code",
   "execution_count": 45,
   "id": "35f5c9a5",
   "metadata": {},
   "outputs": [
    {
     "name": "stdout",
     "output_type": "stream",
     "text": [
      "(90, 301)\n"
     ]
    }
   ],
   "source": [
    "print(energy.shape)"
   ]
  },
  {
   "cell_type": "code",
   "execution_count": 46,
   "id": "96ab0f5f",
   "metadata": {},
   "outputs": [],
   "source": [
    "energy2=energy[['energy_rat','new_col']]"
   ]
  },
  {
   "cell_type": "code",
   "execution_count": 47,
   "id": "29a86162",
   "metadata": {},
   "outputs": [
    {
     "name": "stdout",
     "output_type": "stream",
     "text": [
      "(90, 2)\n"
     ]
    }
   ],
   "source": [
    "print(energy2.shape)"
   ]
  },
  {
   "cell_type": "code",
   "execution_count": 48,
   "id": "d0c06ea1",
   "metadata": {},
   "outputs": [],
   "source": [
    "# merging the data "
   ]
  },
  {
   "cell_type": "code",
   "execution_count": 49,
   "id": "46251c96",
   "metadata": {},
   "outputs": [],
   "source": [
    "artdata1=pd.merge(artdata,energy2)"
   ]
  },
  {
   "cell_type": "code",
   "execution_count": 50,
   "id": "b06f6781",
   "metadata": {},
   "outputs": [
    {
     "data": {
      "text/html": [
       "<div>\n",
       "<style scoped>\n",
       "    .dataframe tbody tr th:only-of-type {\n",
       "        vertical-align: middle;\n",
       "    }\n",
       "\n",
       "    .dataframe tbody tr th {\n",
       "        vertical-align: top;\n",
       "    }\n",
       "\n",
       "    .dataframe thead th {\n",
       "        text-align: right;\n",
       "    }\n",
       "</style>\n",
       "<table border=\"1\" class=\"dataframe\">\n",
       "  <thead>\n",
       "    <tr style=\"text-align: right;\">\n",
       "      <th></th>\n",
       "      <th>rating</th>\n",
       "      <th>new_col</th>\n",
       "      <th>Number</th>\n",
       "      <th>Artist</th>\n",
       "      <th>Title</th>\n",
       "      <th>Style</th>\n",
       "      <th>Year</th>\n",
       "      <th>Source (1 = classical, 2 = modern, 3 = nonhuman)</th>\n",
       "      <th>computerOrAnimal (0 = human, 1 = computer, 2 = animal)</th>\n",
       "      <th>Intent (0 = no, 1 = yes)</th>\n",
       "      <th>energy_rat</th>\n",
       "    </tr>\n",
       "  </thead>\n",
       "  <tbody>\n",
       "    <tr>\n",
       "      <th>0</th>\n",
       "      <td>5.628763</td>\n",
       "      <td>1</td>\n",
       "      <td>1</td>\n",
       "      <td>Durer</td>\n",
       "      <td>Self-Portrait</td>\n",
       "      <td>Northern Renaissance</td>\n",
       "      <td>1500</td>\n",
       "      <td>1</td>\n",
       "      <td>0</td>\n",
       "      <td>1</td>\n",
       "      <td>4.140468</td>\n",
       "    </tr>\n",
       "    <tr>\n",
       "      <th>1</th>\n",
       "      <td>4.414716</td>\n",
       "      <td>2</td>\n",
       "      <td>2</td>\n",
       "      <td>de Vinci</td>\n",
       "      <td>Mona Lisa</td>\n",
       "      <td>Renaissance</td>\n",
       "      <td>1503</td>\n",
       "      <td>1</td>\n",
       "      <td>0</td>\n",
       "      <td>1</td>\n",
       "      <td>3.347826</td>\n",
       "    </tr>\n",
       "    <tr>\n",
       "      <th>2</th>\n",
       "      <td>5.842809</td>\n",
       "      <td>3</td>\n",
       "      <td>3</td>\n",
       "      <td>Michelangelo</td>\n",
       "      <td>The Creation of Adam</td>\n",
       "      <td>Italian Renaissance</td>\n",
       "      <td>1512</td>\n",
       "      <td>1</td>\n",
       "      <td>0</td>\n",
       "      <td>1</td>\n",
       "      <td>3.387960</td>\n",
       "    </tr>\n",
       "    <tr>\n",
       "      <th>3</th>\n",
       "      <td>4.193980</td>\n",
       "      <td>4</td>\n",
       "      <td>4</td>\n",
       "      <td>Bruegel</td>\n",
       "      <td>Tower of Babel</td>\n",
       "      <td>Dutch and Flemish Renaissance</td>\n",
       "      <td>1563</td>\n",
       "      <td>1</td>\n",
       "      <td>0</td>\n",
       "      <td>1</td>\n",
       "      <td>4.080268</td>\n",
       "    </tr>\n",
       "    <tr>\n",
       "      <th>4</th>\n",
       "      <td>4.702341</td>\n",
       "      <td>5</td>\n",
       "      <td>5</td>\n",
       "      <td>Hals</td>\n",
       "      <td>Laughing Cavalier</td>\n",
       "      <td>Baroque</td>\n",
       "      <td>1624</td>\n",
       "      <td>1</td>\n",
       "      <td>0</td>\n",
       "      <td>1</td>\n",
       "      <td>4.605351</td>\n",
       "    </tr>\n",
       "  </tbody>\n",
       "</table>\n",
       "</div>"
      ],
      "text/plain": [
       "     rating  new_col  Number        Artist                  Title  \\\n",
       "0  5.628763        1        1         Durer         Self-Portrait   \n",
       "1  4.414716        2        2      de Vinci             Mona Lisa   \n",
       "2  5.842809        3        3  Michelangelo  The Creation of Adam   \n",
       "3  4.193980        4        4       Bruegel        Tower of Babel   \n",
       "4  4.702341        5        5          Hals     Laughing Cavalier   \n",
       "\n",
       "                           Style  Year  \\\n",
       "0           Northern Renaissance  1500   \n",
       "1                    Renaissance  1503   \n",
       "2            Italian Renaissance  1512   \n",
       "3  Dutch and Flemish Renaissance  1563   \n",
       "4                        Baroque  1624   \n",
       "\n",
       "   Source (1 = classical, 2 = modern, 3 = nonhuman)  \\\n",
       "0                                                 1   \n",
       "1                                                 1   \n",
       "2                                                 1   \n",
       "3                                                 1   \n",
       "4                                                 1   \n",
       "\n",
       "   computerOrAnimal (0 = human, 1 = computer, 2 = animal)  \\\n",
       "0                                                  0        \n",
       "1                                                  0        \n",
       "2                                                  0        \n",
       "3                                                  0        \n",
       "4                                                  0        \n",
       "\n",
       "   Intent (0 = no, 1 = yes)  energy_rat  \n",
       "0                         1    4.140468  \n",
       "1                         1    3.347826  \n",
       "2                         1    3.387960  \n",
       "3                         1    4.080268  \n",
       "4                         1    4.605351  "
      ]
     },
     "execution_count": 50,
     "metadata": {},
     "output_type": "execute_result"
    }
   ],
   "source": [
    "artdata1.head()"
   ]
  },
  {
   "cell_type": "code",
   "execution_count": 51,
   "id": "3442367c",
   "metadata": {},
   "outputs": [
    {
     "name": "stdout",
     "output_type": "stream",
     "text": [
      "(90, 11)\n"
     ]
    }
   ],
   "source": [
    "print(artdata1.shape)"
   ]
  },
  {
   "cell_type": "code",
   "execution_count": 52,
   "id": "75f2b019",
   "metadata": {},
   "outputs": [],
   "source": [
    "# selecting the remainign columns "
   ]
  },
  {
   "cell_type": "code",
   "execution_count": 53,
   "id": "e04d5bac",
   "metadata": {},
   "outputs": [],
   "source": [
    "rem=thedata[thedata.columns[183:221]]"
   ]
  },
  {
   "cell_type": "code",
   "execution_count": 54,
   "id": "0823c5ef",
   "metadata": {},
   "outputs": [
    {
     "name": "stdout",
     "output_type": "stream",
     "text": [
      "(299, 38)\n"
     ]
    }
   ],
   "source": [
    "print(rem.shape)"
   ]
  },
  {
   "cell_type": "code",
   "execution_count": 55,
   "id": "14db2ea6",
   "metadata": {},
   "outputs": [],
   "source": [
    "# randomly selecting 90 rows to fit into the other data "
   ]
  },
  {
   "cell_type": "code",
   "execution_count": 56,
   "id": "eac357e1",
   "metadata": {},
   "outputs": [],
   "source": [
    "rem2=rem.sample(n=90, random_state=1)"
   ]
  },
  {
   "cell_type": "code",
   "execution_count": 57,
   "id": "927729a0",
   "metadata": {},
   "outputs": [
    {
     "name": "stdout",
     "output_type": "stream",
     "text": [
      "(90, 38)\n"
     ]
    }
   ],
   "source": [
    "print(rem2.shape)"
   ]
  },
  {
   "cell_type": "code",
   "execution_count": 58,
   "id": "c762a9f4",
   "metadata": {},
   "outputs": [
    {
     "data": {
      "text/html": [
       "<div>\n",
       "<style scoped>\n",
       "    .dataframe tbody tr th:only-of-type {\n",
       "        vertical-align: middle;\n",
       "    }\n",
       "\n",
       "    .dataframe tbody tr th {\n",
       "        vertical-align: top;\n",
       "    }\n",
       "\n",
       "    .dataframe thead th {\n",
       "        text-align: right;\n",
       "    }\n",
       "</style>\n",
       "<table border=\"1\" class=\"dataframe\">\n",
       "  <thead>\n",
       "    <tr style=\"text-align: right;\">\n",
       "      <th></th>\n",
       "      <th>4.63</th>\n",
       "      <th>4.64</th>\n",
       "      <th>2.32</th>\n",
       "      <th>1.12</th>\n",
       "      <th>2.33</th>\n",
       "      <th>2.34</th>\n",
       "      <th>2.35</th>\n",
       "      <th>4.65</th>\n",
       "      <th>4.66</th>\n",
       "      <th>3.22</th>\n",
       "      <th>...</th>\n",
       "      <th>5.41</th>\n",
       "      <th>2.44</th>\n",
       "      <th>3.23</th>\n",
       "      <th>4.72</th>\n",
       "      <th>19</th>\n",
       "      <th>2.45</th>\n",
       "      <th>3.24</th>\n",
       "      <th>0</th>\n",
       "      <th>2.46</th>\n",
       "      <th>2.47</th>\n",
       "    </tr>\n",
       "  </thead>\n",
       "  <tbody>\n",
       "    <tr>\n",
       "      <th>173</th>\n",
       "      <td>2.0</td>\n",
       "      <td>3.0</td>\n",
       "      <td>2.0</td>\n",
       "      <td>2.0</td>\n",
       "      <td>2.0</td>\n",
       "      <td>4.0</td>\n",
       "      <td>4.0</td>\n",
       "      <td>4.0</td>\n",
       "      <td>4.0</td>\n",
       "      <td>2.0</td>\n",
       "      <td>...</td>\n",
       "      <td>4.0</td>\n",
       "      <td>2.0</td>\n",
       "      <td>3.0</td>\n",
       "      <td>3.0</td>\n",
       "      <td>21.0</td>\n",
       "      <td>2.0</td>\n",
       "      <td>2.0</td>\n",
       "      <td>1.0</td>\n",
       "      <td>0.0</td>\n",
       "      <td>1.0</td>\n",
       "    </tr>\n",
       "    <tr>\n",
       "      <th>287</th>\n",
       "      <td>4.0</td>\n",
       "      <td>5.0</td>\n",
       "      <td>4.0</td>\n",
       "      <td>2.0</td>\n",
       "      <td>4.0</td>\n",
       "      <td>4.0</td>\n",
       "      <td>4.0</td>\n",
       "      <td>4.0</td>\n",
       "      <td>5.0</td>\n",
       "      <td>5.0</td>\n",
       "      <td>...</td>\n",
       "      <td>3.0</td>\n",
       "      <td>2.0</td>\n",
       "      <td>2.0</td>\n",
       "      <td>3.0</td>\n",
       "      <td>19.0</td>\n",
       "      <td>2.0</td>\n",
       "      <td>6.0</td>\n",
       "      <td>0.0</td>\n",
       "      <td>2.0</td>\n",
       "      <td>2.0</td>\n",
       "    </tr>\n",
       "    <tr>\n",
       "      <th>51</th>\n",
       "      <td>4.0</td>\n",
       "      <td>4.0</td>\n",
       "      <td>2.0</td>\n",
       "      <td>2.0</td>\n",
       "      <td>2.0</td>\n",
       "      <td>4.0</td>\n",
       "      <td>4.0</td>\n",
       "      <td>3.0</td>\n",
       "      <td>3.0</td>\n",
       "      <td>2.0</td>\n",
       "      <td>...</td>\n",
       "      <td>4.0</td>\n",
       "      <td>2.0</td>\n",
       "      <td>4.0</td>\n",
       "      <td>3.0</td>\n",
       "      <td>20.0</td>\n",
       "      <td>2.0</td>\n",
       "      <td>3.0</td>\n",
       "      <td>0.0</td>\n",
       "      <td>0.0</td>\n",
       "      <td>1.0</td>\n",
       "    </tr>\n",
       "    <tr>\n",
       "      <th>146</th>\n",
       "      <td>3.0</td>\n",
       "      <td>4.0</td>\n",
       "      <td>2.0</td>\n",
       "      <td>2.0</td>\n",
       "      <td>2.0</td>\n",
       "      <td>4.0</td>\n",
       "      <td>5.0</td>\n",
       "      <td>4.0</td>\n",
       "      <td>4.0</td>\n",
       "      <td>4.0</td>\n",
       "      <td>...</td>\n",
       "      <td>4.0</td>\n",
       "      <td>4.0</td>\n",
       "      <td>5.0</td>\n",
       "      <td>4.0</td>\n",
       "      <td>19.0</td>\n",
       "      <td>1.0</td>\n",
       "      <td>2.0</td>\n",
       "      <td>2.0</td>\n",
       "      <td>1.0</td>\n",
       "      <td>1.0</td>\n",
       "    </tr>\n",
       "    <tr>\n",
       "      <th>214</th>\n",
       "      <td>3.0</td>\n",
       "      <td>3.0</td>\n",
       "      <td>2.0</td>\n",
       "      <td>4.0</td>\n",
       "      <td>4.0</td>\n",
       "      <td>4.0</td>\n",
       "      <td>2.0</td>\n",
       "      <td>4.0</td>\n",
       "      <td>4.0</td>\n",
       "      <td>4.0</td>\n",
       "      <td>...</td>\n",
       "      <td>3.0</td>\n",
       "      <td>1.0</td>\n",
       "      <td>4.0</td>\n",
       "      <td>1.0</td>\n",
       "      <td>20.0</td>\n",
       "      <td>2.0</td>\n",
       "      <td>2.0</td>\n",
       "      <td>1.0</td>\n",
       "      <td>1.0</td>\n",
       "      <td>2.0</td>\n",
       "    </tr>\n",
       "  </tbody>\n",
       "</table>\n",
       "<p>5 rows × 38 columns</p>\n",
       "</div>"
      ],
      "text/plain": [
       "     4.63  4.64  2.32  1.12  2.33  2.34  2.35  4.65  4.66  3.22  ...  5.41  \\\n",
       "173   2.0   3.0   2.0   2.0   2.0   4.0   4.0   4.0   4.0   2.0  ...   4.0   \n",
       "287   4.0   5.0   4.0   2.0   4.0   4.0   4.0   4.0   5.0   5.0  ...   3.0   \n",
       "51    4.0   4.0   2.0   2.0   2.0   4.0   4.0   3.0   3.0   2.0  ...   4.0   \n",
       "146   3.0   4.0   2.0   2.0   2.0   4.0   5.0   4.0   4.0   4.0  ...   4.0   \n",
       "214   3.0   3.0   2.0   4.0   4.0   4.0   2.0   4.0   4.0   4.0  ...   3.0   \n",
       "\n",
       "     2.44  3.23  4.72    19  2.45  3.24    0  2.46  2.47  \n",
       "173   2.0   3.0   3.0  21.0   2.0   2.0  1.0   0.0   1.0  \n",
       "287   2.0   2.0   3.0  19.0   2.0   6.0  0.0   2.0   2.0  \n",
       "51    2.0   4.0   3.0  20.0   2.0   3.0  0.0   0.0   1.0  \n",
       "146   4.0   5.0   4.0  19.0   1.0   2.0  2.0   1.0   1.0  \n",
       "214   1.0   4.0   1.0  20.0   2.0   2.0  1.0   1.0   2.0  \n",
       "\n",
       "[5 rows x 38 columns]"
      ]
     },
     "execution_count": 58,
     "metadata": {},
     "output_type": "execute_result"
    }
   ],
   "source": [
    "rem2.head()"
   ]
  },
  {
   "cell_type": "code",
   "execution_count": 59,
   "id": "56ceaa52",
   "metadata": {},
   "outputs": [],
   "source": [
    "# renaming certain column names for easy analysis "
   ]
  },
  {
   "cell_type": "code",
   "execution_count": 60,
   "id": "35413866",
   "metadata": {},
   "outputs": [
    {
     "name": "stdout",
     "output_type": "stream",
     "text": [
      "4.63\n",
      "4.64\n",
      "2.32\n",
      "1.12\n",
      "2.33\n",
      "2.34\n",
      "2.35\n",
      "4.65\n",
      "4.66\n",
      "3.22\n",
      "4.67\n",
      "4.68\n",
      "2.36\n",
      "4.69\n",
      "2.37\n",
      "4.70\n",
      "2.38\n",
      "2.39\n",
      "2.40\n",
      "5.36\n",
      "2.41\n",
      "5.37\n",
      "5.38\n",
      "2.42\n",
      "5.39\n",
      "4.71\n",
      "5.40\n",
      "2.43\n",
      "5.41\n",
      "2.44\n",
      "3.23\n",
      "4.72\n",
      "19\n",
      "2.45\n",
      "3.24\n",
      "0\n",
      "2.46\n",
      "2.47\n"
     ]
    }
   ],
   "source": [
    "for col in rem2.columns: \n",
    "    print(col)"
   ]
  },
  {
   "cell_type": "code",
   "execution_count": 61,
   "id": "618c6e38",
   "metadata": {},
   "outputs": [],
   "source": [
    "rem3=rem2.rename(columns={'19':'age','2.45':'gender','3.24':'politics','0':'arteduc','2.46':'sophi','2.47':'myself_artist' })"
   ]
  },
  {
   "cell_type": "code",
   "execution_count": 62,
   "id": "60c704ba",
   "metadata": {},
   "outputs": [],
   "source": [
    "rem3['new_col'] = range(1, len(rem3) + 1)"
   ]
  },
  {
   "cell_type": "code",
   "execution_count": 63,
   "id": "73d8a783",
   "metadata": {},
   "outputs": [
    {
     "data": {
      "text/html": [
       "<div>\n",
       "<style scoped>\n",
       "    .dataframe tbody tr th:only-of-type {\n",
       "        vertical-align: middle;\n",
       "    }\n",
       "\n",
       "    .dataframe tbody tr th {\n",
       "        vertical-align: top;\n",
       "    }\n",
       "\n",
       "    .dataframe thead th {\n",
       "        text-align: right;\n",
       "    }\n",
       "</style>\n",
       "<table border=\"1\" class=\"dataframe\">\n",
       "  <thead>\n",
       "    <tr style=\"text-align: right;\">\n",
       "      <th></th>\n",
       "      <th>4.63</th>\n",
       "      <th>4.64</th>\n",
       "      <th>2.32</th>\n",
       "      <th>1.12</th>\n",
       "      <th>2.33</th>\n",
       "      <th>2.34</th>\n",
       "      <th>2.35</th>\n",
       "      <th>4.65</th>\n",
       "      <th>4.66</th>\n",
       "      <th>3.22</th>\n",
       "      <th>...</th>\n",
       "      <th>2.44</th>\n",
       "      <th>3.23</th>\n",
       "      <th>4.72</th>\n",
       "      <th>age</th>\n",
       "      <th>gender</th>\n",
       "      <th>politics</th>\n",
       "      <th>arteduc</th>\n",
       "      <th>sophi</th>\n",
       "      <th>myself_artist</th>\n",
       "      <th>new_col</th>\n",
       "    </tr>\n",
       "  </thead>\n",
       "  <tbody>\n",
       "    <tr>\n",
       "      <th>173</th>\n",
       "      <td>2.0</td>\n",
       "      <td>3.0</td>\n",
       "      <td>2.0</td>\n",
       "      <td>2.0</td>\n",
       "      <td>2.0</td>\n",
       "      <td>4.0</td>\n",
       "      <td>4.0</td>\n",
       "      <td>4.0</td>\n",
       "      <td>4.0</td>\n",
       "      <td>2.0</td>\n",
       "      <td>...</td>\n",
       "      <td>2.0</td>\n",
       "      <td>3.0</td>\n",
       "      <td>3.0</td>\n",
       "      <td>21.0</td>\n",
       "      <td>2.0</td>\n",
       "      <td>2.0</td>\n",
       "      <td>1.0</td>\n",
       "      <td>0.0</td>\n",
       "      <td>1.0</td>\n",
       "      <td>1</td>\n",
       "    </tr>\n",
       "    <tr>\n",
       "      <th>287</th>\n",
       "      <td>4.0</td>\n",
       "      <td>5.0</td>\n",
       "      <td>4.0</td>\n",
       "      <td>2.0</td>\n",
       "      <td>4.0</td>\n",
       "      <td>4.0</td>\n",
       "      <td>4.0</td>\n",
       "      <td>4.0</td>\n",
       "      <td>5.0</td>\n",
       "      <td>5.0</td>\n",
       "      <td>...</td>\n",
       "      <td>2.0</td>\n",
       "      <td>2.0</td>\n",
       "      <td>3.0</td>\n",
       "      <td>19.0</td>\n",
       "      <td>2.0</td>\n",
       "      <td>6.0</td>\n",
       "      <td>0.0</td>\n",
       "      <td>2.0</td>\n",
       "      <td>2.0</td>\n",
       "      <td>2</td>\n",
       "    </tr>\n",
       "    <tr>\n",
       "      <th>51</th>\n",
       "      <td>4.0</td>\n",
       "      <td>4.0</td>\n",
       "      <td>2.0</td>\n",
       "      <td>2.0</td>\n",
       "      <td>2.0</td>\n",
       "      <td>4.0</td>\n",
       "      <td>4.0</td>\n",
       "      <td>3.0</td>\n",
       "      <td>3.0</td>\n",
       "      <td>2.0</td>\n",
       "      <td>...</td>\n",
       "      <td>2.0</td>\n",
       "      <td>4.0</td>\n",
       "      <td>3.0</td>\n",
       "      <td>20.0</td>\n",
       "      <td>2.0</td>\n",
       "      <td>3.0</td>\n",
       "      <td>0.0</td>\n",
       "      <td>0.0</td>\n",
       "      <td>1.0</td>\n",
       "      <td>3</td>\n",
       "    </tr>\n",
       "    <tr>\n",
       "      <th>146</th>\n",
       "      <td>3.0</td>\n",
       "      <td>4.0</td>\n",
       "      <td>2.0</td>\n",
       "      <td>2.0</td>\n",
       "      <td>2.0</td>\n",
       "      <td>4.0</td>\n",
       "      <td>5.0</td>\n",
       "      <td>4.0</td>\n",
       "      <td>4.0</td>\n",
       "      <td>4.0</td>\n",
       "      <td>...</td>\n",
       "      <td>4.0</td>\n",
       "      <td>5.0</td>\n",
       "      <td>4.0</td>\n",
       "      <td>19.0</td>\n",
       "      <td>1.0</td>\n",
       "      <td>2.0</td>\n",
       "      <td>2.0</td>\n",
       "      <td>1.0</td>\n",
       "      <td>1.0</td>\n",
       "      <td>4</td>\n",
       "    </tr>\n",
       "    <tr>\n",
       "      <th>214</th>\n",
       "      <td>3.0</td>\n",
       "      <td>3.0</td>\n",
       "      <td>2.0</td>\n",
       "      <td>4.0</td>\n",
       "      <td>4.0</td>\n",
       "      <td>4.0</td>\n",
       "      <td>2.0</td>\n",
       "      <td>4.0</td>\n",
       "      <td>4.0</td>\n",
       "      <td>4.0</td>\n",
       "      <td>...</td>\n",
       "      <td>1.0</td>\n",
       "      <td>4.0</td>\n",
       "      <td>1.0</td>\n",
       "      <td>20.0</td>\n",
       "      <td>2.0</td>\n",
       "      <td>2.0</td>\n",
       "      <td>1.0</td>\n",
       "      <td>1.0</td>\n",
       "      <td>2.0</td>\n",
       "      <td>5</td>\n",
       "    </tr>\n",
       "  </tbody>\n",
       "</table>\n",
       "<p>5 rows × 39 columns</p>\n",
       "</div>"
      ],
      "text/plain": [
       "     4.63  4.64  2.32  1.12  2.33  2.34  2.35  4.65  4.66  3.22  ...  2.44  \\\n",
       "173   2.0   3.0   2.0   2.0   2.0   4.0   4.0   4.0   4.0   2.0  ...   2.0   \n",
       "287   4.0   5.0   4.0   2.0   4.0   4.0   4.0   4.0   5.0   5.0  ...   2.0   \n",
       "51    4.0   4.0   2.0   2.0   2.0   4.0   4.0   3.0   3.0   2.0  ...   2.0   \n",
       "146   3.0   4.0   2.0   2.0   2.0   4.0   5.0   4.0   4.0   4.0  ...   4.0   \n",
       "214   3.0   3.0   2.0   4.0   4.0   4.0   2.0   4.0   4.0   4.0  ...   1.0   \n",
       "\n",
       "     3.23  4.72   age  gender  politics  arteduc  sophi  myself_artist  \\\n",
       "173   3.0   3.0  21.0     2.0       2.0      1.0    0.0            1.0   \n",
       "287   2.0   3.0  19.0     2.0       6.0      0.0    2.0            2.0   \n",
       "51    4.0   3.0  20.0     2.0       3.0      0.0    0.0            1.0   \n",
       "146   5.0   4.0  19.0     1.0       2.0      2.0    1.0            1.0   \n",
       "214   4.0   1.0  20.0     2.0       2.0      1.0    1.0            2.0   \n",
       "\n",
       "     new_col  \n",
       "173        1  \n",
       "287        2  \n",
       "51         3  \n",
       "146        4  \n",
       "214        5  \n",
       "\n",
       "[5 rows x 39 columns]"
      ]
     },
     "execution_count": 63,
     "metadata": {},
     "output_type": "execute_result"
    }
   ],
   "source": [
    "rem3.head()"
   ]
  },
  {
   "cell_type": "code",
   "execution_count": 64,
   "id": "01f090c3",
   "metadata": {},
   "outputs": [],
   "source": [
    "# merging with the artdata "
   ]
  },
  {
   "cell_type": "code",
   "execution_count": 65,
   "id": "a7d26980",
   "metadata": {},
   "outputs": [],
   "source": [
    "art_df=pd.merge(artdata1,rem3)"
   ]
  },
  {
   "cell_type": "code",
   "execution_count": 66,
   "id": "75134a4f",
   "metadata": {},
   "outputs": [
    {
     "name": "stdout",
     "output_type": "stream",
     "text": [
      "(90, 49)\n"
     ]
    }
   ],
   "source": [
    "print(art_df.shape)"
   ]
  },
  {
   "cell_type": "code",
   "execution_count": 67,
   "id": "3239eb79",
   "metadata": {},
   "outputs": [
    {
     "data": {
      "text/plain": [
       "rating                                                    0\n",
       "new_col                                                   0\n",
       "Number                                                    0\n",
       "Artist                                                    0\n",
       "Title                                                     0\n",
       "Style                                                     0\n",
       "Year                                                      0\n",
       "Source (1 = classical, 2 = modern, 3 = nonhuman)          0\n",
       "computerOrAnimal (0 = human, 1 = computer, 2 = animal)    0\n",
       "Intent (0 = no, 1 = yes)                                  0\n",
       "energy_rat                                                0\n",
       "4.63                                                      0\n",
       "4.64                                                      1\n",
       "2.32                                                      0\n",
       "1.12                                                      3\n",
       "2.33                                                      1\n",
       "2.34                                                      0\n",
       "2.35                                                      0\n",
       "4.65                                                      1\n",
       "4.66                                                      0\n",
       "3.22                                                      1\n",
       "4.67                                                      1\n",
       "4.68                                                      0\n",
       "2.36                                                      1\n",
       "4.69                                                      1\n",
       "2.37                                                      1\n",
       "4.70                                                      1\n",
       "2.38                                                      1\n",
       "2.39                                                      0\n",
       "2.40                                                      0\n",
       "5.36                                                      0\n",
       "2.41                                                      2\n",
       "5.37                                                      1\n",
       "5.38                                                      1\n",
       "2.42                                                      1\n",
       "5.39                                                      2\n",
       "4.71                                                      2\n",
       "5.40                                                      2\n",
       "2.43                                                      2\n",
       "5.41                                                      1\n",
       "2.44                                                      1\n",
       "3.23                                                      0\n",
       "4.72                                                      1\n",
       "age                                                       5\n",
       "gender                                                    5\n",
       "politics                                                  5\n",
       "arteduc                                                   5\n",
       "sophi                                                     5\n",
       "myself_artist                                             5\n",
       "dtype: int64"
      ]
     },
     "execution_count": 67,
     "metadata": {},
     "output_type": "execute_result"
    }
   ],
   "source": [
    "art_df.isna().sum()"
   ]
  },
  {
   "cell_type": "code",
   "execution_count": 68,
   "id": "f590321e",
   "metadata": {},
   "outputs": [
    {
     "data": {
      "text/html": [
       "<div>\n",
       "<style scoped>\n",
       "    .dataframe tbody tr th:only-of-type {\n",
       "        vertical-align: middle;\n",
       "    }\n",
       "\n",
       "    .dataframe tbody tr th {\n",
       "        vertical-align: top;\n",
       "    }\n",
       "\n",
       "    .dataframe thead th {\n",
       "        text-align: right;\n",
       "    }\n",
       "</style>\n",
       "<table border=\"1\" class=\"dataframe\">\n",
       "  <thead>\n",
       "    <tr style=\"text-align: right;\">\n",
       "      <th></th>\n",
       "      <th>rating</th>\n",
       "      <th>new_col</th>\n",
       "      <th>Number</th>\n",
       "      <th>Artist</th>\n",
       "      <th>Title</th>\n",
       "      <th>Style</th>\n",
       "      <th>Year</th>\n",
       "      <th>Source (1 = classical, 2 = modern, 3 = nonhuman)</th>\n",
       "      <th>computerOrAnimal (0 = human, 1 = computer, 2 = animal)</th>\n",
       "      <th>Intent (0 = no, 1 = yes)</th>\n",
       "      <th>...</th>\n",
       "      <th>5.41</th>\n",
       "      <th>2.44</th>\n",
       "      <th>3.23</th>\n",
       "      <th>4.72</th>\n",
       "      <th>age</th>\n",
       "      <th>gender</th>\n",
       "      <th>politics</th>\n",
       "      <th>arteduc</th>\n",
       "      <th>sophi</th>\n",
       "      <th>myself_artist</th>\n",
       "    </tr>\n",
       "  </thead>\n",
       "  <tbody>\n",
       "    <tr>\n",
       "      <th>0</th>\n",
       "      <td>5.628763</td>\n",
       "      <td>1</td>\n",
       "      <td>1</td>\n",
       "      <td>Durer</td>\n",
       "      <td>Self-Portrait</td>\n",
       "      <td>Northern Renaissance</td>\n",
       "      <td>1500</td>\n",
       "      <td>1</td>\n",
       "      <td>0</td>\n",
       "      <td>1</td>\n",
       "      <td>...</td>\n",
       "      <td>4.0</td>\n",
       "      <td>2.0</td>\n",
       "      <td>3.0</td>\n",
       "      <td>3.0</td>\n",
       "      <td>21.0</td>\n",
       "      <td>2.0</td>\n",
       "      <td>2.0</td>\n",
       "      <td>1.0</td>\n",
       "      <td>0.0</td>\n",
       "      <td>1.0</td>\n",
       "    </tr>\n",
       "    <tr>\n",
       "      <th>1</th>\n",
       "      <td>4.414716</td>\n",
       "      <td>2</td>\n",
       "      <td>2</td>\n",
       "      <td>de Vinci</td>\n",
       "      <td>Mona Lisa</td>\n",
       "      <td>Renaissance</td>\n",
       "      <td>1503</td>\n",
       "      <td>1</td>\n",
       "      <td>0</td>\n",
       "      <td>1</td>\n",
       "      <td>...</td>\n",
       "      <td>3.0</td>\n",
       "      <td>2.0</td>\n",
       "      <td>2.0</td>\n",
       "      <td>3.0</td>\n",
       "      <td>19.0</td>\n",
       "      <td>2.0</td>\n",
       "      <td>6.0</td>\n",
       "      <td>0.0</td>\n",
       "      <td>2.0</td>\n",
       "      <td>2.0</td>\n",
       "    </tr>\n",
       "    <tr>\n",
       "      <th>2</th>\n",
       "      <td>5.842809</td>\n",
       "      <td>3</td>\n",
       "      <td>3</td>\n",
       "      <td>Michelangelo</td>\n",
       "      <td>The Creation of Adam</td>\n",
       "      <td>Italian Renaissance</td>\n",
       "      <td>1512</td>\n",
       "      <td>1</td>\n",
       "      <td>0</td>\n",
       "      <td>1</td>\n",
       "      <td>...</td>\n",
       "      <td>4.0</td>\n",
       "      <td>2.0</td>\n",
       "      <td>4.0</td>\n",
       "      <td>3.0</td>\n",
       "      <td>20.0</td>\n",
       "      <td>2.0</td>\n",
       "      <td>3.0</td>\n",
       "      <td>0.0</td>\n",
       "      <td>0.0</td>\n",
       "      <td>1.0</td>\n",
       "    </tr>\n",
       "    <tr>\n",
       "      <th>3</th>\n",
       "      <td>4.193980</td>\n",
       "      <td>4</td>\n",
       "      <td>4</td>\n",
       "      <td>Bruegel</td>\n",
       "      <td>Tower of Babel</td>\n",
       "      <td>Dutch and Flemish Renaissance</td>\n",
       "      <td>1563</td>\n",
       "      <td>1</td>\n",
       "      <td>0</td>\n",
       "      <td>1</td>\n",
       "      <td>...</td>\n",
       "      <td>4.0</td>\n",
       "      <td>4.0</td>\n",
       "      <td>5.0</td>\n",
       "      <td>4.0</td>\n",
       "      <td>19.0</td>\n",
       "      <td>1.0</td>\n",
       "      <td>2.0</td>\n",
       "      <td>2.0</td>\n",
       "      <td>1.0</td>\n",
       "      <td>1.0</td>\n",
       "    </tr>\n",
       "    <tr>\n",
       "      <th>4</th>\n",
       "      <td>4.702341</td>\n",
       "      <td>5</td>\n",
       "      <td>5</td>\n",
       "      <td>Hals</td>\n",
       "      <td>Laughing Cavalier</td>\n",
       "      <td>Baroque</td>\n",
       "      <td>1624</td>\n",
       "      <td>1</td>\n",
       "      <td>0</td>\n",
       "      <td>1</td>\n",
       "      <td>...</td>\n",
       "      <td>3.0</td>\n",
       "      <td>1.0</td>\n",
       "      <td>4.0</td>\n",
       "      <td>1.0</td>\n",
       "      <td>20.0</td>\n",
       "      <td>2.0</td>\n",
       "      <td>2.0</td>\n",
       "      <td>1.0</td>\n",
       "      <td>1.0</td>\n",
       "      <td>2.0</td>\n",
       "    </tr>\n",
       "  </tbody>\n",
       "</table>\n",
       "<p>5 rows × 49 columns</p>\n",
       "</div>"
      ],
      "text/plain": [
       "     rating  new_col  Number        Artist                  Title  \\\n",
       "0  5.628763        1        1         Durer         Self-Portrait   \n",
       "1  4.414716        2        2      de Vinci             Mona Lisa   \n",
       "2  5.842809        3        3  Michelangelo  The Creation of Adam   \n",
       "3  4.193980        4        4       Bruegel        Tower of Babel   \n",
       "4  4.702341        5        5          Hals     Laughing Cavalier   \n",
       "\n",
       "                           Style  Year  \\\n",
       "0           Northern Renaissance  1500   \n",
       "1                    Renaissance  1503   \n",
       "2            Italian Renaissance  1512   \n",
       "3  Dutch and Flemish Renaissance  1563   \n",
       "4                        Baroque  1624   \n",
       "\n",
       "   Source (1 = classical, 2 = modern, 3 = nonhuman)  \\\n",
       "0                                                 1   \n",
       "1                                                 1   \n",
       "2                                                 1   \n",
       "3                                                 1   \n",
       "4                                                 1   \n",
       "\n",
       "   computerOrAnimal (0 = human, 1 = computer, 2 = animal)  \\\n",
       "0                                                  0        \n",
       "1                                                  0        \n",
       "2                                                  0        \n",
       "3                                                  0        \n",
       "4                                                  0        \n",
       "\n",
       "   Intent (0 = no, 1 = yes)  ...  5.41  2.44  3.23  4.72   age  gender  \\\n",
       "0                         1  ...   4.0   2.0   3.0   3.0  21.0     2.0   \n",
       "1                         1  ...   3.0   2.0   2.0   3.0  19.0     2.0   \n",
       "2                         1  ...   4.0   2.0   4.0   3.0  20.0     2.0   \n",
       "3                         1  ...   4.0   4.0   5.0   4.0  19.0     1.0   \n",
       "4                         1  ...   3.0   1.0   4.0   1.0  20.0     2.0   \n",
       "\n",
       "   politics  arteduc  sophi  myself_artist  \n",
       "0       2.0      1.0    0.0            1.0  \n",
       "1       6.0      0.0    2.0            2.0  \n",
       "2       3.0      0.0    0.0            1.0  \n",
       "3       2.0      2.0    1.0            1.0  \n",
       "4       2.0      1.0    1.0            2.0  \n",
       "\n",
       "[5 rows x 49 columns]"
      ]
     },
     "execution_count": 68,
     "metadata": {},
     "output_type": "execute_result"
    }
   ],
   "source": [
    "art_df.head()"
   ]
  },
  {
   "cell_type": "code",
   "execution_count": 69,
   "id": "1ac440ab",
   "metadata": {},
   "outputs": [
    {
     "name": "stdout",
     "output_type": "stream",
     "text": [
      "rating\n",
      "new_col\n",
      "Number \n",
      "Artist \n",
      "Title\n",
      "Style\n",
      "Year\n",
      "Source (1 = classical, 2 = modern, 3 = nonhuman)\n",
      "computerOrAnimal (0 = human, 1 = computer, 2 = animal)\n",
      "Intent (0 = no, 1 = yes)\n",
      "energy_rat\n",
      "4.63\n",
      "4.64\n",
      "2.32\n",
      "1.12\n",
      "2.33\n",
      "2.34\n",
      "2.35\n",
      "4.65\n",
      "4.66\n",
      "3.22\n",
      "4.67\n",
      "4.68\n",
      "2.36\n",
      "4.69\n",
      "2.37\n",
      "4.70\n",
      "2.38\n",
      "2.39\n",
      "2.40\n",
      "5.36\n",
      "2.41\n",
      "5.37\n",
      "5.38\n",
      "2.42\n",
      "5.39\n",
      "4.71\n",
      "5.40\n",
      "2.43\n",
      "5.41\n",
      "2.44\n",
      "3.23\n",
      "4.72\n",
      "age\n",
      "gender\n",
      "politics\n",
      "arteduc\n",
      "sophi\n",
      "myself_artist\n"
     ]
    }
   ],
   "source": [
    "for col in art_df.columns:\n",
    "    print(col)"
   ]
  },
  {
   "cell_type": "markdown",
   "id": "98970be6",
   "metadata": {},
   "source": [
    "# 1. which is liked more , classical or modern art?"
   ]
  },
  {
   "cell_type": "code",
   "execution_count": 70,
   "id": "c8b57f80",
   "metadata": {},
   "outputs": [
    {
     "data": {
      "text/html": [
       "<div>\n",
       "<style scoped>\n",
       "    .dataframe tbody tr th:only-of-type {\n",
       "        vertical-align: middle;\n",
       "    }\n",
       "\n",
       "    .dataframe tbody tr th {\n",
       "        vertical-align: top;\n",
       "    }\n",
       "\n",
       "    .dataframe thead th {\n",
       "        text-align: right;\n",
       "    }\n",
       "</style>\n",
       "<table border=\"1\" class=\"dataframe\">\n",
       "  <thead>\n",
       "    <tr style=\"text-align: right;\">\n",
       "      <th>col_0</th>\n",
       "      <th>count</th>\n",
       "    </tr>\n",
       "    <tr>\n",
       "      <th>Source (1 = classical, 2 = modern, 3 = nonhuman)</th>\n",
       "      <th></th>\n",
       "    </tr>\n",
       "  </thead>\n",
       "  <tbody>\n",
       "    <tr>\n",
       "      <th>1</th>\n",
       "      <td>35</td>\n",
       "    </tr>\n",
       "    <tr>\n",
       "      <th>2</th>\n",
       "      <td>35</td>\n",
       "    </tr>\n",
       "    <tr>\n",
       "      <th>3</th>\n",
       "      <td>20</td>\n",
       "    </tr>\n",
       "  </tbody>\n",
       "</table>\n",
       "</div>"
      ],
      "text/plain": [
       "col_0                                             count\n",
       "Source (1 = classical, 2 = modern, 3 = nonhuman)       \n",
       "1                                                    35\n",
       "2                                                    35\n",
       "3                                                    20"
      ]
     },
     "execution_count": 70,
     "metadata": {},
     "output_type": "execute_result"
    }
   ],
   "source": [
    "pd.crosstab(art_df['Source (1 = classical, 2 = modern, 3 = nonhuman)'],columns=\"count\")"
   ]
  },
  {
   "cell_type": "code",
   "execution_count": 71,
   "id": "f4a5016a",
   "metadata": {},
   "outputs": [
    {
     "data": {
      "image/png": "[encoded data removed]",
      "text/plain": [
       "<Figure size 640x480 with 1 Axes>"
      ]
     },
     "metadata": {},
     "output_type": "display_data"
    }
   ],
   "source": [
    "sns.barplot(x=art_df['Source (1 = classical, 2 = modern, 3 = nonhuman)'],y=art_df['rating'])\n",
    "plt.show()"
   ]
  },
  {
   "cell_type": "code",
   "execution_count": 72,
   "id": "a1bfa67f",
   "metadata": {},
   "outputs": [
    {
     "data": {
      "image/png": "[encoded data removed]",
      "text/plain": [
       "<Figure size 640x480 with 1 Axes>"
      ]
     },
     "metadata": {},
     "output_type": "display_data"
    }
   ],
   "source": [
    "sns.barplot(x=art_df['Source (1 = classical, 2 = modern, 3 = nonhuman)'],y=art_df['energy_rat'])\n",
    "plt.show()"
   ]
  },
  {
   "cell_type": "markdown",
   "id": "1e348906",
   "metadata": {},
   "source": [
    "# 2. modern vs non-human art "
   ]
  },
  {
   "cell_type": "code",
   "execution_count": 73,
   "id": "3a8132f5",
   "metadata": {},
   "outputs": [
    {
     "data": {
      "text/plain": [
       "<AxesSubplot:title={'center':'rating'}, xlabel='Source (1 = classical, 2 = modern, 3 = nonhuman)'>"
      ]
     },
     "execution_count": 73,
     "metadata": {},
     "output_type": "execute_result"
    },
    {
     "data": {
      "image/png": "[encoded data removed]",
      "text/plain": [
       "<Figure size 500x600 with 1 Axes>"
      ]
     },
     "metadata": {},
     "output_type": "display_data"
    }
   ],
   "source": [
    "art_df.boxplot('rating','Source (1 = classical, 2 = modern, 3 = nonhuman)',rot = 30,figsize=(5,6))"
   ]
  },
  {
   "cell_type": "code",
   "execution_count": 74,
   "id": "001aabc7",
   "metadata": {},
   "outputs": [],
   "source": [
    "from scipy.stats import f_oneway\n",
    " "
   ]
  },
  {
   "cell_type": "code",
   "execution_count": 75,
   "id": "b3832a29",
   "metadata": {},
   "outputs": [
    {
     "name": "stdout",
     "output_type": "stream",
     "text": [
      "P-Value for Anova is:  2.0704533769037803e-11\n"
     ]
    }
   ],
   "source": [
    "Cat=art_df.groupby('Source (1 = classical, 2 = modern, 3 = nonhuman)')['rating'].apply(list)\n",
    "AnovaResults = f_oneway(*Cat)\n",
    "print('P-Value for Anova is: ', AnovaResults[1])\n",
    " "
   ]
  },
  {
   "cell_type": "markdown",
   "id": "57d4098e",
   "metadata": {},
   "source": [
    "# 3Art preference rating between men and women "
   ]
  },
  {
   "cell_type": "code",
   "execution_count": 76,
   "id": "d518b65f",
   "metadata": {},
   "outputs": [
    {
     "data": {
      "text/plain": [
       "<AxesSubplot:title={'center':'rating'}, xlabel='gender'>"
      ]
     },
     "execution_count": 76,
     "metadata": {},
     "output_type": "execute_result"
    },
    {
     "data": {
      "image/png": "[encoded data removed]",
      "text/plain": [
       "<Figure size 500x600 with 1 Axes>"
      ]
     },
     "metadata": {},
     "output_type": "display_data"
    }
   ],
   "source": [
    "art_df.boxplot('rating','gender',rot = 30,figsize=(5,6))"
   ]
  },
  {
   "cell_type": "code",
   "execution_count": 77,
   "id": "7dc8abf0",
   "metadata": {},
   "outputs": [
    {
     "name": "stdout",
     "output_type": "stream",
     "text": [
      "P-Value for Anova is:  0.819944504172569\n"
     ]
    }
   ],
   "source": [
    "Cat2=art_df.groupby('gender')['rating'].apply(list)\n",
    "AnovaResults = f_oneway(*Cat2)\n",
    "print('P-Value for Anova is: ', AnovaResults[1])"
   ]
  },
  {
   "cell_type": "code",
   "execution_count": 78,
   "id": "5e0bc2d6",
   "metadata": {},
   "outputs": [
    {
     "data": {
      "text/plain": [
       "<AxesSubplot:title={'center':'rating'}, xlabel='arteduc'>"
      ]
     },
     "execution_count": 78,
     "metadata": {},
     "output_type": "execute_result"
    },
    {
     "data": {
      "image/png": "[encoded data removed]",
      "text/plain": [
       "<Figure size 500x600 with 1 Axes>"
      ]
     },
     "metadata": {},
     "output_type": "display_data"
    }
   ],
   "source": [
    "art_df.boxplot('rating','arteduc',rot = 30,figsize=(5,6))"
   ]
  },
  {
   "cell_type": "code",
   "execution_count": 79,
   "id": "457a8060",
   "metadata": {},
   "outputs": [
    {
     "name": "stdout",
     "output_type": "stream",
     "text": [
      "P-Value for Anova is:  0.6836425544504245\n"
     ]
    }
   ],
   "source": [
    "Cat3=art_df.groupby('arteduc')['rating'].apply(list)\n",
    "AnovaResults = f_oneway(*Cat3)\n",
    "print('P-Value for Anova is: ', AnovaResults[1])"
   ]
  },
  {
   "cell_type": "markdown",
   "id": "edabebaf",
   "metadata": {},
   "source": [
    "# 4 relationship between art preference rating and energy rating."
   ]
  },
  {
   "cell_type": "code",
   "execution_count": 80,
   "id": "e054c3d7",
   "metadata": {},
   "outputs": [
    {
     "data": {
      "text/plain": [
       "(array([ 4.,  4.,  7.,  7., 16., 15., 19.,  9.,  3.,  6.]),\n",
       " array([2.36454849, 2.71237458, 3.06020067, 3.40802676, 3.75585284,\n",
       "        4.10367893, 4.45150502, 4.7993311 , 5.14715719, 5.49498328,\n",
       "        5.84280936]),\n",
       " <BarContainer object of 10 artists>)"
      ]
     },
     "execution_count": 80,
     "metadata": {},
     "output_type": "execute_result"
    },
    {
     "data": {
      "image/png": "[encoded data removed]",
      "text/plain": [
       "<Figure size 640x480 with 1 Axes>"
      ]
     },
     "metadata": {},
     "output_type": "display_data"
    }
   ],
   "source": [
    "plt.hist(art_df['rating'])"
   ]
  },
  {
   "cell_type": "code",
   "execution_count": 81,
   "id": "7069a45f",
   "metadata": {},
   "outputs": [
    {
     "data": {
      "text/plain": [
       "(array([ 2.,  3.,  9.,  8., 10., 23., 13., 10.,  6.,  6.]),\n",
       " array([2.83277592, 3.05719064, 3.28160535, 3.50602007, 3.73043478,\n",
       "        3.9548495 , 4.17926421, 4.40367893, 4.62809365, 4.85250836,\n",
       "        5.07692308]),\n",
       " <BarContainer object of 10 artists>)"
      ]
     },
     "execution_count": 81,
     "metadata": {},
     "output_type": "execute_result"
    },
    {
     "data": {
      "image/png": "[encoded data removed]",
      "text/plain": [
       "<Figure size 640x480 with 1 Axes>"
      ]
     },
     "metadata": {},
     "output_type": "display_data"
    }
   ],
   "source": [
    "plt.hist(art_df['energy_rat'])"
   ]
  },
  {
   "cell_type": "code",
   "execution_count": 82,
   "id": "c782b85f",
   "metadata": {},
   "outputs": [
    {
     "data": {
      "text/html": [
       "<div>\n",
       "<style scoped>\n",
       "    .dataframe tbody tr th:only-of-type {\n",
       "        vertical-align: middle;\n",
       "    }\n",
       "\n",
       "    .dataframe tbody tr th {\n",
       "        vertical-align: top;\n",
       "    }\n",
       "\n",
       "    .dataframe thead th {\n",
       "        text-align: right;\n",
       "    }\n",
       "</style>\n",
       "<table border=\"1\" class=\"dataframe\">\n",
       "  <thead>\n",
       "    <tr style=\"text-align: right;\">\n",
       "      <th></th>\n",
       "      <th>rating</th>\n",
       "      <th>energy_rat</th>\n",
       "    </tr>\n",
       "  </thead>\n",
       "  <tbody>\n",
       "    <tr>\n",
       "      <th>count</th>\n",
       "      <td>90.000000</td>\n",
       "      <td>90.000000</td>\n",
       "    </tr>\n",
       "    <tr>\n",
       "      <th>mean</th>\n",
       "      <td>4.214604</td>\n",
       "      <td>4.066852</td>\n",
       "    </tr>\n",
       "    <tr>\n",
       "      <th>std</th>\n",
       "      <td>0.778627</td>\n",
       "      <td>0.493844</td>\n",
       "    </tr>\n",
       "    <tr>\n",
       "      <th>min</th>\n",
       "      <td>2.364548</td>\n",
       "      <td>2.832776</td>\n",
       "    </tr>\n",
       "    <tr>\n",
       "      <th>25%</th>\n",
       "      <td>3.824415</td>\n",
       "      <td>3.758361</td>\n",
       "    </tr>\n",
       "    <tr>\n",
       "      <th>50%</th>\n",
       "      <td>4.314381</td>\n",
       "      <td>4.070234</td>\n",
       "    </tr>\n",
       "    <tr>\n",
       "      <th>75%</th>\n",
       "      <td>4.704849</td>\n",
       "      <td>4.326087</td>\n",
       "    </tr>\n",
       "    <tr>\n",
       "      <th>max</th>\n",
       "      <td>5.842809</td>\n",
       "      <td>5.076923</td>\n",
       "    </tr>\n",
       "  </tbody>\n",
       "</table>\n",
       "</div>"
      ],
      "text/plain": [
       "          rating  energy_rat\n",
       "count  90.000000   90.000000\n",
       "mean    4.214604    4.066852\n",
       "std     0.778627    0.493844\n",
       "min     2.364548    2.832776\n",
       "25%     3.824415    3.758361\n",
       "50%     4.314381    4.070234\n",
       "75%     4.704849    4.326087\n",
       "max     5.842809    5.076923"
      ]
     },
     "execution_count": 82,
     "metadata": {},
     "output_type": "execute_result"
    }
   ],
   "source": [
    "art_df[['rating','energy_rat']].describe()"
   ]
  },
  {
   "cell_type": "code",
   "execution_count": 83,
   "id": "11f563d5",
   "metadata": {},
   "outputs": [],
   "source": [
    "from sklearn.linear_model import LinearRegression"
   ]
  },
  {
   "cell_type": "code",
   "execution_count": 84,
   "id": "602bb1fc",
   "metadata": {},
   "outputs": [],
   "source": [
    "X=art_df[['energy_rat']]\n",
    "y=art_df['rating']"
   ]
  },
  {
   "cell_type": "code",
   "execution_count": 85,
   "id": "e8bfd0b9",
   "metadata": {},
   "outputs": [
    {
     "data": {
      "text/plain": [
       "<seaborn.axisgrid.FacetGrid at 0x22b2309a8b0>"
      ]
     },
     "execution_count": 85,
     "metadata": {},
     "output_type": "execute_result"
    },
    {
     "data": {
      "image/png": "[encoded data removed]",
      "text/plain": [
       "<Figure size 500x500 with 1 Axes>"
      ]
     },
     "metadata": {},
     "output_type": "display_data"
    }
   ],
   "source": [
    "sns.set_style('whitegrid')\n",
    "sns.lmplot(x ='rating', y ='energy_rat', data = art_df)"
   ]
  },
  {
   "cell_type": "code",
   "execution_count": 86,
   "id": "f700255a",
   "metadata": {},
   "outputs": [],
   "source": [
    "import statsmodels.api as sm\n",
    "from statsmodels.formula.api import ols"
   ]
  },
  {
   "cell_type": "code",
   "execution_count": 87,
   "id": "a9929c00",
   "metadata": {},
   "outputs": [],
   "source": [
    "linear_model = ols('rating ~ energy_rat',data=art_df).fit()"
   ]
  },
  {
   "cell_type": "code",
   "execution_count": 88,
   "id": "b34636c7",
   "metadata": {},
   "outputs": [
    {
     "name": "stdout",
     "output_type": "stream",
     "text": [
      "                            OLS Regression Results                            \n",
      "==============================================================================\n",
      "Dep. Variable:                 rating   R-squared:                       0.146\n",
      "Model:                            OLS   Adj. R-squared:                  0.137\n",
      "Method:                 Least Squares   F-statistic:                     15.07\n",
      "Date:                Wed, 21 Dec 2022   Prob (F-statistic):           0.000200\n",
      "Time:                        11:03:36   Log-Likelihood:                -97.567\n",
      "No. Observations:                  90   AIC:                             199.1\n",
      "Df Residuals:                      88   BIC:                             204.1\n",
      "Df Model:                           1                                         \n",
      "Covariance Type:            nonrobust                                         \n",
      "==============================================================================\n",
      "                 coef    std err          t      P>|t|      [0.025      0.975]\n",
      "------------------------------------------------------------------------------\n",
      "Intercept      6.6666      0.636     10.479      0.000       5.402       7.931\n",
      "energy_rat    -0.6029      0.155     -3.882      0.000      -0.912      -0.294\n",
      "==============================================================================\n",
      "Omnibus:                        2.134   Durbin-Watson:                   1.181\n",
      "Prob(Omnibus):                  0.344   Jarque-Bera (JB):                2.127\n",
      "Skew:                          -0.356   Prob(JB):                        0.345\n",
      "Kurtosis:                       2.753   Cond. No.                         36.2\n",
      "==============================================================================\n",
      "\n",
      "Notes:\n",
      "[1] Standard Errors assume that the covariance matrix of the errors is correctly specified.\n"
     ]
    }
   ],
   "source": [
    "print(linear_model.summary())"
   ]
  },
  {
   "cell_type": "code",
   "execution_count": 89,
   "id": "e18160da",
   "metadata": {},
   "outputs": [
    {
     "name": "stdout",
     "output_type": "stream",
     "text": [
      "eval_env: 1\n"
     ]
    },
    {
     "data": {
      "image/png": "[encoded data removed]",
      "text/plain": [
       "<Figure size 1400x800 with 4 Axes>"
      ]
     },
     "metadata": {},
     "output_type": "display_data"
    }
   ],
   "source": [
    "fig = plt.figure(figsize=(14, 8))\n",
    "fig = sm.graphics.plot_regress_exog(linear_model,\n",
    "                                    'energy_rat',\n",
    "                                    fig=fig)"
   ]
  },
  {
   "cell_type": "code",
   "execution_count": 90,
   "id": "81a021d9",
   "metadata": {},
   "outputs": [
    {
     "name": "stdout",
     "output_type": "stream",
     "text": [
      "predicted response:\n",
      "0     4.170219\n",
      "1     4.648128\n",
      "2     4.623930\n",
      "3     4.206516\n",
      "4     3.889927\n",
      "        ...   \n",
      "85    4.202483\n",
      "86    4.081493\n",
      "87    4.492858\n",
      "88    4.109724\n",
      "89    4.285159\n",
      "Length: 90, dtype: float64\n"
     ]
    }
   ],
   "source": [
    "print(f\"predicted response:\\n{linear_model.fittedvalues}\")"
   ]
  },
  {
   "cell_type": "markdown",
   "id": "61b6d0c3",
   "metadata": {},
   "source": [
    "# 6 multiple linear regression "
   ]
  },
  {
   "cell_type": "code",
   "execution_count": 91,
   "id": "bd688d0e",
   "metadata": {},
   "outputs": [],
   "source": [
    "x=art_df.iloc[:,[0,10,43,45,46,47]]"
   ]
  },
  {
   "cell_type": "code",
   "execution_count": 92,
   "id": "66320142",
   "metadata": {},
   "outputs": [
    {
     "data": {
      "text/html": [
       "<div>\n",
       "<style scoped>\n",
       "    .dataframe tbody tr th:only-of-type {\n",
       "        vertical-align: middle;\n",
       "    }\n",
       "\n",
       "    .dataframe tbody tr th {\n",
       "        vertical-align: top;\n",
       "    }\n",
       "\n",
       "    .dataframe thead th {\n",
       "        text-align: right;\n",
       "    }\n",
       "</style>\n",
       "<table border=\"1\" class=\"dataframe\">\n",
       "  <thead>\n",
       "    <tr style=\"text-align: right;\">\n",
       "      <th></th>\n",
       "      <th>rating</th>\n",
       "      <th>energy_rat</th>\n",
       "      <th>age</th>\n",
       "      <th>politics</th>\n",
       "      <th>arteduc</th>\n",
       "      <th>sophi</th>\n",
       "    </tr>\n",
       "  </thead>\n",
       "  <tbody>\n",
       "    <tr>\n",
       "      <th>0</th>\n",
       "      <td>5.628763</td>\n",
       "      <td>4.140468</td>\n",
       "      <td>21.0</td>\n",
       "      <td>2.0</td>\n",
       "      <td>1.0</td>\n",
       "      <td>0.0</td>\n",
       "    </tr>\n",
       "    <tr>\n",
       "      <th>1</th>\n",
       "      <td>4.414716</td>\n",
       "      <td>3.347826</td>\n",
       "      <td>19.0</td>\n",
       "      <td>6.0</td>\n",
       "      <td>0.0</td>\n",
       "      <td>2.0</td>\n",
       "    </tr>\n",
       "    <tr>\n",
       "      <th>2</th>\n",
       "      <td>5.842809</td>\n",
       "      <td>3.387960</td>\n",
       "      <td>20.0</td>\n",
       "      <td>3.0</td>\n",
       "      <td>0.0</td>\n",
       "      <td>0.0</td>\n",
       "    </tr>\n",
       "    <tr>\n",
       "      <th>3</th>\n",
       "      <td>4.193980</td>\n",
       "      <td>4.080268</td>\n",
       "      <td>19.0</td>\n",
       "      <td>2.0</td>\n",
       "      <td>2.0</td>\n",
       "      <td>1.0</td>\n",
       "    </tr>\n",
       "    <tr>\n",
       "      <th>4</th>\n",
       "      <td>4.702341</td>\n",
       "      <td>4.605351</td>\n",
       "      <td>20.0</td>\n",
       "      <td>2.0</td>\n",
       "      <td>1.0</td>\n",
       "      <td>1.0</td>\n",
       "    </tr>\n",
       "  </tbody>\n",
       "</table>\n",
       "</div>"
      ],
      "text/plain": [
       "     rating  energy_rat   age  politics  arteduc  sophi\n",
       "0  5.628763    4.140468  21.0       2.0      1.0    0.0\n",
       "1  4.414716    3.347826  19.0       6.0      0.0    2.0\n",
       "2  5.842809    3.387960  20.0       3.0      0.0    0.0\n",
       "3  4.193980    4.080268  19.0       2.0      2.0    1.0\n",
       "4  4.702341    4.605351  20.0       2.0      1.0    1.0"
      ]
     },
     "execution_count": 92,
     "metadata": {},
     "output_type": "execute_result"
    }
   ],
   "source": [
    "x.head()"
   ]
  },
  {
   "cell_type": "code",
   "execution_count": 93,
   "id": "12529731",
   "metadata": {},
   "outputs": [
    {
     "data": {
      "text/plain": [
       "<AxesSubplot:>"
      ]
     },
     "execution_count": 93,
     "metadata": {},
     "output_type": "execute_result"
    },
    {
     "data": {
      "image/png": "[encoded data removed]",
      "text/plain": [
       "<Figure size 2000x1000 with 2 Axes>"
      ]
     },
     "metadata": {},
     "output_type": "display_data"
    }
   ],
   "source": [
    "corr_mat=x.corr(method='pearson')\n",
    "plt.figure(figsize=(20,10))\n",
    "sns.heatmap(corr_mat,vmax=1,square=True,annot=True,cmap='cubehelix')"
   ]
  },
  {
   "cell_type": "code",
   "execution_count": 94,
   "id": "2123bb84",
   "metadata": {},
   "outputs": [],
   "source": [
    "multi_model = ols('rating ~ energy_rat + age + politics + arteduc + sophi', data=art_df).fit()"
   ]
  },
  {
   "cell_type": "code",
   "execution_count": 95,
   "id": "55e880ff",
   "metadata": {},
   "outputs": [
    {
     "name": "stdout",
     "output_type": "stream",
     "text": [
      "                            OLS Regression Results                            \n",
      "==============================================================================\n",
      "Dep. Variable:                 rating   R-squared:                       0.176\n",
      "Model:                            OLS   Adj. R-squared:                  0.124\n",
      "Method:                 Least Squares   F-statistic:                     3.385\n",
      "Date:                Wed, 21 Dec 2022   Prob (F-statistic):            0.00802\n",
      "Time:                        11:03:43   Log-Likelihood:                -88.701\n",
      "No. Observations:                  85   AIC:                             189.4\n",
      "Df Residuals:                      79   BIC:                             204.1\n",
      "Df Model:                           5                                         \n",
      "Covariance Type:            nonrobust                                         \n",
      "==============================================================================\n",
      "                 coef    std err          t      P>|t|      [0.025      0.975]\n",
      "------------------------------------------------------------------------------\n",
      "Intercept      6.0195      1.473      4.087      0.000       3.088       8.951\n",
      "energy_rat    -0.5273      0.162     -3.250      0.002      -0.850      -0.204\n",
      "age            0.0206      0.062      0.335      0.738      -0.102       0.143\n",
      "politics       0.0463      0.057      0.813      0.418      -0.067       0.159\n",
      "arteduc       -0.0234      0.074     -0.317      0.752      -0.170       0.123\n",
      "sophi         -0.0902      0.080     -1.121      0.266      -0.250       0.070\n",
      "==============================================================================\n",
      "Omnibus:                        1.978   Durbin-Watson:                   1.166\n",
      "Prob(Omnibus):                  0.372   Jarque-Bera (JB):                1.925\n",
      "Skew:                          -0.355   Prob(JB):                        0.382\n",
      "Kurtosis:                       2.804   Cond. No.                         385.\n",
      "==============================================================================\n",
      "\n",
      "Notes:\n",
      "[1] Standard Errors assume that the covariance matrix of the errors is correctly specified.\n"
     ]
    }
   ],
   "source": [
    "print(multi_model.summary())"
   ]
  },
  {
   "cell_type": "code",
   "execution_count": 96,
   "id": "9fd90bf9",
   "metadata": {},
   "outputs": [
    {
     "name": "stdout",
     "output_type": "stream",
     "text": [
      "eval_env: 1\n"
     ]
    },
    {
     "data": {
      "image/png": "[encoded data removed]",
      "text/plain": [
       "<Figure size 1400x800 with 4 Axes>"
      ]
     },
     "metadata": {},
     "output_type": "display_data"
    }
   ],
   "source": [
    "fig = plt.figure(figsize=(14, 8))\n",
    "fig = sm.graphics.plot_regress_exog(multi_model,\n",
    "                                    'energy_rat',\n",
    "                                    fig=fig)"
   ]
  },
  {
   "cell_type": "code",
   "execution_count": 97,
   "id": "40ff8616",
   "metadata": {},
   "outputs": [
    {
     "name": "stdout",
     "output_type": "stream",
     "text": [
      "predicted response:\n",
      "0     4.338874\n",
      "1     4.743558\n",
      "2     4.784703\n",
      "3     4.215695\n",
      "4     3.982867\n",
      "        ...   \n",
      "85    4.367179\n",
      "86    4.196581\n",
      "87    4.697991\n",
      "88    4.175095\n",
      "89    4.194798\n",
      "Length: 85, dtype: float64\n"
     ]
    }
   ],
   "source": [
    "print(f\"predicted response:\\n{multi_model.fittedvalues}\")"
   ]
  },
  {
   "cell_type": "markdown",
   "id": "bedbbcd4",
   "metadata": {},
   "source": [
    "# 7 clustering preference and energy rating in regards to the art type "
   ]
  },
  {
   "cell_type": "code",
   "execution_count": 98,
   "id": "89a7b42a",
   "metadata": {},
   "outputs": [],
   "source": [
    "from sklearn.cluster import KMeans\n",
    "from sklearn.metrics import silhouette_score\n",
    "from sklearn.preprocessing import StandardScaler"
   ]
  },
  {
   "cell_type": "code",
   "execution_count": 99,
   "id": "80962847",
   "metadata": {},
   "outputs": [],
   "source": [
    "cl=thedata[thedata.columns[1:182]]"
   ]
  },
  {
   "cell_type": "code",
   "execution_count": 100,
   "id": "a4bf290d",
   "metadata": {},
   "outputs": [],
   "source": [
    "inertias=[]\n",
    "for i in range(1, 11):\n",
    "    kmeans = KMeans(n_clusters=i, random_state=0)\n",
    "    kmeans.fit(cl)\n",
    "    inertias.append(kmeans.inertia_)"
   ]
  },
  {
   "cell_type": "code",
   "execution_count": 101,
   "id": "c5284fcc",
   "metadata": {},
   "outputs": [
    {
     "data": {
      "image/png": "[encoded data removed]",
      "text/plain": [
       "<Figure size 640x480 with 1 Axes>"
      ]
     },
     "metadata": {},
     "output_type": "display_data"
    }
   ],
   "source": [
    "plt.plot(range(1,11), inertias, marker='o')\n",
    "plt.title('Elbow method')\n",
    "plt.xlabel('Number of clusters')\n",
    "plt.ylabel('Inertia')\n",
    "plt.show()"
   ]
  },
  {
   "cell_type": "code",
   "execution_count": 102,
   "id": "80ad5026",
   "metadata": {},
   "outputs": [],
   "source": [
    "x1=art_df[['rating','energy_rat']]\n"
   ]
  },
  {
   "cell_type": "code",
   "execution_count": 103,
   "id": "4f2cbf8c",
   "metadata": {},
   "outputs": [
    {
     "name": "stderr",
     "output_type": "stream",
     "text": [
      "C:\\Users\\MY PC\\anaconda3\\lib\\site-packages\\sklearn\\cluster\\_kmeans.py:1036: UserWarning: KMeans is known to have a memory leak on Windows with MKL, when there are less chunks than available threads. You can avoid it by setting the environment variable OMP_NUM_THREADS=1.\n",
      "  warnings.warn(\n"
     ]
    }
   ],
   "source": [
    "inertias=[]\n",
    "for i in range(1, 11):\n",
    "    kmeans = KMeans(n_clusters=i, random_state=0)\n",
    "    kmeans.fit(x1)\n",
    "    inertias.append(kmeans.inertia_)"
   ]
  },
  {
   "cell_type": "code",
   "execution_count": 104,
   "id": "c5fc6f64",
   "metadata": {},
   "outputs": [
    {
     "data": {
      "image/png": "[encoded data removed]",
      "text/plain": [
       "<Figure size 640x480 with 1 Axes>"
      ]
     },
     "metadata": {},
     "output_type": "display_data"
    }
   ],
   "source": [
    "plt.plot(range(1,11), inertias, marker='o')\n",
    "plt.title('Elbow method')\n",
    "plt.xlabel('Number of clusters')\n",
    "plt.ylabel('Inertia')\n",
    "plt.show()"
   ]
  },
  {
   "cell_type": "markdown",
   "id": "00aaa2b9",
   "metadata": {},
   "source": [
    "# 8 regression between preference rating and self-image "
   ]
  },
  {
   "cell_type": "code",
   "execution_count": 105,
   "id": "d24e2751",
   "metadata": {},
   "outputs": [],
   "source": [
    "# PCA "
   ]
  },
  {
   "cell_type": "code",
   "execution_count": 106,
   "id": "9b6e2507",
   "metadata": {},
   "outputs": [],
   "source": [
    "from sklearn.preprocessing import StandardScaler"
   ]
  },
  {
   "cell_type": "code",
   "execution_count": 107,
   "id": "2651b2fa",
   "metadata": {},
   "outputs": [
    {
     "name": "stdout",
     "output_type": "stream",
     "text": [
      "(90, 49)\n"
     ]
    }
   ],
   "source": [
    "print(art_df.shape)"
   ]
  },
  {
   "cell_type": "code",
   "execution_count": 108,
   "id": "e9fae399",
   "metadata": {},
   "outputs": [],
   "source": [
    "var2=art_df[art_df.columns[34:43]]"
   ]
  },
  {
   "cell_type": "code",
   "execution_count": 109,
   "id": "bd26f52e",
   "metadata": {},
   "outputs": [
    {
     "name": "stdout",
     "output_type": "stream",
     "text": [
      "(90, 9)\n"
     ]
    }
   ],
   "source": [
    "print(var2.shape)"
   ]
  },
  {
   "cell_type": "code",
   "execution_count": 110,
   "id": "479acdcd",
   "metadata": {},
   "outputs": [
    {
     "data": {
      "text/html": [
       "<div>\n",
       "<style scoped>\n",
       "    .dataframe tbody tr th:only-of-type {\n",
       "        vertical-align: middle;\n",
       "    }\n",
       "\n",
       "    .dataframe tbody tr th {\n",
       "        vertical-align: top;\n",
       "    }\n",
       "\n",
       "    .dataframe thead th {\n",
       "        text-align: right;\n",
       "    }\n",
       "</style>\n",
       "<table border=\"1\" class=\"dataframe\">\n",
       "  <thead>\n",
       "    <tr style=\"text-align: right;\">\n",
       "      <th></th>\n",
       "      <th>2.42</th>\n",
       "      <th>5.39</th>\n",
       "      <th>4.71</th>\n",
       "      <th>5.40</th>\n",
       "      <th>2.43</th>\n",
       "      <th>5.41</th>\n",
       "      <th>2.44</th>\n",
       "      <th>3.23</th>\n",
       "      <th>4.72</th>\n",
       "    </tr>\n",
       "  </thead>\n",
       "  <tbody>\n",
       "    <tr>\n",
       "      <th>0</th>\n",
       "      <td>1.0</td>\n",
       "      <td>4.0</td>\n",
       "      <td>4.0</td>\n",
       "      <td>4.0</td>\n",
       "      <td>2.0</td>\n",
       "      <td>4.0</td>\n",
       "      <td>2.0</td>\n",
       "      <td>3.0</td>\n",
       "      <td>3.0</td>\n",
       "    </tr>\n",
       "    <tr>\n",
       "      <th>1</th>\n",
       "      <td>2.0</td>\n",
       "      <td>4.0</td>\n",
       "      <td>3.0</td>\n",
       "      <td>2.0</td>\n",
       "      <td>1.0</td>\n",
       "      <td>3.0</td>\n",
       "      <td>2.0</td>\n",
       "      <td>2.0</td>\n",
       "      <td>3.0</td>\n",
       "    </tr>\n",
       "    <tr>\n",
       "      <th>2</th>\n",
       "      <td>4.0</td>\n",
       "      <td>4.0</td>\n",
       "      <td>4.0</td>\n",
       "      <td>4.0</td>\n",
       "      <td>2.0</td>\n",
       "      <td>4.0</td>\n",
       "      <td>2.0</td>\n",
       "      <td>4.0</td>\n",
       "      <td>3.0</td>\n",
       "    </tr>\n",
       "    <tr>\n",
       "      <th>3</th>\n",
       "      <td>2.0</td>\n",
       "      <td>4.0</td>\n",
       "      <td>3.0</td>\n",
       "      <td>4.0</td>\n",
       "      <td>4.0</td>\n",
       "      <td>4.0</td>\n",
       "      <td>4.0</td>\n",
       "      <td>5.0</td>\n",
       "      <td>4.0</td>\n",
       "    </tr>\n",
       "    <tr>\n",
       "      <th>4</th>\n",
       "      <td>1.0</td>\n",
       "      <td>4.0</td>\n",
       "      <td>3.0</td>\n",
       "      <td>2.0</td>\n",
       "      <td>1.0</td>\n",
       "      <td>3.0</td>\n",
       "      <td>1.0</td>\n",
       "      <td>4.0</td>\n",
       "      <td>1.0</td>\n",
       "    </tr>\n",
       "  </tbody>\n",
       "</table>\n",
       "</div>"
      ],
      "text/plain": [
       "   2.42  5.39  4.71  5.40  2.43  5.41  2.44  3.23  4.72\n",
       "0   1.0   4.0   4.0   4.0   2.0   4.0   2.0   3.0   3.0\n",
       "1   2.0   4.0   3.0   2.0   1.0   3.0   2.0   2.0   3.0\n",
       "2   4.0   4.0   4.0   4.0   2.0   4.0   2.0   4.0   3.0\n",
       "3   2.0   4.0   3.0   4.0   4.0   4.0   4.0   5.0   4.0\n",
       "4   1.0   4.0   3.0   2.0   1.0   3.0   1.0   4.0   1.0"
      ]
     },
     "execution_count": 110,
     "metadata": {},
     "output_type": "execute_result"
    }
   ],
   "source": [
    "var2.head()"
   ]
  },
  {
   "cell_type": "code",
   "execution_count": 111,
   "id": "cc497dc1",
   "metadata": {},
   "outputs": [
    {
     "data": {
      "text/plain": [
       "2.42    1\n",
       "5.39    2\n",
       "4.71    2\n",
       "5.40    2\n",
       "2.43    2\n",
       "5.41    1\n",
       "2.44    1\n",
       "3.23    0\n",
       "4.72    1\n",
       "dtype: int64"
      ]
     },
     "execution_count": 111,
     "metadata": {},
     "output_type": "execute_result"
    }
   ],
   "source": [
    "var2.isna().sum()"
   ]
  },
  {
   "cell_type": "code",
   "execution_count": 112,
   "id": "b32bbfd3",
   "metadata": {},
   "outputs": [],
   "source": [
    "var3=var2.interpolate(method=\"polynomial\", order=2)"
   ]
  },
  {
   "cell_type": "code",
   "execution_count": 113,
   "id": "9118ae70",
   "metadata": {},
   "outputs": [
    {
     "data": {
      "text/plain": [
       "2.42    0\n",
       "5.39    0\n",
       "4.71    0\n",
       "5.40    0\n",
       "2.43    0\n",
       "5.41    0\n",
       "2.44    0\n",
       "3.23    0\n",
       "4.72    0\n",
       "dtype: int64"
      ]
     },
     "execution_count": 113,
     "metadata": {},
     "output_type": "execute_result"
    }
   ],
   "source": [
    "var3.isna().sum()"
   ]
  },
  {
   "cell_type": "code",
   "execution_count": 114,
   "id": "759f6629",
   "metadata": {},
   "outputs": [],
   "source": [
    "x = StandardScaler().fit_transform(var3)"
   ]
  },
  {
   "cell_type": "code",
   "execution_count": 115,
   "id": "27ad9490",
   "metadata": {},
   "outputs": [],
   "source": [
    "x=pd.DataFrame(x)"
   ]
  },
  {
   "cell_type": "code",
   "execution_count": 116,
   "id": "55671310",
   "metadata": {},
   "outputs": [
    {
     "data": {
      "text/html": [
       "<div>\n",
       "<style scoped>\n",
       "    .dataframe tbody tr th:only-of-type {\n",
       "        vertical-align: middle;\n",
       "    }\n",
       "\n",
       "    .dataframe tbody tr th {\n",
       "        vertical-align: top;\n",
       "    }\n",
       "\n",
       "    .dataframe thead th {\n",
       "        text-align: right;\n",
       "    }\n",
       "</style>\n",
       "<table border=\"1\" class=\"dataframe\">\n",
       "  <thead>\n",
       "    <tr style=\"text-align: right;\">\n",
       "      <th></th>\n",
       "      <th>0</th>\n",
       "      <th>1</th>\n",
       "      <th>2</th>\n",
       "      <th>3</th>\n",
       "      <th>4</th>\n",
       "      <th>5</th>\n",
       "      <th>6</th>\n",
       "      <th>7</th>\n",
       "      <th>8</th>\n",
       "    </tr>\n",
       "  </thead>\n",
       "  <tbody>\n",
       "    <tr>\n",
       "      <th>0</th>\n",
       "      <td>-1.085639</td>\n",
       "      <td>-0.189408</td>\n",
       "      <td>0.279233</td>\n",
       "      <td>0.491016</td>\n",
       "      <td>-0.078698</td>\n",
       "      <td>-0.023297</td>\n",
       "      <td>-0.297964</td>\n",
       "      <td>-0.288581</td>\n",
       "      <td>-0.302936</td>\n",
       "    </tr>\n",
       "    <tr>\n",
       "      <th>1</th>\n",
       "      <td>-0.304155</td>\n",
       "      <td>-0.189408</td>\n",
       "      <td>-0.728468</td>\n",
       "      <td>-1.136131</td>\n",
       "      <td>-1.047160</td>\n",
       "      <td>-1.071227</td>\n",
       "      <td>-0.297964</td>\n",
       "      <td>-1.100216</td>\n",
       "      <td>-0.302936</td>\n",
       "    </tr>\n",
       "    <tr>\n",
       "      <th>2</th>\n",
       "      <td>1.258813</td>\n",
       "      <td>-0.189408</td>\n",
       "      <td>0.279233</td>\n",
       "      <td>0.491016</td>\n",
       "      <td>-0.078698</td>\n",
       "      <td>-0.023297</td>\n",
       "      <td>-0.297964</td>\n",
       "      <td>0.523053</td>\n",
       "      <td>-0.302936</td>\n",
       "    </tr>\n",
       "    <tr>\n",
       "      <th>3</th>\n",
       "      <td>-0.304155</td>\n",
       "      <td>-0.189408</td>\n",
       "      <td>-0.728468</td>\n",
       "      <td>0.491016</td>\n",
       "      <td>1.858227</td>\n",
       "      <td>-0.023297</td>\n",
       "      <td>1.505696</td>\n",
       "      <td>1.334688</td>\n",
       "      <td>0.547435</td>\n",
       "    </tr>\n",
       "    <tr>\n",
       "      <th>4</th>\n",
       "      <td>-1.085639</td>\n",
       "      <td>-0.189408</td>\n",
       "      <td>-0.728468</td>\n",
       "      <td>-1.136131</td>\n",
       "      <td>-1.047160</td>\n",
       "      <td>-1.071227</td>\n",
       "      <td>-1.199794</td>\n",
       "      <td>0.523053</td>\n",
       "      <td>-2.003677</td>\n",
       "    </tr>\n",
       "    <tr>\n",
       "      <th>...</th>\n",
       "      <td>...</td>\n",
       "      <td>...</td>\n",
       "      <td>...</td>\n",
       "      <td>...</td>\n",
       "      <td>...</td>\n",
       "      <td>...</td>\n",
       "      <td>...</td>\n",
       "      <td>...</td>\n",
       "      <td>...</td>\n",
       "    </tr>\n",
       "    <tr>\n",
       "      <th>85</th>\n",
       "      <td>0.477329</td>\n",
       "      <td>-0.189408</td>\n",
       "      <td>0.279233</td>\n",
       "      <td>-1.136131</td>\n",
       "      <td>-0.078698</td>\n",
       "      <td>-0.023297</td>\n",
       "      <td>-0.297964</td>\n",
       "      <td>-1.100216</td>\n",
       "      <td>0.547435</td>\n",
       "    </tr>\n",
       "    <tr>\n",
       "      <th>86</th>\n",
       "      <td>-1.085639</td>\n",
       "      <td>-0.189408</td>\n",
       "      <td>1.286934</td>\n",
       "      <td>-1.136131</td>\n",
       "      <td>-1.047160</td>\n",
       "      <td>-0.023297</td>\n",
       "      <td>-1.199794</td>\n",
       "      <td>-1.911851</td>\n",
       "      <td>0.547435</td>\n",
       "    </tr>\n",
       "    <tr>\n",
       "      <th>87</th>\n",
       "      <td>-0.304155</td>\n",
       "      <td>-0.189408</td>\n",
       "      <td>0.279233</td>\n",
       "      <td>0.491016</td>\n",
       "      <td>-0.078698</td>\n",
       "      <td>-0.023297</td>\n",
       "      <td>0.603866</td>\n",
       "      <td>0.523053</td>\n",
       "      <td>0.547435</td>\n",
       "    </tr>\n",
       "    <tr>\n",
       "      <th>88</th>\n",
       "      <td>-0.304155</td>\n",
       "      <td>-0.189408</td>\n",
       "      <td>0.279233</td>\n",
       "      <td>0.491016</td>\n",
       "      <td>-1.047160</td>\n",
       "      <td>-1.071227</td>\n",
       "      <td>0.603866</td>\n",
       "      <td>-0.288581</td>\n",
       "      <td>0.547435</td>\n",
       "    </tr>\n",
       "    <tr>\n",
       "      <th>89</th>\n",
       "      <td>0.477329</td>\n",
       "      <td>0.957819</td>\n",
       "      <td>0.279233</td>\n",
       "      <td>1.304590</td>\n",
       "      <td>0.889765</td>\n",
       "      <td>1.024633</td>\n",
       "      <td>1.505696</td>\n",
       "      <td>1.334688</td>\n",
       "      <td>0.547435</td>\n",
       "    </tr>\n",
       "  </tbody>\n",
       "</table>\n",
       "<p>90 rows × 9 columns</p>\n",
       "</div>"
      ],
      "text/plain": [
       "           0         1         2         3         4         5         6  \\\n",
       "0  -1.085639 -0.189408  0.279233  0.491016 -0.078698 -0.023297 -0.297964   \n",
       "1  -0.304155 -0.189408 -0.728468 -1.136131 -1.047160 -1.071227 -0.297964   \n",
       "2   1.258813 -0.189408  0.279233  0.491016 -0.078698 -0.023297 -0.297964   \n",
       "3  -0.304155 -0.189408 -0.728468  0.491016  1.858227 -0.023297  1.505696   \n",
       "4  -1.085639 -0.189408 -0.728468 -1.136131 -1.047160 -1.071227 -1.199794   \n",
       "..       ...       ...       ...       ...       ...       ...       ...   \n",
       "85  0.477329 -0.189408  0.279233 -1.136131 -0.078698 -0.023297 -0.297964   \n",
       "86 -1.085639 -0.189408  1.286934 -1.136131 -1.047160 -0.023297 -1.199794   \n",
       "87 -0.304155 -0.189408  0.279233  0.491016 -0.078698 -0.023297  0.603866   \n",
       "88 -0.304155 -0.189408  0.279233  0.491016 -1.047160 -1.071227  0.603866   \n",
       "89  0.477329  0.957819  0.279233  1.304590  0.889765  1.024633  1.505696   \n",
       "\n",
       "           7         8  \n",
       "0  -0.288581 -0.302936  \n",
       "1  -1.100216 -0.302936  \n",
       "2   0.523053 -0.302936  \n",
       "3   1.334688  0.547435  \n",
       "4   0.523053 -2.003677  \n",
       "..       ...       ...  \n",
       "85 -1.100216  0.547435  \n",
       "86 -1.911851  0.547435  \n",
       "87  0.523053  0.547435  \n",
       "88 -0.288581  0.547435  \n",
       "89  1.334688  0.547435  \n",
       "\n",
       "[90 rows x 9 columns]"
      ]
     },
     "execution_count": 116,
     "metadata": {},
     "output_type": "execute_result"
    }
   ],
   "source": [
    "x"
   ]
  },
  {
   "cell_type": "code",
   "execution_count": 117,
   "id": "7d0b15e8",
   "metadata": {},
   "outputs": [
    {
     "data": {
      "text/html": [
       "<div>\n",
       "<style scoped>\n",
       "    .dataframe tbody tr th:only-of-type {\n",
       "        vertical-align: middle;\n",
       "    }\n",
       "\n",
       "    .dataframe tbody tr th {\n",
       "        vertical-align: top;\n",
       "    }\n",
       "\n",
       "    .dataframe thead th {\n",
       "        text-align: right;\n",
       "    }\n",
       "</style>\n",
       "<table border=\"1\" class=\"dataframe\">\n",
       "  <thead>\n",
       "    <tr style=\"text-align: right;\">\n",
       "      <th></th>\n",
       "      <th>0</th>\n",
       "      <th>1</th>\n",
       "      <th>2</th>\n",
       "      <th>3</th>\n",
       "      <th>4</th>\n",
       "      <th>5</th>\n",
       "      <th>6</th>\n",
       "      <th>7</th>\n",
       "      <th>8</th>\n",
       "    </tr>\n",
       "  </thead>\n",
       "  <tbody>\n",
       "    <tr>\n",
       "      <th>0</th>\n",
       "      <td>0.596198</td>\n",
       "      <td>-0.340384</td>\n",
       "      <td>0.639791</td>\n",
       "      <td>0.028866</td>\n",
       "      <td>0.094637</td>\n",
       "      <td>0.466364</td>\n",
       "      <td>-0.187446</td>\n",
       "      <td>0.111150</td>\n",
       "      <td>-0.805420</td>\n",
       "    </tr>\n",
       "    <tr>\n",
       "      <th>1</th>\n",
       "      <td>2.066247</td>\n",
       "      <td>0.207891</td>\n",
       "      <td>-0.580348</td>\n",
       "      <td>0.181561</td>\n",
       "      <td>0.349655</td>\n",
       "      <td>0.204110</td>\n",
       "      <td>0.226915</td>\n",
       "      <td>-0.030412</td>\n",
       "      <td>0.828399</td>\n",
       "    </tr>\n",
       "    <tr>\n",
       "      <th>2</th>\n",
       "      <td>-0.666011</td>\n",
       "      <td>0.469158</td>\n",
       "      <td>0.522092</td>\n",
       "      <td>-0.284401</td>\n",
       "      <td>-0.622080</td>\n",
       "      <td>-0.404153</td>\n",
       "      <td>-0.297386</td>\n",
       "      <td>0.433390</td>\n",
       "      <td>0.746120</td>\n",
       "    </tr>\n",
       "    <tr>\n",
       "      <th>3</th>\n",
       "      <td>-1.841789</td>\n",
       "      <td>1.352079</td>\n",
       "      <td>-0.294569</td>\n",
       "      <td>0.095931</td>\n",
       "      <td>0.825931</td>\n",
       "      <td>0.256544</td>\n",
       "      <td>0.256084</td>\n",
       "      <td>-1.058673</td>\n",
       "      <td>-1.204687</td>\n",
       "    </tr>\n",
       "    <tr>\n",
       "      <th>4</th>\n",
       "      <td>2.631827</td>\n",
       "      <td>0.564883</td>\n",
       "      <td>0.800272</td>\n",
       "      <td>-1.282888</td>\n",
       "      <td>0.361615</td>\n",
       "      <td>-0.916157</td>\n",
       "      <td>-0.208391</td>\n",
       "      <td>-0.677375</td>\n",
       "      <td>0.060094</td>\n",
       "    </tr>\n",
       "  </tbody>\n",
       "</table>\n",
       "</div>"
      ],
      "text/plain": [
       "          0         1         2         3         4         5         6  \\\n",
       "0  0.596198 -0.340384  0.639791  0.028866  0.094637  0.466364 -0.187446   \n",
       "1  2.066247  0.207891 -0.580348  0.181561  0.349655  0.204110  0.226915   \n",
       "2 -0.666011  0.469158  0.522092 -0.284401 -0.622080 -0.404153 -0.297386   \n",
       "3 -1.841789  1.352079 -0.294569  0.095931  0.825931  0.256544  0.256084   \n",
       "4  2.631827  0.564883  0.800272 -1.282888  0.361615 -0.916157 -0.208391   \n",
       "\n",
       "          7         8  \n",
       "0  0.111150 -0.805420  \n",
       "1 -0.030412  0.828399  \n",
       "2  0.433390  0.746120  \n",
       "3 -1.058673 -1.204687  \n",
       "4 -0.677375  0.060094  "
      ]
     },
     "execution_count": 117,
     "metadata": {},
     "output_type": "execute_result"
    }
   ],
   "source": [
    "from sklearn.decomposition import PCA\n",
    "pca = PCA()\n",
    "x_pca = pca.fit_transform(x)\n",
    "x_pca = pd.DataFrame(x_pca)\n",
    "x_pca.head()"
   ]
  },
  {
   "cell_type": "code",
   "execution_count": 118,
   "id": "5f5b29b2",
   "metadata": {},
   "outputs": [
    {
     "data": {
      "text/plain": [
       "array([0.3793064 , 0.19525152, 0.09109223, 0.08474542, 0.06645546,\n",
       "       0.0584501 , 0.04833503, 0.04281412, 0.03354972])"
      ]
     },
     "execution_count": 118,
     "metadata": {},
     "output_type": "execute_result"
    }
   ],
   "source": [
    "variance = pca.explained_variance_ratio_\n",
    "variance"
   ]
  },
  {
   "cell_type": "code",
   "execution_count": 119,
   "id": "add70ea2",
   "metadata": {},
   "outputs": [],
   "source": [
    "x2=x_pca.iloc[:,0]"
   ]
  },
  {
   "cell_type": "code",
   "execution_count": 120,
   "id": "dfe5084d",
   "metadata": {},
   "outputs": [],
   "source": [
    "x2 = sm.add_constant(x2)"
   ]
  },
  {
   "cell_type": "code",
   "execution_count": 121,
   "id": "5201c0f2",
   "metadata": {},
   "outputs": [],
   "source": [
    "y=art_df['rating']"
   ]
  },
  {
   "cell_type": "code",
   "execution_count": 122,
   "id": "3a19ac02",
   "metadata": {},
   "outputs": [],
   "source": [
    "model3 = sm.OLS(y, x2)"
   ]
  },
  {
   "cell_type": "code",
   "execution_count": 123,
   "id": "3d0e29e9",
   "metadata": {},
   "outputs": [
    {
     "data": {
      "text/html": [
       "<table class=\"simpletable\">\n",
       "<caption>OLS Regression Results</caption>\n",
       "<tr>\n",
       "  <th>Dep. Variable:</th>         <td>rating</td>      <th>  R-squared:         </th> <td>   0.008</td>\n",
       "</tr>\n",
       "<tr>\n",
       "  <th>Model:</th>                   <td>OLS</td>       <th>  Adj. R-squared:    </th> <td>  -0.003</td>\n",
       "</tr>\n",
       "<tr>\n",
       "  <th>Method:</th>             <td>Least Squares</td>  <th>  F-statistic:       </th> <td>  0.7080</td>\n",
       "</tr>\n",
       "<tr>\n",
       "  <th>Date:</th>             <td>Wed, 21 Dec 2022</td> <th>  Prob (F-statistic):</th>  <td> 0.402</td> \n",
       "</tr>\n",
       "<tr>\n",
       "  <th>Time:</th>                 <td>11:04:02</td>     <th>  Log-Likelihood:    </th> <td> -104.32</td>\n",
       "</tr>\n",
       "<tr>\n",
       "  <th>No. Observations:</th>      <td>    90</td>      <th>  AIC:               </th> <td>   212.6</td>\n",
       "</tr>\n",
       "<tr>\n",
       "  <th>Df Residuals:</th>          <td>    88</td>      <th>  BIC:               </th> <td>   217.6</td>\n",
       "</tr>\n",
       "<tr>\n",
       "  <th>Df Model:</th>              <td>     1</td>      <th>                     </th>     <td> </td>   \n",
       "</tr>\n",
       "<tr>\n",
       "  <th>Covariance Type:</th>      <td>nonrobust</td>    <th>                     </th>     <td> </td>   \n",
       "</tr>\n",
       "</table>\n",
       "<table class=\"simpletable\">\n",
       "<tr>\n",
       "    <td></td>       <th>coef</th>     <th>std err</th>      <th>t</th>      <th>P>|t|</th>  <th>[0.025</th>    <th>0.975]</th>  \n",
       "</tr>\n",
       "<tr>\n",
       "  <th>const</th> <td>    4.2146</td> <td>    0.082</td> <td>   51.267</td> <td> 0.000</td> <td>    4.051</td> <td>    4.378</td>\n",
       "</tr>\n",
       "<tr>\n",
       "  <th>0</th>     <td>   -0.0374</td> <td>    0.044</td> <td>   -0.841</td> <td> 0.402</td> <td>   -0.126</td> <td>    0.051</td>\n",
       "</tr>\n",
       "</table>\n",
       "<table class=\"simpletable\">\n",
       "<tr>\n",
       "  <th>Omnibus:</th>       <td> 0.848</td> <th>  Durbin-Watson:     </th> <td>   0.938</td>\n",
       "</tr>\n",
       "<tr>\n",
       "  <th>Prob(Omnibus):</th> <td> 0.654</td> <th>  Jarque-Bera (JB):  </th> <td>   0.886</td>\n",
       "</tr>\n",
       "<tr>\n",
       "  <th>Skew:</th>          <td>-0.223</td> <th>  Prob(JB):          </th> <td>   0.642</td>\n",
       "</tr>\n",
       "<tr>\n",
       "  <th>Kurtosis:</th>      <td> 2.805</td> <th>  Cond. No.          </th> <td>    1.85</td>\n",
       "</tr>\n",
       "</table><br/><br/>Notes:<br/>[1] Standard Errors assume that the covariance matrix of the errors is correctly specified."
      ],
      "text/plain": [
       "<class 'statsmodels.iolib.summary.Summary'>\n",
       "\"\"\"\n",
       "                            OLS Regression Results                            \n",
       "==============================================================================\n",
       "Dep. Variable:                 rating   R-squared:                       0.008\n",
       "Model:                            OLS   Adj. R-squared:                 -0.003\n",
       "Method:                 Least Squares   F-statistic:                    0.7080\n",
       "Date:                Wed, 21 Dec 2022   Prob (F-statistic):              0.402\n",
       "Time:                        11:04:02   Log-Likelihood:                -104.32\n",
       "No. Observations:                  90   AIC:                             212.6\n",
       "Df Residuals:                      88   BIC:                             217.6\n",
       "Df Model:                           1                                         \n",
       "Covariance Type:            nonrobust                                         \n",
       "==============================================================================\n",
       "                 coef    std err          t      P>|t|      [0.025      0.975]\n",
       "------------------------------------------------------------------------------\n",
       "const          4.2146      0.082     51.267      0.000       4.051       4.378\n",
       "0             -0.0374      0.044     -0.841      0.402      -0.126       0.051\n",
       "==============================================================================\n",
       "Omnibus:                        0.848   Durbin-Watson:                   0.938\n",
       "Prob(Omnibus):                  0.654   Jarque-Bera (JB):                0.886\n",
       "Skew:                          -0.223   Prob(JB):                        0.642\n",
       "Kurtosis:                       2.805   Cond. No.                         1.85\n",
       "==============================================================================\n",
       "\n",
       "Notes:\n",
       "[1] Standard Errors assume that the covariance matrix of the errors is correctly specified.\n",
       "\"\"\""
      ]
     },
     "execution_count": 123,
     "metadata": {},
     "output_type": "execute_result"
    }
   ],
   "source": [
    "model3_result = model3.fit()\n",
    "model3_result.summary()"
   ]
  },
  {
   "cell_type": "markdown",
   "id": "73dc5d30",
   "metadata": {},
   "source": [
    "# 9 Relationship between art preference rating and the first three components of dark personality traits."
   ]
  },
  {
   "cell_type": "code",
   "execution_count": 124,
   "id": "49217d1a",
   "metadata": {},
   "outputs": [],
   "source": [
    "# PCA"
   ]
  },
  {
   "cell_type": "code",
   "execution_count": 125,
   "id": "76817cbf",
   "metadata": {},
   "outputs": [],
   "source": [
    "dark=art_df[art_df.columns[23:33]]"
   ]
  },
  {
   "cell_type": "code",
   "execution_count": 126,
   "id": "5c7e0415",
   "metadata": {},
   "outputs": [
    {
     "data": {
      "text/plain": [
       "2.36    1\n",
       "4.69    1\n",
       "2.37    1\n",
       "4.70    1\n",
       "2.38    1\n",
       "2.39    0\n",
       "2.40    0\n",
       "5.36    0\n",
       "2.41    2\n",
       "5.37    1\n",
       "dtype: int64"
      ]
     },
     "execution_count": 126,
     "metadata": {},
     "output_type": "execute_result"
    }
   ],
   "source": [
    "dark.isna().sum()"
   ]
  },
  {
   "cell_type": "code",
   "execution_count": 127,
   "id": "2b0ed0de",
   "metadata": {},
   "outputs": [],
   "source": [
    "dark1=dark.interpolate(method=\"polynomial\", order=2)"
   ]
  },
  {
   "cell_type": "code",
   "execution_count": 128,
   "id": "f1fa1ed4",
   "metadata": {},
   "outputs": [
    {
     "data": {
      "text/plain": [
       "2.36    0\n",
       "4.69    0\n",
       "2.37    0\n",
       "4.70    0\n",
       "2.38    0\n",
       "2.39    0\n",
       "2.40    0\n",
       "5.36    0\n",
       "2.41    0\n",
       "5.37    0\n",
       "dtype: int64"
      ]
     },
     "execution_count": 128,
     "metadata": {},
     "output_type": "execute_result"
    }
   ],
   "source": [
    "dark1.isna().sum()"
   ]
  },
  {
   "cell_type": "code",
   "execution_count": 129,
   "id": "9aa08d22",
   "metadata": {},
   "outputs": [],
   "source": [
    "x2 = StandardScaler().fit_transform(dark1)"
   ]
  },
  {
   "cell_type": "code",
   "execution_count": 130,
   "id": "bf66aea4",
   "metadata": {},
   "outputs": [
    {
     "data": {
      "text/html": [
       "<div>\n",
       "<style scoped>\n",
       "    .dataframe tbody tr th:only-of-type {\n",
       "        vertical-align: middle;\n",
       "    }\n",
       "\n",
       "    .dataframe tbody tr th {\n",
       "        vertical-align: top;\n",
       "    }\n",
       "\n",
       "    .dataframe thead th {\n",
       "        text-align: right;\n",
       "    }\n",
       "</style>\n",
       "<table border=\"1\" class=\"dataframe\">\n",
       "  <thead>\n",
       "    <tr style=\"text-align: right;\">\n",
       "      <th></th>\n",
       "      <th>0</th>\n",
       "      <th>1</th>\n",
       "      <th>2</th>\n",
       "      <th>3</th>\n",
       "      <th>4</th>\n",
       "      <th>5</th>\n",
       "      <th>6</th>\n",
       "      <th>7</th>\n",
       "      <th>8</th>\n",
       "      <th>9</th>\n",
       "    </tr>\n",
       "  </thead>\n",
       "  <tbody>\n",
       "    <tr>\n",
       "      <th>0</th>\n",
       "      <td>-1.110042</td>\n",
       "      <td>0.208176</td>\n",
       "      <td>0.593460</td>\n",
       "      <td>-0.897237</td>\n",
       "      <td>1.176697</td>\n",
       "      <td>0.779323</td>\n",
       "      <td>0.517638</td>\n",
       "      <td>-0.717508</td>\n",
       "      <td>-0.114219</td>\n",
       "      <td>0.070768</td>\n",
       "    </tr>\n",
       "    <tr>\n",
       "      <th>1</th>\n",
       "      <td>-1.185871</td>\n",
       "      <td>-0.336220</td>\n",
       "      <td>-1.001382</td>\n",
       "      <td>-0.101100</td>\n",
       "      <td>0.751948</td>\n",
       "      <td>-0.161846</td>\n",
       "      <td>1.132375</td>\n",
       "      <td>-0.078121</td>\n",
       "      <td>-0.413663</td>\n",
       "      <td>-0.416716</td>\n",
       "    </tr>\n",
       "    <tr>\n",
       "      <th>2</th>\n",
       "      <td>-0.025106</td>\n",
       "      <td>-0.610160</td>\n",
       "      <td>-0.180673</td>\n",
       "      <td>0.165986</td>\n",
       "      <td>-1.154563</td>\n",
       "      <td>1.177502</td>\n",
       "      <td>0.168802</td>\n",
       "      <td>-0.957077</td>\n",
       "      <td>-0.350349</td>\n",
       "      <td>-0.872191</td>\n",
       "    </tr>\n",
       "    <tr>\n",
       "      <th>3</th>\n",
       "      <td>-0.630153</td>\n",
       "      <td>-1.392674</td>\n",
       "      <td>1.059783</td>\n",
       "      <td>0.638597</td>\n",
       "      <td>-1.048084</td>\n",
       "      <td>0.056348</td>\n",
       "      <td>0.681297</td>\n",
       "      <td>0.797541</td>\n",
       "      <td>0.278287</td>\n",
       "      <td>0.400896</td>\n",
       "    </tr>\n",
       "    <tr>\n",
       "      <th>4</th>\n",
       "      <td>2.230550</td>\n",
       "      <td>1.072059</td>\n",
       "      <td>-0.704141</td>\n",
       "      <td>0.194942</td>\n",
       "      <td>-0.436852</td>\n",
       "      <td>-0.264054</td>\n",
       "      <td>-1.412062</td>\n",
       "      <td>0.123870</td>\n",
       "      <td>0.885853</td>\n",
       "      <td>-0.583499</td>\n",
       "    </tr>\n",
       "  </tbody>\n",
       "</table>\n",
       "</div>"
      ],
      "text/plain": [
       "          0         1         2         3         4         5         6  \\\n",
       "0 -1.110042  0.208176  0.593460 -0.897237  1.176697  0.779323  0.517638   \n",
       "1 -1.185871 -0.336220 -1.001382 -0.101100  0.751948 -0.161846  1.132375   \n",
       "2 -0.025106 -0.610160 -0.180673  0.165986 -1.154563  1.177502  0.168802   \n",
       "3 -0.630153 -1.392674  1.059783  0.638597 -1.048084  0.056348  0.681297   \n",
       "4  2.230550  1.072059 -0.704141  0.194942 -0.436852 -0.264054 -1.412062   \n",
       "\n",
       "          7         8         9  \n",
       "0 -0.717508 -0.114219  0.070768  \n",
       "1 -0.078121 -0.413663 -0.416716  \n",
       "2 -0.957077 -0.350349 -0.872191  \n",
       "3  0.797541  0.278287  0.400896  \n",
       "4  0.123870  0.885853 -0.583499  "
      ]
     },
     "execution_count": 130,
     "metadata": {},
     "output_type": "execute_result"
    }
   ],
   "source": [
    "from sklearn.decomposition import PCA\n",
    "pca = PCA()\n",
    "x2_pca = pca.fit_transform(x2)\n",
    "x2_pca = pd.DataFrame(x2_pca)\n",
    "x2_pca.head()"
   ]
  },
  {
   "cell_type": "code",
   "execution_count": 131,
   "id": "914294b5",
   "metadata": {},
   "outputs": [
    {
     "data": {
      "text/plain": [
       "array([0.23284644, 0.16036647, 0.11686996, 0.1092899 , 0.09500034,\n",
       "       0.08221957, 0.06416472, 0.05489341, 0.04562253, 0.03872666])"
      ]
     },
     "execution_count": 131,
     "metadata": {},
     "output_type": "execute_result"
    }
   ],
   "source": [
    "variance = pca.explained_variance_ratio_\n",
    "variance"
   ]
  },
  {
   "cell_type": "code",
   "execution_count": 132,
   "id": "65932930",
   "metadata": {},
   "outputs": [],
   "source": [
    "x=x2_pca.iloc[:,0:3]"
   ]
  },
  {
   "cell_type": "code",
   "execution_count": 133,
   "id": "60896a3a",
   "metadata": {},
   "outputs": [],
   "source": [
    "x = sm.add_constant(x)"
   ]
  },
  {
   "cell_type": "code",
   "execution_count": 134,
   "id": "5d2ac658",
   "metadata": {},
   "outputs": [],
   "source": [
    "model4 = sm.OLS(y, x)"
   ]
  },
  {
   "cell_type": "code",
   "execution_count": 135,
   "id": "539b2751",
   "metadata": {
    "scrolled": false
   },
   "outputs": [
    {
     "data": {
      "text/html": [
       "<table class=\"simpletable\">\n",
       "<caption>OLS Regression Results</caption>\n",
       "<tr>\n",
       "  <th>Dep. Variable:</th>         <td>rating</td>      <th>  R-squared:         </th> <td>   0.052</td>\n",
       "</tr>\n",
       "<tr>\n",
       "  <th>Model:</th>                   <td>OLS</td>       <th>  Adj. R-squared:    </th> <td>   0.019</td>\n",
       "</tr>\n",
       "<tr>\n",
       "  <th>Method:</th>             <td>Least Squares</td>  <th>  F-statistic:       </th> <td>   1.575</td>\n",
       "</tr>\n",
       "<tr>\n",
       "  <th>Date:</th>             <td>Wed, 21 Dec 2022</td> <th>  Prob (F-statistic):</th>  <td> 0.201</td> \n",
       "</tr>\n",
       "<tr>\n",
       "  <th>Time:</th>                 <td>11:04:03</td>     <th>  Log-Likelihood:    </th> <td> -102.27</td>\n",
       "</tr>\n",
       "<tr>\n",
       "  <th>No. Observations:</th>      <td>    90</td>      <th>  AIC:               </th> <td>   212.5</td>\n",
       "</tr>\n",
       "<tr>\n",
       "  <th>Df Residuals:</th>          <td>    86</td>      <th>  BIC:               </th> <td>   222.5</td>\n",
       "</tr>\n",
       "<tr>\n",
       "  <th>Df Model:</th>              <td>     3</td>      <th>                     </th>     <td> </td>   \n",
       "</tr>\n",
       "<tr>\n",
       "  <th>Covariance Type:</th>      <td>nonrobust</td>    <th>                     </th>     <td> </td>   \n",
       "</tr>\n",
       "</table>\n",
       "<table class=\"simpletable\">\n",
       "<tr>\n",
       "    <td></td>       <th>coef</th>     <th>std err</th>      <th>t</th>      <th>P>|t|</th>  <th>[0.025</th>    <th>0.975]</th>  \n",
       "</tr>\n",
       "<tr>\n",
       "  <th>const</th> <td>    4.2146</td> <td>    0.081</td> <td>   51.846</td> <td> 0.000</td> <td>    4.053</td> <td>    4.376</td>\n",
       "</tr>\n",
       "<tr>\n",
       "  <th>0</th>     <td>   -0.0396</td> <td>    0.053</td> <td>   -0.744</td> <td> 0.459</td> <td>   -0.146</td> <td>    0.066</td>\n",
       "</tr>\n",
       "<tr>\n",
       "  <th>1</th>     <td>   -0.1308</td> <td>    0.064</td> <td>   -2.038</td> <td> 0.045</td> <td>   -0.258</td> <td>   -0.003</td>\n",
       "</tr>\n",
       "<tr>\n",
       "  <th>2</th>     <td>   -0.0102</td> <td>    0.075</td> <td>   -0.136</td> <td> 0.892</td> <td>   -0.160</td> <td>    0.139</td>\n",
       "</tr>\n",
       "</table>\n",
       "<table class=\"simpletable\">\n",
       "<tr>\n",
       "  <th>Omnibus:</th>       <td> 0.876</td> <th>  Durbin-Watson:     </th> <td>   1.044</td>\n",
       "</tr>\n",
       "<tr>\n",
       "  <th>Prob(Omnibus):</th> <td> 0.645</td> <th>  Jarque-Bera (JB):  </th> <td>   0.942</td>\n",
       "</tr>\n",
       "<tr>\n",
       "  <th>Skew:</th>          <td>-0.223</td> <th>  Prob(JB):          </th> <td>   0.624</td>\n",
       "</tr>\n",
       "<tr>\n",
       "  <th>Kurtosis:</th>      <td> 2.770</td> <th>  Cond. No.          </th> <td>    1.53</td>\n",
       "</tr>\n",
       "</table><br/><br/>Notes:<br/>[1] Standard Errors assume that the covariance matrix of the errors is correctly specified."
      ],
      "text/plain": [
       "<class 'statsmodels.iolib.summary.Summary'>\n",
       "\"\"\"\n",
       "                            OLS Regression Results                            \n",
       "==============================================================================\n",
       "Dep. Variable:                 rating   R-squared:                       0.052\n",
       "Model:                            OLS   Adj. R-squared:                  0.019\n",
       "Method:                 Least Squares   F-statistic:                     1.575\n",
       "Date:                Wed, 21 Dec 2022   Prob (F-statistic):              0.201\n",
       "Time:                        11:04:03   Log-Likelihood:                -102.27\n",
       "No. Observations:                  90   AIC:                             212.5\n",
       "Df Residuals:                      86   BIC:                             222.5\n",
       "Df Model:                           3                                         \n",
       "Covariance Type:            nonrobust                                         \n",
       "==============================================================================\n",
       "                 coef    std err          t      P>|t|      [0.025      0.975]\n",
       "------------------------------------------------------------------------------\n",
       "const          4.2146      0.081     51.846      0.000       4.053       4.376\n",
       "0             -0.0396      0.053     -0.744      0.459      -0.146       0.066\n",
       "1             -0.1308      0.064     -2.038      0.045      -0.258      -0.003\n",
       "2             -0.0102      0.075     -0.136      0.892      -0.160       0.139\n",
       "==============================================================================\n",
       "Omnibus:                        0.876   Durbin-Watson:                   1.044\n",
       "Prob(Omnibus):                  0.645   Jarque-Bera (JB):                0.942\n",
       "Skew:                          -0.223   Prob(JB):                        0.624\n",
       "Kurtosis:                       2.770   Cond. No.                         1.53\n",
       "==============================================================================\n",
       "\n",
       "Notes:\n",
       "[1] Standard Errors assume that the covariance matrix of the errors is correctly specified.\n",
       "\"\"\""
      ]
     },
     "execution_count": 135,
     "metadata": {},
     "output_type": "execute_result"
    }
   ],
   "source": [
    "model4_result = model4.fit()\n",
    "model4_result.summary()"
   ]
  },
  {
   "cell_type": "markdown",
   "id": "1d1bee2b",
   "metadata": {},
   "source": [
    "# 10 classification of political orientation "
   ]
  },
  {
   "cell_type": "code",
   "execution_count": 136,
   "id": "c5ec5311",
   "metadata": {},
   "outputs": [],
   "source": [
    "from sklearn.model_selection import train_test_split\n",
    "from sklearn.metrics import accuracy_score\n",
    "from sklearn import svm\n",
    "from sklearn.tree import DecisionTreeClassifier\n",
    "from sklearn.naive_bayes import GaussianNB"
   ]
  },
  {
   "cell_type": "code",
   "execution_count": 137,
   "id": "69970c4e",
   "metadata": {},
   "outputs": [],
   "source": [
    "Y1=art_df['politics']"
   ]
  },
  {
   "cell_type": "code",
   "execution_count": 138,
   "id": "69c9a44e",
   "metadata": {},
   "outputs": [
    {
     "data": {
      "text/plain": [
       "5"
      ]
     },
     "execution_count": 138,
     "metadata": {},
     "output_type": "execute_result"
    }
   ],
   "source": [
    "Y1.isna().sum()"
   ]
  },
  {
   "cell_type": "code",
   "execution_count": 139,
   "id": "5b6dc770",
   "metadata": {},
   "outputs": [
    {
     "data": {
      "text/plain": [
       "0     2.0\n",
       "1     6.0\n",
       "2     3.0\n",
       "3     2.0\n",
       "4     2.0\n",
       "     ... \n",
       "85    3.0\n",
       "86    2.0\n",
       "87    6.0\n",
       "88    2.0\n",
       "89    1.0\n",
       "Name: politics, Length: 90, dtype: float64"
      ]
     },
     "execution_count": 139,
     "metadata": {},
     "output_type": "execute_result"
    }
   ],
   "source": [
    "Y1.fillna(0)"
   ]
  },
  {
   "cell_type": "code",
   "execution_count": 140,
   "id": "162bf456",
   "metadata": {},
   "outputs": [
    {
     "data": {
      "text/plain": [
       "5"
      ]
     },
     "execution_count": 140,
     "metadata": {},
     "output_type": "execute_result"
    }
   ],
   "source": [
    "Y1.isna().sum()"
   ]
  },
  {
   "cell_type": "code",
   "execution_count": 141,
   "id": "db993d6d",
   "metadata": {},
   "outputs": [
    {
     "data": {
      "text/plain": [
       "0     2.0\n",
       "1     6.0\n",
       "2     3.0\n",
       "3     2.0\n",
       "4     2.0\n",
       "5     3.0\n",
       "6     2.0\n",
       "7     3.0\n",
       "8     1.0\n",
       "9     2.0\n",
       "10    2.0\n",
       "11    2.0\n",
       "12    2.0\n",
       "13    2.0\n",
       "14    2.0\n",
       "15    2.0\n",
       "16    2.0\n",
       "17    2.0\n",
       "18    NaN\n",
       "19    4.0\n",
       "Name: politics, dtype: float64"
      ]
     },
     "execution_count": 141,
     "metadata": {},
     "output_type": "execute_result"
    }
   ],
   "source": [
    "Y1.head(20)"
   ]
  },
  {
   "cell_type": "code",
   "execution_count": 142,
   "id": "e4dbb9a7",
   "metadata": {},
   "outputs": [],
   "source": [
    "Y1.interpolate(method='linear',inplace=True)"
   ]
  },
  {
   "cell_type": "code",
   "execution_count": 143,
   "id": "0037bc5b",
   "metadata": {},
   "outputs": [
    {
     "data": {
      "text/plain": [
       "0"
      ]
     },
     "execution_count": 143,
     "metadata": {},
     "output_type": "execute_result"
    }
   ],
   "source": [
    "Y1.isna().sum()"
   ]
  },
  {
   "cell_type": "code",
   "execution_count": 144,
   "id": "a0cc6d66",
   "metadata": {},
   "outputs": [],
   "source": [
    "X=art_df.iloc[:,9:45]"
   ]
  },
  {
   "cell_type": "code",
   "execution_count": 145,
   "id": "05c4f4ec",
   "metadata": {},
   "outputs": [
    {
     "data": {
      "text/html": [
       "<div>\n",
       "<style scoped>\n",
       "    .dataframe tbody tr th:only-of-type {\n",
       "        vertical-align: middle;\n",
       "    }\n",
       "\n",
       "    .dataframe tbody tr th {\n",
       "        vertical-align: top;\n",
       "    }\n",
       "\n",
       "    .dataframe thead th {\n",
       "        text-align: right;\n",
       "    }\n",
       "</style>\n",
       "<table border=\"1\" class=\"dataframe\">\n",
       "  <thead>\n",
       "    <tr style=\"text-align: right;\">\n",
       "      <th></th>\n",
       "      <th>Intent (0 = no, 1 = yes)</th>\n",
       "      <th>energy_rat</th>\n",
       "      <th>4.63</th>\n",
       "      <th>4.64</th>\n",
       "      <th>2.32</th>\n",
       "      <th>1.12</th>\n",
       "      <th>2.33</th>\n",
       "      <th>2.34</th>\n",
       "      <th>2.35</th>\n",
       "      <th>4.65</th>\n",
       "      <th>...</th>\n",
       "      <th>5.39</th>\n",
       "      <th>4.71</th>\n",
       "      <th>5.40</th>\n",
       "      <th>2.43</th>\n",
       "      <th>5.41</th>\n",
       "      <th>2.44</th>\n",
       "      <th>3.23</th>\n",
       "      <th>4.72</th>\n",
       "      <th>age</th>\n",
       "      <th>gender</th>\n",
       "    </tr>\n",
       "  </thead>\n",
       "  <tbody>\n",
       "    <tr>\n",
       "      <th>0</th>\n",
       "      <td>1</td>\n",
       "      <td>4.140468</td>\n",
       "      <td>2.0</td>\n",
       "      <td>3.0</td>\n",
       "      <td>2.0</td>\n",
       "      <td>2.0</td>\n",
       "      <td>2.0</td>\n",
       "      <td>4.0</td>\n",
       "      <td>4.0</td>\n",
       "      <td>4.0</td>\n",
       "      <td>...</td>\n",
       "      <td>4.0</td>\n",
       "      <td>4.0</td>\n",
       "      <td>4.0</td>\n",
       "      <td>2.0</td>\n",
       "      <td>4.0</td>\n",
       "      <td>2.0</td>\n",
       "      <td>3.0</td>\n",
       "      <td>3.0</td>\n",
       "      <td>21.0</td>\n",
       "      <td>2.0</td>\n",
       "    </tr>\n",
       "    <tr>\n",
       "      <th>1</th>\n",
       "      <td>1</td>\n",
       "      <td>3.347826</td>\n",
       "      <td>4.0</td>\n",
       "      <td>5.0</td>\n",
       "      <td>4.0</td>\n",
       "      <td>2.0</td>\n",
       "      <td>4.0</td>\n",
       "      <td>4.0</td>\n",
       "      <td>4.0</td>\n",
       "      <td>4.0</td>\n",
       "      <td>...</td>\n",
       "      <td>4.0</td>\n",
       "      <td>3.0</td>\n",
       "      <td>2.0</td>\n",
       "      <td>1.0</td>\n",
       "      <td>3.0</td>\n",
       "      <td>2.0</td>\n",
       "      <td>2.0</td>\n",
       "      <td>3.0</td>\n",
       "      <td>19.0</td>\n",
       "      <td>2.0</td>\n",
       "    </tr>\n",
       "    <tr>\n",
       "      <th>2</th>\n",
       "      <td>1</td>\n",
       "      <td>3.387960</td>\n",
       "      <td>4.0</td>\n",
       "      <td>4.0</td>\n",
       "      <td>2.0</td>\n",
       "      <td>2.0</td>\n",
       "      <td>2.0</td>\n",
       "      <td>4.0</td>\n",
       "      <td>4.0</td>\n",
       "      <td>3.0</td>\n",
       "      <td>...</td>\n",
       "      <td>4.0</td>\n",
       "      <td>4.0</td>\n",
       "      <td>4.0</td>\n",
       "      <td>2.0</td>\n",
       "      <td>4.0</td>\n",
       "      <td>2.0</td>\n",
       "      <td>4.0</td>\n",
       "      <td>3.0</td>\n",
       "      <td>20.0</td>\n",
       "      <td>2.0</td>\n",
       "    </tr>\n",
       "    <tr>\n",
       "      <th>3</th>\n",
       "      <td>1</td>\n",
       "      <td>4.080268</td>\n",
       "      <td>3.0</td>\n",
       "      <td>4.0</td>\n",
       "      <td>2.0</td>\n",
       "      <td>2.0</td>\n",
       "      <td>2.0</td>\n",
       "      <td>4.0</td>\n",
       "      <td>5.0</td>\n",
       "      <td>4.0</td>\n",
       "      <td>...</td>\n",
       "      <td>4.0</td>\n",
       "      <td>3.0</td>\n",
       "      <td>4.0</td>\n",
       "      <td>4.0</td>\n",
       "      <td>4.0</td>\n",
       "      <td>4.0</td>\n",
       "      <td>5.0</td>\n",
       "      <td>4.0</td>\n",
       "      <td>19.0</td>\n",
       "      <td>1.0</td>\n",
       "    </tr>\n",
       "    <tr>\n",
       "      <th>4</th>\n",
       "      <td>1</td>\n",
       "      <td>4.605351</td>\n",
       "      <td>3.0</td>\n",
       "      <td>3.0</td>\n",
       "      <td>2.0</td>\n",
       "      <td>4.0</td>\n",
       "      <td>4.0</td>\n",
       "      <td>4.0</td>\n",
       "      <td>2.0</td>\n",
       "      <td>4.0</td>\n",
       "      <td>...</td>\n",
       "      <td>4.0</td>\n",
       "      <td>3.0</td>\n",
       "      <td>2.0</td>\n",
       "      <td>1.0</td>\n",
       "      <td>3.0</td>\n",
       "      <td>1.0</td>\n",
       "      <td>4.0</td>\n",
       "      <td>1.0</td>\n",
       "      <td>20.0</td>\n",
       "      <td>2.0</td>\n",
       "    </tr>\n",
       "  </tbody>\n",
       "</table>\n",
       "<p>5 rows × 36 columns</p>\n",
       "</div>"
      ],
      "text/plain": [
       "   Intent (0 = no, 1 = yes)  energy_rat  4.63  4.64  2.32  1.12  2.33  2.34  \\\n",
       "0                         1    4.140468   2.0   3.0   2.0   2.0   2.0   4.0   \n",
       "1                         1    3.347826   4.0   5.0   4.0   2.0   4.0   4.0   \n",
       "2                         1    3.387960   4.0   4.0   2.0   2.0   2.0   4.0   \n",
       "3                         1    4.080268   3.0   4.0   2.0   2.0   2.0   4.0   \n",
       "4                         1    4.605351   3.0   3.0   2.0   4.0   4.0   4.0   \n",
       "\n",
       "   2.35  4.65  ...  5.39  4.71  5.40  2.43  5.41  2.44  3.23  4.72   age  \\\n",
       "0   4.0   4.0  ...   4.0   4.0   4.0   2.0   4.0   2.0   3.0   3.0  21.0   \n",
       "1   4.0   4.0  ...   4.0   3.0   2.0   1.0   3.0   2.0   2.0   3.0  19.0   \n",
       "2   4.0   3.0  ...   4.0   4.0   4.0   2.0   4.0   2.0   4.0   3.0  20.0   \n",
       "3   5.0   4.0  ...   4.0   3.0   4.0   4.0   4.0   4.0   5.0   4.0  19.0   \n",
       "4   2.0   4.0  ...   4.0   3.0   2.0   1.0   3.0   1.0   4.0   1.0  20.0   \n",
       "\n",
       "   gender  \n",
       "0     2.0  \n",
       "1     2.0  \n",
       "2     2.0  \n",
       "3     1.0  \n",
       "4     2.0  \n",
       "\n",
       "[5 rows x 36 columns]"
      ]
     },
     "execution_count": 145,
     "metadata": {},
     "output_type": "execute_result"
    }
   ],
   "source": [
    "X.head()"
   ]
  },
  {
   "cell_type": "code",
   "execution_count": 146,
   "id": "110060b2",
   "metadata": {},
   "outputs": [],
   "source": [
    "X=X.interpolate(method=\"linear\")"
   ]
  },
  {
   "cell_type": "code",
   "execution_count": 147,
   "id": "1083abd4",
   "metadata": {},
   "outputs": [],
   "source": [
    "X_train, X_test, y_train, y_test = train_test_split(\n",
    "    X, Y1, test_size=0.3, random_state=1)"
   ]
  },
  {
   "cell_type": "code",
   "execution_count": 148,
   "id": "e6f17e3c",
   "metadata": {},
   "outputs": [
    {
     "name": "stdout",
     "output_type": "stream",
     "text": [
      "Accuracy of Decision Tree Classifier:  0.4444444444444444\n"
     ]
    }
   ],
   "source": [
    "# DECISION TREE CLASSIFIER\n",
    "dt = DecisionTreeClassifier(random_state=0)\n",
    "# train the model\n",
    "dt.fit(X_train, y_train)\n",
    "# make predictions\n",
    "dt_pred = dt.predict(X_test)\n",
    "# print the accuracy\n",
    "print(\"Accuracy of Decision Tree Classifier: \", accuracy_score(y_test, dt_pred))"
   ]
  },
  {
   "cell_type": "code",
   "execution_count": null,
   "id": "ef573acb",
   "metadata": {},
   "outputs": [],
   "source": []
  }
 ],
 "metadata": {
  "kernelspec": {
   "display_name": "Python 3 (ipykernel)",
   "language": "python",
   "name": "python3"
  },
  "language_info": {
   "codemirror_mode": {
    "name": "ipython",
    "version": 3
   },
   "file_extension": ".py",
   "mimetype": "text/x-python",
   "name": "python",
   "nbconvert_exporter": "python",
   "pygments_lexer": "ipython3",
   "version": "3.9.13"
  }
 },
 "nbformat": 4,
 "nbformat_minor": 5
}
